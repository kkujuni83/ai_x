{
 "cells": [
  {
   "cell_type": "code",
   "execution_count": 2,
   "id": "81705500",
   "metadata": {},
   "outputs": [
    {
     "data": {
      "text/html": [
       "\n",
       "<style>\n",
       "div.container{width:95% !important;}\n",
       "div.cell.code_cell.rendered{width:100%;}\n",
       "div.CodeMirror {font-family:Consolas; font-size:15pt;}\n",
       "div.output {font-size:15pt; font-weight:bold;}\n",
       "div.input {font-family:Consolas; font-size:15pt;}\n",
       "div.prompt {min-width:70px;}\n",
       "div#toc-wrapper{padding-top:120px;}\n",
       "div.text_cell_render ul li{font-size:12pt;padding:5px;}\n",
       "table.dataframe{font-size:15px;}\n",
       "</style>\n"
      ],
      "text/plain": [
       "<IPython.core.display.HTML object>"
      ]
     },
     "metadata": {},
     "output_type": "display_data"
    }
   ],
   "source": [
    "from IPython.display import display, HTML\n",
    "display(HTML(\"\"\"\n",
    "<style>\n",
    "div.container{width:95% !important;}\n",
    "div.cell.code_cell.rendered{width:100%;}\n",
    "div.CodeMirror {font-family:Consolas; font-size:15pt;}\n",
    "div.output {font-size:15pt; font-weight:bold;}\n",
    "div.input {font-family:Consolas; font-size:15pt;}\n",
    "div.prompt {min-width:70px;}\n",
    "div#toc-wrapper{padding-top:120px;}\n",
    "div.text_cell_render ul li{font-size:12pt;padding:5px;}\n",
    "table.dataframe{font-size:15px;}\n",
    "</style>\n",
    "\"\"\"))"
   ]
  },
  {
   "cell_type": "markdown",
   "id": "55a369e0",
   "metadata": {},
   "source": [
    "<b><font color=\"red\" size=\"5\">ch05_.함수</font></b>\n",
    "- 사용할 코드를 묶어 놓고 그것에 이름을 붙인 것\n",
    "- 오버로딩1.(같은 이름의 함수를 매개변수를 달리해서 사용) 파이썬 불가\n",
    "- 오버로딩2.(함수 이름이 같고, 매개변수의 타입의나 갯수로 다른 함수를 허용하는 것) 불가\n",
    "- 함수 정의\n",
    "```\n",
    "def 함수명([매개변수1, .. 매개변수n]):\n",
    "    명령어1\n",
    "    명령어2\n",
    "    명령어n\n",
    "```\n",
    "# 1절. 함수의 정의 및 사용\n",
    "## 1.1 함수 정의"
   ]
  },
  {
   "cell_type": "code",
   "execution_count": 2,
   "id": "3bb69f90",
   "metadata": {},
   "outputs": [],
   "source": [
    "def add(a, b):\n",
    "    print(1)\n",
    "def add(a):\n",
    "    print(2)"
   ]
  },
  {
   "cell_type": "code",
   "execution_count": 17,
   "id": "5086b198",
   "metadata": {},
   "outputs": [],
   "source": [
    "# 함수 정의\n",
    "def my_message(x, msg): # msg x번 출력하는 함수\n",
    "    for i in range(x):\n",
    "        print(msg)"
   ]
  },
  {
   "cell_type": "code",
   "execution_count": 15,
   "id": "60d41e93",
   "metadata": {},
   "outputs": [
    {
     "ename": "TypeError",
     "evalue": "my_message() missing 2 required positional arguments: 'x' and 'msg'",
     "output_type": "error",
     "traceback": [
      "\u001b[1;31m---------------------------------------------------------------------------\u001b[0m",
      "\u001b[1;31mTypeError\u001b[0m                                 Traceback (most recent call last)",
      "Cell \u001b[1;32mIn[15], line 2\u001b[0m\n\u001b[0;32m      1\u001b[0m \u001b[38;5;66;03m# 함수 사용\u001b[39;00m\n\u001b[1;32m----> 2\u001b[0m \u001b[43mmy_message\u001b[49m\u001b[43m(\u001b[49m\u001b[43m)\u001b[49m\n",
      "\u001b[1;31mTypeError\u001b[0m: my_message() missing 2 required positional arguments: 'x' and 'msg'"
     ]
    }
   ],
   "source": [
    "# 함수 사용\n",
    "my_message()"
   ]
  },
  {
   "cell_type": "code",
   "execution_count": 18,
   "id": "aa41ac49",
   "metadata": {},
   "outputs": [
    {
     "name": "stdout",
     "output_type": "stream",
     "text": [
      "Hello\n",
      "Hello\n",
      "Hello\n",
      "Hello\n",
      "Hello\n"
     ]
    }
   ],
   "source": [
    "# 함수 사용\n",
    "my_message(5, 'Hello')"
   ]
  },
  {
   "cell_type": "code",
   "execution_count": 19,
   "id": "b9019575",
   "metadata": {},
   "outputs": [
    {
     "name": "stdout",
     "output_type": "stream",
     "text": [
      "hello\n",
      "hello\n",
      "hello\n"
     ]
    }
   ],
   "source": [
    "my_msg = my_message\n",
    "my_msg(3, 'hello')"
   ]
  },
  {
   "cell_type": "code",
   "execution_count": 20,
   "id": "52a79954",
   "metadata": {},
   "outputs": [
    {
     "data": {
      "text/plain": [
       "(function, function)"
      ]
     },
     "execution_count": 20,
     "metadata": {},
     "output_type": "execute_result"
    }
   ],
   "source": [
    "type(my_msg), type(my_message)"
   ]
  },
  {
   "cell_type": "code",
   "execution_count": 21,
   "id": "33b697d8",
   "metadata": {},
   "outputs": [
    {
     "name": "stdout",
     "output_type": "stream",
     "text": [
      "Hello\n",
      "Hello\n"
     ]
    }
   ],
   "source": [
    "print('Hello') # 파이썬 내장함수(import 하지 않고 사용할 수 있는 함수)\n",
    "print = 5\n",
    "# print('Hello')\n",
    "del print\n",
    "print('Hello')"
   ]
  },
  {
   "cell_type": "code",
   "execution_count": 22,
   "id": "1b18e938",
   "metadata": {},
   "outputs": [
    {
     "name": "stdout",
     "output_type": "stream",
     "text": [
      "Hello\n",
      "Hello\n"
     ]
    }
   ],
   "source": [
    "my_message(2, 'Hello')"
   ]
  },
  {
   "cell_type": "code",
   "execution_count": 3,
   "id": "6751382c",
   "metadata": {},
   "outputs": [],
   "source": [
    "my_message = 5"
   ]
  },
  {
   "cell_type": "code",
   "execution_count": 4,
   "id": "183f2958",
   "metadata": {},
   "outputs": [],
   "source": [
    "def my_message(a, b):\n",
    "    pass"
   ]
  },
  {
   "cell_type": "code",
   "execution_count": 5,
   "id": "abd0d631",
   "metadata": {},
   "outputs": [],
   "source": [
    "del my_message\n",
    "# 변수를 삭제해도 함수 사용불가(파이썬 내장함수가 아니라서)"
   ]
  },
  {
   "cell_type": "code",
   "execution_count": 6,
   "id": "e9fee33a",
   "metadata": {},
   "outputs": [],
   "source": [
    "def my_hello():\n",
    "    print('Hello, Python')\n",
    "    print('Hello, World')"
   ]
  },
  {
   "cell_type": "code",
   "execution_count": 7,
   "id": "58286cfe",
   "metadata": {},
   "outputs": [
    {
     "name": "stdout",
     "output_type": "stream",
     "text": [
      "Hello, Python\n",
      "Hello, World\n"
     ]
    }
   ],
   "source": [
    "# 함수사용 = 함수호출\n",
    "my_hello()"
   ]
  },
  {
   "cell_type": "code",
   "execution_count": 9,
   "id": "6bbe3808",
   "metadata": {},
   "outputs": [],
   "source": [
    "# 함수 정의 : 4월 16일\n",
    "def my_hello():\n",
    "    print('Hello, Python')\n",
    "    print('Hello, World')\n",
    "def my_hello(cnt):\n",
    "    for i in range(cnt):\n",
    "        print('Hello, Python')\n",
    "        print('Hello, World')"
   ]
  },
  {
   "cell_type": "code",
   "execution_count": 10,
   "id": "4e84ab13",
   "metadata": {},
   "outputs": [
    {
     "name": "stdout",
     "output_type": "stream",
     "text": [
      "Hello, Python\n",
      "Hello, World\n",
      "Hello, Python\n",
      "Hello, World\n"
     ]
    }
   ],
   "source": [
    "# 함수 사용 = 함수 호출\n",
    "my_hello(2)"
   ]
  },
  {
   "cell_type": "code",
   "execution_count": 11,
   "id": "2d0a2c7f",
   "metadata": {},
   "outputs": [
    {
     "data": {
      "text/plain": [
       "<function __main__.my_hello(cnt)>"
      ]
     },
     "execution_count": 11,
     "metadata": {},
     "output_type": "execute_result"
    }
   ],
   "source": [
    "my_hello"
   ]
  },
  {
   "cell_type": "code",
   "execution_count": 12,
   "id": "1f5606e3",
   "metadata": {},
   "outputs": [
    {
     "data": {
      "text/plain": [
       "'__main__'"
      ]
     },
     "execution_count": 12,
     "metadata": {},
     "output_type": "execute_result"
    }
   ],
   "source": [
    "__name__"
   ]
  },
  {
   "cell_type": "code",
   "execution_count": 14,
   "id": "bfb88c75",
   "metadata": {},
   "outputs": [
    {
     "name": "stdout",
     "output_type": "stream",
     "text": [
      "Hello, Python\n",
      "Hello, World\n",
      "Hello, Python\n",
      "Hello, World\n"
     ]
    }
   ],
   "source": [
    "if __name__=='__main__':\n",
    "    my_hello(2)"
   ]
  },
  {
   "cell_type": "code",
   "execution_count": 3,
   "id": "76e05f5b",
   "metadata": {},
   "outputs": [],
   "source": [
    "import ch05 # ch05모듈을 load"
   ]
  },
  {
   "cell_type": "code",
   "execution_count": 4,
   "id": "a332f20c",
   "metadata": {},
   "outputs": [
    {
     "data": {
      "text/plain": [
       "<function ch05.my_hello(cnt)>"
      ]
     },
     "execution_count": 4,
     "metadata": {},
     "output_type": "execute_result"
    }
   ],
   "source": [
    "ch05.my_hello"
   ]
  },
  {
   "cell_type": "code",
   "execution_count": 5,
   "id": "62cc8e41",
   "metadata": {},
   "outputs": [
    {
     "name": "stdout",
     "output_type": "stream",
     "text": [
      "Hello, Python\n",
      "Hello, World\n",
      "Hello, Python\n",
      "Hello, World\n"
     ]
    }
   ],
   "source": [
    "ch05.my_hello(2)"
   ]
  },
  {
   "cell_type": "code",
   "execution_count": 6,
   "id": "37ac2916",
   "metadata": {},
   "outputs": [],
   "source": [
    "from ch05 import my_hello # ch05모듈안의 my_hello load"
   ]
  },
  {
   "cell_type": "code",
   "execution_count": 7,
   "id": "b1edeac5",
   "metadata": {},
   "outputs": [
    {
     "name": "stdout",
     "output_type": "stream",
     "text": [
      "Hello, Python\n",
      "Hello, World\n",
      "Hello, Python\n",
      "Hello, World\n"
     ]
    }
   ],
   "source": [
    "my_hello(2)"
   ]
  },
  {
   "cell_type": "markdown",
   "id": "08e96f4f",
   "metadata": {},
   "source": [
    "## 1.2 docstring"
   ]
  },
  {
   "cell_type": "code",
   "execution_count": 13,
   "id": "d2d51963",
   "metadata": {},
   "outputs": [],
   "source": [
    "def my_function():\n",
    "    '''\n",
    "    함수의 첫라인에 독스트링을 포함할 수 있습니다\n",
    "    독스트링을 함수의 설명서를 달아주는 역할\n",
    "    주석보다 많은 기능(shift+tab으로 독스트링을 볼 수 있음)\n",
    "    '''\n",
    "    pass"
   ]
  },
  {
   "cell_type": "code",
   "execution_count": 10,
   "id": "8a1030e8",
   "metadata": {},
   "outputs": [
    {
     "ename": "SyntaxError",
     "evalue": "expected ':' (2330405485.py, line 1)",
     "output_type": "error",
     "traceback": [
      "\u001b[1;36m  Cell \u001b[1;32mIn[10], line 1\u001b[1;36m\u001b[0m\n\u001b[1;33m    def my_function()\u001b[0m\n\u001b[1;37m                     ^\u001b[0m\n\u001b[1;31mSyntaxError\u001b[0m\u001b[1;31m:\u001b[0m expected ':'\n"
     ]
    }
   ],
   "source": [
    "def my_function()"
   ]
  },
  {
   "cell_type": "code",
   "execution_count": 15,
   "id": "3bb4caac",
   "metadata": {},
   "outputs": [
    {
     "name": "stdout",
     "output_type": "stream",
     "text": [
      "\n",
      "    함수의 첫라인에 독스트링을 포함할 수 있습니다\n",
      "    독스트링을 함수의 설명서를 달아주는 역할\n",
      "    주석보다 많은 기능(shift+tab으로 독스트링을 볼 수 있음)\n",
      "    \n"
     ]
    }
   ],
   "source": [
    "print(my_function.__doc__)"
   ]
  },
  {
   "cell_type": "code",
   "execution_count": 17,
   "id": "fa3f4e0c",
   "metadata": {},
   "outputs": [],
   "source": [
    "def fibonacci(n):\n",
    "    a, b = 0, 1\n",
    "    while a < n:\n",
    "        print(a, end=' ')\n",
    "        a, b = b, a+b\n",
    "    print() #개행"
   ]
  },
  {
   "cell_type": "code",
   "execution_count": 18,
   "id": "767a8da2",
   "metadata": {},
   "outputs": [
    {
     "name": "stdout",
     "output_type": "stream",
     "text": [
      "0 1 1 2 3 5 8 \n"
     ]
    }
   ],
   "source": [
    "fibonacci(10)"
   ]
  },
  {
   "cell_type": "code",
   "execution_count": 19,
   "id": "eea0274c",
   "metadata": {},
   "outputs": [
    {
     "ename": "NameError",
     "evalue": "name 'a' is not defined",
     "output_type": "error",
     "traceback": [
      "\u001b[1;31m---------------------------------------------------------------------------\u001b[0m",
      "\u001b[1;31mNameError\u001b[0m                                 Traceback (most recent call last)",
      "Cell \u001b[1;32mIn[19], line 1\u001b[0m\n\u001b[1;32m----> 1\u001b[0m \u001b[43ma\u001b[49m, b\n",
      "\u001b[1;31mNameError\u001b[0m: name 'a' is not defined"
     ]
    }
   ],
   "source": [
    "a, b"
   ]
  },
  {
   "cell_type": "markdown",
   "id": "913be8c4",
   "metadata": {},
   "source": [
    "## 1.3 지역변수(local var)와 전역변수(global var)"
   ]
  },
  {
   "cell_type": "code",
   "execution_count": 21,
   "id": "5d86bc32",
   "metadata": {},
   "outputs": [
    {
     "name": "stdout",
     "output_type": "stream",
     "text": [
      "함수안 : 100\n",
      "함수 밖 : 100\n"
     ]
    }
   ],
   "source": [
    "global_var = 100 # 전역변수\n",
    "def func1():\n",
    "    print('함수안 :', global_var)\n",
    "func1()\n",
    "print('함수 밖 :', global_var)"
   ]
  },
  {
   "cell_type": "code",
   "execution_count": 22,
   "id": "93c7d1a8",
   "metadata": {},
   "outputs": [
    {
     "name": "stdout",
     "output_type": "stream",
     "text": [
      "함수안 : 200\n"
     ]
    },
    {
     "ename": "NameError",
     "evalue": "name 'local_var' is not defined",
     "output_type": "error",
     "traceback": [
      "\u001b[1;31m---------------------------------------------------------------------------\u001b[0m",
      "\u001b[1;31mNameError\u001b[0m                                 Traceback (most recent call last)",
      "Cell \u001b[1;32mIn[22], line 5\u001b[0m\n\u001b[0;32m      3\u001b[0m     \u001b[38;5;28mprint\u001b[39m(\u001b[38;5;124m'\u001b[39m\u001b[38;5;124m함수안 :\u001b[39m\u001b[38;5;124m'\u001b[39m, local_var)\n\u001b[0;32m      4\u001b[0m func2()\n\u001b[1;32m----> 5\u001b[0m \u001b[38;5;28mprint\u001b[39m(\u001b[38;5;124m'\u001b[39m\u001b[38;5;124m함수 밖 :\u001b[39m\u001b[38;5;124m'\u001b[39m, \u001b[43mlocal_var\u001b[49m)\n",
      "\u001b[1;31mNameError\u001b[0m: name 'local_var' is not defined"
     ]
    }
   ],
   "source": [
    "def func2():\n",
    "    local_var = 200 # 지역변수\n",
    "    print('함수안 :', local_var)\n",
    "func2()\n",
    "print('함수 밖 :', local_var)"
   ]
  },
  {
   "cell_type": "code",
   "execution_count": 24,
   "id": "0fa7a01f",
   "metadata": {},
   "outputs": [
    {
     "name": "stdout",
     "output_type": "stream",
     "text": [
      "함수 안(지역변수 g_var) : 200\n",
      "함수 밖(전역변수 g_var) : 100\n"
     ]
    }
   ],
   "source": [
    "g_var = 100 # 전역변수\n",
    "def func3():\n",
    "    g_var = 200 # 지역변수(변수 선언과 할당)\n",
    "    print('함수 안(지역변수 g_var) :', g_var)\n",
    "func3()\n",
    "print('함수 밖(전역변수 g_var) :', g_var)"
   ]
  },
  {
   "cell_type": "code",
   "execution_count": 25,
   "id": "f49dd30f",
   "metadata": {},
   "outputs": [
    {
     "ename": "UnboundLocalError",
     "evalue": "local variable 'g_var' referenced before assignment",
     "output_type": "error",
     "traceback": [
      "\u001b[1;31m---------------------------------------------------------------------------\u001b[0m",
      "\u001b[1;31mUnboundLocalError\u001b[0m                         Traceback (most recent call last)",
      "Cell \u001b[1;32mIn[25], line 5\u001b[0m\n\u001b[0;32m      3\u001b[0m     \u001b[38;5;28mprint\u001b[39m(\u001b[38;5;124m'\u001b[39m\u001b[38;5;124m함수 안 :\u001b[39m\u001b[38;5;124m'\u001b[39m, g_var)\n\u001b[0;32m      4\u001b[0m     g_var \u001b[38;5;241m=\u001b[39m \u001b[38;5;241m200\u001b[39m \u001b[38;5;66;03m# 지역변수\u001b[39;00m\n\u001b[1;32m----> 5\u001b[0m \u001b[43mfunnc4\u001b[49m\u001b[43m(\u001b[49m\u001b[43m)\u001b[49m\n",
      "Cell \u001b[1;32mIn[25], line 3\u001b[0m, in \u001b[0;36mfunnc4\u001b[1;34m()\u001b[0m\n\u001b[0;32m      2\u001b[0m \u001b[38;5;28;01mdef\u001b[39;00m \u001b[38;5;21mfunnc4\u001b[39m():\n\u001b[1;32m----> 3\u001b[0m     \u001b[38;5;28mprint\u001b[39m(\u001b[38;5;124m'\u001b[39m\u001b[38;5;124m함수 안 :\u001b[39m\u001b[38;5;124m'\u001b[39m, \u001b[43mg_var\u001b[49m)\n\u001b[0;32m      4\u001b[0m     g_var \u001b[38;5;241m=\u001b[39m \u001b[38;5;241m200\u001b[39m\n",
      "\u001b[1;31mUnboundLocalError\u001b[0m: local variable 'g_var' referenced before assignment"
     ]
    }
   ],
   "source": [
    "g_var = 100 # 전역변수\n",
    "def funnc4():\n",
    "    print('함수 안 :', g_var)\n",
    "    g_var = 200 # 지역변수\n",
    "funnc4()"
   ]
  },
  {
   "cell_type": "code",
   "execution_count": 27,
   "id": "41850240",
   "metadata": {},
   "outputs": [
    {
     "name": "stdout",
     "output_type": "stream",
     "text": [
      "함수 안 : 100\n"
     ]
    }
   ],
   "source": [
    "# 렉시컬 특성\n",
    "g_var = 100 # 전역변수\n",
    "def funnc4():\n",
    "    print('함수 안 :', g_var)\n",
    "    # g_var = 200  지역변수를 할당 하지 않으면 오류가 나지 않음\n",
    "funnc4()"
   ]
  },
  {
   "cell_type": "code",
   "execution_count": 29,
   "id": "f3379d5e",
   "metadata": {},
   "outputs": [
    {
     "name": "stdout",
     "output_type": "stream",
     "text": [
      "함수 안 : 100\n",
      "함수 밖 : 200\n"
     ]
    }
   ],
   "source": [
    "# 렉시컬 특성\n",
    "g_var = 100 # 전역변수\n",
    "def funnc4():\n",
    "    global g_var \n",
    "    print('함수 안 :', g_var)\n",
    "    g_var = 200  # 전역변수로 바꾸고 싶다면\n",
    "funnc4()\n",
    "print('함수 밖 :', g_var)"
   ]
  },
  {
   "cell_type": "code",
   "execution_count": 31,
   "id": "340ad8e3",
   "metadata": {},
   "outputs": [
    {
     "ename": "UnboundLocalError",
     "evalue": "local variable 'g_var' referenced before assignment",
     "output_type": "error",
     "traceback": [
      "\u001b[1;31m---------------------------------------------------------------------------\u001b[0m",
      "\u001b[1;31mUnboundLocalError\u001b[0m                         Traceback (most recent call last)",
      "Cell \u001b[1;32mIn[31], line 7\u001b[0m\n\u001b[0;32m      5\u001b[0m     \u001b[38;5;28mprint\u001b[39m(\u001b[38;5;124m'\u001b[39m\u001b[38;5;124m함수 안 :\u001b[39m\u001b[38;5;124m'\u001b[39m, g_var)\n\u001b[0;32m      6\u001b[0m     g_var \u001b[38;5;241m=\u001b[39m \u001b[38;5;241m200\u001b[39m  \u001b[38;5;66;03m# 전역변수로 바꾸고 싶다면\u001b[39;00m\n\u001b[1;32m----> 7\u001b[0m \u001b[43mfunnc4\u001b[49m\u001b[43m(\u001b[49m\u001b[43m)\u001b[49m\n\u001b[0;32m      8\u001b[0m \u001b[38;5;28mprint\u001b[39m(\u001b[38;5;124m'\u001b[39m\u001b[38;5;124m함수 밖 :\u001b[39m\u001b[38;5;124m'\u001b[39m, g_var)\n",
      "Cell \u001b[1;32mIn[31], line 5\u001b[0m, in \u001b[0;36mfunnc4\u001b[1;34m()\u001b[0m\n\u001b[0;32m      3\u001b[0m \u001b[38;5;28;01mdef\u001b[39;00m \u001b[38;5;21mfunnc4\u001b[39m():\n\u001b[0;32m      4\u001b[0m     \u001b[38;5;66;03m# global g_var # funnc4함수내의 g_var는 전역변수를 쓴다\u001b[39;00m\n\u001b[1;32m----> 5\u001b[0m     \u001b[38;5;28mprint\u001b[39m(\u001b[38;5;124m'\u001b[39m\u001b[38;5;124m함수 안 :\u001b[39m\u001b[38;5;124m'\u001b[39m, \u001b[43mg_var\u001b[49m)\n\u001b[0;32m      6\u001b[0m     g_var \u001b[38;5;241m=\u001b[39m \u001b[38;5;241m200\u001b[39m\n",
      "\u001b[1;31mUnboundLocalError\u001b[0m: local variable 'g_var' referenced before assignment"
     ]
    }
   ],
   "source": [
    "# 렉시컬 특성 예시\n",
    "g_var = 100 # 전역변수\n",
    "def funnc4():\n",
    "    # global g_var # funnc4함수내의 g_var는 전역변수를 쓴다\n",
    "    print('함수 안 :', g_var)\n",
    "    g_var = 200  # 전역변수로 바꾸고 싶다면\n",
    "funnc4()\n",
    "print('함수 밖 :', g_var)"
   ]
  },
  {
   "cell_type": "code",
   "execution_count": 32,
   "id": "bd725fa5",
   "metadata": {},
   "outputs": [
    {
     "name": "stdout",
     "output_type": "stream",
     "text": [
      "함수 안 : 300\n",
      "함수 밖 : 100\n"
     ]
    }
   ],
   "source": [
    "# 렉시컬 특성 예시\n",
    "g_var = 100 # 전역변수\n",
    "def funnc4():\n",
    "    # global g_var # funnc4함수내의 g_var는 전역변수를 쓴다\n",
    "    g_var = 300\n",
    "    print('함수 안 :', g_var)\n",
    "    g_var = 200  # 전역변수로 바꾸고 싶다면\n",
    "funnc4()\n",
    "print('함수 밖 :', g_var)"
   ]
  },
  {
   "cell_type": "markdown",
   "id": "1b6e7296",
   "metadata": {},
   "source": [
    "## 1.4 값에 의한 호출\n",
    "- 함수의 매개변수(인수=인자)로 전달되는 변수가 스칼라 변수(문자, 숫자, 논리형)일 때"
   ]
  },
  {
   "cell_type": "code",
   "execution_count": 30,
   "id": "4b8b9624",
   "metadata": {},
   "outputs": [
    {
     "data": {
      "text/plain": [
       "2327262134800"
      ]
     },
     "execution_count": 30,
     "metadata": {},
     "output_type": "execute_result"
    }
   ],
   "source": [
    "foo = 10 # 전역변수\n",
    "id(foo)"
   ]
  },
  {
   "cell_type": "code",
   "execution_count": 31,
   "id": "67b88f36",
   "metadata": {},
   "outputs": [
    {
     "name": "stdout",
     "output_type": "stream",
     "text": [
      "Before : 10  id(f) : 2327262134800\n",
      "After : 30  id(f) : 2327262135440\n"
     ]
    }
   ],
   "source": [
    "def func1(f): # 매개변수 f는 지역변수\n",
    "    print('Before :', f , ' id(f) :', id(f))\n",
    "    f = f*3\n",
    "    print('After :', f , ' id(f) :', id(f))\n",
    "func1(foo)    "
   ]
  },
  {
   "cell_type": "code",
   "execution_count": 32,
   "id": "05b13cf3",
   "metadata": {},
   "outputs": [
    {
     "name": "stdout",
     "output_type": "stream",
     "text": [
      "10 2327262134800\n"
     ]
    }
   ],
   "source": [
    "print(foo, id(foo))"
   ]
  },
  {
   "cell_type": "markdown",
   "id": "d7484295",
   "metadata": {},
   "source": [
    "## 1.5 참조에 의한 호출\n",
    "- 함수의 매개변수(인자=인수)로 전달되는 변수가 리스트, 튜플, 셋, 딕셔너리, 객체일 경우"
   ]
  },
  {
   "cell_type": "code",
   "execution_count": 36,
   "id": "6007a99e",
   "metadata": {},
   "outputs": [
    {
     "data": {
      "text/plain": [
       "2952539672000"
      ]
     },
     "execution_count": 36,
     "metadata": {},
     "output_type": "execute_result"
    }
   ],
   "source": [
    "L = [1, 2, 3]\n",
    "id(L)"
   ]
  },
  {
   "cell_type": "code",
   "execution_count": 46,
   "id": "7b6b01c4",
   "metadata": {},
   "outputs": [
    {
     "name": "stdout",
     "output_type": "stream",
     "text": [
      "Before : [1, 2, 3, 4, 4, 4] 2952539672000\n",
      "after : [1, 2, 3, 4, 4, 4, 4] 2952539672000\n"
     ]
    }
   ],
   "source": [
    "def func2(f): # 매개변수는 지역변수\n",
    "    print('Before :', f, id(f)) \n",
    "    f.append(4)\n",
    "    print('after :', f, id(f)) \n",
    "func2(L)"
   ]
  },
  {
   "cell_type": "code",
   "execution_count": 47,
   "id": "4ac19a9d",
   "metadata": {},
   "outputs": [
    {
     "name": "stdout",
     "output_type": "stream",
     "text": [
      "L = [1, 2, 3, 4, 4, 4, 4] 2952539672000\n"
     ]
    }
   ],
   "source": [
    "print('L =', L, id(L))"
   ]
  },
  {
   "cell_type": "markdown",
   "id": "6330dafd",
   "metadata": {},
   "source": [
    "# 2절. 함수의 실행 결과를 반환하는 return"
   ]
  },
  {
   "cell_type": "code",
   "execution_count": 34,
   "id": "a3e58ad9",
   "metadata": {},
   "outputs": [],
   "source": [
    "def fibonacci_print(n):\n",
    "    a, b = 0, 1\n",
    "    while a < n:\n",
    "        print(a, end=' ')\n",
    "        a, b = b, a+b\n",
    "    print() # 개행    \n",
    "def fibonacci_return(n):\n",
    "    result = []\n",
    "    a, b = 0, 1\n",
    "    while a < n:\n",
    "        result.append(a)\n",
    "        a, b = b, a+b\n",
    "    return result"
   ]
  },
  {
   "cell_type": "code",
   "execution_count": 35,
   "id": "eaff490a",
   "metadata": {},
   "outputs": [
    {
     "name": "stdout",
     "output_type": "stream",
     "text": [
      "0 1 1 2 3 5 8 13 21 34 55 89 \n",
      "None\n"
     ]
    }
   ],
   "source": [
    "x = fibonacci_print(100)\n",
    "print(x)"
   ]
  },
  {
   "cell_type": "code",
   "execution_count": 36,
   "id": "702b1069",
   "metadata": {},
   "outputs": [
    {
     "name": "stdout",
     "output_type": "stream",
     "text": [
      "[0, 1, 1, 2, 3, 5, 8, 13, 21, 34, 55, 89]\n",
      "<class 'list'>\n"
     ]
    }
   ],
   "source": [
    "x = fibonacci_return(100)\n",
    "print(x)\n",
    "print(type(x))"
   ]
  },
  {
   "cell_type": "markdown",
   "id": "2be0962c",
   "metadata": {},
   "source": [
    "## 여러개 값 return"
   ]
  },
  {
   "cell_type": "code",
   "execution_count": 68,
   "id": "bd87f1c0",
   "metadata": {},
   "outputs": [],
   "source": [
    "def swap(a, b):\n",
    "    '매개변수의 순서를 바꿔서 return'\n",
    "    return b, a"
   ]
  },
  {
   "cell_type": "code",
   "execution_count": 74,
   "id": "351c078e",
   "metadata": {},
   "outputs": [
    {
     "name": "stdout",
     "output_type": "stream",
     "text": [
      "함수 실행 전 x=5, y=10\n",
      "함수 실행 후 x=10, y=5\n"
     ]
    }
   ],
   "source": [
    "x, y = 5, 10\n",
    "print(f'함수 실행 전 x={x}, y={y}')\n",
    "x, y = swap(x, y)\n",
    "print(f'함수 실행 후 x={x}, y={y}')"
   ]
  },
  {
   "cell_type": "markdown",
   "id": "f9e173f1",
   "metadata": {},
   "source": [
    "# 3절. 함수의 매개변수 ★\n",
    "## 3.1 기본값을 갖는 매개변수"
   ]
  },
  {
   "cell_type": "code",
   "execution_count": 4,
   "id": "479175cb",
   "metadata": {},
   "outputs": [],
   "source": [
    "def make_url(ip, port=80): # 순서인수 > 기본값을 갖는 매개변수\n",
    "    return \"http://{}:{}\".format(ip, port)"
   ]
  },
  {
   "cell_type": "code",
   "execution_count": 5,
   "id": "193ad191",
   "metadata": {},
   "outputs": [
    {
     "name": "stdout",
     "output_type": "stream",
     "text": [
      "http://www.naver.com:80\n",
      "http://localhost:8090\n",
      "http://localhost:8090\n"
     ]
    }
   ],
   "source": [
    "print(make_url('www.naver.com'))\n",
    "print(make_url('localhost' , 8090))\n",
    "print(make_url(port=8090, ip='localhost'))"
   ]
  },
  {
   "cell_type": "markdown",
   "id": "3596f77a",
   "metadata": {},
   "source": [
    "## 3.2 기본변수를 갖는 매개변수\n",
    "- 기본변수가 스칼라 변수일 때\n",
    "- 기본변수가 리스트, 셋, 딕셔너리 등의 객체일 때"
   ]
  },
  {
   "cell_type": "code",
   "execution_count": 6,
   "id": "46cc625a",
   "metadata": {},
   "outputs": [],
   "source": [
    "i = 5\n",
    "l = []\n",
    "def func2(arg=l):\n",
    "    pass"
   ]
  },
  {
   "cell_type": "code",
   "execution_count": 7,
   "id": "9218d86a",
   "metadata": {},
   "outputs": [],
   "source": [
    "i = 10"
   ]
  },
  {
   "cell_type": "code",
   "execution_count": 8,
   "id": "973e5914",
   "metadata": {},
   "outputs": [],
   "source": [
    "func2()"
   ]
  },
  {
   "cell_type": "code",
   "execution_count": 10,
   "id": "5e717892",
   "metadata": {},
   "outputs": [],
   "source": [
    "i = 5\n",
    "# 기본값을 갖는 변수가 스칼라 변수일 때 : arg의 기본값은 함수가 정의되는 시점의 값\n",
    "def func2(arg=i):\n",
    "    print('arg =', arg)"
   ]
  },
  {
   "cell_type": "code",
   "execution_count": 11,
   "id": "76bfeeb2",
   "metadata": {},
   "outputs": [
    {
     "name": "stdout",
     "output_type": "stream",
     "text": [
      "arg = 5\n"
     ]
    }
   ],
   "source": [
    "i = 50\n",
    "func2()"
   ]
  },
  {
   "cell_type": "code",
   "execution_count": 12,
   "id": "07f6423f",
   "metadata": {},
   "outputs": [],
   "source": [
    "list_ = []\n",
    "# 기본값을 갖는 변수가 객체(데이터 구조)일 때 : arg의 기본값은 함수가 정의되는 시점의 값\n",
    "def func3(data, L=list_):\n",
    "    'data를 L에 append'\n",
    "    L.append(data)\n",
    "    return L"
   ]
  },
  {
   "cell_type": "code",
   "execution_count": 13,
   "id": "47acb4d4",
   "metadata": {},
   "outputs": [
    {
     "name": "stdout",
     "output_type": "stream",
     "text": [
      "[10]\n"
     ]
    }
   ],
   "source": [
    "print(func3(10)) # list_가 수정 : [10]"
   ]
  },
  {
   "cell_type": "code",
   "execution_count": 14,
   "id": "6c1cfa9c",
   "metadata": {},
   "outputs": [
    {
     "name": "stdout",
     "output_type": "stream",
     "text": [
      "[10, 20]\n"
     ]
    }
   ],
   "source": [
    "print(func3(20))"
   ]
  },
  {
   "cell_type": "code",
   "execution_count": 15,
   "id": "5eda95c1",
   "metadata": {},
   "outputs": [
    {
     "data": {
      "text/plain": [
       "[10, 20]"
      ]
     },
     "execution_count": 15,
     "metadata": {},
     "output_type": "execute_result"
    }
   ],
   "source": [
    "list_"
   ]
  },
  {
   "cell_type": "code",
   "execution_count": 19,
   "id": "26bf9814",
   "metadata": {},
   "outputs": [],
   "source": [
    "def func4(data, L=None):\n",
    "    if L==None:\n",
    "        L = []\n",
    "    L.append(data)\n",
    "    return L"
   ]
  },
  {
   "cell_type": "code",
   "execution_count": 20,
   "id": "c6bf6834",
   "metadata": {},
   "outputs": [
    {
     "name": "stdout",
     "output_type": "stream",
     "text": [
      "[10]\n",
      "[10, 20, 10, 10]\n"
     ]
    }
   ],
   "source": [
    "print(func4(10))\n",
    "print(func4(10, list_))"
   ]
  },
  {
   "cell_type": "markdown",
   "id": "59f067af",
   "metadata": {},
   "source": [
    "## 3.3 튜플 매개변수를 이용한 가변인수 설정"
   ]
  },
  {
   "cell_type": "code",
   "execution_count": 39,
   "id": "d3cf3e41",
   "metadata": {},
   "outputs": [],
   "source": [
    "# 파이썬은 오버로딩(함수의 중복)을 지원하지 않음\n",
    "def add(a, b):\n",
    "    return a+b\n",
    "def add(a, b, c):\n",
    "    return a+b+c"
   ]
  },
  {
   "cell_type": "code",
   "execution_count": 41,
   "id": "b6d6b89e",
   "metadata": {},
   "outputs": [
    {
     "ename": "TypeError",
     "evalue": "add() takes 3 positional arguments but 4 were given",
     "output_type": "error",
     "traceback": [
      "\u001b[1;31m---------------------------------------------------------------------------\u001b[0m",
      "\u001b[1;31mTypeError\u001b[0m                                 Traceback (most recent call last)",
      "Cell \u001b[1;32mIn[41], line 1\u001b[0m\n\u001b[1;32m----> 1\u001b[0m \u001b[43madd\u001b[49m\u001b[43m(\u001b[49m\u001b[38;5;241;43m1\u001b[39;49m\u001b[43m,\u001b[49m\u001b[38;5;241;43m2\u001b[39;49m\u001b[43m,\u001b[49m\u001b[38;5;241;43m3\u001b[39;49m\u001b[43m,\u001b[49m\u001b[38;5;241;43m4\u001b[39;49m\u001b[43m)\u001b[49m\n",
      "\u001b[1;31mTypeError\u001b[0m: add() takes 3 positional arguments but 4 were given"
     ]
    }
   ],
   "source": [
    "add(1,2,3,4)"
   ]
  },
  {
   "cell_type": "code",
   "execution_count": 42,
   "id": "8e11ba8a",
   "metadata": {},
   "outputs": [],
   "source": [
    "# *args: 매개변수들을 하나의 튜플 변수 args로 전달받음\n",
    "def add(*args):\n",
    "    '전달받은 매개변수들의 합을 return'\n",
    "    # print('args = ',args)\n",
    "    result_tot = 0 # 누적변수\n",
    "    for data in args:\n",
    "        result_tot += data\n",
    "    return result_tot"
   ]
  },
  {
   "cell_type": "code",
   "execution_count": 43,
   "id": "8b87f3b2",
   "metadata": {},
   "outputs": [
    {
     "name": "stdout",
     "output_type": "stream",
     "text": [
      "1\n",
      "3\n",
      "6\n",
      "25\n"
     ]
    }
   ],
   "source": [
    "print(add(1))\n",
    "print(add(1, 2))\n",
    "print(add(1, 2, 3))\n",
    "print(add(1, 2, 3, 9, 10))"
   ]
  },
  {
   "cell_type": "code",
   "execution_count": 44,
   "id": "cf906fcd",
   "metadata": {},
   "outputs": [
    {
     "data": {
      "text/plain": [
       "'Python/Oracle/DL/ML'"
      ]
     },
     "execution_count": 44,
     "metadata": {},
     "output_type": "execute_result"
    }
   ],
   "source": [
    "subject = ('Python', 'Oracle', 'DL', 'ML')\n",
    "'/'.join(subject)"
   ]
  },
  {
   "cell_type": "code",
   "execution_count": 46,
   "id": "f1ec7a2e",
   "metadata": {},
   "outputs": [],
   "source": [
    "def concat(*subject, sep):\n",
    "    return sep.join(subject)"
   ]
  },
  {
   "cell_type": "code",
   "execution_count": 49,
   "id": "3c4ca592",
   "metadata": {},
   "outputs": [
    {
     "ename": "TypeError",
     "evalue": "concat() missing 1 required keyword-only argument: 'sep'",
     "output_type": "error",
     "traceback": [
      "\u001b[1;31m---------------------------------------------------------------------------\u001b[0m",
      "\u001b[1;31mTypeError\u001b[0m                                 Traceback (most recent call last)",
      "Cell \u001b[1;32mIn[49], line 1\u001b[0m\n\u001b[1;32m----> 1\u001b[0m \u001b[43mconcat\u001b[49m\u001b[43m(\u001b[49m\u001b[38;5;124;43m'\u001b[39;49m\u001b[38;5;124;43mPython\u001b[39;49m\u001b[38;5;124;43m'\u001b[39;49m\u001b[43m,\u001b[49m\u001b[43m \u001b[49m\u001b[38;5;124;43m'\u001b[39;49m\u001b[38;5;124;43mOracle\u001b[39;49m\u001b[38;5;124;43m'\u001b[39;49m\u001b[43m,\u001b[49m\u001b[43m \u001b[49m\u001b[38;5;124;43m'\u001b[39;49m\u001b[38;5;124;43mDL\u001b[39;49m\u001b[38;5;124;43m'\u001b[39;49m\u001b[43m,\u001b[49m\u001b[43m \u001b[49m\u001b[38;5;124;43m'\u001b[39;49m\u001b[38;5;124;43mML\u001b[39;49m\u001b[38;5;124;43m'\u001b[39;49m\u001b[43m,\u001b[49m\u001b[43m \u001b[49m\u001b[38;5;124;43m'\u001b[39;49m\u001b[38;5;124;43m/\u001b[39;49m\u001b[38;5;124;43m'\u001b[39;49m\u001b[43m)\u001b[49m\n",
      "\u001b[1;31mTypeError\u001b[0m: concat() missing 1 required keyword-only argument: 'sep'"
     ]
    }
   ],
   "source": [
    "concat('Python', 'Oracle', 'DL', 'ML', '/')"
   ]
  },
  {
   "cell_type": "code",
   "execution_count": 50,
   "id": "b2d12fd8",
   "metadata": {},
   "outputs": [
    {
     "data": {
      "text/plain": [
       "'Python / Oracle / DL / ML'"
      ]
     },
     "execution_count": 50,
     "metadata": {},
     "output_type": "execute_result"
    }
   ],
   "source": [
    "# 해결책1 : 매개변수 이름을 지정해서 호출\n",
    "concat('Python', 'Oracle', 'DL', 'ML', sep=' / ')"
   ]
  },
  {
   "cell_type": "code",
   "execution_count": 51,
   "id": "6ae687e9",
   "metadata": {},
   "outputs": [],
   "source": [
    "# 해결책2 : 기본값을 갖는 반드시 갖는 키워드인수 사용\n",
    "def concat(*subject, sep=' ~ '):\n",
    "    return sep.join(subject)"
   ]
  },
  {
   "cell_type": "code",
   "execution_count": 52,
   "id": "9e561346",
   "metadata": {},
   "outputs": [
    {
     "data": {
      "text/plain": [
       "'Python / Oracle / DL / ML'"
      ]
     },
     "execution_count": 52,
     "metadata": {},
     "output_type": "execute_result"
    }
   ],
   "source": [
    "concat('Python', 'Oracle', 'DL', 'ML', sep=' / ')"
   ]
  },
  {
   "cell_type": "code",
   "execution_count": 53,
   "id": "1978158b",
   "metadata": {},
   "outputs": [
    {
     "name": "stdout",
     "output_type": "stream",
     "text": [
      "Python / Oracle / DL / ML\n"
     ]
    }
   ],
   "source": [
    "print('Python', 'Oracle', 'DL', 'ML', sep=' / ')"
   ]
  },
  {
   "cell_type": "code",
   "execution_count": 54,
   "id": "5528e410",
   "metadata": {},
   "outputs": [],
   "source": [
    "# 해결책 3\n",
    "def concat(sep, *subject):\n",
    "    return sep.join(subject)"
   ]
  },
  {
   "cell_type": "code",
   "execution_count": 55,
   "id": "3a766045",
   "metadata": {},
   "outputs": [
    {
     "data": {
      "text/plain": [
       "'OraclePythonDL'"
      ]
     },
     "execution_count": 55,
     "metadata": {},
     "output_type": "execute_result"
    }
   ],
   "source": [
    "concat('Python', 'Oracle', 'DL')"
   ]
  },
  {
   "cell_type": "markdown",
   "id": "98521b54",
   "metadata": {},
   "source": [
    "## 3.4 딕셔너리 매개변수\n",
    "- 여러 개의 키워드인수를 딕셔너리 형태로 받아서 가변키워드 인수 처리"
   ]
  },
  {
   "cell_type": "code",
   "execution_count": 57,
   "id": "c55ed4e1",
   "metadata": {},
   "outputs": [],
   "source": [
    "def func5(**kwargs):\n",
    "    print(kwargs)\n",
    "    print(type(kwargs))\n",
    "    print('이름 : ', kwargs.get('name', '대마왕'))\n",
    "    print('나이 : ', kwargs.get('age', 30))\n",
    "    print('주소 : ', kwargs.get('address', '서울'))"
   ]
  },
  {
   "cell_type": "code",
   "execution_count": 58,
   "id": "29b1a5ee",
   "metadata": {},
   "outputs": [
    {
     "name": "stdout",
     "output_type": "stream",
     "text": [
      "{'name': '홍길동', 'age': 30, 'address': '신림동'}\n",
      "<class 'dict'>\n",
      "이름 :  홍길동\n",
      "나이 :  30\n",
      "주소 :  신림동\n"
     ]
    }
   ],
   "source": [
    "func5(name='홍길동', age=30, address='신림동')"
   ]
  },
  {
   "cell_type": "code",
   "execution_count": 59,
   "id": "44dbd132",
   "metadata": {},
   "outputs": [
    {
     "name": "stdout",
     "output_type": "stream",
     "text": [
      "{'name': '김길동'}\n",
      "<class 'dict'>\n",
      "이름 :  김길동\n",
      "나이 :  30\n",
      "주소 :  서울\n"
     ]
    }
   ],
   "source": [
    "func5(name='김길동')"
   ]
  },
  {
   "cell_type": "markdown",
   "id": "2630a391",
   "metadata": {},
   "source": [
    "## 3.5 함수정의시 매개변수 순서\n",
    "- 순서인수 > 튜플매개변수(*) > 키워드인수(매개변수이름반드시명시) > 딕셔너리매개변수(**)"
   ]
  },
  {
   "cell_type": "code",
   "execution_count": 60,
   "id": "0d2fb5d9",
   "metadata": {},
   "outputs": [],
   "source": [
    "def func6(a, b, *c, **d):\n",
    "    print('순서인수 a :', a)\n",
    "    print('순서인수 b :', b)\n",
    "    print('튜플인수 c :', c)\n",
    "    print('딕셔너리 인수 d :', d)"
   ]
  },
  {
   "cell_type": "code",
   "execution_count": 61,
   "id": "3dc3465e",
   "metadata": {},
   "outputs": [
    {
     "name": "stdout",
     "output_type": "stream",
     "text": [
      "순서인수 a : 10\n",
      "순서인수 b : 20\n",
      "튜플인수 c : (1, 2, 3, 4, 5, 6, 7, 8, 9)\n",
      "딕셔너리 인수 d : {'name': '홍길동', 'age': 30, 'address': '서울'}\n"
     ]
    }
   ],
   "source": [
    "func6(10, 20, 1, 2, 3, 4, 5, 6, 7, 8, 9, name='홍길동', age=30, address='서울')"
   ]
  },
  {
   "cell_type": "code",
   "execution_count": 62,
   "id": "a497e874",
   "metadata": {},
   "outputs": [],
   "source": [
    "def func7(a, b, *c, d='기본값', **e):\n",
    "    print('순서인수 a :', a)\n",
    "    print('순서인수 b :', b)\n",
    "    print('튜플인수 c :', c)\n",
    "    print('키워드인수(기본값을 갖는 인수, 호출시 매개변수명 반드시 명시) d :', d)\n",
    "    print('딕셔너리인수 e :', e)"
   ]
  },
  {
   "cell_type": "code",
   "execution_count": 63,
   "id": "fef644e5",
   "metadata": {},
   "outputs": [
    {
     "name": "stdout",
     "output_type": "stream",
     "text": [
      "순서인수 a : 10\n",
      "순서인수 b : 20\n",
      "튜플인수 c : (1, 2, 3)\n",
      "키워드인수(기본값을 갖는 인수, 호출시 매개변수명 반드시 명시) d : 딴거\n",
      "딕셔너리인수 e : {'fontsize': 12, 'fontfamily': 'consola'}\n"
     ]
    }
   ],
   "source": [
    "func7(10, 20, 1, 2, 3, d='딴거', fontsize=12, fontfamily='consola')"
   ]
  },
  {
   "cell_type": "code",
   "execution_count": 64,
   "id": "b3b0f2fd",
   "metadata": {},
   "outputs": [
    {
     "name": "stdout",
     "output_type": "stream",
     "text": [
      "순서인수 a : 10\n",
      "순서인수 b : 20\n",
      "튜플인수 c : (1, 2, 3, '딴거')\n",
      "키워드인수(기본값을 갖는 인수, 호출시 매개변수명 반드시 명시) d : 기본값\n",
      "딕셔너리인수 e : {'fontsize': 12, 'fontfamily': 'consola'}\n"
     ]
    }
   ],
   "source": [
    "func7(10, 20, 1, 2, 3, '딴거', fontsize=12, fontfamily='consola')"
   ]
  },
  {
   "cell_type": "markdown",
   "id": "e25cc6b1",
   "metadata": {},
   "source": [
    "## 3.6 인수의 언패킹\n",
    "### 튜플인수 언패킹\n",
    "- 함수 호출시 매개변수앞에 * 붙임"
   ]
  },
  {
   "cell_type": "code",
   "execution_count": 65,
   "id": "01244426",
   "metadata": {},
   "outputs": [],
   "source": [
    "def add(*args):\n",
    "    print(args)\n",
    "    tot = 0\n",
    "    for num in args:\n",
    "        tot += num\n",
    "    return tot"
   ]
  },
  {
   "cell_type": "code",
   "execution_count": 66,
   "id": "fb39bc28",
   "metadata": {},
   "outputs": [
    {
     "name": "stdout",
     "output_type": "stream",
     "text": [
      "(1, 2, 3, 4)\n"
     ]
    },
    {
     "data": {
      "text/plain": [
       "10"
      ]
     },
     "execution_count": 66,
     "metadata": {},
     "output_type": "execute_result"
    }
   ],
   "source": [
    "add(1, 2, 3, 4)"
   ]
  },
  {
   "cell_type": "code",
   "execution_count": 67,
   "id": "a35eafc9",
   "metadata": {},
   "outputs": [
    {
     "name": "stdout",
     "output_type": "stream",
     "text": [
      "(1, 2, 3, 4)\n"
     ]
    },
    {
     "data": {
      "text/plain": [
       "10"
      ]
     },
     "execution_count": 67,
     "metadata": {},
     "output_type": "execute_result"
    }
   ],
   "source": [
    "numbers = [1, 2, 3, 4]\n",
    "add(*numbers) # 언패킹"
   ]
  },
  {
   "cell_type": "code",
   "execution_count": 68,
   "id": "43bde507",
   "metadata": {},
   "outputs": [
    {
     "name": "stdout",
     "output_type": "stream",
     "text": [
      "(1, 2, 3, 4)\n"
     ]
    },
    {
     "data": {
      "text/plain": [
       "10"
      ]
     },
     "execution_count": 68,
     "metadata": {},
     "output_type": "execute_result"
    }
   ],
   "source": [
    "numbers = (1,2,3,4)\n",
    "add(*numbers) #언패킹"
   ]
  },
  {
   "cell_type": "markdown",
   "id": "0a917ffa",
   "metadata": {},
   "source": [
    "### 딕셔너리인수 언패킹"
   ]
  },
  {
   "cell_type": "code",
   "execution_count": 69,
   "id": "c93002d0",
   "metadata": {},
   "outputs": [],
   "source": [
    "def func5(**data):\n",
    "    print(type(data))\n",
    "    for key, item in data.items():\n",
    "        print(f'{key}:{item}')  "
   ]
  },
  {
   "cell_type": "code",
   "execution_count": 70,
   "id": "8873558e",
   "metadata": {},
   "outputs": [
    {
     "name": "stdout",
     "output_type": "stream",
     "text": [
      "<class 'dict'>\n",
      "name:홍길동\n",
      "age:30\n",
      "address:신림\n"
     ]
    }
   ],
   "source": [
    "func5(name='홍길동', age=30, address='신림')"
   ]
  },
  {
   "cell_type": "code",
   "execution_count": 72,
   "id": "dded50b9",
   "metadata": {},
   "outputs": [
    {
     "name": "stdout",
     "output_type": "stream",
     "text": [
      "<class 'dict'>\n",
      "name:홍길동\n",
      "age:30\n",
      "address:서울시 강남구\n",
      "score:900\n"
     ]
    }
   ],
   "source": [
    "customInfo = {'name':'홍길동', 'age':30, 'address':'서울시 강남구', 'score':900}\n",
    "func5(**customInfo)"
   ]
  },
  {
   "cell_type": "markdown",
   "id": "e30182c7",
   "metadata": {},
   "source": [
    "# 4절. 람다식\n",
    "## 4.1 람다식 연습"
   ]
  },
  {
   "cell_type": "code",
   "execution_count": 80,
   "id": "6f83a4a9",
   "metadata": {},
   "outputs": [
    {
     "name": "stdout",
     "output_type": "stream",
     "text": [
      "매개변수는 : 홀수\n",
      "매개변수는 : 짝수\n"
     ]
    }
   ],
   "source": [
    "# ex1. 매개변수로 들어온 값이 짝수인지 홀수인지 return\n",
    "def ex1(num):\n",
    "#     if num%2:\n",
    "#         result = \"홀수\"\n",
    "#     else:\n",
    "#         result = \"짝수\"\n",
    "    result = \"홀수\" if num%2 else \"짝수\"\n",
    "ex1 = lambda num : \"홀수\" if num%2 else \"짝수\"\n",
    "print('매개변수는 :',ex1(5))\n",
    "print('매개변수는 :',ex1(8))"
   ]
  },
  {
   "cell_type": "code",
   "execution_count": 87,
   "id": "4b8b8161",
   "metadata": {},
   "outputs": [
    {
     "data": {
      "text/plain": [
       "(1, 10)"
      ]
     },
     "execution_count": 87,
     "metadata": {},
     "output_type": "execute_result"
    }
   ],
   "source": [
    "# ex2. 두 매개변수의 차이를 return\n",
    "# def ex2(num1, num2):\n",
    "#     ex2_lambda = lambda num1, num2: num1 - num2\n",
    "#     return num1 - num2\n",
    "# result = ex2(10, 5)\n",
    "# print(f\"10과 5의 차이: {result}\")\n",
    "def diff(a, b):\n",
    "#     if a>b:\n",
    "#         result = a-b\n",
    "#     else:\n",
    "#         result = b-a\n",
    "    result = a-b if a>b else b-a\n",
    "    return result\n",
    "diff(2, 1), diff(10, 20)"
   ]
  },
  {
   "cell_type": "code",
   "execution_count": 88,
   "id": "442a6756",
   "metadata": {},
   "outputs": [
    {
     "name": "stdout",
     "output_type": "stream",
     "text": [
      "1 10\n",
      "<class 'function'> <class 'function'>\n"
     ]
    }
   ],
   "source": [
    "ex2 = lambda a, b : a-b if a>b else b-a\n",
    "print(ex2(2, 1), ex2(10, 20))\n",
    "print(type(diff), type(ex2))"
   ]
  },
  {
   "cell_type": "code",
   "execution_count": 89,
   "id": "767e644c",
   "metadata": {},
   "outputs": [
    {
     "data": {
      "text/plain": [
       "(1000, 'nagative')"
      ]
     },
     "execution_count": 89,
     "metadata": {},
     "output_type": "execute_result"
    }
   ],
   "source": [
    "# ex3. 매개변수로 잔액을 받아 양수면 잔액을 return, 음수면 'nagative'를 return\n",
    "ex3 = lambda money : money if money>0 else 'nagative'\n",
    "ex3(1000), ex3(-100)"
   ]
  },
  {
   "cell_type": "code",
   "execution_count": 94,
   "id": "cb4abc77",
   "metadata": {},
   "outputs": [
    {
     "data": {
      "text/plain": [
       "('유효하지 않음', 'A팀', 'B팀', '재시험')"
      ]
     },
     "execution_count": 94,
     "metadata": {},
     "output_type": "execute_result"
    }
   ],
   "source": [
    "# ex4. 점수를 입력받아 점수가 80점이상은 A팀, 60점이상은 B팀, 60점미만은 재시험.\n",
    "#      그외는 유효하지 않음\n",
    "ex4 = lambda score : \"A팀\" if 80<=score<=100 else \\\n",
    "                    \"B팀\" if 60<=score<80 else \\\n",
    "                    \"재시험\" if 0<=score<60 else \\\n",
    "                    \"유효하지 않음\"\n",
    "ex4(120), ex4(83), ex4(70), ex4(40)"
   ]
  },
  {
   "cell_type": "code",
   "execution_count": null,
   "id": "4d0d1f0b",
   "metadata": {},
   "outputs": [],
   "source": [
    "# ex4. 점수를 입력받아 점수가 80점이상은 A팀, 60점이상은 B팀, 60점미만은 재시험.\n",
    "#      그외는 유효하지 않음\n",
    "ex4 = lambda score : \"A팀\" if 80<=score<=100 else \\\n",
    "                    \"B팀\" if 60<=score<80 else \\\n",
    "                    \"재시험\" if 0<=score<60 else \\\n",
    "                    \"유효하지 않음\"\n",
    "ex4(120), ex4(83), ex4(70), ex4(40)"
   ]
  },
  {
   "cell_type": "code",
   "execution_count": 95,
   "id": "b165e277",
   "metadata": {},
   "outputs": [],
   "source": [
    "# ex5. 두 매개변수의 차이를 return\n",
    "def safe_index(vecter, data):\n",
    "    if data in vecter:  \n",
    "        return vecter.index(data)\n",
    "    else:\n",
    "        return -1"
   ]
  },
  {
   "cell_type": "code",
   "execution_count": 1,
   "id": "2d148d7a",
   "metadata": {},
   "outputs": [
    {
     "data": {
      "text/plain": [
       "(-1, 1)"
      ]
     },
     "execution_count": 1,
     "metadata": {},
     "output_type": "execute_result"
    }
   ],
   "source": [
    "ex5 = lambda vecter, data : vecter.index(data) if data in vecter else -1\n",
    "tup =(1, 2, 3)\n",
    "ex5(tup, 4), ex5(tup, 2)"
   ]
  },
  {
   "cell_type": "markdown",
   "id": "d088aece",
   "metadata": {},
   "source": [
    "## 4.2 함수의 매개변수에 람다식 이용\n",
    "\n",
    "### (1) map"
   ]
  },
  {
   "cell_type": "code",
   "execution_count": 8,
   "id": "fec0475c",
   "metadata": {},
   "outputs": [],
   "source": [
    "def map_template(func, L=[]):\n",
    "    '''\n",
    "    L의 모든 요소를 func()함수를 적용시켜 return\n",
    "    [2,4,6]\n",
    "    '''\n",
    "    result = []\n",
    "    for l in L :\n",
    "        result.append(func(l))\n",
    "    return result\n",
    "#     return [func(l) for l in L]   "
   ]
  },
  {
   "cell_type": "code",
   "execution_count": 9,
   "id": "1708b827",
   "metadata": {},
   "outputs": [
    {
     "data": {
      "text/plain": [
       "[2, 4, 6, 8, 10, 12, 14, 16, 18, 20]"
      ]
     },
     "execution_count": 9,
     "metadata": {},
     "output_type": "execute_result"
    }
   ],
   "source": [
    "# 리스트 데이터를 가공 방법 1. map_template\n",
    "list_data = [1, 2, 3, 4, 5, 6, 7, 8, 9, 10]\n",
    "map_template(lambda x : x*2, list_data)\n",
    "# def x_2(x):\n",
    "#     return x*2\n",
    "# map_template(x_2, list_data)"
   ]
  },
  {
   "cell_type": "code",
   "execution_count": 6,
   "id": "d359b598",
   "metadata": {},
   "outputs": [
    {
     "data": {
      "text/plain": [
       "[2, 4, 6, 8, 10, 12, 14, 16, 18, 20]"
      ]
     },
     "execution_count": 6,
     "metadata": {},
     "output_type": "execute_result"
    }
   ],
   "source": [
    "# 리스트 데이터를 가공 방법 2. 리스트 컴프리헨션\n",
    "[l*2 for l in list_data]"
   ]
  },
  {
   "cell_type": "code",
   "execution_count": 11,
   "id": "61a96a86",
   "metadata": {},
   "outputs": [
    {
     "data": {
      "text/plain": [
       "[2, 4, 6, 8, 10, 12, 14, 16, 18, 20]"
      ]
     },
     "execution_count": 11,
     "metadata": {},
     "output_type": "execute_result"
    }
   ],
   "source": [
    "# 리스트 데이터를 가공 방법 3. map():파이썬 내장함수\n",
    "list(map(lambda x : x*2, list_data))"
   ]
  },
  {
   "cell_type": "code",
   "execution_count": 13,
   "id": "cf93b24d",
   "metadata": {},
   "outputs": [],
   "source": [
    "'''\n",
    "예1. [5000,800,1000,6000]로 바꾸시오\n",
    "'''\n",
    "prices = ['5,000', '800', '1000', '6,000']"
   ]
  },
  {
   "cell_type": "code",
   "execution_count": 16,
   "id": "333b724e",
   "metadata": {},
   "outputs": [
    {
     "data": {
      "text/plain": [
       "(5000, 1800)"
      ]
     },
     "execution_count": 16,
     "metadata": {},
     "output_type": "execute_result"
    }
   ],
   "source": [
    "def func(x):\n",
    "    return int(x.replace(',',''))\n",
    "func(\"5,000\"), func(\"1800\")"
   ]
  },
  {
   "cell_type": "code",
   "execution_count": null,
   "id": "cd59cbef",
   "metadata": {},
   "outputs": [],
   "source": [
    "list(map(lambda x : int))"
   ]
  },
  {
   "cell_type": "code",
   "execution_count": 36,
   "id": "d2296002",
   "metadata": {},
   "outputs": [],
   "source": [
    "'''\n",
    "예2. member1 = [{'name':'홍길동', 'birth':'2000-01-01'},\n",
    "                {'name':'신길동', 'birth':'1998-12-31'},]를\n",
    "    member2 =  [{'name':'홍길동', 'year':2000, 'month':1, 'day':1},\n",
    "                {'name':'신길동', 'year':1998, 'month':12, 'day':31},]를 바꿉니다\n",
    "'''\n",
    "member1 = [{'name':'홍길동', 'birth':'2000-01-01'},\n",
    "           {'name':'신길동', 'birth':'1998-12-31'},]"
   ]
  },
  {
   "cell_type": "code",
   "execution_count": 37,
   "id": "521175d6",
   "metadata": {},
   "outputs": [],
   "source": [
    "# '2000-01-01' => {'year':1998, 'month':12, 'day':31}\n",
    "def split_data(data):\n",
    "    split_data = data.split('-')\n",
    "    print(split_data)"
   ]
  },
  {
   "cell_type": "code",
   "execution_count": 25,
   "id": "27292884",
   "metadata": {},
   "outputs": [
    {
     "name": "stdout",
     "output_type": "stream",
     "text": [
      "['2000', '01', '01']\n"
     ]
    }
   ],
   "source": [
    "split_data(\"2000-01-01\")"
   ]
  },
  {
   "cell_type": "code",
   "execution_count": 38,
   "id": "37eef820",
   "metadata": {},
   "outputs": [],
   "source": [
    "# '2000-01-01' => {'year':1998, 'month':12, 'day':31}\n",
    "def split_data(data):\n",
    "    split_data = data.split('-')\n",
    "#     print(split_data[0], split_data[1], split_data[2],)\n",
    "    return {'year': int(split_data[0]),\n",
    "           'mouth': int(split_data[1]),\n",
    "           'day': int(split_data[2])}"
   ]
  },
  {
   "cell_type": "code",
   "execution_count": 39,
   "id": "7aab38e2",
   "metadata": {},
   "outputs": [
    {
     "data": {
      "text/plain": [
       "{'year': 2000, 'mouth': 1, 'day': 1}"
      ]
     },
     "execution_count": 39,
     "metadata": {},
     "output_type": "execute_result"
    }
   ],
   "source": [
    "split_data(\"2000-01-01\")"
   ]
  },
  {
   "cell_type": "code",
   "execution_count": 40,
   "id": "c4ae73f4",
   "metadata": {},
   "outputs": [
    {
     "data": {
      "text/plain": [
       "{'name': '홍길동', 'year': 2000, 'mouth': 1, 'day': 1}"
      ]
     },
     "execution_count": 40,
     "metadata": {},
     "output_type": "execute_result"
    }
   ],
   "source": [
    "def member_func(member): # {'name':'홍길동', 'birth':'2000-01-01'}\n",
    "    \"{'name':'신길동', 'year':1998, 'month':12, 'day':31}식으로 return\"\n",
    "    return {\n",
    "        'name':member.get('name'),\n",
    "        'year':int(member['birth'].split('-')[0]),\n",
    "        'mouth':int(member['birth'].split('-')[1]),\n",
    "        'day':int(member['birth'].split('-')[2]),\n",
    "    }\n",
    "member_func(member1[0])"
   ]
  },
  {
   "cell_type": "code",
   "execution_count": 42,
   "id": "c30e9fa6",
   "metadata": {},
   "outputs": [
    {
     "data": {
      "text/plain": [
       "[{'name': '홍길동', 'year': 2000, 'mouth': 1, 'day': 1},\n",
       " {'name': '신길동', 'year': 1998, 'mouth': 12, 'day': 31}]"
      ]
     },
     "execution_count": 42,
     "metadata": {},
     "output_type": "execute_result"
    }
   ],
   "source": [
    "mamber2 = list(map(lambda member : {\n",
    "                        'name':member.get('name'),\n",
    "                        'year':int(member['birth'].split('-')[0]),\n",
    "                        'mouth':int(member['birth'].split('-')[1]),\n",
    "                        'day':int(member['birth'].split('-')[2]),\n",
    "                        } ,\n",
    "        member1\n",
    "        )\n",
    "    )\n",
    "mamber2"
   ]
  },
  {
   "cell_type": "code",
   "execution_count": null,
   "id": "cbca6a76",
   "metadata": {},
   "outputs": [],
   "source": [
    "'예3. member2를 member1로 바꿉니다'"
   ]
  },
  {
   "cell_type": "code",
   "execution_count": 44,
   "id": "5dfe2a23",
   "metadata": {},
   "outputs": [],
   "source": [
    "# {'year': 2000, 'month': 1, 'day': 1} => \"2000-01-01\"를 return하는 함수\n",
    "def join_date(data):\n",
    "    # print([data.get('year'), data.get('month'), data.get('day')])\n",
    "    year = str(data.get('year'))\n",
    "    month = data.get('month')\n",
    "    if month < 10:\n",
    "        month = '0'+str(month)\n",
    "    else:\n",
    "        month = str(month)\n",
    "    day = data.get('day')\n",
    "    if day < 10:\n",
    "        day = '0'+str(day)\n",
    "    else:\n",
    "        day = str(day)\n",
    "    return '-'.join([year, month, day])"
   ]
  },
  {
   "cell_type": "code",
   "execution_count": 50,
   "id": "2e9e1fa8",
   "metadata": {},
   "outputs": [],
   "source": [
    "def join_date(data):\n",
    "    print(\"{}-{:02}-{:02}\".format(data.get('year'), \n",
    "                                  data.get('month'), \n",
    "                                  data.get('day')))"
   ]
  },
  {
   "cell_type": "code",
   "execution_count": null,
   "id": "5e57dec0",
   "metadata": {},
   "outputs": [],
   "source": [
    "def join_date(data):\n",
    "    return \"\""
   ]
  },
  {
   "cell_type": "code",
   "execution_count": 47,
   "id": "a59bae1a",
   "metadata": {},
   "outputs": [
    {
     "name": "stdout",
     "output_type": "stream",
     "text": [
      "2000-01-01\n"
     ]
    }
   ],
   "source": [
    "join_date({'year': 2000, 'month': 1, 'day': 1})"
   ]
  },
  {
   "cell_type": "code",
   "execution_count": 53,
   "id": "40549c45",
   "metadata": {},
   "outputs": [
    {
     "data": {
      "text/plain": [
       "[{'name': '홍길동', 'year': 2000, 'mouth': 1, 'day': 1},\n",
       " {'name': '신길동', 'year': 1998, 'mouth': 12, 'day': 31}]"
      ]
     },
     "execution_count": 53,
     "metadata": {},
     "output_type": "execute_result"
    }
   ],
   "source": [
    "member2"
   ]
  },
  {
   "cell_type": "code",
   "execution_count": 56,
   "id": "93cf2926",
   "metadata": {},
   "outputs": [
    {
     "data": {
      "text/plain": [
       "[{'name': '홍길동', 'birth': '2000-01-01'},\n",
       " {'name': '신길동', 'birth': '1998-12-31'}]"
      ]
     },
     "execution_count": 56,
     "metadata": {},
     "output_type": "execute_result"
    }
   ],
   "source": [
    "# {'name':'홍길동', 'year':2000, 'mouth':1, 'day':1}(member2)를 \n",
    "# {'name':'홍길동', 'birth':'2000-01-01'}으로 가공\n",
    "list(map(lambda member : {\n",
    "                        'name' : member.get('name'),\n",
    "                        'birth': \"{year}-{mouth:02}-{day:02}\".format(**member)\n",
    "                        },\n",
    "    member2\n",
    "))\n"
   ]
  },
  {
   "cell_type": "markdown",
   "id": "c6aef770",
   "metadata": {},
   "source": [
    "### (2) filter\n",
    "- map : [1,2,3,4,5] => [2,4,6,8,10] (벡터의 모든 데이터를 가공)\n",
    "- filter : [1,2,3,4,5] => [2,4] (원하는 정보를 추출)\n",
    "\n",
    "- cf. 리스트 컴프리헨션"
   ]
  },
  {
   "cell_type": "code",
   "execution_count": 57,
   "id": "bd1c49b0",
   "metadata": {},
   "outputs": [],
   "source": [
    "def filter_template(func, L=[]):\n",
    "    result = []\n",
    "    for l in L:\n",
    "        if func(l):\n",
    "            result.append(l)\n",
    "    return result"
   ]
  },
  {
   "cell_type": "code",
   "execution_count": 58,
   "id": "16dd9d93",
   "metadata": {},
   "outputs": [
    {
     "data": {
      "text/plain": [
       "(True, False)"
      ]
     },
     "execution_count": 58,
     "metadata": {},
     "output_type": "execute_result"
    }
   ],
   "source": [
    "def evenChk(value):\n",
    "    return value%2==0\n",
    "evenChk(10), evenChk(-9)"
   ]
  },
  {
   "cell_type": "code",
   "execution_count": 59,
   "id": "02a853a2",
   "metadata": {},
   "outputs": [
    {
     "data": {
      "text/plain": [
       "[2, 4]"
      ]
     },
     "execution_count": 59,
     "metadata": {},
     "output_type": "execute_result"
    }
   ],
   "source": [
    "list_data = [1, 2, 3, 4, 5]\n",
    "filter_template(lambda value : value%2==0 ,  list_data)"
   ]
  },
  {
   "cell_type": "code",
   "execution_count": 60,
   "id": "1af58cb6",
   "metadata": {},
   "outputs": [
    {
     "data": {
      "text/plain": [
       "[2, 4]"
      ]
     },
     "execution_count": 60,
     "metadata": {},
     "output_type": "execute_result"
    }
   ],
   "source": [
    "list(filter(lambda value : value%2==0, list_data))"
   ]
  },
  {
   "cell_type": "code",
   "execution_count": 61,
   "id": "1ab68c2e",
   "metadata": {},
   "outputs": [
    {
     "data": {
      "text/plain": [
       "[2, 4]"
      ]
     },
     "execution_count": 61,
     "metadata": {},
     "output_type": "execute_result"
    }
   ],
   "source": [
    "[data for data in list_data if data%2==0]"
   ]
  },
  {
   "cell_type": "markdown",
   "id": "c9609f4e",
   "metadata": {},
   "source": [
    "### (3) sort"
   ]
  },
  {
   "cell_type": "code",
   "execution_count": 62,
   "id": "09b9a86b",
   "metadata": {},
   "outputs": [
    {
     "data": {
      "text/plain": [
       "[9, 7, 2]"
      ]
     },
     "execution_count": 62,
     "metadata": {},
     "output_type": "execute_result"
    }
   ],
   "source": [
    "p = [9, 2, 7]\n",
    "p.sort(reverse=True)\n",
    "p"
   ]
  },
  {
   "cell_type": "code",
   "execution_count": 63,
   "id": "0f67fc43",
   "metadata": {},
   "outputs": [
    {
     "data": {
      "text/plain": [
       "[(1, 'one'), (2, 'two'), (3, 'three'), (4, 'four')]"
      ]
     },
     "execution_count": 63,
     "metadata": {},
     "output_type": "execute_result"
    }
   ],
   "source": [
    "# 무조건 0번째 item 기준으로 정렬\n",
    "pairs = [(2, 'two'), (1, 'one'), (4, 'four'), (3, 'three')]\n",
    "pairs.sort()\n",
    "pairs"
   ]
  },
  {
   "cell_type": "code",
   "execution_count": 64,
   "id": "daa6cfc3",
   "metadata": {},
   "outputs": [
    {
     "data": {
      "text/plain": [
       "[[10, 1], [9, 9, 9, 9, 9, 9], [1, 100]]"
      ]
     },
     "execution_count": 64,
     "metadata": {},
     "output_type": "execute_result"
    }
   ],
   "source": [
    "# 무조건 0번째 item기준으로 정렬\n",
    "number2d = [[9, 9, 9, 9, 9, 9],\n",
    "            [1, 100],\n",
    "            [10, 1]]\n",
    "number2d.sort(reverse=True) # 기본(reverse=False):오름차순정렬/reverse=True:내림차순정렬\n",
    "number2d"
   ]
  },
  {
   "cell_type": "code",
   "execution_count": 65,
   "id": "4016fb3c",
   "metadata": {},
   "outputs": [
    {
     "data": {
      "text/plain": [
       "6"
      ]
     },
     "execution_count": 65,
     "metadata": {},
     "output_type": "execute_result"
    }
   ],
   "source": [
    "# 리스트를 매개변수로 받아 합을 return\n",
    "(lambda item : sum(item))([1,2,3])"
   ]
  },
  {
   "cell_type": "code",
   "execution_count": 66,
   "id": "42734b54",
   "metadata": {},
   "outputs": [
    {
     "data": {
      "text/plain": [
       "[[1, 100], [9, 9, 9, 9, 9, 9], [10, 1]]"
      ]
     },
     "execution_count": 66,
     "metadata": {},
     "output_type": "execute_result"
    }
   ],
   "source": [
    "# 합이 큰 순으로 정렬\n",
    "number2d.sort(key = lambda data : sum(data), reverse=True)\n",
    "number2d"
   ]
  },
  {
   "cell_type": "code",
   "execution_count": 67,
   "id": "6de9a57e",
   "metadata": {},
   "outputs": [],
   "source": [
    "students = [\n",
    "    {'name':'홍길동', 'score':90},\n",
    "    {'name':'김길동', 'score':50},\n",
    "    {'name':'윤길동', 'score':99},\n",
    "    {'score':100}\n",
    "]"
   ]
  },
  {
   "cell_type": "code",
   "execution_count": 68,
   "id": "11a8dc69",
   "metadata": {},
   "outputs": [
    {
     "data": {
      "text/plain": [
       "[{'name': '김길동', 'score': 50},\n",
       " {'name': '윤길동', 'score': 99},\n",
       " {'name': '홍길동', 'score': 90},\n",
       " {'score': 100}]"
      ]
     },
     "execution_count": 68,
     "metadata": {},
     "output_type": "execute_result"
    }
   ],
   "source": [
    "# 이름순으로 정렬(ㄱㄴㄷ순)\n",
    "students.sort(key = lambda item : item.get('name','힣'))\n",
    "students"
   ]
  },
  {
   "cell_type": "code",
   "execution_count": 69,
   "id": "b623f824",
   "metadata": {},
   "outputs": [
    {
     "data": {
      "text/plain": [
       "[{'score': 100},\n",
       " {'name': '윤길동', 'score': 99},\n",
       " {'name': '홍길동', 'score': 90},\n",
       " {'name': '김길동', 'score': 50}]"
      ]
     },
     "execution_count": 69,
     "metadata": {},
     "output_type": "execute_result"
    }
   ],
   "source": [
    "# score순으로 정렬(내림차순정렬 : reverse=True)\n",
    "students.sort(key = lambda item : item.get('score', 0), reverse=True)\n",
    "students"
   ]
  },
  {
   "cell_type": "code",
   "execution_count": 70,
   "id": "017e72a8",
   "metadata": {},
   "outputs": [],
   "source": [
    "# 책제목순 정렬(ㄱㄴㄷ순), 저자순 정렬(ㄱㄴㄷ순), 가격순 오름차순정렬\n",
    "books =[\n",
    "    {'no':1, 'title':'강남 아파트 인사이트', 'writer':'오스틀', 'price':'25,200'},\n",
    "    {'no':2, 'title':'단 한 번의 삶', 'writer':'김영하', 'price':'18,100'},\n",
    "    {'no':3, 'title':'흔한남매 19', 'writer':'백난도', 'price':'14220'},\n",
    "    {'no':4, 'title':'가격이잘못', 'writer':'홍길동', 'price':'-'},\n",
    "    {'no':5, 'title':'가격이숫자', 'writer':'신길동', 'price':900},\n",
    "    {'no':6, 'title':'가격이없음', 'writer':'김길동'},\n",
    "]"
   ]
  },
  {
   "cell_type": "code",
   "execution_count": 71,
   "id": "10e2c1c9",
   "metadata": {},
   "outputs": [
    {
     "data": {
      "text/plain": [
       "[{'no': 5, 'title': '가격이숫자', 'writer': '신길동', 'price': 900},\n",
       " {'no': 6, 'title': '가격이없음', 'writer': '김길동'},\n",
       " {'no': 4, 'title': '가격이잘못', 'writer': '홍길동', 'price': '-'},\n",
       " {'no': 1, 'title': '강남 아파트 인사이트', 'writer': '오스틀', 'price': '25,200'},\n",
       " {'no': 2, 'title': '단 한 번의 삶', 'writer': '김영하', 'price': '18,100'},\n",
       " {'no': 3, 'title': '흔한남매 19', 'writer': '백난도', 'price': '14220'}]"
      ]
     },
     "execution_count": 71,
     "metadata": {},
     "output_type": "execute_result"
    }
   ],
   "source": [
    "books.sort(key = lambda book : book.get('title'))\n",
    "books"
   ]
  },
  {
   "cell_type": "code",
   "execution_count": 72,
   "id": "19ea2d6a",
   "metadata": {},
   "outputs": [
    {
     "data": {
      "text/plain": [
       "[{'no': 6, 'title': '가격이없음', 'writer': '김길동'},\n",
       " {'no': 2, 'title': '단 한 번의 삶', 'writer': '김영하', 'price': '18,100'},\n",
       " {'no': 3, 'title': '흔한남매 19', 'writer': '백난도', 'price': '14220'},\n",
       " {'no': 5, 'title': '가격이숫자', 'writer': '신길동', 'price': 900},\n",
       " {'no': 1, 'title': '강남 아파트 인사이트', 'writer': '오스틀', 'price': '25,200'},\n",
       " {'no': 4, 'title': '가격이잘못', 'writer': '홍길동', 'price': '-'}]"
      ]
     },
     "execution_count": 72,
     "metadata": {},
     "output_type": "execute_result"
    }
   ],
   "source": [
    "books.sort(key = lambda book : book.get('writer'))\n",
    "books"
   ]
  },
  {
   "cell_type": "code",
   "execution_count": 73,
   "id": "65e569db",
   "metadata": {},
   "outputs": [
    {
     "ename": "TypeError",
     "evalue": "'<' not supported between instances of 'str' and 'int'",
     "output_type": "error",
     "traceback": [
      "\u001b[1;31m---------------------------------------------------------------------------\u001b[0m",
      "\u001b[1;31mTypeError\u001b[0m                                 Traceback (most recent call last)",
      "Cell \u001b[1;32mIn[73], line 1\u001b[0m\n\u001b[1;32m----> 1\u001b[0m \u001b[43mbooks\u001b[49m\u001b[38;5;241;43m.\u001b[39;49m\u001b[43msort\u001b[49m\u001b[43m(\u001b[49m\u001b[43mkey\u001b[49m\u001b[43m \u001b[49m\u001b[38;5;241;43m=\u001b[39;49m\u001b[43m \u001b[49m\u001b[38;5;28;43;01mlambda\u001b[39;49;00m\u001b[43m \u001b[49m\u001b[43mbook\u001b[49m\u001b[43m \u001b[49m\u001b[43m:\u001b[49m\u001b[43m \u001b[49m\u001b[43mbook\u001b[49m\u001b[38;5;241;43m.\u001b[39;49m\u001b[43mget\u001b[49m\u001b[43m(\u001b[49m\u001b[38;5;124;43m'\u001b[39;49m\u001b[38;5;124;43mprice\u001b[39;49m\u001b[38;5;124;43m'\u001b[39;49m\u001b[43m,\u001b[49m\u001b[43m \u001b[49m\u001b[38;5;241;43m0\u001b[39;49m\u001b[43m)\u001b[49m\u001b[43m)\u001b[49m\n\u001b[0;32m      2\u001b[0m books\n",
      "\u001b[1;31mTypeError\u001b[0m: '<' not supported between instances of 'str' and 'int'"
     ]
    }
   ],
   "source": [
    "books.sort(key = lambda book : book.get('price', 0))\n",
    "books"
   ]
  },
  {
   "cell_type": "code",
   "execution_count": 74,
   "id": "7a8fac7c",
   "metadata": {},
   "outputs": [],
   "source": [
    "# '14,000' -> 14000 / \"2000\" -> 2000 / 800 -> 800 / '-' -> 0\n",
    "def parse_int(price):\n",
    "    #print(type(price))\n",
    "    if isinstance(price, str) and price.replace(',','').isdigit():\n",
    "        return int(price.replace(',', ''))\n",
    "    elif isinstance(price, int):\n",
    "        return price\n",
    "    else:\n",
    "        return 0"
   ]
  },
  {
   "cell_type": "code",
   "execution_count": 75,
   "id": "15d5f27d",
   "metadata": {},
   "outputs": [
    {
     "data": {
      "text/plain": [
       "(8000, 8000, 800, 0)"
      ]
     },
     "execution_count": 75,
     "metadata": {},
     "output_type": "execute_result"
    }
   ],
   "source": [
    "parse_int(\"8,000\"), parse_int(\"8000\"), parse_int(800), parse_int('-')"
   ]
  },
  {
   "cell_type": "code",
   "execution_count": 76,
   "id": "da33d71a",
   "metadata": {},
   "outputs": [
    {
     "data": {
      "text/plain": [
       "(0, 900, 14220, 0)"
      ]
     },
     "execution_count": 76,
     "metadata": {},
     "output_type": "execute_result"
    }
   ],
   "source": [
    "# {'no': 6, 'title': '가격이없음', 'writer': '김길동'} = > 0 return\n",
    "# {'no': 3, 'title': '흔한남매 19', 'writer': '백난도', 'price': '14,220'} => 14220\n",
    "# {'no': 5, 'title': '가격이숫자', 'writer': '신길동', 'price': 900} => 900\n",
    "def parse_int(book):\n",
    "    if isinstance(book.get('price'), str) and \\\n",
    "            book.get('price').replace(',','').isdigit():\n",
    "        return int( book.get('price').replace(',','') )\n",
    "    elif isinstance(book.get('price'), int):\n",
    "        return book.get('price')\n",
    "    else:\n",
    "        return 0\n",
    "parse_int(books[0]), parse_int(books[3]), parse_int(books[2]),  parse_int(books[5])"
   ]
  },
  {
   "cell_type": "code",
   "execution_count": 80,
   "id": "2c9b4d97",
   "metadata": {},
   "outputs": [],
   "source": [
    "books =[\n",
    "    {'no':1, 'title':'강남 아파트 인사이트', 'writer':'오스틀', 'price':'25,200'},\n",
    "    {'no':2, 'title':'단 한 번의 삶', 'writer':'김영하', 'price':'18,100'},\n",
    "    {'no':3, 'title':'흔한남매 19', 'writer':'백난도', 'price':'14220'},\n",
    "    {'no':4, 'title':'가격이잘못', 'writer':'홍길동', 'price':'-'},\n",
    "    {'no':5, 'title':'가격이숫자', 'writer':'신길동', 'price':900},\n",
    "    {'no':6, 'title':'가격이없음', 'writer':'김길동'},\n",
    "]\n",
    "copy_books = books.copy() # 깊은 복사"
   ]
  },
  {
   "cell_type": "code",
   "execution_count": 81,
   "id": "e94c88f9",
   "metadata": {},
   "outputs": [],
   "source": [
    "copy_books.sort(key = lambda book : \n",
    "                int(book.get('price').replace(',','')) \\\n",
    "                    if isinstance(book.get('price'), str) and \\\n",
    "                        book.get('price').replace(',','').isdigit() else \\\n",
    "                book.get('price') if isinstance(book.get('price'), int) else \\\n",
    "                0                \n",
    "               )"
   ]
  },
  {
   "cell_type": "code",
   "execution_count": 82,
   "id": "197f8221",
   "metadata": {},
   "outputs": [
    {
     "data": {
      "text/plain": [
       "25200"
      ]
     },
     "execution_count": 82,
     "metadata": {},
     "output_type": "execute_result"
    }
   ],
   "source": [
    "# 람다식 테스트 확인\n",
    "(lambda book : \n",
    "                int(book.get('price').replace(',','')) \\\n",
    "                    if isinstance(book.get('price'), str) and \\\n",
    "                        book.get('price').replace(',','').isdigit() else \\\n",
    "                book.get('price') if isinstance(book.get('price'), int) else \\\n",
    "                0 )(books[0])"
   ]
  },
  {
   "cell_type": "code",
   "execution_count": 83,
   "id": "142754fd",
   "metadata": {},
   "outputs": [
    {
     "data": {
      "text/plain": [
       "[{'no': 4, 'title': '가격이잘못', 'writer': '홍길동', 'price': '-'},\n",
       " {'no': 6, 'title': '가격이없음', 'writer': '김길동'},\n",
       " {'no': 5, 'title': '가격이숫자', 'writer': '신길동', 'price': 900},\n",
       " {'no': 3, 'title': '흔한남매 19', 'writer': '백난도', 'price': '14220'},\n",
       " {'no': 2, 'title': '단 한 번의 삶', 'writer': '김영하', 'price': '18,100'},\n",
       " {'no': 1, 'title': '강남 아파트 인사이트', 'writer': '오스틀', 'price': '25,200'}]"
      ]
     },
     "execution_count": 83,
     "metadata": {},
     "output_type": "execute_result"
    }
   ],
   "source": [
    "copy_books"
   ]
  },
  {
   "cell_type": "code",
   "execution_count": 84,
   "id": "9ad1d7a5",
   "metadata": {},
   "outputs": [
    {
     "data": {
      "text/plain": [
       "[{'no': 1, 'title': '강남 아파트 인사이트', 'writer': '오스틀', 'price': '25,200'},\n",
       " {'no': 2, 'title': '단 한 번의 삶', 'writer': '김영하', 'price': '18,100'},\n",
       " {'no': 3, 'title': '흔한남매 19', 'writer': '백난도', 'price': '14220'},\n",
       " {'no': 4, 'title': '가격이잘못', 'writer': '홍길동', 'price': '-'},\n",
       " {'no': 5, 'title': '가격이숫자', 'writer': '신길동', 'price': 900},\n",
       " {'no': 6, 'title': '가격이없음', 'writer': '김길동'}]"
      ]
     },
     "execution_count": 84,
     "metadata": {},
     "output_type": "execute_result"
    }
   ],
   "source": [
    "books"
   ]
  },
  {
   "cell_type": "markdown",
   "id": "80940fee",
   "metadata": {},
   "source": [
    "## 4.3 return문에 람다식 이용"
   ]
  },
  {
   "cell_type": "code",
   "execution_count": 85,
   "id": "686625dc",
   "metadata": {},
   "outputs": [],
   "source": [
    "# 함수를 return\n",
    "def make_box(shape): # shape : [l]=>len가 l인 list를 생성하는 함수 return,\n",
    "                    #          [r,c] => r행 c열인 2차원 list를 생성하는 함수 return\n",
    "    def box(init_value):\n",
    "        if len(shape)==1:\n",
    "            return [init_value]*shape[0]\n",
    "        elif len(shape)==2:\n",
    "            return [ [init_value]*shape[1] ] * shape[0]\n",
    "    return box"
   ]
  },
  {
   "cell_type": "code",
   "execution_count": 86,
   "id": "3c0b5ae7",
   "metadata": {},
   "outputs": [],
   "source": [
    "def make_box(shape):\n",
    "    if len(shape)==1:\n",
    "        return lambda init_value : [init_value]*shape[0]\n",
    "    elif len(shape)==2:\n",
    "        return lambda init_value : [ [init_value]*shape[1] ] * shape[0]"
   ]
  },
  {
   "cell_type": "code",
   "execution_count": 87,
   "id": "eb9b7a2d",
   "metadata": {},
   "outputs": [
    {
     "data": {
      "text/plain": [
       "[[3, 3, 3], [3, 3, 3]]"
      ]
     },
     "execution_count": 87,
     "metadata": {},
     "output_type": "execute_result"
    }
   ],
   "source": [
    "line_func = make_box([2,3])\n",
    "line_func(3)"
   ]
  },
  {
   "cell_type": "code",
   "execution_count": 88,
   "id": "3c90ba28",
   "metadata": {},
   "outputs": [
    {
     "data": {
      "text/plain": [
       "[3, 3, 3, 3, 3, 3, 3, 3, 3, 3]"
      ]
     },
     "execution_count": 88,
     "metadata": {},
     "output_type": "execute_result"
    }
   ],
   "source": [
    "line_func1 = make_box([10])\n",
    "line_func1(3)"
   ]
  },
  {
   "cell_type": "code",
   "execution_count": null,
   "id": "e03e848e",
   "metadata": {},
   "outputs": [],
   "source": []
  },
  {
   "cell_type": "markdown",
   "id": "f276964d",
   "metadata": {},
   "source": [
    "# 5절. 파이썬 내장함수\n",
    "- import하지 않고 바로 사용 가능한 함수\n",
    "- 키워드처럼 간두되므로, 식별자(변수명, 함수명, 클래스명)로 사용하는 것을 피한다"
   ]
  },
  {
   "cell_type": "code",
   "execution_count": 93,
   "id": "f0ecb2e1",
   "metadata": {},
   "outputs": [
    {
     "data": {
      "text/plain": [
       "{'__name__': '__main__',\n",
       " '__doc__': \"\\n예2. member1 = [{'name':'홍길동', 'birth':'2000-01-01'},\\n                {'name':'신길동', 'birth':'1998-12-31'},]를\\n    member2 =  [{'name':'홍길동', 'year':2000, 'month':1, 'day':1},\\n                {'name':'신길동', 'year':1998, 'month':12, 'day':31},]를 바꿉니다\\n\",\n",
       " '__package__': None,\n",
       " '__loader__': None,\n",
       " '__spec__': None,\n",
       " '__builtin__': <module 'builtins' (built-in)>,\n",
       " '__builtins__': <module 'builtins' (built-in)>,\n",
       " '_ih': ['',\n",
       "  'list_data = [1, 2, 3, 4, 5, 6, 7, 8, 9, 10]\\ndef x_2(x):\\n    return x*2\\nmap_template(x_2, list_data)',\n",
       "  \"def map_template(func, L=[1, 2, 3]):\\n    '''\\n    L의 모든 요소를 func()함수를 적용시켜 return\\n    [2,4,6]\\n    '''\\n    result = []\\n    for l in L :\\n        result.append(func(L))\\n    return result\\n#     return [func(l) for l in L]    \",\n",
       "  'list_data = [1, 2, 3, 4, 5, 6, 7, 8, 9, 10]\\ndef x_2(x):\\n    return x*2\\nmap_template(x_2, list_data)',\n",
       "  \"def map_template(func, L=[1, 2, 3]):\\n    '''\\n    L의 모든 요소를 func()함수를 적용시켜 return\\n    [2,4,6]\\n    '''\\n    result = []\\n    for l in L :\\n        result.append(func(l))\\n    return result\\n#     return [func(l) for l in L]    \",\n",
       "  'list_data = [1, 2, 3, 4, 5, 6, 7, 8, 9, 10]\\ndef x_2(x):\\n    return x*2\\nmap_template(x_2, list_data)',\n",
       "  '# 리스트 데이터를 가공 방법 2. 리스트 컴프리헨션\\n[l*2 for l in list_data]',\n",
       "  '# 리스트 데이터를 가공 방법 3. map():파이썬 내장함수\\nlist(map(lambda x : x_2, list_data))',\n",
       "  \"def map_template(func, L=[]):\\n    '''\\n    L의 모든 요소를 func()함수를 적용시켜 return\\n    [2,4,6]\\n    '''\\n    result = []\\n    for l in L :\\n        result.append(func(l))\\n    return result\\n#     return [func(l) for l in L]   \",\n",
       "  '# 리스트 데이터를 가공 방법 1. map_template\\nlist_data = [1, 2, 3, 4, 5, 6, 7, 8, 9, 10]\\nmap_template(lambda x : x*2, list_data)\\n# def x_2(x):\\n#     return x*2\\n# map_template(x_2, list_data)',\n",
       "  '# 리스트 데이터를 가공 방법 3. map():파이썬 내장함수\\nlist(map(lambda x : x_2, list_data))',\n",
       "  '# 리스트 데이터를 가공 방법 3. map():파이썬 내장함수\\nlist(map(lambda x : x*2, list_data))',\n",
       "  \"'''\\n예1. [5000,800,1000,6000]로 바꾸시오\\n'''\\nprices = ['5,000', '800', '1000', '6,000']\",\n",
       "  \"'''\\n예1. [5000,800,1000,6000]로 바꾸시오\\n'''\\nprices = ['5,000', '800', '1000', '6,000']\",\n",
       "  'def func(x):\\n    return int(x.replace(\\',\\',\\'\\'))\\nfunc(\"5,000\"), func(\"1800\")',\n",
       "  \"'''\\n예2. member1 = [{'name':'홍길동', 'birth':'2000-01-01'},\\n                {'name':'신길동', 'birth':'1998-12-31'},]를\\n    member2 =  [{'name':'홍길동', 'year':2000, 'month':1, 'day':1},\\n                {'name':'신길동', 'year':1998, 'month':12, 'day':31},]를 바꿉니다\",\n",
       "  'def func(x):\\n    return int(x.replace(\\',\\',\\'\\'))\\nfunc(\"5,000\"), func(\"1800\")',\n",
       "  \"# '2000-01-01' => {'year':1998, 'month':12, 'day':31}\\ndef split_data(data):\\n    split_data = date.split('-')\\n    print(split_data)\",\n",
       "  \"# '2000-01-01' => {'year':1998, 'month':12, 'day':31}\\ndef split_data(data):\\n    split_data = date.split('-')\\n    print(split_data)\",\n",
       "  'split_data(\"200-01-01\")',\n",
       "  \"# '2000-01-01' => {'year':1998, 'month':12, 'day':31}\\ndef split_data(data):\\n    split_data = date.split('-')\\n    print(split_data)\",\n",
       "  'split_data(\"200-01-01\")',\n",
       "  'split_data(\"2000-01-01\")',\n",
       "  \"# '2000-01-01' => {'year':1998, 'month':12, 'day':31}\\ndef split_data(data):\\n    split_data = data.split('-')\\n    print(split_data)\",\n",
       "  'split_data(\"2000-01-01\")',\n",
       "  'split_data(\"2000-01-01\")',\n",
       "  \"# '2000-01-01' => {'year':1998, 'month':12, 'day':31}\\ndef split_data(data):\\n    split_data = data.split('-')\\n#     print(split_data[0], split_data[1], split_data[2],)\\n    return {'year': int(split_data[0]),\\n           'mouth': int(split_data[1]),\\n           'day': int(split_data[2])}\",\n",
       "  \"# '2000-01-01' => {'year':1998, 'month':12, 'day':31}\\ndef split_data(data):\\n    split_data = data.split('-')\\n#     print(split_data[0], split_data[1], split_data[2],)\\n    return {'year': int(split_data[0]),\\n           'mouth': int(split_data[1]),\\n           'day': int(split_data[2])}\",\n",
       "  'split_data(\"2000-01-01\")',\n",
       "  'split_data(\"2000-01-01\")',\n",
       "  'def member_func(member): # {\\'name\\':\\'홍길동\\', \\'birth\\':\\'2000-01-01\\'}\\n    \"{\\'name\\':\\'신길동\\', \\'year\\':1998, \\'month\\':12, \\'day\\':31}식으로 return\"\\n    return {\\n        \\'name\\':member.get(\\'name\\'),\\n        \\'year\\':int(member[\\'birth\\'].split(\\'-\\')[0]),\\n        \\'mouth\\':int(member[\\'birth\\'].split(\\'-\\')[1]),\\n        \\'day\\':int(member[\\'birth\\'].split(\\'-\\')[1]),\\n    }\\nmember_func(member1[0])',\n",
       "  'def member_func(member): # {\\'name\\':\\'홍길동\\', \\'birth\\':\\'2000-01-01\\'}\\n    \"{\\'name\\':\\'신길동\\', \\'year\\':1998, \\'month\\':12, \\'day\\':31}식으로 return\"\\n    return {\\n        \\'name\\':member.get(\\'name\\'),\\n        \\'year\\':int(member[\\'birth\\'].split(\\'-\\')[0]),\\n        \\'mouth\\':int(member[\\'birth\\'].split(\\'-\\')[1]),\\n        \\'day\\':int(member[\\'birth\\'].split(\\'-\\')[1]),\\n    }\\nmember_func(memberl[0])',\n",
       "  'def member_func(member): # {\\'name\\':\\'홍길동\\', \\'birth\\':\\'2000-01-01\\'}\\n    \"{\\'name\\':\\'신길동\\', \\'year\\':1998, \\'month\\':12, \\'day\\':31}식으로 return\"\\n    return {\\n        \\'name\\':member.get(\\'name\\'),\\n        \\'year\\':int(member[\\'birth\\'].split(\\'-\\')[0]),\\n        \\'mouth\\':int(member[\\'birth\\'].split(\\'-\\')[1]),\\n        \\'day\\':int(member[\\'birth\\'].split(\\'-\\')[1]),\\n    }\\nmember_func(member1[0])',\n",
       "  'def member_func(member): # {\\'name\\':\\'홍길동\\', \\'birth\\':\\'2000-01-01\\'}\\n    \"{\\'name\\':\\'신길동\\', \\'year\\':1998, \\'month\\':12, \\'day\\':31}식으로 return\"\\n    return {\\n        \\'name\\':member.get(\\'name\\'),\\n        \\'year\\':int(member[\\'birth\\'].split(\\'-\\')[0]),\\n        \\'mouth\\':int(member[\\'birth\\'].split(\\'-\\')[1]),\\n        \\'day\\':int(member[\\'birth\\'].split(\\'-\\')[2]),\\n    }\\nmember_func(member1[0])',\n",
       "  'def member_func(member): # {\\'name\\':\\'홍길동\\', \\'birth\\':\\'2000-01-01\\'}\\n    \"{\\'name\\':\\'신길동\\', \\'year\\':1998, \\'month\\':12, \\'day\\':31}식으로 return\"\\n    return {\\n        \\'name\\':member.get(\\'name\\'),\\n        \\'year\\':int(member[\\'birth\\'].split(\\'-\\')[0]),\\n        \\'mouth\\':int(member[\\'birth\\'].split(\\'-\\')[1]),\\n        \\'day\\':int(member[\\'birth\\'].split(\\'-\\')[2]),\\n    }\\nmember_func(member1[0])',\n",
       "  \"member2 = list(map(lambda member : {\\n                        'name':member.get('name'),\\n                        'year':int(member['birth'].split('-')[0]),\\n                        'mouth':int(member['birth'].split('-')[1]),\\n                        'day':int(member['birth'].split('-')[2]),\\n                        } ,\\n        member1\\n        )\\n    )\",\n",
       "  \"'''\\n예2. member1 = [{'name':'홍길동', 'birth':'2000-01-01'},\\n                {'name':'신길동', 'birth':'1998-12-31'},]를\\n    member2 =  [{'name':'홍길동', 'year':2000, 'month':1, 'day':1},\\n                {'name':'신길동', 'year':1998, 'month':12, 'day':31},]를 바꿉니다\\n'''\\nmember1 = [{'name':'홍길동', 'birth':'2000-01-01'},\\n           {'name':'신길동', 'birth':'1998-12-31'},]\",\n",
       "  \"# '2000-01-01' => {'year':1998, 'month':12, 'day':31}\\ndef split_data(data):\\n    split_data = data.split('-')\\n    print(split_data)\",\n",
       "  \"# '2000-01-01' => {'year':1998, 'month':12, 'day':31}\\ndef split_data(data):\\n    split_data = data.split('-')\\n#     print(split_data[0], split_data[1], split_data[2],)\\n    return {'year': int(split_data[0]),\\n           'mouth': int(split_data[1]),\\n           'day': int(split_data[2])}\",\n",
       "  'split_data(\"2000-01-01\")',\n",
       "  'def member_func(member): # {\\'name\\':\\'홍길동\\', \\'birth\\':\\'2000-01-01\\'}\\n    \"{\\'name\\':\\'신길동\\', \\'year\\':1998, \\'month\\':12, \\'day\\':31}식으로 return\"\\n    return {\\n        \\'name\\':member.get(\\'name\\'),\\n        \\'year\\':int(member[\\'birth\\'].split(\\'-\\')[0]),\\n        \\'mouth\\':int(member[\\'birth\\'].split(\\'-\\')[1]),\\n        \\'day\\':int(member[\\'birth\\'].split(\\'-\\')[2]),\\n    }\\nmember_func(member1[0])',\n",
       "  \"member2 = list(map(lambda member : {\\n                        'name':member.get('name'),\\n                        'year':int(member['birth'].split('-')[0]),\\n                        'mouth':int(member['birth'].split('-')[1]),\\n                        'day':int(member['birth'].split('-')[2]),\\n                        } ,\\n        member1\\n        )\\n    )\",\n",
       "  \"mamber2 = list(map(lambda member : {\\n                        'name':member.get('name'),\\n                        'year':int(member['birth'].split('-')[0]),\\n                        'mouth':int(member['birth'].split('-')[1]),\\n                        'day':int(member['birth'].split('-')[2]),\\n                        } ,\\n        member1\\n        )\\n    )\\nmamber2\",\n",
       "  \"'예3. member2를 member1로 바꿉니다'\",\n",
       "  '# {\\'name\\':\\'홍길동\\', \\'year\\':2000, \\'month\\':1, \\'day\\':1} => \"2000-01-01\"를 return하는 함수\\ndef join_date(data):\\n    print(data)',\n",
       "  \"join_date({'year':2000, 'month':1, 'day':1})\",\n",
       "  'def join_date(data):\\n    print(\"{}-{:02}-{:02}\".format(data.get(\\'year\\'), \\n                                  data.get(\\'month\\'), \\n                                  data.get(\\'day\\')))',\n",
       "  \"join_date({'year': 2000, 'month': 1, 'day': 1})\",\n",
       "  'def join_date(data):\\n    print(\"{}-{:02}-{:02}\".format(data.get(\\'year\\'), \\n                                  data.get(\\'month\\'), \\n                                  data.get(\\'day\\')))',\n",
       "  'def join_date(data):\\n    print(\"{}-{:02}-{:02}\".format(data.get(\\'year\\'), \\n                                  data.get(\\'month\\'), \\n                                  data.get(\\'day\\')))',\n",
       "  'def join_date(data):\\n    print(\"{}-{:02}-{:02}\".format(data.get(\\'year\\'), \\n                                  data.get(\\'month\\'), \\n                                  data.get(\\'day\\')))',\n",
       "  'member2',\n",
       "  '# {\\'name\\':\\'홍길동\\', \\'year\\':2000, \\'month\\':1, \\'day\\':1}(member2)를 \\n# {\\'name\\':\\'홍길동\\', \\'birth\\':\\'2000-01-01\\'}으로 가공\\nlist(map(lambda member : {\\n                        \\'name\\' : member.get(\\'name\\'),\\n                        \\'birth\\': \"{year}-{month:02}-{day:02}\".format(**member)\\n                        },\\n    member2\\n))',\n",
       "  'member2',\n",
       "  '# {\\'name\\':\\'홍길동\\', \\'year\\':2000, \\'month\\':1, \\'day\\':1}(member2)를 \\n# {\\'name\\':\\'홍길동\\', \\'birth\\':\\'2000-01-01\\'}으로 가공\\nlist(map(lambda member : {\\n                        \\'name\\' : member.get(\\'name\\'),\\n                        \\'birth\\': \"{year}-{month:02}-{day:02}\".format(**member)\\n                        },\\n    member2\\n))',\n",
       "  '# {\\'name\\':\\'홍길동\\', \\'year\\':2000, \\'month\\':1, \\'day\\':1}(member2)를 \\n# {\\'name\\':\\'홍길동\\', \\'birth\\':\\'2000-01-01\\'}으로 가공\\nlist(map(lambda member : {\\n                        \\'name\\' : member.get(\\'name\\'),\\n                        \\'birth\\': \"{year}-{month:02}-{day:02}\".format(**member)\\n                        },\\n    member2\\n))',\n",
       "  '# {\\'name\\':\\'홍길동\\', \\'year\\':2000, \\'mouth\\':1, \\'day\\':1}(member2)를 \\n# {\\'name\\':\\'홍길동\\', \\'birth\\':\\'2000-01-01\\'}으로 가공\\nlist(map(lambda member : {\\n                        \\'name\\' : member.get(\\'name\\'),\\n                        \\'birth\\': \"{year}-{mouth:02}-{day:02}\".format(**member)\\n                        },\\n    member2\\n))',\n",
       "  'def filter_template(func, L=[]):\\n    result = []\\n    for l in L:\\n        if func(l):\\n            result.append(l)\\n    return result',\n",
       "  'def evenChk(value):\\n    return value%2==0\\nevenChk(10), evenChk(-9)',\n",
       "  'list_data = [1, 2, 3, 4, 5]\\nfilter_template(lambda value : value%2==0 ,  list_data)',\n",
       "  'list(filter(lambda value : value%2==0, list_data))',\n",
       "  '[data for data in list_data if data%2==0]',\n",
       "  'p = [9, 2, 7]\\np.sort(reverse=True)\\np',\n",
       "  \"# 무조건 0번째 item 기준으로 정렬\\npairs = [(2, 'two'), (1, 'one'), (4, 'four'), (3, 'three')]\\npairs.sort()\\npairs\",\n",
       "  '# 무조건 0번째 item기준으로 정렬\\nnumber2d = [[9, 9, 9, 9, 9, 9],\\n            [1, 100],\\n            [10, 1]]\\nnumber2d.sort(reverse=True) # 기본(reverse=False):오름차순정렬/reverse=True:내림차순정렬\\nnumber2d',\n",
       "  '# 리스트를 매개변수로 받아 합을 return\\n(lambda item : sum(item))([1,2,3])',\n",
       "  '# 합이 큰 순으로 정렬\\nnumber2d.sort(key = lambda data : sum(data), reverse=True)\\nnumber2d',\n",
       "  \"students = [\\n    {'name':'홍길동', 'score':90},\\n    {'name':'김길동', 'score':50},\\n    {'name':'윤길동', 'score':99},\\n    {'score':100}\\n]\",\n",
       "  \"# 이름순으로 정렬(ㄱㄴㄷ순)\\nstudents.sort(key = lambda item : item.get('name','힣'))\\nstudents\",\n",
       "  \"# score순으로 정렬(내림차순정렬 : reverse=True)\\nstudents.sort(key = lambda item : item.get('score', 0), reverse=True)\\nstudents\",\n",
       "  \"# 책제목순 정렬(ㄱㄴㄷ순), 저자순 정렬(ㄱㄴㄷ순), 가격순 오름차순정렬\\nbooks =[\\n    {'no':1, 'title':'강남 아파트 인사이트', 'writer':'오스틀', 'price':'25,200'},\\n    {'no':2, 'title':'단 한 번의 삶', 'writer':'김영하', 'price':'18,100'},\\n    {'no':3, 'title':'흔한남매 19', 'writer':'백난도', 'price':'14220'},\\n    {'no':4, 'title':'가격이잘못', 'writer':'홍길동', 'price':'-'},\\n    {'no':5, 'title':'가격이숫자', 'writer':'신길동', 'price':900},\\n    {'no':6, 'title':'가격이없음', 'writer':'김길동'},\\n]\",\n",
       "  \"books.sort(key = lambda book : book.get('title'))\\nbooks\",\n",
       "  \"books.sort(key = lambda book : book.get('writer'))\\nbooks\",\n",
       "  \"books.sort(key = lambda book : book.get('price', 0))\\nbooks\",\n",
       "  '# \\'14,000\\' -> 14000 / \"2000\" -> 2000 / 800 -> 800 / \\'-\\' -> 0\\ndef parse_int(price):\\n    #print(type(price))\\n    if isinstance(price, str) and price.replace(\\',\\',\\'\\').isdigit():\\n        return int(price.replace(\\',\\', \\'\\'))\\n    elif isinstance(price, int):\\n        return price\\n    else:\\n        return 0',\n",
       "  'parse_int(\"8,000\"), parse_int(\"8000\"), parse_int(800), parse_int(\\'-\\')',\n",
       "  \"# {'no': 6, 'title': '가격이없음', 'writer': '김길동'} = > 0 return\\n# {'no': 3, 'title': '흔한남매 19', 'writer': '백난도', 'price': '14,220'} => 14220\\n# {'no': 5, 'title': '가격이숫자', 'writer': '신길동', 'price': 900} => 900\\ndef parse_int(book):\\n    if isinstance(book.get('price'), str) and \\\\\\n            book.get('price').replace(',','').isdigit():\\n        return int( book.get('price').replace(',','') )\\n    elif isinstance(book.get('price'), int):\\n        return book.get('price')\\n    else:\\n        return 0\\nparse_int(books[0]), parse_int(books[3]), parse_int(books[2]),  parse_int(books[5])\",\n",
       "  \"books =[\\n    {'no':1, 'title':'강남 아파트 인사이트', 'writer':'오스틀', 'price':'25,200'},\\n    {'no':2, 'title':'단 한 번의 삶', 'writer':'김영하', 'price':'18,100'},\\n    {'no':3, 'title':'흔한남매 19', 'writer':'백난도', 'price':'14220'},\\n    {'no':4, 'title':'가격이잘못', 'writer':'홍길동', 'price':'-'},\\n    {'no':5, 'title':'가격이숫자', 'writer':'신길동', 'price':900},\\n    {'no':6, 'title':'가격이없음', 'writer':'김길동'},\\n]\\ncopy_books = books.copy() # 깊은 복사\",\n",
       "  \"copy_books.sort(key = lambda book : \\n                int(book.get('price').replace(',','')) \\\\\\n                    if isinstance(book.get('price'), str) and \\\\\\n                        book.get('price').replace(',','').isdigit() else \\\\\\n                book.get('price') if isinstance(book.get('price'), int) else \\\\\\n                0                \\n               )\",\n",
       "  \"# 람다식 테스트 확인\\n(lambda book : \\n                int(book.get('price').replace(',','')) \\\\\\n                    if isinstance(book.get('price'), str) and \\\\\\n                        book.get('price').replace(',','').isdigit() else \\\\\\n                book.get('price') if isinstance(book.get('price'), int) else \\\\\\n                0 )(books[0])\",\n",
       "  \"books =[\\n    {'no':1, 'title':'강남 아파트 인사이트', 'writer':'오스틀', 'price':'25,200'},\\n    {'no':2, 'title':'단 한 번의 삶', 'writer':'김영하', 'price':'18,100'},\\n    {'no':3, 'title':'흔한남매 19', 'writer':'백난도', 'price':'14220'},\\n    {'no':4, 'title':'가격이잘못', 'writer':'홍길동', 'price':'-'},\\n    {'no':5, 'title':'가격이숫자', 'writer':'신길동', 'price':900},\\n    {'no':6, 'title':'가격이없음', 'writer':'김길동'},\\n]\\ncopy_books = books.copy() # 깊은 복사\",\n",
       "  \"copy_books.sort(key = lambda book : \\n                int(book.get('price').replace(',','')) \\\\\\n                    if isinstance(book.get('price'), str) and \\\\\\n                        book.get('price').replace(',','').isdigit() else \\\\\\n                book.get('price') if isinstance(book.get('price'), int) else \\\\\\n                0                \\n               )\",\n",
       "  \"# 람다식 테스트 확인\\n(lambda book : \\n                int(book.get('price').replace(',','')) \\\\\\n                    if isinstance(book.get('price'), str) and \\\\\\n                        book.get('price').replace(',','').isdigit() else \\\\\\n                book.get('price') if isinstance(book.get('price'), int) else \\\\\\n                0 )(books[0])\",\n",
       "  'copy_books',\n",
       "  'books',\n",
       "  '# 함수를 return\\ndef make_box(shape): # shape : [l]=>len가 l인 list를 생성하는 함수 return,\\n                    #          [r,c] => r행 c열인 2차원 list를 생성하는 함수 return\\n    def box(init_value):\\n        if len(shape)==1:\\n            return [init_value]*shape[0]\\n        elif len(shape)==2:\\n            return [ [init_value]*shape[1] ] * shape[0]\\n    return box',\n",
       "  'def make_box(shape):\\n    if len(shape)==1:\\n        return lambda init_value : [init_value]*shape[0]\\n    elif len(shape)==2:\\n        return lambda init_value : [ [init_value]*shape[1] ] * shape[0]',\n",
       "  'line_func = make_box([2,3])\\nline_func(3)',\n",
       "  'line_func1 = make_box([10])\\nline_func1(3)',\n",
       "  'globals() # 전역변수 리스트',\n",
       "  'all([True, True, True, False]) # 전부 True인지 여부',\n",
       "  'round(3.5) # 반올림',\n",
       "  'import numpy as np # numpy 모듈을 np라는 이름으로 load\\nnp.round(3.5), np.ceil(3.1), np.floor(3.9) # 반올림, 올림, 내림',\n",
       "  'globals() # 전역변수 리스트'],\n",
       " '_oh': {3: [[1, 2, 3, 4, 5, 6, 7, 8, 9, 10, 1, 2, 3, 4, 5, 6, 7, 8, 9, 10],\n",
       "   [1, 2, 3, 4, 5, 6, 7, 8, 9, 10, 1, 2, 3, 4, 5, 6, 7, 8, 9, 10],\n",
       "   [1, 2, 3, 4, 5, 6, 7, 8, 9, 10, 1, 2, 3, 4, 5, 6, 7, 8, 9, 10],\n",
       "   [1, 2, 3, 4, 5, 6, 7, 8, 9, 10, 1, 2, 3, 4, 5, 6, 7, 8, 9, 10],\n",
       "   [1, 2, 3, 4, 5, 6, 7, 8, 9, 10, 1, 2, 3, 4, 5, 6, 7, 8, 9, 10],\n",
       "   [1, 2, 3, 4, 5, 6, 7, 8, 9, 10, 1, 2, 3, 4, 5, 6, 7, 8, 9, 10],\n",
       "   [1, 2, 3, 4, 5, 6, 7, 8, 9, 10, 1, 2, 3, 4, 5, 6, 7, 8, 9, 10],\n",
       "   [1, 2, 3, 4, 5, 6, 7, 8, 9, 10, 1, 2, 3, 4, 5, 6, 7, 8, 9, 10],\n",
       "   [1, 2, 3, 4, 5, 6, 7, 8, 9, 10, 1, 2, 3, 4, 5, 6, 7, 8, 9, 10],\n",
       "   [1, 2, 3, 4, 5, 6, 7, 8, 9, 10, 1, 2, 3, 4, 5, 6, 7, 8, 9, 10]],\n",
       "  5: [2, 4, 6, 8, 10, 12, 14, 16, 18, 20],\n",
       "  6: [2, 4, 6, 8, 10, 12, 14, 16, 18, 20],\n",
       "  7: [<function __main__.x_2(x)>,\n",
       "   <function __main__.x_2(x)>,\n",
       "   <function __main__.x_2(x)>,\n",
       "   <function __main__.x_2(x)>,\n",
       "   <function __main__.x_2(x)>,\n",
       "   <function __main__.x_2(x)>,\n",
       "   <function __main__.x_2(x)>,\n",
       "   <function __main__.x_2(x)>,\n",
       "   <function __main__.x_2(x)>,\n",
       "   <function __main__.x_2(x)>],\n",
       "  9: [2, 4, 6, 8, 10, 12, 14, 16, 18, 20],\n",
       "  10: [<function __main__.x_2(x)>,\n",
       "   <function __main__.x_2(x)>,\n",
       "   <function __main__.x_2(x)>,\n",
       "   <function __main__.x_2(x)>,\n",
       "   <function __main__.x_2(x)>,\n",
       "   <function __main__.x_2(x)>,\n",
       "   <function __main__.x_2(x)>,\n",
       "   <function __main__.x_2(x)>,\n",
       "   <function __main__.x_2(x)>,\n",
       "   <function __main__.x_2(x)>],\n",
       "  11: [2, 4, 6, 8, 10, 12, 14, 16, 18, 20],\n",
       "  14: (5000, 1800),\n",
       "  16: (5000, 1800),\n",
       "  28: {'year': 2000, 'mouth': 1, 'day': 1},\n",
       "  29: {'year': 2000, 'mouth': 1, 'day': 1},\n",
       "  39: {'year': 2000, 'mouth': 1, 'day': 1},\n",
       "  40: {'name': '홍길동', 'year': 2000, 'mouth': 1, 'day': 1},\n",
       "  42: [{'name': '홍길동', 'year': 2000, 'mouth': 1, 'day': 1},\n",
       "   {'name': '신길동', 'year': 1998, 'mouth': 12, 'day': 31}],\n",
       "  43: '예3. member2를 member1로 바꿉니다',\n",
       "  51: [{'name': '홍길동', 'year': 2000, 'mouth': 1, 'day': 1},\n",
       "   {'name': '신길동', 'year': 1998, 'mouth': 12, 'day': 31}],\n",
       "  53: [{'name': '홍길동', 'year': 2000, 'mouth': 1, 'day': 1},\n",
       "   {'name': '신길동', 'year': 1998, 'mouth': 12, 'day': 31}],\n",
       "  56: [{'name': '홍길동', 'birth': '2000-01-01'},\n",
       "   {'name': '신길동', 'birth': '1998-12-31'}],\n",
       "  58: (True, False),\n",
       "  59: [2, 4],\n",
       "  60: [2, 4],\n",
       "  61: [2, 4],\n",
       "  62: [9, 7, 2],\n",
       "  63: [(1, 'one'), (2, 'two'), (3, 'three'), (4, 'four')],\n",
       "  64: [[1, 100], [9, 9, 9, 9, 9, 9], [10, 1]],\n",
       "  65: 6,\n",
       "  66: [[1, 100], [9, 9, 9, 9, 9, 9], [10, 1]],\n",
       "  68: [{'score': 100},\n",
       "   {'name': '윤길동', 'score': 99},\n",
       "   {'name': '홍길동', 'score': 90},\n",
       "   {'name': '김길동', 'score': 50}],\n",
       "  69: [{'score': 100},\n",
       "   {'name': '윤길동', 'score': 99},\n",
       "   {'name': '홍길동', 'score': 90},\n",
       "   {'name': '김길동', 'score': 50}],\n",
       "  71: [{'no': 6, 'title': '가격이없음', 'writer': '김길동'},\n",
       "   {'no': 2, 'title': '단 한 번의 삶', 'writer': '김영하', 'price': '18,100'},\n",
       "   {'no': 3, 'title': '흔한남매 19', 'writer': '백난도', 'price': '14220'},\n",
       "   {'no': 5, 'title': '가격이숫자', 'writer': '신길동', 'price': 900},\n",
       "   {'no': 1, 'title': '강남 아파트 인사이트', 'writer': '오스틀', 'price': '25,200'},\n",
       "   {'no': 4, 'title': '가격이잘못', 'writer': '홍길동', 'price': '-'}],\n",
       "  72: [{'no': 6, 'title': '가격이없음', 'writer': '김길동'},\n",
       "   {'no': 2, 'title': '단 한 번의 삶', 'writer': '김영하', 'price': '18,100'},\n",
       "   {'no': 3, 'title': '흔한남매 19', 'writer': '백난도', 'price': '14220'},\n",
       "   {'no': 5, 'title': '가격이숫자', 'writer': '신길동', 'price': 900},\n",
       "   {'no': 1, 'title': '강남 아파트 인사이트', 'writer': '오스틀', 'price': '25,200'},\n",
       "   {'no': 4, 'title': '가격이잘못', 'writer': '홍길동', 'price': '-'}],\n",
       "  75: (8000, 8000, 800, 0),\n",
       "  76: (0, 900, 14220, 0),\n",
       "  79: 25200,\n",
       "  82: 25200,\n",
       "  83: [{'no': 4, 'title': '가격이잘못', 'writer': '홍길동', 'price': '-'},\n",
       "   {'no': 6, 'title': '가격이없음', 'writer': '김길동'},\n",
       "   {'no': 5, 'title': '가격이숫자', 'writer': '신길동', 'price': 900},\n",
       "   {'no': 3, 'title': '흔한남매 19', 'writer': '백난도', 'price': '14220'},\n",
       "   {'no': 2, 'title': '단 한 번의 삶', 'writer': '김영하', 'price': '18,100'},\n",
       "   {'no': 1, 'title': '강남 아파트 인사이트', 'writer': '오스틀', 'price': '25,200'}],\n",
       "  84: [{'no': 1, 'title': '강남 아파트 인사이트', 'writer': '오스틀', 'price': '25,200'},\n",
       "   {'no': 2, 'title': '단 한 번의 삶', 'writer': '김영하', 'price': '18,100'},\n",
       "   {'no': 3, 'title': '흔한남매 19', 'writer': '백난도', 'price': '14220'},\n",
       "   {'no': 4, 'title': '가격이잘못', 'writer': '홍길동', 'price': '-'},\n",
       "   {'no': 5, 'title': '가격이숫자', 'writer': '신길동', 'price': 900},\n",
       "   {'no': 6, 'title': '가격이없음', 'writer': '김길동'}],\n",
       "  87: [[3, 3, 3], [3, 3, 3]],\n",
       "  88: [3, 3, 3, 3, 3, 3, 3, 3, 3, 3],\n",
       "  89: {...},\n",
       "  90: False,\n",
       "  91: 4,\n",
       "  92: (4.0, 4.0, 3.0)},\n",
       " '_dh': [WindowsPath('C:/ai_x/source/01_python')],\n",
       " 'In': ['',\n",
       "  'list_data = [1, 2, 3, 4, 5, 6, 7, 8, 9, 10]\\ndef x_2(x):\\n    return x*2\\nmap_template(x_2, list_data)',\n",
       "  \"def map_template(func, L=[1, 2, 3]):\\n    '''\\n    L의 모든 요소를 func()함수를 적용시켜 return\\n    [2,4,6]\\n    '''\\n    result = []\\n    for l in L :\\n        result.append(func(L))\\n    return result\\n#     return [func(l) for l in L]    \",\n",
       "  'list_data = [1, 2, 3, 4, 5, 6, 7, 8, 9, 10]\\ndef x_2(x):\\n    return x*2\\nmap_template(x_2, list_data)',\n",
       "  \"def map_template(func, L=[1, 2, 3]):\\n    '''\\n    L의 모든 요소를 func()함수를 적용시켜 return\\n    [2,4,6]\\n    '''\\n    result = []\\n    for l in L :\\n        result.append(func(l))\\n    return result\\n#     return [func(l) for l in L]    \",\n",
       "  'list_data = [1, 2, 3, 4, 5, 6, 7, 8, 9, 10]\\ndef x_2(x):\\n    return x*2\\nmap_template(x_2, list_data)',\n",
       "  '# 리스트 데이터를 가공 방법 2. 리스트 컴프리헨션\\n[l*2 for l in list_data]',\n",
       "  '# 리스트 데이터를 가공 방법 3. map():파이썬 내장함수\\nlist(map(lambda x : x_2, list_data))',\n",
       "  \"def map_template(func, L=[]):\\n    '''\\n    L의 모든 요소를 func()함수를 적용시켜 return\\n    [2,4,6]\\n    '''\\n    result = []\\n    for l in L :\\n        result.append(func(l))\\n    return result\\n#     return [func(l) for l in L]   \",\n",
       "  '# 리스트 데이터를 가공 방법 1. map_template\\nlist_data = [1, 2, 3, 4, 5, 6, 7, 8, 9, 10]\\nmap_template(lambda x : x*2, list_data)\\n# def x_2(x):\\n#     return x*2\\n# map_template(x_2, list_data)',\n",
       "  '# 리스트 데이터를 가공 방법 3. map():파이썬 내장함수\\nlist(map(lambda x : x_2, list_data))',\n",
       "  '# 리스트 데이터를 가공 방법 3. map():파이썬 내장함수\\nlist(map(lambda x : x*2, list_data))',\n",
       "  \"'''\\n예1. [5000,800,1000,6000]로 바꾸시오\\n'''\\nprices = ['5,000', '800', '1000', '6,000']\",\n",
       "  \"'''\\n예1. [5000,800,1000,6000]로 바꾸시오\\n'''\\nprices = ['5,000', '800', '1000', '6,000']\",\n",
       "  'def func(x):\\n    return int(x.replace(\\',\\',\\'\\'))\\nfunc(\"5,000\"), func(\"1800\")',\n",
       "  \"'''\\n예2. member1 = [{'name':'홍길동', 'birth':'2000-01-01'},\\n                {'name':'신길동', 'birth':'1998-12-31'},]를\\n    member2 =  [{'name':'홍길동', 'year':2000, 'month':1, 'day':1},\\n                {'name':'신길동', 'year':1998, 'month':12, 'day':31},]를 바꿉니다\",\n",
       "  'def func(x):\\n    return int(x.replace(\\',\\',\\'\\'))\\nfunc(\"5,000\"), func(\"1800\")',\n",
       "  \"# '2000-01-01' => {'year':1998, 'month':12, 'day':31}\\ndef split_data(data):\\n    split_data = date.split('-')\\n    print(split_data)\",\n",
       "  \"# '2000-01-01' => {'year':1998, 'month':12, 'day':31}\\ndef split_data(data):\\n    split_data = date.split('-')\\n    print(split_data)\",\n",
       "  'split_data(\"200-01-01\")',\n",
       "  \"# '2000-01-01' => {'year':1998, 'month':12, 'day':31}\\ndef split_data(data):\\n    split_data = date.split('-')\\n    print(split_data)\",\n",
       "  'split_data(\"200-01-01\")',\n",
       "  'split_data(\"2000-01-01\")',\n",
       "  \"# '2000-01-01' => {'year':1998, 'month':12, 'day':31}\\ndef split_data(data):\\n    split_data = data.split('-')\\n    print(split_data)\",\n",
       "  'split_data(\"2000-01-01\")',\n",
       "  'split_data(\"2000-01-01\")',\n",
       "  \"# '2000-01-01' => {'year':1998, 'month':12, 'day':31}\\ndef split_data(data):\\n    split_data = data.split('-')\\n#     print(split_data[0], split_data[1], split_data[2],)\\n    return {'year': int(split_data[0]),\\n           'mouth': int(split_data[1]),\\n           'day': int(split_data[2])}\",\n",
       "  \"# '2000-01-01' => {'year':1998, 'month':12, 'day':31}\\ndef split_data(data):\\n    split_data = data.split('-')\\n#     print(split_data[0], split_data[1], split_data[2],)\\n    return {'year': int(split_data[0]),\\n           'mouth': int(split_data[1]),\\n           'day': int(split_data[2])}\",\n",
       "  'split_data(\"2000-01-01\")',\n",
       "  'split_data(\"2000-01-01\")',\n",
       "  'def member_func(member): # {\\'name\\':\\'홍길동\\', \\'birth\\':\\'2000-01-01\\'}\\n    \"{\\'name\\':\\'신길동\\', \\'year\\':1998, \\'month\\':12, \\'day\\':31}식으로 return\"\\n    return {\\n        \\'name\\':member.get(\\'name\\'),\\n        \\'year\\':int(member[\\'birth\\'].split(\\'-\\')[0]),\\n        \\'mouth\\':int(member[\\'birth\\'].split(\\'-\\')[1]),\\n        \\'day\\':int(member[\\'birth\\'].split(\\'-\\')[1]),\\n    }\\nmember_func(member1[0])',\n",
       "  'def member_func(member): # {\\'name\\':\\'홍길동\\', \\'birth\\':\\'2000-01-01\\'}\\n    \"{\\'name\\':\\'신길동\\', \\'year\\':1998, \\'month\\':12, \\'day\\':31}식으로 return\"\\n    return {\\n        \\'name\\':member.get(\\'name\\'),\\n        \\'year\\':int(member[\\'birth\\'].split(\\'-\\')[0]),\\n        \\'mouth\\':int(member[\\'birth\\'].split(\\'-\\')[1]),\\n        \\'day\\':int(member[\\'birth\\'].split(\\'-\\')[1]),\\n    }\\nmember_func(memberl[0])',\n",
       "  'def member_func(member): # {\\'name\\':\\'홍길동\\', \\'birth\\':\\'2000-01-01\\'}\\n    \"{\\'name\\':\\'신길동\\', \\'year\\':1998, \\'month\\':12, \\'day\\':31}식으로 return\"\\n    return {\\n        \\'name\\':member.get(\\'name\\'),\\n        \\'year\\':int(member[\\'birth\\'].split(\\'-\\')[0]),\\n        \\'mouth\\':int(member[\\'birth\\'].split(\\'-\\')[1]),\\n        \\'day\\':int(member[\\'birth\\'].split(\\'-\\')[1]),\\n    }\\nmember_func(member1[0])',\n",
       "  'def member_func(member): # {\\'name\\':\\'홍길동\\', \\'birth\\':\\'2000-01-01\\'}\\n    \"{\\'name\\':\\'신길동\\', \\'year\\':1998, \\'month\\':12, \\'day\\':31}식으로 return\"\\n    return {\\n        \\'name\\':member.get(\\'name\\'),\\n        \\'year\\':int(member[\\'birth\\'].split(\\'-\\')[0]),\\n        \\'mouth\\':int(member[\\'birth\\'].split(\\'-\\')[1]),\\n        \\'day\\':int(member[\\'birth\\'].split(\\'-\\')[2]),\\n    }\\nmember_func(member1[0])',\n",
       "  'def member_func(member): # {\\'name\\':\\'홍길동\\', \\'birth\\':\\'2000-01-01\\'}\\n    \"{\\'name\\':\\'신길동\\', \\'year\\':1998, \\'month\\':12, \\'day\\':31}식으로 return\"\\n    return {\\n        \\'name\\':member.get(\\'name\\'),\\n        \\'year\\':int(member[\\'birth\\'].split(\\'-\\')[0]),\\n        \\'mouth\\':int(member[\\'birth\\'].split(\\'-\\')[1]),\\n        \\'day\\':int(member[\\'birth\\'].split(\\'-\\')[2]),\\n    }\\nmember_func(member1[0])',\n",
       "  \"member2 = list(map(lambda member : {\\n                        'name':member.get('name'),\\n                        'year':int(member['birth'].split('-')[0]),\\n                        'mouth':int(member['birth'].split('-')[1]),\\n                        'day':int(member['birth'].split('-')[2]),\\n                        } ,\\n        member1\\n        )\\n    )\",\n",
       "  \"'''\\n예2. member1 = [{'name':'홍길동', 'birth':'2000-01-01'},\\n                {'name':'신길동', 'birth':'1998-12-31'},]를\\n    member2 =  [{'name':'홍길동', 'year':2000, 'month':1, 'day':1},\\n                {'name':'신길동', 'year':1998, 'month':12, 'day':31},]를 바꿉니다\\n'''\\nmember1 = [{'name':'홍길동', 'birth':'2000-01-01'},\\n           {'name':'신길동', 'birth':'1998-12-31'},]\",\n",
       "  \"# '2000-01-01' => {'year':1998, 'month':12, 'day':31}\\ndef split_data(data):\\n    split_data = data.split('-')\\n    print(split_data)\",\n",
       "  \"# '2000-01-01' => {'year':1998, 'month':12, 'day':31}\\ndef split_data(data):\\n    split_data = data.split('-')\\n#     print(split_data[0], split_data[1], split_data[2],)\\n    return {'year': int(split_data[0]),\\n           'mouth': int(split_data[1]),\\n           'day': int(split_data[2])}\",\n",
       "  'split_data(\"2000-01-01\")',\n",
       "  'def member_func(member): # {\\'name\\':\\'홍길동\\', \\'birth\\':\\'2000-01-01\\'}\\n    \"{\\'name\\':\\'신길동\\', \\'year\\':1998, \\'month\\':12, \\'day\\':31}식으로 return\"\\n    return {\\n        \\'name\\':member.get(\\'name\\'),\\n        \\'year\\':int(member[\\'birth\\'].split(\\'-\\')[0]),\\n        \\'mouth\\':int(member[\\'birth\\'].split(\\'-\\')[1]),\\n        \\'day\\':int(member[\\'birth\\'].split(\\'-\\')[2]),\\n    }\\nmember_func(member1[0])',\n",
       "  \"member2 = list(map(lambda member : {\\n                        'name':member.get('name'),\\n                        'year':int(member['birth'].split('-')[0]),\\n                        'mouth':int(member['birth'].split('-')[1]),\\n                        'day':int(member['birth'].split('-')[2]),\\n                        } ,\\n        member1\\n        )\\n    )\",\n",
       "  \"mamber2 = list(map(lambda member : {\\n                        'name':member.get('name'),\\n                        'year':int(member['birth'].split('-')[0]),\\n                        'mouth':int(member['birth'].split('-')[1]),\\n                        'day':int(member['birth'].split('-')[2]),\\n                        } ,\\n        member1\\n        )\\n    )\\nmamber2\",\n",
       "  \"'예3. member2를 member1로 바꿉니다'\",\n",
       "  '# {\\'name\\':\\'홍길동\\', \\'year\\':2000, \\'month\\':1, \\'day\\':1} => \"2000-01-01\"를 return하는 함수\\ndef join_date(data):\\n    print(data)',\n",
       "  \"join_date({'year':2000, 'month':1, 'day':1})\",\n",
       "  'def join_date(data):\\n    print(\"{}-{:02}-{:02}\".format(data.get(\\'year\\'), \\n                                  data.get(\\'month\\'), \\n                                  data.get(\\'day\\')))',\n",
       "  \"join_date({'year': 2000, 'month': 1, 'day': 1})\",\n",
       "  'def join_date(data):\\n    print(\"{}-{:02}-{:02}\".format(data.get(\\'year\\'), \\n                                  data.get(\\'month\\'), \\n                                  data.get(\\'day\\')))',\n",
       "  'def join_date(data):\\n    print(\"{}-{:02}-{:02}\".format(data.get(\\'year\\'), \\n                                  data.get(\\'month\\'), \\n                                  data.get(\\'day\\')))',\n",
       "  'def join_date(data):\\n    print(\"{}-{:02}-{:02}\".format(data.get(\\'year\\'), \\n                                  data.get(\\'month\\'), \\n                                  data.get(\\'day\\')))',\n",
       "  'member2',\n",
       "  '# {\\'name\\':\\'홍길동\\', \\'year\\':2000, \\'month\\':1, \\'day\\':1}(member2)를 \\n# {\\'name\\':\\'홍길동\\', \\'birth\\':\\'2000-01-01\\'}으로 가공\\nlist(map(lambda member : {\\n                        \\'name\\' : member.get(\\'name\\'),\\n                        \\'birth\\': \"{year}-{month:02}-{day:02}\".format(**member)\\n                        },\\n    member2\\n))',\n",
       "  'member2',\n",
       "  '# {\\'name\\':\\'홍길동\\', \\'year\\':2000, \\'month\\':1, \\'day\\':1}(member2)를 \\n# {\\'name\\':\\'홍길동\\', \\'birth\\':\\'2000-01-01\\'}으로 가공\\nlist(map(lambda member : {\\n                        \\'name\\' : member.get(\\'name\\'),\\n                        \\'birth\\': \"{year}-{month:02}-{day:02}\".format(**member)\\n                        },\\n    member2\\n))',\n",
       "  '# {\\'name\\':\\'홍길동\\', \\'year\\':2000, \\'month\\':1, \\'day\\':1}(member2)를 \\n# {\\'name\\':\\'홍길동\\', \\'birth\\':\\'2000-01-01\\'}으로 가공\\nlist(map(lambda member : {\\n                        \\'name\\' : member.get(\\'name\\'),\\n                        \\'birth\\': \"{year}-{month:02}-{day:02}\".format(**member)\\n                        },\\n    member2\\n))',\n",
       "  '# {\\'name\\':\\'홍길동\\', \\'year\\':2000, \\'mouth\\':1, \\'day\\':1}(member2)를 \\n# {\\'name\\':\\'홍길동\\', \\'birth\\':\\'2000-01-01\\'}으로 가공\\nlist(map(lambda member : {\\n                        \\'name\\' : member.get(\\'name\\'),\\n                        \\'birth\\': \"{year}-{mouth:02}-{day:02}\".format(**member)\\n                        },\\n    member2\\n))',\n",
       "  'def filter_template(func, L=[]):\\n    result = []\\n    for l in L:\\n        if func(l):\\n            result.append(l)\\n    return result',\n",
       "  'def evenChk(value):\\n    return value%2==0\\nevenChk(10), evenChk(-9)',\n",
       "  'list_data = [1, 2, 3, 4, 5]\\nfilter_template(lambda value : value%2==0 ,  list_data)',\n",
       "  'list(filter(lambda value : value%2==0, list_data))',\n",
       "  '[data for data in list_data if data%2==0]',\n",
       "  'p = [9, 2, 7]\\np.sort(reverse=True)\\np',\n",
       "  \"# 무조건 0번째 item 기준으로 정렬\\npairs = [(2, 'two'), (1, 'one'), (4, 'four'), (3, 'three')]\\npairs.sort()\\npairs\",\n",
       "  '# 무조건 0번째 item기준으로 정렬\\nnumber2d = [[9, 9, 9, 9, 9, 9],\\n            [1, 100],\\n            [10, 1]]\\nnumber2d.sort(reverse=True) # 기본(reverse=False):오름차순정렬/reverse=True:내림차순정렬\\nnumber2d',\n",
       "  '# 리스트를 매개변수로 받아 합을 return\\n(lambda item : sum(item))([1,2,3])',\n",
       "  '# 합이 큰 순으로 정렬\\nnumber2d.sort(key = lambda data : sum(data), reverse=True)\\nnumber2d',\n",
       "  \"students = [\\n    {'name':'홍길동', 'score':90},\\n    {'name':'김길동', 'score':50},\\n    {'name':'윤길동', 'score':99},\\n    {'score':100}\\n]\",\n",
       "  \"# 이름순으로 정렬(ㄱㄴㄷ순)\\nstudents.sort(key = lambda item : item.get('name','힣'))\\nstudents\",\n",
       "  \"# score순으로 정렬(내림차순정렬 : reverse=True)\\nstudents.sort(key = lambda item : item.get('score', 0), reverse=True)\\nstudents\",\n",
       "  \"# 책제목순 정렬(ㄱㄴㄷ순), 저자순 정렬(ㄱㄴㄷ순), 가격순 오름차순정렬\\nbooks =[\\n    {'no':1, 'title':'강남 아파트 인사이트', 'writer':'오스틀', 'price':'25,200'},\\n    {'no':2, 'title':'단 한 번의 삶', 'writer':'김영하', 'price':'18,100'},\\n    {'no':3, 'title':'흔한남매 19', 'writer':'백난도', 'price':'14220'},\\n    {'no':4, 'title':'가격이잘못', 'writer':'홍길동', 'price':'-'},\\n    {'no':5, 'title':'가격이숫자', 'writer':'신길동', 'price':900},\\n    {'no':6, 'title':'가격이없음', 'writer':'김길동'},\\n]\",\n",
       "  \"books.sort(key = lambda book : book.get('title'))\\nbooks\",\n",
       "  \"books.sort(key = lambda book : book.get('writer'))\\nbooks\",\n",
       "  \"books.sort(key = lambda book : book.get('price', 0))\\nbooks\",\n",
       "  '# \\'14,000\\' -> 14000 / \"2000\" -> 2000 / 800 -> 800 / \\'-\\' -> 0\\ndef parse_int(price):\\n    #print(type(price))\\n    if isinstance(price, str) and price.replace(\\',\\',\\'\\').isdigit():\\n        return int(price.replace(\\',\\', \\'\\'))\\n    elif isinstance(price, int):\\n        return price\\n    else:\\n        return 0',\n",
       "  'parse_int(\"8,000\"), parse_int(\"8000\"), parse_int(800), parse_int(\\'-\\')',\n",
       "  \"# {'no': 6, 'title': '가격이없음', 'writer': '김길동'} = > 0 return\\n# {'no': 3, 'title': '흔한남매 19', 'writer': '백난도', 'price': '14,220'} => 14220\\n# {'no': 5, 'title': '가격이숫자', 'writer': '신길동', 'price': 900} => 900\\ndef parse_int(book):\\n    if isinstance(book.get('price'), str) and \\\\\\n            book.get('price').replace(',','').isdigit():\\n        return int( book.get('price').replace(',','') )\\n    elif isinstance(book.get('price'), int):\\n        return book.get('price')\\n    else:\\n        return 0\\nparse_int(books[0]), parse_int(books[3]), parse_int(books[2]),  parse_int(books[5])\",\n",
       "  \"books =[\\n    {'no':1, 'title':'강남 아파트 인사이트', 'writer':'오스틀', 'price':'25,200'},\\n    {'no':2, 'title':'단 한 번의 삶', 'writer':'김영하', 'price':'18,100'},\\n    {'no':3, 'title':'흔한남매 19', 'writer':'백난도', 'price':'14220'},\\n    {'no':4, 'title':'가격이잘못', 'writer':'홍길동', 'price':'-'},\\n    {'no':5, 'title':'가격이숫자', 'writer':'신길동', 'price':900},\\n    {'no':6, 'title':'가격이없음', 'writer':'김길동'},\\n]\\ncopy_books = books.copy() # 깊은 복사\",\n",
       "  \"copy_books.sort(key = lambda book : \\n                int(book.get('price').replace(',','')) \\\\\\n                    if isinstance(book.get('price'), str) and \\\\\\n                        book.get('price').replace(',','').isdigit() else \\\\\\n                book.get('price') if isinstance(book.get('price'), int) else \\\\\\n                0                \\n               )\",\n",
       "  \"# 람다식 테스트 확인\\n(lambda book : \\n                int(book.get('price').replace(',','')) \\\\\\n                    if isinstance(book.get('price'), str) and \\\\\\n                        book.get('price').replace(',','').isdigit() else \\\\\\n                book.get('price') if isinstance(book.get('price'), int) else \\\\\\n                0 )(books[0])\",\n",
       "  \"books =[\\n    {'no':1, 'title':'강남 아파트 인사이트', 'writer':'오스틀', 'price':'25,200'},\\n    {'no':2, 'title':'단 한 번의 삶', 'writer':'김영하', 'price':'18,100'},\\n    {'no':3, 'title':'흔한남매 19', 'writer':'백난도', 'price':'14220'},\\n    {'no':4, 'title':'가격이잘못', 'writer':'홍길동', 'price':'-'},\\n    {'no':5, 'title':'가격이숫자', 'writer':'신길동', 'price':900},\\n    {'no':6, 'title':'가격이없음', 'writer':'김길동'},\\n]\\ncopy_books = books.copy() # 깊은 복사\",\n",
       "  \"copy_books.sort(key = lambda book : \\n                int(book.get('price').replace(',','')) \\\\\\n                    if isinstance(book.get('price'), str) and \\\\\\n                        book.get('price').replace(',','').isdigit() else \\\\\\n                book.get('price') if isinstance(book.get('price'), int) else \\\\\\n                0                \\n               )\",\n",
       "  \"# 람다식 테스트 확인\\n(lambda book : \\n                int(book.get('price').replace(',','')) \\\\\\n                    if isinstance(book.get('price'), str) and \\\\\\n                        book.get('price').replace(',','').isdigit() else \\\\\\n                book.get('price') if isinstance(book.get('price'), int) else \\\\\\n                0 )(books[0])\",\n",
       "  'copy_books',\n",
       "  'books',\n",
       "  '# 함수를 return\\ndef make_box(shape): # shape : [l]=>len가 l인 list를 생성하는 함수 return,\\n                    #          [r,c] => r행 c열인 2차원 list를 생성하는 함수 return\\n    def box(init_value):\\n        if len(shape)==1:\\n            return [init_value]*shape[0]\\n        elif len(shape)==2:\\n            return [ [init_value]*shape[1] ] * shape[0]\\n    return box',\n",
       "  'def make_box(shape):\\n    if len(shape)==1:\\n        return lambda init_value : [init_value]*shape[0]\\n    elif len(shape)==2:\\n        return lambda init_value : [ [init_value]*shape[1] ] * shape[0]',\n",
       "  'line_func = make_box([2,3])\\nline_func(3)',\n",
       "  'line_func1 = make_box([10])\\nline_func1(3)',\n",
       "  'globals() # 전역변수 리스트',\n",
       "  'all([True, True, True, False]) # 전부 True인지 여부',\n",
       "  'round(3.5) # 반올림',\n",
       "  'import numpy as np # numpy 모듈을 np라는 이름으로 load\\nnp.round(3.5), np.ceil(3.1), np.floor(3.9) # 반올림, 올림, 내림',\n",
       "  'globals() # 전역변수 리스트'],\n",
       " 'Out': {3: [[1, 2, 3, 4, 5, 6, 7, 8, 9, 10, 1, 2, 3, 4, 5, 6, 7, 8, 9, 10],\n",
       "   [1, 2, 3, 4, 5, 6, 7, 8, 9, 10, 1, 2, 3, 4, 5, 6, 7, 8, 9, 10],\n",
       "   [1, 2, 3, 4, 5, 6, 7, 8, 9, 10, 1, 2, 3, 4, 5, 6, 7, 8, 9, 10],\n",
       "   [1, 2, 3, 4, 5, 6, 7, 8, 9, 10, 1, 2, 3, 4, 5, 6, 7, 8, 9, 10],\n",
       "   [1, 2, 3, 4, 5, 6, 7, 8, 9, 10, 1, 2, 3, 4, 5, 6, 7, 8, 9, 10],\n",
       "   [1, 2, 3, 4, 5, 6, 7, 8, 9, 10, 1, 2, 3, 4, 5, 6, 7, 8, 9, 10],\n",
       "   [1, 2, 3, 4, 5, 6, 7, 8, 9, 10, 1, 2, 3, 4, 5, 6, 7, 8, 9, 10],\n",
       "   [1, 2, 3, 4, 5, 6, 7, 8, 9, 10, 1, 2, 3, 4, 5, 6, 7, 8, 9, 10],\n",
       "   [1, 2, 3, 4, 5, 6, 7, 8, 9, 10, 1, 2, 3, 4, 5, 6, 7, 8, 9, 10],\n",
       "   [1, 2, 3, 4, 5, 6, 7, 8, 9, 10, 1, 2, 3, 4, 5, 6, 7, 8, 9, 10]],\n",
       "  5: [2, 4, 6, 8, 10, 12, 14, 16, 18, 20],\n",
       "  6: [2, 4, 6, 8, 10, 12, 14, 16, 18, 20],\n",
       "  7: [<function __main__.x_2(x)>,\n",
       "   <function __main__.x_2(x)>,\n",
       "   <function __main__.x_2(x)>,\n",
       "   <function __main__.x_2(x)>,\n",
       "   <function __main__.x_2(x)>,\n",
       "   <function __main__.x_2(x)>,\n",
       "   <function __main__.x_2(x)>,\n",
       "   <function __main__.x_2(x)>,\n",
       "   <function __main__.x_2(x)>,\n",
       "   <function __main__.x_2(x)>],\n",
       "  9: [2, 4, 6, 8, 10, 12, 14, 16, 18, 20],\n",
       "  10: [<function __main__.x_2(x)>,\n",
       "   <function __main__.x_2(x)>,\n",
       "   <function __main__.x_2(x)>,\n",
       "   <function __main__.x_2(x)>,\n",
       "   <function __main__.x_2(x)>,\n",
       "   <function __main__.x_2(x)>,\n",
       "   <function __main__.x_2(x)>,\n",
       "   <function __main__.x_2(x)>,\n",
       "   <function __main__.x_2(x)>,\n",
       "   <function __main__.x_2(x)>],\n",
       "  11: [2, 4, 6, 8, 10, 12, 14, 16, 18, 20],\n",
       "  14: (5000, 1800),\n",
       "  16: (5000, 1800),\n",
       "  28: {'year': 2000, 'mouth': 1, 'day': 1},\n",
       "  29: {'year': 2000, 'mouth': 1, 'day': 1},\n",
       "  39: {'year': 2000, 'mouth': 1, 'day': 1},\n",
       "  40: {'name': '홍길동', 'year': 2000, 'mouth': 1, 'day': 1},\n",
       "  42: [{'name': '홍길동', 'year': 2000, 'mouth': 1, 'day': 1},\n",
       "   {'name': '신길동', 'year': 1998, 'mouth': 12, 'day': 31}],\n",
       "  43: '예3. member2를 member1로 바꿉니다',\n",
       "  51: [{'name': '홍길동', 'year': 2000, 'mouth': 1, 'day': 1},\n",
       "   {'name': '신길동', 'year': 1998, 'mouth': 12, 'day': 31}],\n",
       "  53: [{'name': '홍길동', 'year': 2000, 'mouth': 1, 'day': 1},\n",
       "   {'name': '신길동', 'year': 1998, 'mouth': 12, 'day': 31}],\n",
       "  56: [{'name': '홍길동', 'birth': '2000-01-01'},\n",
       "   {'name': '신길동', 'birth': '1998-12-31'}],\n",
       "  58: (True, False),\n",
       "  59: [2, 4],\n",
       "  60: [2, 4],\n",
       "  61: [2, 4],\n",
       "  62: [9, 7, 2],\n",
       "  63: [(1, 'one'), (2, 'two'), (3, 'three'), (4, 'four')],\n",
       "  64: [[1, 100], [9, 9, 9, 9, 9, 9], [10, 1]],\n",
       "  65: 6,\n",
       "  66: [[1, 100], [9, 9, 9, 9, 9, 9], [10, 1]],\n",
       "  68: [{'score': 100},\n",
       "   {'name': '윤길동', 'score': 99},\n",
       "   {'name': '홍길동', 'score': 90},\n",
       "   {'name': '김길동', 'score': 50}],\n",
       "  69: [{'score': 100},\n",
       "   {'name': '윤길동', 'score': 99},\n",
       "   {'name': '홍길동', 'score': 90},\n",
       "   {'name': '김길동', 'score': 50}],\n",
       "  71: [{'no': 6, 'title': '가격이없음', 'writer': '김길동'},\n",
       "   {'no': 2, 'title': '단 한 번의 삶', 'writer': '김영하', 'price': '18,100'},\n",
       "   {'no': 3, 'title': '흔한남매 19', 'writer': '백난도', 'price': '14220'},\n",
       "   {'no': 5, 'title': '가격이숫자', 'writer': '신길동', 'price': 900},\n",
       "   {'no': 1, 'title': '강남 아파트 인사이트', 'writer': '오스틀', 'price': '25,200'},\n",
       "   {'no': 4, 'title': '가격이잘못', 'writer': '홍길동', 'price': '-'}],\n",
       "  72: [{'no': 6, 'title': '가격이없음', 'writer': '김길동'},\n",
       "   {'no': 2, 'title': '단 한 번의 삶', 'writer': '김영하', 'price': '18,100'},\n",
       "   {'no': 3, 'title': '흔한남매 19', 'writer': '백난도', 'price': '14220'},\n",
       "   {'no': 5, 'title': '가격이숫자', 'writer': '신길동', 'price': 900},\n",
       "   {'no': 1, 'title': '강남 아파트 인사이트', 'writer': '오스틀', 'price': '25,200'},\n",
       "   {'no': 4, 'title': '가격이잘못', 'writer': '홍길동', 'price': '-'}],\n",
       "  75: (8000, 8000, 800, 0),\n",
       "  76: (0, 900, 14220, 0),\n",
       "  79: 25200,\n",
       "  82: 25200,\n",
       "  83: [{'no': 4, 'title': '가격이잘못', 'writer': '홍길동', 'price': '-'},\n",
       "   {'no': 6, 'title': '가격이없음', 'writer': '김길동'},\n",
       "   {'no': 5, 'title': '가격이숫자', 'writer': '신길동', 'price': 900},\n",
       "   {'no': 3, 'title': '흔한남매 19', 'writer': '백난도', 'price': '14220'},\n",
       "   {'no': 2, 'title': '단 한 번의 삶', 'writer': '김영하', 'price': '18,100'},\n",
       "   {'no': 1, 'title': '강남 아파트 인사이트', 'writer': '오스틀', 'price': '25,200'}],\n",
       "  84: [{'no': 1, 'title': '강남 아파트 인사이트', 'writer': '오스틀', 'price': '25,200'},\n",
       "   {'no': 2, 'title': '단 한 번의 삶', 'writer': '김영하', 'price': '18,100'},\n",
       "   {'no': 3, 'title': '흔한남매 19', 'writer': '백난도', 'price': '14220'},\n",
       "   {'no': 4, 'title': '가격이잘못', 'writer': '홍길동', 'price': '-'},\n",
       "   {'no': 5, 'title': '가격이숫자', 'writer': '신길동', 'price': 900},\n",
       "   {'no': 6, 'title': '가격이없음', 'writer': '김길동'}],\n",
       "  87: [[3, 3, 3], [3, 3, 3]],\n",
       "  88: [3, 3, 3, 3, 3, 3, 3, 3, 3, 3],\n",
       "  89: {...},\n",
       "  90: False,\n",
       "  91: 4,\n",
       "  92: (4.0, 4.0, 3.0)},\n",
       " 'get_ipython': <bound method InteractiveShell.get_ipython of <ipykernel.zmqshell.ZMQInteractiveShell object at 0x0000026050A2FD60>>,\n",
       " 'exit': <IPython.core.autocall.ZMQExitAutocall at 0x26050a3f5e0>,\n",
       " 'quit': <IPython.core.autocall.ZMQExitAutocall at 0x26050a3f5e0>,\n",
       " 'open': <function io.open(file, mode='r', buffering=-1, encoding=None, errors=None, newline=None, closefd=True, opener=None)>,\n",
       " '_': (4.0, 4.0, 3.0),\n",
       " '__': 4,\n",
       " '___': False,\n",
       " '_i': 'import numpy as np # numpy 모듈을 np라는 이름으로 load\\nnp.round(3.5), np.ceil(3.1), np.floor(3.9) # 반올림, 올림, 내림',\n",
       " '_ii': 'round(3.5) # 반올림',\n",
       " '_iii': 'all([True, True, True, False]) # 전부 True인지 여부',\n",
       " '_i1': 'list_data = [1, 2, 3, 4, 5, 6, 7, 8, 9, 10]\\ndef x_2(x):\\n    return x*2\\nmap_template(x_2, list_data)',\n",
       " 'list_data': [1, 2, 3, 4, 5],\n",
       " 'x_2': <function __main__.x_2(x)>,\n",
       " '_i2': \"def map_template(func, L=[1, 2, 3]):\\n    '''\\n    L의 모든 요소를 func()함수를 적용시켜 return\\n    [2,4,6]\\n    '''\\n    result = []\\n    for l in L :\\n        result.append(func(L))\\n    return result\\n#     return [func(l) for l in L]    \",\n",
       " 'map_template': <function __main__.map_template(func, L=[])>,\n",
       " '_i3': 'list_data = [1, 2, 3, 4, 5, 6, 7, 8, 9, 10]\\ndef x_2(x):\\n    return x*2\\nmap_template(x_2, list_data)',\n",
       " '_3': [[1, 2, 3, 4, 5, 6, 7, 8, 9, 10, 1, 2, 3, 4, 5, 6, 7, 8, 9, 10],\n",
       "  [1, 2, 3, 4, 5, 6, 7, 8, 9, 10, 1, 2, 3, 4, 5, 6, 7, 8, 9, 10],\n",
       "  [1, 2, 3, 4, 5, 6, 7, 8, 9, 10, 1, 2, 3, 4, 5, 6, 7, 8, 9, 10],\n",
       "  [1, 2, 3, 4, 5, 6, 7, 8, 9, 10, 1, 2, 3, 4, 5, 6, 7, 8, 9, 10],\n",
       "  [1, 2, 3, 4, 5, 6, 7, 8, 9, 10, 1, 2, 3, 4, 5, 6, 7, 8, 9, 10],\n",
       "  [1, 2, 3, 4, 5, 6, 7, 8, 9, 10, 1, 2, 3, 4, 5, 6, 7, 8, 9, 10],\n",
       "  [1, 2, 3, 4, 5, 6, 7, 8, 9, 10, 1, 2, 3, 4, 5, 6, 7, 8, 9, 10],\n",
       "  [1, 2, 3, 4, 5, 6, 7, 8, 9, 10, 1, 2, 3, 4, 5, 6, 7, 8, 9, 10],\n",
       "  [1, 2, 3, 4, 5, 6, 7, 8, 9, 10, 1, 2, 3, 4, 5, 6, 7, 8, 9, 10],\n",
       "  [1, 2, 3, 4, 5, 6, 7, 8, 9, 10, 1, 2, 3, 4, 5, 6, 7, 8, 9, 10]],\n",
       " '_i4': \"def map_template(func, L=[1, 2, 3]):\\n    '''\\n    L의 모든 요소를 func()함수를 적용시켜 return\\n    [2,4,6]\\n    '''\\n    result = []\\n    for l in L :\\n        result.append(func(l))\\n    return result\\n#     return [func(l) for l in L]    \",\n",
       " '_i5': 'list_data = [1, 2, 3, 4, 5, 6, 7, 8, 9, 10]\\ndef x_2(x):\\n    return x*2\\nmap_template(x_2, list_data)',\n",
       " '_5': [2, 4, 6, 8, 10, 12, 14, 16, 18, 20],\n",
       " '_i6': '# 리스트 데이터를 가공 방법 2. 리스트 컴프리헨션\\n[l*2 for l in list_data]',\n",
       " '_6': [2, 4, 6, 8, 10, 12, 14, 16, 18, 20],\n",
       " '_i7': '# 리스트 데이터를 가공 방법 3. map():파이썬 내장함수\\nlist(map(lambda x : x_2, list_data))',\n",
       " '_7': [<function __main__.x_2(x)>,\n",
       "  <function __main__.x_2(x)>,\n",
       "  <function __main__.x_2(x)>,\n",
       "  <function __main__.x_2(x)>,\n",
       "  <function __main__.x_2(x)>,\n",
       "  <function __main__.x_2(x)>,\n",
       "  <function __main__.x_2(x)>,\n",
       "  <function __main__.x_2(x)>,\n",
       "  <function __main__.x_2(x)>,\n",
       "  <function __main__.x_2(x)>],\n",
       " '_i8': \"def map_template(func, L=[]):\\n    '''\\n    L의 모든 요소를 func()함수를 적용시켜 return\\n    [2,4,6]\\n    '''\\n    result = []\\n    for l in L :\\n        result.append(func(l))\\n    return result\\n#     return [func(l) for l in L]   \",\n",
       " '_i9': '# 리스트 데이터를 가공 방법 1. map_template\\nlist_data = [1, 2, 3, 4, 5, 6, 7, 8, 9, 10]\\nmap_template(lambda x : x*2, list_data)\\n# def x_2(x):\\n#     return x*2\\n# map_template(x_2, list_data)',\n",
       " '_9': [2, 4, 6, 8, 10, 12, 14, 16, 18, 20],\n",
       " '_i10': '# 리스트 데이터를 가공 방법 3. map():파이썬 내장함수\\nlist(map(lambda x : x_2, list_data))',\n",
       " '_10': [<function __main__.x_2(x)>,\n",
       "  <function __main__.x_2(x)>,\n",
       "  <function __main__.x_2(x)>,\n",
       "  <function __main__.x_2(x)>,\n",
       "  <function __main__.x_2(x)>,\n",
       "  <function __main__.x_2(x)>,\n",
       "  <function __main__.x_2(x)>,\n",
       "  <function __main__.x_2(x)>,\n",
       "  <function __main__.x_2(x)>,\n",
       "  <function __main__.x_2(x)>],\n",
       " '_i11': '# 리스트 데이터를 가공 방법 3. map():파이썬 내장함수\\nlist(map(lambda x : x*2, list_data))',\n",
       " '_11': [2, 4, 6, 8, 10, 12, 14, 16, 18, 20],\n",
       " '_i12': \"'''\\n예1. [5000,800,1000,6000]로 바꾸시오\\n'''\\nprices = ['5,000', '800', '1000', '6,000']\",\n",
       " 'prices': ['5,000', '800', '1000', '6,000'],\n",
       " '_i13': \"'''\\n예1. [5000,800,1000,6000]로 바꾸시오\\n'''\\nprices = ['5,000', '800', '1000', '6,000']\",\n",
       " '_i14': 'def func(x):\\n    return int(x.replace(\\',\\',\\'\\'))\\nfunc(\"5,000\"), func(\"1800\")',\n",
       " 'func': <function __main__.func(x)>,\n",
       " '_14': (5000, 1800),\n",
       " '_i15': \"'''\\n예2. member1 = [{'name':'홍길동', 'birth':'2000-01-01'},\\n                {'name':'신길동', 'birth':'1998-12-31'},]를\\n    member2 =  [{'name':'홍길동', 'year':2000, 'month':1, 'day':1},\\n                {'name':'신길동', 'year':1998, 'month':12, 'day':31},]를 바꿉니다\",\n",
       " '_i16': 'def func(x):\\n    return int(x.replace(\\',\\',\\'\\'))\\nfunc(\"5,000\"), func(\"1800\")',\n",
       " '_16': (5000, 1800),\n",
       " '_i17': \"# '2000-01-01' => {'year':1998, 'month':12, 'day':31}\\ndef split_data(data):\\n    split_data = date.split('-')\\n    print(split_data)\",\n",
       " 'split_data': <function __main__.split_data(data)>,\n",
       " '_i18': \"# '2000-01-01' => {'year':1998, 'month':12, 'day':31}\\ndef split_data(data):\\n    split_data = date.split('-')\\n    print(split_data)\",\n",
       " '_i19': 'split_data(\"200-01-01\")',\n",
       " '_i20': \"# '2000-01-01' => {'year':1998, 'month':12, 'day':31}\\ndef split_data(data):\\n    split_data = date.split('-')\\n    print(split_data)\",\n",
       " '_i21': 'split_data(\"200-01-01\")',\n",
       " '_i22': 'split_data(\"2000-01-01\")',\n",
       " '_i23': \"# '2000-01-01' => {'year':1998, 'month':12, 'day':31}\\ndef split_data(data):\\n    split_data = data.split('-')\\n    print(split_data)\",\n",
       " '_i24': 'split_data(\"2000-01-01\")',\n",
       " '_i25': 'split_data(\"2000-01-01\")',\n",
       " '_i26': \"# '2000-01-01' => {'year':1998, 'month':12, 'day':31}\\ndef split_data(data):\\n    split_data = data.split('-')\\n#     print(split_data[0], split_data[1], split_data[2],)\\n    return {'year': int(split_data[0]),\\n           'mouth': int(split_data[1]),\\n           'day': int(split_data[2])}\",\n",
       " '_i27': \"# '2000-01-01' => {'year':1998, 'month':12, 'day':31}\\ndef split_data(data):\\n    split_data = data.split('-')\\n#     print(split_data[0], split_data[1], split_data[2],)\\n    return {'year': int(split_data[0]),\\n           'mouth': int(split_data[1]),\\n           'day': int(split_data[2])}\",\n",
       " '_i28': 'split_data(\"2000-01-01\")',\n",
       " '_28': {'year': 2000, 'mouth': 1, 'day': 1},\n",
       " '_i29': 'split_data(\"2000-01-01\")',\n",
       " '_29': {'year': 2000, 'mouth': 1, 'day': 1},\n",
       " '_i30': 'def member_func(member): # {\\'name\\':\\'홍길동\\', \\'birth\\':\\'2000-01-01\\'}\\n    \"{\\'name\\':\\'신길동\\', \\'year\\':1998, \\'month\\':12, \\'day\\':31}식으로 return\"\\n    return {\\n        \\'name\\':member.get(\\'name\\'),\\n        \\'year\\':int(member[\\'birth\\'].split(\\'-\\')[0]),\\n        \\'mouth\\':int(member[\\'birth\\'].split(\\'-\\')[1]),\\n        \\'day\\':int(member[\\'birth\\'].split(\\'-\\')[1]),\\n    }\\nmember_func(member1[0])',\n",
       " 'member_func': <function __main__.member_func(member)>,\n",
       " '_i31': 'def member_func(member): # {\\'name\\':\\'홍길동\\', \\'birth\\':\\'2000-01-01\\'}\\n    \"{\\'name\\':\\'신길동\\', \\'year\\':1998, \\'month\\':12, \\'day\\':31}식으로 return\"\\n    return {\\n        \\'name\\':member.get(\\'name\\'),\\n        \\'year\\':int(member[\\'birth\\'].split(\\'-\\')[0]),\\n        \\'mouth\\':int(member[\\'birth\\'].split(\\'-\\')[1]),\\n        \\'day\\':int(member[\\'birth\\'].split(\\'-\\')[1]),\\n    }\\nmember_func(memberl[0])',\n",
       " '_i32': 'def member_func(member): # {\\'name\\':\\'홍길동\\', \\'birth\\':\\'2000-01-01\\'}\\n    \"{\\'name\\':\\'신길동\\', \\'year\\':1998, \\'month\\':12, \\'day\\':31}식으로 return\"\\n    return {\\n        \\'name\\':member.get(\\'name\\'),\\n        \\'year\\':int(member[\\'birth\\'].split(\\'-\\')[0]),\\n        \\'mouth\\':int(member[\\'birth\\'].split(\\'-\\')[1]),\\n        \\'day\\':int(member[\\'birth\\'].split(\\'-\\')[1]),\\n    }\\nmember_func(member1[0])',\n",
       " '_i33': 'def member_func(member): # {\\'name\\':\\'홍길동\\', \\'birth\\':\\'2000-01-01\\'}\\n    \"{\\'name\\':\\'신길동\\', \\'year\\':1998, \\'month\\':12, \\'day\\':31}식으로 return\"\\n    return {\\n        \\'name\\':member.get(\\'name\\'),\\n        \\'year\\':int(member[\\'birth\\'].split(\\'-\\')[0]),\\n        \\'mouth\\':int(member[\\'birth\\'].split(\\'-\\')[1]),\\n        \\'day\\':int(member[\\'birth\\'].split(\\'-\\')[2]),\\n    }\\nmember_func(member1[0])',\n",
       " '_i34': 'def member_func(member): # {\\'name\\':\\'홍길동\\', \\'birth\\':\\'2000-01-01\\'}\\n    \"{\\'name\\':\\'신길동\\', \\'year\\':1998, \\'month\\':12, \\'day\\':31}식으로 return\"\\n    return {\\n        \\'name\\':member.get(\\'name\\'),\\n        \\'year\\':int(member[\\'birth\\'].split(\\'-\\')[0]),\\n        \\'mouth\\':int(member[\\'birth\\'].split(\\'-\\')[1]),\\n        \\'day\\':int(member[\\'birth\\'].split(\\'-\\')[2]),\\n    }\\nmember_func(member1[0])',\n",
       " '_i35': \"member2 = list(map(lambda member : {\\n                        'name':member.get('name'),\\n                        'year':int(member['birth'].split('-')[0]),\\n                        'mouth':int(member['birth'].split('-')[1]),\\n                        'day':int(member['birth'].split('-')[2]),\\n                        } ,\\n        member1\\n        )\\n    )\",\n",
       " '_i36': \"'''\\n예2. member1 = [{'name':'홍길동', 'birth':'2000-01-01'},\\n                {'name':'신길동', 'birth':'1998-12-31'},]를\\n    member2 =  [{'name':'홍길동', 'year':2000, 'month':1, 'day':1},\\n                {'name':'신길동', 'year':1998, 'month':12, 'day':31},]를 바꿉니다\\n'''\\nmember1 = [{'name':'홍길동', 'birth':'2000-01-01'},\\n           {'name':'신길동', 'birth':'1998-12-31'},]\",\n",
       " 'member1': [{'name': '홍길동', 'birth': '2000-01-01'},\n",
       "  {'name': '신길동', 'birth': '1998-12-31'}],\n",
       " '_i37': \"# '2000-01-01' => {'year':1998, 'month':12, 'day':31}\\ndef split_data(data):\\n    split_data = data.split('-')\\n    print(split_data)\",\n",
       " '_i38': \"# '2000-01-01' => {'year':1998, 'month':12, 'day':31}\\ndef split_data(data):\\n    split_data = data.split('-')\\n#     print(split_data[0], split_data[1], split_data[2],)\\n    return {'year': int(split_data[0]),\\n           'mouth': int(split_data[1]),\\n           'day': int(split_data[2])}\",\n",
       " '_i39': 'split_data(\"2000-01-01\")',\n",
       " '_39': {'year': 2000, 'mouth': 1, 'day': 1},\n",
       " '_i40': 'def member_func(member): # {\\'name\\':\\'홍길동\\', \\'birth\\':\\'2000-01-01\\'}\\n    \"{\\'name\\':\\'신길동\\', \\'year\\':1998, \\'month\\':12, \\'day\\':31}식으로 return\"\\n    return {\\n        \\'name\\':member.get(\\'name\\'),\\n        \\'year\\':int(member[\\'birth\\'].split(\\'-\\')[0]),\\n        \\'mouth\\':int(member[\\'birth\\'].split(\\'-\\')[1]),\\n        \\'day\\':int(member[\\'birth\\'].split(\\'-\\')[2]),\\n    }\\nmember_func(member1[0])',\n",
       " '_40': {'name': '홍길동', 'year': 2000, 'mouth': 1, 'day': 1},\n",
       " '_i41': \"member2 = list(map(lambda member : {\\n                        'name':member.get('name'),\\n                        'year':int(member['birth'].split('-')[0]),\\n                        'mouth':int(member['birth'].split('-')[1]),\\n                        'day':int(member['birth'].split('-')[2]),\\n                        } ,\\n        member1\\n        )\\n    )\",\n",
       " 'member2': [{'name': '홍길동', 'year': 2000, 'mouth': 1, 'day': 1},\n",
       "  {'name': '신길동', 'year': 1998, 'mouth': 12, 'day': 31}],\n",
       " '_i42': \"mamber2 = list(map(lambda member : {\\n                        'name':member.get('name'),\\n                        'year':int(member['birth'].split('-')[0]),\\n                        'mouth':int(member['birth'].split('-')[1]),\\n                        'day':int(member['birth'].split('-')[2]),\\n                        } ,\\n        member1\\n        )\\n    )\\nmamber2\",\n",
       " 'mamber2': [{'name': '홍길동', 'year': 2000, 'mouth': 1, 'day': 1},\n",
       "  {'name': '신길동', 'year': 1998, 'mouth': 12, 'day': 31}],\n",
       " '_42': [{'name': '홍길동', 'year': 2000, 'mouth': 1, 'day': 1},\n",
       "  {'name': '신길동', 'year': 1998, 'mouth': 12, 'day': 31}],\n",
       " '_i43': \"'예3. member2를 member1로 바꿉니다'\",\n",
       " '_43': '예3. member2를 member1로 바꿉니다',\n",
       " '_i44': '# {\\'name\\':\\'홍길동\\', \\'year\\':2000, \\'month\\':1, \\'day\\':1} => \"2000-01-01\"를 return하는 함수\\ndef join_date(data):\\n    print(data)',\n",
       " 'join_date': <function __main__.join_date(data)>,\n",
       " '_i45': \"join_date({'year':2000, 'month':1, 'day':1})\",\n",
       " '_i46': 'def join_date(data):\\n    print(\"{}-{:02}-{:02}\".format(data.get(\\'year\\'), \\n                                  data.get(\\'month\\'), \\n                                  data.get(\\'day\\')))',\n",
       " '_i47': \"join_date({'year': 2000, 'month': 1, 'day': 1})\",\n",
       " '_i48': 'def join_date(data):\\n    print(\"{}-{:02}-{:02}\".format(data.get(\\'year\\'), \\n                                  data.get(\\'month\\'), \\n                                  data.get(\\'day\\')))',\n",
       " '_i49': 'def join_date(data):\\n    print(\"{}-{:02}-{:02}\".format(data.get(\\'year\\'), \\n                                  data.get(\\'month\\'), \\n                                  data.get(\\'day\\')))',\n",
       " '_i50': 'def join_date(data):\\n    print(\"{}-{:02}-{:02}\".format(data.get(\\'year\\'), \\n                                  data.get(\\'month\\'), \\n                                  data.get(\\'day\\')))',\n",
       " '_i51': 'member2',\n",
       " '_51': [{'name': '홍길동', 'year': 2000, 'mouth': 1, 'day': 1},\n",
       "  {'name': '신길동', 'year': 1998, 'mouth': 12, 'day': 31}],\n",
       " '_i52': '# {\\'name\\':\\'홍길동\\', \\'year\\':2000, \\'month\\':1, \\'day\\':1}(member2)를 \\n# {\\'name\\':\\'홍길동\\', \\'birth\\':\\'2000-01-01\\'}으로 가공\\nlist(map(lambda member : {\\n                        \\'name\\' : member.get(\\'name\\'),\\n                        \\'birth\\': \"{year}-{month:02}-{day:02}\".format(**member)\\n                        },\\n    member2\\n))',\n",
       " '_i53': 'member2',\n",
       " '_53': [{'name': '홍길동', 'year': 2000, 'mouth': 1, 'day': 1},\n",
       "  {'name': '신길동', 'year': 1998, 'mouth': 12, 'day': 31}],\n",
       " '_i54': '# {\\'name\\':\\'홍길동\\', \\'year\\':2000, \\'month\\':1, \\'day\\':1}(member2)를 \\n# {\\'name\\':\\'홍길동\\', \\'birth\\':\\'2000-01-01\\'}으로 가공\\nlist(map(lambda member : {\\n                        \\'name\\' : member.get(\\'name\\'),\\n                        \\'birth\\': \"{year}-{month:02}-{day:02}\".format(**member)\\n                        },\\n    member2\\n))',\n",
       " '_i55': '# {\\'name\\':\\'홍길동\\', \\'year\\':2000, \\'month\\':1, \\'day\\':1}(member2)를 \\n# {\\'name\\':\\'홍길동\\', \\'birth\\':\\'2000-01-01\\'}으로 가공\\nlist(map(lambda member : {\\n                        \\'name\\' : member.get(\\'name\\'),\\n                        \\'birth\\': \"{year}-{month:02}-{day:02}\".format(**member)\\n                        },\\n    member2\\n))',\n",
       " '_i56': '# {\\'name\\':\\'홍길동\\', \\'year\\':2000, \\'mouth\\':1, \\'day\\':1}(member2)를 \\n# {\\'name\\':\\'홍길동\\', \\'birth\\':\\'2000-01-01\\'}으로 가공\\nlist(map(lambda member : {\\n                        \\'name\\' : member.get(\\'name\\'),\\n                        \\'birth\\': \"{year}-{mouth:02}-{day:02}\".format(**member)\\n                        },\\n    member2\\n))',\n",
       " '_56': [{'name': '홍길동', 'birth': '2000-01-01'},\n",
       "  {'name': '신길동', 'birth': '1998-12-31'}],\n",
       " '_i57': 'def filter_template(func, L=[]):\\n    result = []\\n    for l in L:\\n        if func(l):\\n            result.append(l)\\n    return result',\n",
       " 'filter_template': <function __main__.filter_template(func, L=[])>,\n",
       " '_i58': 'def evenChk(value):\\n    return value%2==0\\nevenChk(10), evenChk(-9)',\n",
       " 'evenChk': <function __main__.evenChk(value)>,\n",
       " '_58': (True, False),\n",
       " '_i59': 'list_data = [1, 2, 3, 4, 5]\\nfilter_template(lambda value : value%2==0 ,  list_data)',\n",
       " '_59': [2, 4],\n",
       " '_i60': 'list(filter(lambda value : value%2==0, list_data))',\n",
       " '_60': [2, 4],\n",
       " '_i61': '[data for data in list_data if data%2==0]',\n",
       " '_61': [2, 4],\n",
       " '_i62': 'p = [9, 2, 7]\\np.sort(reverse=True)\\np',\n",
       " 'p': [9, 7, 2],\n",
       " '_62': [9, 7, 2],\n",
       " '_i63': \"# 무조건 0번째 item 기준으로 정렬\\npairs = [(2, 'two'), (1, 'one'), (4, 'four'), (3, 'three')]\\npairs.sort()\\npairs\",\n",
       " 'pairs': [(1, 'one'), (2, 'two'), (3, 'three'), (4, 'four')],\n",
       " '_63': [(1, 'one'), (2, 'two'), (3, 'three'), (4, 'four')],\n",
       " '_i64': '# 무조건 0번째 item기준으로 정렬\\nnumber2d = [[9, 9, 9, 9, 9, 9],\\n            [1, 100],\\n            [10, 1]]\\nnumber2d.sort(reverse=True) # 기본(reverse=False):오름차순정렬/reverse=True:내림차순정렬\\nnumber2d',\n",
       " 'number2d': [[1, 100], [9, 9, 9, 9, 9, 9], [10, 1]],\n",
       " '_64': [[1, 100], [9, 9, 9, 9, 9, 9], [10, 1]],\n",
       " '_i65': '# 리스트를 매개변수로 받아 합을 return\\n(lambda item : sum(item))([1,2,3])',\n",
       " '_65': 6,\n",
       " '_i66': '# 합이 큰 순으로 정렬\\nnumber2d.sort(key = lambda data : sum(data), reverse=True)\\nnumber2d',\n",
       " '_66': [[1, 100], [9, 9, 9, 9, 9, 9], [10, 1]],\n",
       " '_i67': \"students = [\\n    {'name':'홍길동', 'score':90},\\n    {'name':'김길동', 'score':50},\\n    {'name':'윤길동', 'score':99},\\n    {'score':100}\\n]\",\n",
       " 'students': [{'score': 100},\n",
       "  {'name': '윤길동', 'score': 99},\n",
       "  {'name': '홍길동', 'score': 90},\n",
       "  {'name': '김길동', 'score': 50}],\n",
       " '_i68': \"# 이름순으로 정렬(ㄱㄴㄷ순)\\nstudents.sort(key = lambda item : item.get('name','힣'))\\nstudents\",\n",
       " '_68': [{'score': 100},\n",
       "  {'name': '윤길동', 'score': 99},\n",
       "  {'name': '홍길동', 'score': 90},\n",
       "  {'name': '김길동', 'score': 50}],\n",
       " '_i69': \"# score순으로 정렬(내림차순정렬 : reverse=True)\\nstudents.sort(key = lambda item : item.get('score', 0), reverse=True)\\nstudents\",\n",
       " '_69': [{'score': 100},\n",
       "  {'name': '윤길동', 'score': 99},\n",
       "  {'name': '홍길동', 'score': 90},\n",
       "  {'name': '김길동', 'score': 50}],\n",
       " '_i70': \"# 책제목순 정렬(ㄱㄴㄷ순), 저자순 정렬(ㄱㄴㄷ순), 가격순 오름차순정렬\\nbooks =[\\n    {'no':1, 'title':'강남 아파트 인사이트', 'writer':'오스틀', 'price':'25,200'},\\n    {'no':2, 'title':'단 한 번의 삶', 'writer':'김영하', 'price':'18,100'},\\n    {'no':3, 'title':'흔한남매 19', 'writer':'백난도', 'price':'14220'},\\n    {'no':4, 'title':'가격이잘못', 'writer':'홍길동', 'price':'-'},\\n    {'no':5, 'title':'가격이숫자', 'writer':'신길동', 'price':900},\\n    {'no':6, 'title':'가격이없음', 'writer':'김길동'},\\n]\",\n",
       " 'books': [{'no': 1,\n",
       "   'title': '강남 아파트 인사이트',\n",
       "   'writer': '오스틀',\n",
       "   'price': '25,200'},\n",
       "  {'no': 2, 'title': '단 한 번의 삶', 'writer': '김영하', 'price': '18,100'},\n",
       "  {'no': 3, 'title': '흔한남매 19', 'writer': '백난도', 'price': '14220'},\n",
       "  {'no': 4, 'title': '가격이잘못', 'writer': '홍길동', 'price': '-'},\n",
       "  {'no': 5, 'title': '가격이숫자', 'writer': '신길동', 'price': 900},\n",
       "  {'no': 6, 'title': '가격이없음', 'writer': '김길동'}],\n",
       " '_i71': \"books.sort(key = lambda book : book.get('title'))\\nbooks\",\n",
       " '_71': [{'no': 6, 'title': '가격이없음', 'writer': '김길동'},\n",
       "  {'no': 2, 'title': '단 한 번의 삶', 'writer': '김영하', 'price': '18,100'},\n",
       "  {'no': 3, 'title': '흔한남매 19', 'writer': '백난도', 'price': '14220'},\n",
       "  {'no': 5, 'title': '가격이숫자', 'writer': '신길동', 'price': 900},\n",
       "  {'no': 1, 'title': '강남 아파트 인사이트', 'writer': '오스틀', 'price': '25,200'},\n",
       "  {'no': 4, 'title': '가격이잘못', 'writer': '홍길동', 'price': '-'}],\n",
       " '_i72': \"books.sort(key = lambda book : book.get('writer'))\\nbooks\",\n",
       " '_72': [{'no': 6, 'title': '가격이없음', 'writer': '김길동'},\n",
       "  {'no': 2, 'title': '단 한 번의 삶', 'writer': '김영하', 'price': '18,100'},\n",
       "  {'no': 3, 'title': '흔한남매 19', 'writer': '백난도', 'price': '14220'},\n",
       "  {'no': 5, 'title': '가격이숫자', 'writer': '신길동', 'price': 900},\n",
       "  {'no': 1, 'title': '강남 아파트 인사이트', 'writer': '오스틀', 'price': '25,200'},\n",
       "  {'no': 4, 'title': '가격이잘못', 'writer': '홍길동', 'price': '-'}],\n",
       " '_i73': \"books.sort(key = lambda book : book.get('price', 0))\\nbooks\",\n",
       " '_i74': '# \\'14,000\\' -> 14000 / \"2000\" -> 2000 / 800 -> 800 / \\'-\\' -> 0\\ndef parse_int(price):\\n    #print(type(price))\\n    if isinstance(price, str) and price.replace(\\',\\',\\'\\').isdigit():\\n        return int(price.replace(\\',\\', \\'\\'))\\n    elif isinstance(price, int):\\n        return price\\n    else:\\n        return 0',\n",
       " 'parse_int': <function __main__.parse_int(book)>,\n",
       " '_i75': 'parse_int(\"8,000\"), parse_int(\"8000\"), parse_int(800), parse_int(\\'-\\')',\n",
       " '_75': (8000, 8000, 800, 0),\n",
       " '_i76': \"# {'no': 6, 'title': '가격이없음', 'writer': '김길동'} = > 0 return\\n# {'no': 3, 'title': '흔한남매 19', 'writer': '백난도', 'price': '14,220'} => 14220\\n# {'no': 5, 'title': '가격이숫자', 'writer': '신길동', 'price': 900} => 900\\ndef parse_int(book):\\n    if isinstance(book.get('price'), str) and \\\\\\n            book.get('price').replace(',','').isdigit():\\n        return int( book.get('price').replace(',','') )\\n    elif isinstance(book.get('price'), int):\\n        return book.get('price')\\n    else:\\n        return 0\\nparse_int(books[0]), parse_int(books[3]), parse_int(books[2]),  parse_int(books[5])\",\n",
       " '_76': (0, 900, 14220, 0),\n",
       " '_i77': \"books =[\\n    {'no':1, 'title':'강남 아파트 인사이트', 'writer':'오스틀', 'price':'25,200'},\\n    {'no':2, 'title':'단 한 번의 삶', 'writer':'김영하', 'price':'18,100'},\\n    {'no':3, 'title':'흔한남매 19', 'writer':'백난도', 'price':'14220'},\\n    {'no':4, 'title':'가격이잘못', 'writer':'홍길동', 'price':'-'},\\n    {'no':5, 'title':'가격이숫자', 'writer':'신길동', 'price':900},\\n    {'no':6, 'title':'가격이없음', 'writer':'김길동'},\\n]\\ncopy_books = books.copy() # 깊은 복사\",\n",
       " 'copy_books': [{'no': 4, 'title': '가격이잘못', 'writer': '홍길동', 'price': '-'},\n",
       "  {'no': 6, 'title': '가격이없음', 'writer': '김길동'},\n",
       "  {'no': 5, 'title': '가격이숫자', 'writer': '신길동', 'price': 900},\n",
       "  {'no': 3, 'title': '흔한남매 19', 'writer': '백난도', 'price': '14220'},\n",
       "  {'no': 2, 'title': '단 한 번의 삶', 'writer': '김영하', 'price': '18,100'},\n",
       "  {'no': 1, 'title': '강남 아파트 인사이트', 'writer': '오스틀', 'price': '25,200'}],\n",
       " '_i78': \"copy_books.sort(key = lambda book : \\n                int(book.get('price').replace(',','')) \\\\\\n                    if isinstance(book.get('price'), str) and \\\\\\n                        book.get('price').replace(',','').isdigit() else \\\\\\n                book.get('price') if isinstance(book.get('price'), int) else \\\\\\n                0                \\n               )\",\n",
       " '_i79': \"# 람다식 테스트 확인\\n(lambda book : \\n                int(book.get('price').replace(',','')) \\\\\\n                    if isinstance(book.get('price'), str) and \\\\\\n                        book.get('price').replace(',','').isdigit() else \\\\\\n                book.get('price') if isinstance(book.get('price'), int) else \\\\\\n                0 )(books[0])\",\n",
       " '_79': 25200,\n",
       " '_i80': \"books =[\\n    {'no':1, 'title':'강남 아파트 인사이트', 'writer':'오스틀', 'price':'25,200'},\\n    {'no':2, 'title':'단 한 번의 삶', 'writer':'김영하', 'price':'18,100'},\\n    {'no':3, 'title':'흔한남매 19', 'writer':'백난도', 'price':'14220'},\\n    {'no':4, 'title':'가격이잘못', 'writer':'홍길동', 'price':'-'},\\n    {'no':5, 'title':'가격이숫자', 'writer':'신길동', 'price':900},\\n    {'no':6, 'title':'가격이없음', 'writer':'김길동'},\\n]\\ncopy_books = books.copy() # 깊은 복사\",\n",
       " '_i81': \"copy_books.sort(key = lambda book : \\n                int(book.get('price').replace(',','')) \\\\\\n                    if isinstance(book.get('price'), str) and \\\\\\n                        book.get('price').replace(',','').isdigit() else \\\\\\n                book.get('price') if isinstance(book.get('price'), int) else \\\\\\n                0                \\n               )\",\n",
       " '_i82': \"# 람다식 테스트 확인\\n(lambda book : \\n                int(book.get('price').replace(',','')) \\\\\\n                    if isinstance(book.get('price'), str) and \\\\\\n                        book.get('price').replace(',','').isdigit() else \\\\\\n                book.get('price') if isinstance(book.get('price'), int) else \\\\\\n                0 )(books[0])\",\n",
       " '_82': 25200,\n",
       " '_i83': 'copy_books',\n",
       " '_83': [{'no': 4, 'title': '가격이잘못', 'writer': '홍길동', 'price': '-'},\n",
       "  {'no': 6, 'title': '가격이없음', 'writer': '김길동'},\n",
       "  {'no': 5, 'title': '가격이숫자', 'writer': '신길동', 'price': 900},\n",
       "  {'no': 3, 'title': '흔한남매 19', 'writer': '백난도', 'price': '14220'},\n",
       "  {'no': 2, 'title': '단 한 번의 삶', 'writer': '김영하', 'price': '18,100'},\n",
       "  {'no': 1, 'title': '강남 아파트 인사이트', 'writer': '오스틀', 'price': '25,200'}],\n",
       " '_i84': 'books',\n",
       " '_84': [{'no': 1, 'title': '강남 아파트 인사이트', 'writer': '오스틀', 'price': '25,200'},\n",
       "  {'no': 2, 'title': '단 한 번의 삶', 'writer': '김영하', 'price': '18,100'},\n",
       "  {'no': 3, 'title': '흔한남매 19', 'writer': '백난도', 'price': '14220'},\n",
       "  {'no': 4, 'title': '가격이잘못', 'writer': '홍길동', 'price': '-'},\n",
       "  {'no': 5, 'title': '가격이숫자', 'writer': '신길동', 'price': 900},\n",
       "  {'no': 6, 'title': '가격이없음', 'writer': '김길동'}],\n",
       " '_i85': '# 함수를 return\\ndef make_box(shape): # shape : [l]=>len가 l인 list를 생성하는 함수 return,\\n                    #          [r,c] => r행 c열인 2차원 list를 생성하는 함수 return\\n    def box(init_value):\\n        if len(shape)==1:\\n            return [init_value]*shape[0]\\n        elif len(shape)==2:\\n            return [ [init_value]*shape[1] ] * shape[0]\\n    return box',\n",
       " 'make_box': <function __main__.make_box(shape)>,\n",
       " '_i86': 'def make_box(shape):\\n    if len(shape)==1:\\n        return lambda init_value : [init_value]*shape[0]\\n    elif len(shape)==2:\\n        return lambda init_value : [ [init_value]*shape[1] ] * shape[0]',\n",
       " '_i87': 'line_func = make_box([2,3])\\nline_func(3)',\n",
       " 'line_func': <function __main__.make_box.<locals>.<lambda>(init_value)>,\n",
       " '_87': [[3, 3, 3], [3, 3, 3]],\n",
       " '_i88': 'line_func1 = make_box([10])\\nline_func1(3)',\n",
       " 'line_func1': <function __main__.make_box.<locals>.<lambda>(init_value)>,\n",
       " '_88': [3, 3, 3, 3, 3, 3, 3, 3, 3, 3],\n",
       " '_i89': 'globals() # 전역변수 리스트',\n",
       " '_89': {...},\n",
       " '_i90': 'all([True, True, True, False]) # 전부 True인지 여부',\n",
       " '_90': False,\n",
       " '_i91': 'round(3.5) # 반올림',\n",
       " '_91': 4,\n",
       " '_i92': 'import numpy as np # numpy 모듈을 np라는 이름으로 load\\nnp.round(3.5), np.ceil(3.1), np.floor(3.9) # 반올림, 올림, 내림',\n",
       " 'np': <module 'numpy' from 'C:\\\\Users\\\\Admin\\\\anaconda3\\\\lib\\\\site-packages\\\\numpy\\\\__init__.py'>,\n",
       " '_92': (4.0, 4.0, 3.0),\n",
       " '_i93': 'globals() # 전역변수 리스트'}"
      ]
     },
     "execution_count": 93,
     "metadata": {},
     "output_type": "execute_result"
    }
   ],
   "source": [
    "globals() # 전역변수 리스트"
   ]
  },
  {
   "cell_type": "code",
   "execution_count": 90,
   "id": "da7f5aed",
   "metadata": {},
   "outputs": [
    {
     "data": {
      "text/plain": [
       "False"
      ]
     },
     "execution_count": 90,
     "metadata": {},
     "output_type": "execute_result"
    }
   ],
   "source": [
    "all([True, True, True, False]) # 전부 True인지 여부"
   ]
  },
  {
   "cell_type": "code",
   "execution_count": 91,
   "id": "fc0df312",
   "metadata": {},
   "outputs": [
    {
     "data": {
      "text/plain": [
       "4"
      ]
     },
     "execution_count": 91,
     "metadata": {},
     "output_type": "execute_result"
    }
   ],
   "source": [
    "round(3.5) # 반올림"
   ]
  },
  {
   "cell_type": "code",
   "execution_count": 92,
   "id": "6c312294",
   "metadata": {},
   "outputs": [
    {
     "data": {
      "text/plain": [
       "(4.0, 4.0, 3.0)"
      ]
     },
     "execution_count": 92,
     "metadata": {},
     "output_type": "execute_result"
    }
   ],
   "source": [
    "import numpy as np # numpy 모듈을 np라는 이름으로 load\n",
    "np.round(3.5), np.ceil(3.1), np.floor(3.9) # 반올림, 올림, 내림"
   ]
  },
  {
   "cell_type": "markdown",
   "id": "2ebf750a",
   "metadata": {},
   "source": [
    "## 6절. 연습문제\n",
    "\n",
    "### 실습형"
   ]
  },
  {
   "cell_type": "code",
   "execution_count": 104,
   "id": "a577c756",
   "metadata": {},
   "outputs": [],
   "source": [
    "# 1.\n",
    "get_max_min = lambda data_list: (max(data_list), min(data_list)) if data_list else (None, None)"
   ]
  },
  {
   "cell_type": "code",
   "execution_count": 105,
   "id": "6bc2946c",
   "metadata": {},
   "outputs": [
    {
     "name": "stdout",
     "output_type": "stream",
     "text": [
      "(4, 1)\n"
     ]
    }
   ],
   "source": [
    "print(get_max_min([1, 2, 3, 4]))"
   ]
  },
  {
   "cell_type": "code",
   "execution_count": 107,
   "id": "f324c517",
   "metadata": {},
   "outputs": [
    {
     "name": "stdout",
     "output_type": "stream",
     "text": [
      "(None, None)\n"
     ]
    }
   ],
   "source": [
    "print(get_max_min([]))  "
   ]
  },
  {
   "cell_type": "code",
   "execution_count": 108,
   "id": "e7d7cc85",
   "metadata": {},
   "outputs": [],
   "source": [
    "# 2.\n",
    "getBMI = lambda w, h: (\n",
    "    \"신장은 0보다 커야 합니다.\" if h <= 0 else\n",
    "    \"마른 체형\" if w / (h ** 2) < 18.5 else\n",
    "    \"표준\" if w / (h ** 2) < 25 else\n",
    "    \"비만\" if w / (h ** 2) < 30 else\n",
    "    \"고도비만\"\n",
    ")"
   ]
  },
  {
   "cell_type": "code",
   "execution_count": 109,
   "id": "dcc5e93e",
   "metadata": {},
   "outputs": [
    {
     "name": "stdout",
     "output_type": "stream",
     "text": [
      "마른 체형\n",
      "표준\n",
      "비만\n",
      "고도비만\n",
      "신장은 0보다 커야 합니다.\n"
     ]
    }
   ],
   "source": [
    "print(getBMI(50, 1.7))  \n",
    "print(getBMI(68, 1.75)) \n",
    "print(getBMI(85, 1.7))  \n",
    "print(getBMI(100, 1.7)) \n",
    "print(getBMI(70, 0))"
   ]
  },
  {
   "cell_type": "code",
   "execution_count": 112,
   "id": "6022cd9a",
   "metadata": {},
   "outputs": [],
   "source": [
    "# 3.\n",
    "import math\n",
    "\n",
    "def get_triangle(width, height):\n",
    "    area = 0.5 * width * height\n",
    "    hypotenuse = math.sqrt(width**2 + height**2)\n",
    "    perimeter = width + height + hypotenuse\n",
    "    return area, perimeter"
   ]
  },
  {
   "cell_type": "code",
   "execution_count": 113,
   "id": "76fd0808",
   "metadata": {},
   "outputs": [
    {
     "name": "stdout",
     "output_type": "stream",
     "text": [
      "면적: 6.00, 둘레: 12.00\n"
     ]
    }
   ],
   "source": [
    "a, p = get_triangle(3, 4)\n",
    "print(f\"면적: {a:.2f}, 둘레: {p:.2f}\")"
   ]
  },
  {
   "cell_type": "code",
   "execution_count": 114,
   "id": "84652649",
   "metadata": {},
   "outputs": [],
   "source": [
    "# 4. \n",
    "def mysum(start, stop):\n",
    "    if start > stop:\n",
    "        start, stop = stop, start  \n",
    "    return sum(range(start, stop + 1))"
   ]
  },
  {
   "cell_type": "code",
   "execution_count": 115,
   "id": "da7ef1c5",
   "metadata": {},
   "outputs": [
    {
     "name": "stdout",
     "output_type": "stream",
     "text": [
      "55\n",
      "5\n",
      "55\n"
     ]
    }
   ],
   "source": [
    "print(mysum(1, 10))\n",
    "print(mysum(5, 5))\n",
    "print(mysum(10, 1))"
   ]
  },
  {
   "cell_type": "code",
   "execution_count": 116,
   "id": "1daf0fe4",
   "metadata": {},
   "outputs": [],
   "source": [
    "# 5. \n",
    "get_abbrs = lambda lst: [word[:3] for word in lst]"
   ]
  },
  {
   "cell_type": "code",
   "execution_count": 117,
   "id": "daec8aab",
   "metadata": {},
   "outputs": [
    {
     "name": "stdout",
     "output_type": "stream",
     "text": [
      "['Seo', 'Dae', 'Kwa', 'Jej']\n"
     ]
    }
   ],
   "source": [
    "cities = ['Seoul', 'Daegu', 'Kwangju', 'Jeju']\n",
    "print(get_abbrs(cities))"
   ]
  },
  {
   "cell_type": "code",
   "execution_count": null,
   "id": "ef9bca5a",
   "metadata": {},
   "outputs": [],
   "source": [
    "def f(x, y)\n",
    "    return x**y"
   ]
  },
  {
   "cell_type": "code",
   "execution_count": 118,
   "id": "049c0aff",
   "metadata": {},
   "outputs": [],
   "source": [
    "# 6.\n",
    "f_lambda = lambda x, y: x**y"
   ]
  },
  {
   "cell_type": "code",
   "execution_count": 120,
   "id": "7e7ddf95",
   "metadata": {},
   "outputs": [
    {
     "name": "stdout",
     "output_type": "stream",
     "text": [
      "8\n"
     ]
    }
   ],
   "source": [
    "result = f_lambda(2, 3)\n",
    "print(result)"
   ]
  },
  {
   "cell_type": "code",
   "execution_count": 121,
   "id": "4bfe4feb",
   "metadata": {},
   "outputs": [
    {
     "name": "stdout",
     "output_type": "stream",
     "text": [
      "람다 함수와 map() 결과: [1, 4, 9, 16, 25]\n"
     ]
    }
   ],
   "source": [
    "# 7-1.\n",
    "ex = [1, 2, 3, 4, 5]\n",
    "result_map = list(map(lambda x: x**2, ex))\n",
    "print(f\"람다 함수와 map() 결과: {result_map}\")"
   ]
  },
  {
   "cell_type": "code",
   "execution_count": 122,
   "id": "9d1c1684",
   "metadata": {},
   "outputs": [
    {
     "name": "stdout",
     "output_type": "stream",
     "text": [
      "리스트 컴프리헨션 결과: [1, 4, 9, 16, 25]\n"
     ]
    }
   ],
   "source": [
    "# 7-2.\n",
    "ex = [1, 2, 3, 4, 5]\n",
    "result_comprehension = [x**2 for x in ex]\n",
    "print(f\"리스트 컴프리헨션 결과: {result_comprehension}\")"
   ]
  },
  {
   "cell_type": "markdown",
   "id": "90c59c3d",
   "metadata": {},
   "source": [
    "### 서술형"
   ]
  },
  {
   "cell_type": "code",
   "execution_count": null,
   "id": "d8e7716a",
   "metadata": {},
   "outputs": [],
   "source": [
    "# 8.\n",
    "*a는 리스트의 요소들을 풀어서 print() 함수의 개별 인자로 전달하므로, 요소들이 공백으로 구분되어 출력"
   ]
  },
  {
   "cell_type": "code",
   "execution_count": null,
   "id": "0bedfe64",
   "metadata": {},
   "outputs": [],
   "source": [
    "# 9.\n",
    "2024-9-6"
   ]
  },
  {
   "cell_type": "code",
   "execution_count": 125,
   "id": "0c22a437",
   "metadata": {},
   "outputs": [],
   "source": [
    "# 10.\n",
    "vector_size_check = lambda *vector_var: len(set(len(vec) for vec in vector_var)) <= 1"
   ]
  },
  {
   "cell_type": "code",
   "execution_count": 126,
   "id": "16ac5d89",
   "metadata": {},
   "outputs": [
    {
     "name": "stdout",
     "output_type": "stream",
     "text": [
      "True\n",
      "False\n",
      "True\n",
      "True\n"
     ]
    }
   ],
   "source": [
    "print(vector_size_check([1, 2], [3, 4], [5, 6]))     \n",
    "print(vector_size_check([1, 2], [3, 4, 5]))        \n",
    "print(vector_size_check([1, 2, 3], (4, 5, 6), {7, 8, 9})) \n",
    "print(vector_size_check())"
   ]
  },
  {
   "cell_type": "code",
   "execution_count": 127,
   "id": "de75f8e3",
   "metadata": {},
   "outputs": [],
   "source": [
    "vector_size_check = lambda *vector_var: all(len(vector_var[0]) == len(vec) for vec in vector_var) if vector_var else True"
   ]
  },
  {
   "cell_type": "code",
   "execution_count": 128,
   "id": "1b1241cf",
   "metadata": {},
   "outputs": [
    {
     "name": "stdout",
     "output_type": "stream",
     "text": [
      "True\n",
      "False\n",
      "True\n",
      "True\n"
     ]
    }
   ],
   "source": [
    "print(vector_size_check([1, 2], [3, 4], [5, 6]))     \n",
    "print(vector_size_check([1, 2], [3, 4, 5]))        \n",
    "print(vector_size_check([1, 2, 3], (4, 5, 6), {7, 8, 9})) \n",
    "print(vector_size_check())"
   ]
  },
  {
   "cell_type": "code",
   "execution_count": 129,
   "id": "5f5a4981",
   "metadata": {},
   "outputs": [],
   "source": [
    "# 11.\n",
    "def scalar_vector_product(scalar, vector):\n",
    "    return [scalar * element for element in vector]"
   ]
  },
  {
   "cell_type": "code",
   "execution_count": 132,
   "id": "5cfeebcf",
   "metadata": {},
   "outputs": [
    {
     "name": "stdout",
     "output_type": "stream",
     "text": [
      "[5, 10, 15, 20]\n",
      "[3.0, 5.0, 7.0]\n",
      "[30, 60, 90]\n"
     ]
    }
   ],
   "source": [
    "result1 = scalar_vector_product(5, [1, 2, 3, 4])\n",
    "result2 = scalar_vector_product(2, (1.5, 2.5, 3.5))\n",
    "result3 = scalar_vector_product(3, {10, 20, 30})\n",
    "print(result1)\n",
    "print(result2)\n",
    "print(result3)"
   ]
  },
  {
   "cell_type": "code",
   "execution_count": 11,
   "id": "fe1cb2d7",
   "metadata": {},
   "outputs": [
    {
     "name": "stdout",
     "output_type": "stream",
     "text": [
      "9 0 2 "
     ]
    }
   ],
   "source": [
    "def mapping(addr):\n",
    "    table = [1,2,5,9,6,4,0,3,8,7]\n",
    "    SIZE = 20\n",
    "    return table [addr//SIZE]\n",
    "    \n",
    "group = [9,8,7,6,5,4,3,2,1,0]\n",
    "loc = [127, 64, 188]\n",
    "\n",
    "for i, x in enumerate(loc):\n",
    "    print(group[mapping(loc[i])], end=' ')"
   ]
  },
  {
   "cell_type": "code",
   "execution_count": 13,
   "id": "af597aff",
   "metadata": {},
   "outputs": [
    {
     "name": "stdout",
     "output_type": "stream",
     "text": [
      "6"
     ]
    },
    {
     "ename": "UnboundLocalError",
     "evalue": "local variable 'a' referenced before assignment",
     "output_type": "error",
     "traceback": [
      "\u001b[1;31m---------------------------------------------------------------------------\u001b[0m",
      "\u001b[1;31mUnboundLocalError\u001b[0m                         Traceback (most recent call last)",
      "Cell \u001b[1;32mIn[13], line 14\u001b[0m\n\u001b[0;32m     11\u001b[0m         sub()\n\u001b[0;32m     13\u001b[0m a \u001b[38;5;241m+\u001b[39m\u001b[38;5;241m=\u001b[39m \u001b[38;5;241m1\u001b[39m\n\u001b[1;32m---> 14\u001b[0m \u001b[43mfunc\u001b[49m\u001b[43m(\u001b[49m\u001b[43m)\u001b[49m\n",
      "Cell \u001b[1;32mIn[13], line 11\u001b[0m, in \u001b[0;36mfunc\u001b[1;34m()\u001b[0m\n\u001b[0;32m      9\u001b[0m a \u001b[38;5;241m+\u001b[39m\u001b[38;5;241m=\u001b[39m \u001b[38;5;241m1\u001b[39m\n\u001b[0;32m     10\u001b[0m \u001b[38;5;28mprint\u001b[39m(a, end\u001b[38;5;241m=\u001b[39m\u001b[38;5;124m'\u001b[39m\u001b[38;5;124m'\u001b[39m)\n\u001b[1;32m---> 11\u001b[0m \u001b[43msub\u001b[49m\u001b[43m(\u001b[49m\u001b[43m)\u001b[49m\n",
      "Cell \u001b[1;32mIn[13], line 3\u001b[0m, in \u001b[0;36msub\u001b[1;34m()\u001b[0m\n\u001b[0;32m      2\u001b[0m \u001b[38;5;28;01mdef\u001b[39;00m \u001b[38;5;21msub\u001b[39m():\n\u001b[1;32m----> 3\u001b[0m     a \u001b[38;5;241m+\u001b[39m\u001b[38;5;241m=\u001b[39m \u001b[38;5;241m1\u001b[39m\n\u001b[0;32m      4\u001b[0m     \u001b[38;5;28mprint\u001b[39m(a, end\u001b[38;5;241m=\u001b[39m\u001b[38;5;124m'\u001b[39m\u001b[38;5;124m'\u001b[39m)\n",
      "\u001b[1;31mUnboundLocalError\u001b[0m: local variable 'a' referenced before assignment"
     ]
    }
   ],
   "source": [
    "a = 10\n",
    "def sub():\n",
    "    a += 1\n",
    "    print(a, end='')\n",
    "    \n",
    "def func():\n",
    "    for i in range(2):\n",
    "        a = 5\n",
    "        a += 1\n",
    "        print(a, end='')\n",
    "        sub()\n",
    "        \n",
    "a += 1\n",
    "func()"
   ]
  },
  {
   "cell_type": "code",
   "execution_count": 15,
   "id": "b033ba4e",
   "metadata": {},
   "outputs": [
    {
     "name": "stdout",
     "output_type": "stream",
     "text": [
      "612613"
     ]
    }
   ],
   "source": [
    "a = 10\n",
    "\n",
    "def sub():\n",
    "    global a # 글로벌 변수 a로 수정\n",
    "    a += 1\n",
    "    print(a, end='')\n",
    "    \n",
    "def func():\n",
    "    for i in range(2):\n",
    "        a = 5\n",
    "        a += 1\n",
    "        print(a, end='')\n",
    "        sub()\n",
    "        \n",
    "a += 1\n",
    "func()"
   ]
  },
  {
   "cell_type": "code",
   "execution_count": 20,
   "id": "8b90abbb",
   "metadata": {},
   "outputs": [
    {
     "name": "stdout",
     "output_type": "stream",
     "text": [
      "100\n"
     ]
    }
   ],
   "source": [
    "var = 100 \n",
    "def func(var): \n",
    "    var = 200 \n",
    "func(var) \n",
    "print(var)"
   ]
  },
  {
   "cell_type": "code",
   "execution_count": 26,
   "id": "5e51a2ad",
   "metadata": {},
   "outputs": [
    {
     "data": {
      "text/plain": [
       "5"
      ]
     },
     "execution_count": 26,
     "metadata": {},
     "output_type": "execute_result"
    }
   ],
   "source": [
    "def my_func(func, *args):\n",
    "    return func(*args)\n",
    "import numpy as np\n",
    "my_func(np.add, 2, 3)"
   ]
  },
  {
   "cell_type": "code",
   "execution_count": 27,
   "id": "76b21f0b",
   "metadata": {},
   "outputs": [
    {
     "data": {
      "text/plain": [
       "9"
      ]
     },
     "execution_count": 27,
     "metadata": {},
     "output_type": "execute_result"
    }
   ],
   "source": [
    "def my_func(func, *args):\n",
    "    return func(*args)\n",
    "my_func(lambda a, b : a**b, 3, 2)"
   ]
  },
  {
   "cell_type": "code",
   "execution_count": null,
   "id": "c4f85778",
   "metadata": {},
   "outputs": [],
   "source": [
    "# 6.\n",
    "파이썬의 함수는 중복 정의해 사용할 수 없다."
   ]
  },
  {
   "cell_type": "code",
   "execution_count": null,
   "id": "28658f75",
   "metadata": {},
   "outputs": [],
   "source": [
    "# 7.\n",
    "4번 func([], a=40)\n",
    "TypeError: func() got multiple values for argument 'a'"
   ]
  },
  {
   "cell_type": "code",
   "execution_count": null,
   "id": "3978b2b5",
   "metadata": {},
   "outputs": [],
   "source": [
    "# 8.\n",
    "lambda"
   ]
  },
  {
   "cell_type": "code",
   "execution_count": null,
   "id": "9b242b5c",
   "metadata": {},
   "outputs": [],
   "source": []
  },
  {
   "cell_type": "code",
   "execution_count": null,
   "id": "2bfa57a7",
   "metadata": {},
   "outputs": [],
   "source": []
  },
  {
   "cell_type": "code",
   "execution_count": null,
   "id": "46958cc5",
   "metadata": {},
   "outputs": [],
   "source": []
  }
 ],
 "metadata": {
  "kernelspec": {
   "display_name": "Python 3 (ipykernel)",
   "language": "python",
   "name": "python3"
  },
  "language_info": {
   "codemirror_mode": {
    "name": "ipython",
    "version": 3
   },
   "file_extension": ".py",
   "mimetype": "text/x-python",
   "name": "python",
   "nbconvert_exporter": "python",
   "pygments_lexer": "ipython3",
   "version": "3.10.9"
  },
  "toc": {
   "base_numbering": 1,
   "nav_menu": {},
   "number_sections": false,
   "sideBar": true,
   "skip_h1_title": false,
   "title_cell": "Table of Contents",
   "title_sidebar": "Contents",
   "toc_cell": false,
   "toc_position": {
    "height": "calc(100% - 180px)",
    "left": "10px",
    "top": "150px",
    "width": "165px"
   },
   "toc_section_display": true,
   "toc_window_display": true
  }
 },
 "nbformat": 4,
 "nbformat_minor": 5
}
