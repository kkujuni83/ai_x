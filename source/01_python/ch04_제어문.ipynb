{
 "cells": [
  {
   "cell_type": "code",
   "execution_count": 1,
   "id": "5bc4f084",
   "metadata": {},
   "outputs": [
    {
     "data": {
      "text/html": [
       "\n",
       "<style>\n",
       "div.container{width:95% !important;}\n",
       "div.cell.code_cell.rendered{width:100%;}\n",
       "div.CodeMirror {font-family:Consolas; font-size:15pt;}\n",
       "div.output {font-size:15pt; font-weight:bold;}\n",
       "div.input {font-family:Consolas; font-size:15pt;}\n",
       "div.prompt {min-width:70px;}\n",
       "div#toc-wrapper{padding-top:120px;}\n",
       "div.text_cell_render ul li{font-size:12pt;padding:5px;}\n",
       "table.dataframe{font-size:15px;}\n",
       "</style>\n"
      ],
      "text/plain": [
       "<IPython.core.display.HTML object>"
      ]
     },
     "metadata": {},
     "output_type": "display_data"
    }
   ],
   "source": [
    "from IPython.display import display, HTML\n",
    "display(HTML(\"\"\"\n",
    "<style>\n",
    "div.container{width:95% !important;}\n",
    "div.cell.code_cell.rendered{width:100%;}\n",
    "div.CodeMirror {font-family:Consolas; font-size:15pt;}\n",
    "div.output {font-size:15pt; font-weight:bold;}\n",
    "div.input {font-family:Consolas; font-size:15pt;}\n",
    "div.prompt {min-width:70px;}\n",
    "div#toc-wrapper{padding-top:120px;}\n",
    "div.text_cell_render ul li{font-size:12pt;padding:5px;}\n",
    "table.dataframe{font-size:15px;}\n",
    "</style>\n",
    "\"\"\"))"
   ]
  },
  {
   "cell_type": "markdown",
   "id": "4d6e359f",
   "metadata": {},
   "source": [
    "<b><font color=\"red\" size =\"5\">ch04. 제어문</font></b>\n",
    "- 조건문 : if문\n",
    "- if문, for문, while문, 중첩가능"
   ]
  },
  {
   "cell_type": "markdown",
   "id": "2993de7d",
   "metadata": {},
   "source": [
    "# 1절. 조건문(if)\n",
    "```\n",
    "if 조건1:\n",
    "    조건이 참일 경우 수행할 명령어들\n",
    "elif 조건2:\n",
    "    조건1이 거짓이고, 조건2가 참일 경우 수행할 명령어들\n",
    "else:\n",
    "    모든 조건을 만족하지 않을 때 수행할 명령어들\n",
    "```"
   ]
  },
  {
   "cell_type": "code",
   "execution_count": 2,
   "id": "56b18073",
   "metadata": {},
   "outputs": [
    {
     "name": "stdout",
     "output_type": "stream",
     "text": [
      "점수는 :85\n",
      "분발하세요\n",
      "뭐 그래도 고생하셨어요\n"
     ]
    }
   ],
   "source": [
    "score = int(input('점수는 :'))\n",
    "if score >= 90:\n",
    "    print('참 잘했어요')\n",
    "    print('다음에도 기대할께요')\n",
    "elif score >= 60:\n",
    "    print('분발하세요')\n",
    "    print('뭐 그래도 고생하셨어요')\n",
    "else:\n",
    "    print('재시험 응시하셔야 합니다')\n",
    "    print('화이팅')"
   ]
  },
  {
   "cell_type": "code",
   "execution_count": 4,
   "id": "6f809b78",
   "metadata": {},
   "outputs": [
    {
     "name": "stdout",
     "output_type": "stream",
     "text": [
      "점수는 :120\n",
      "참 잘했어요\n",
      "다음에도 기대할께요\n",
      "화이팅\n"
     ]
    }
   ],
   "source": [
    "score = int(input('점수는 :'))\n",
    "if score >= 90:\n",
    "    print('참 잘했어요')\n",
    "    print('다음에도 기대할께요')\n",
    "elif score >= 60:\n",
    "    print('분발하세요')\n",
    "    print('뭐 그래도 고생하셨어요')\n",
    "else:\n",
    "    print('재시험 응시하셔야 합니다')\n",
    "print('화이팅')"
   ]
  },
  {
   "cell_type": "code",
   "execution_count": 2,
   "id": "933eee4a",
   "metadata": {},
   "outputs": [
    {
     "name": "stdout",
     "output_type": "stream",
     "text": [
      "점수는 >120\n",
      "입력하신 점수는 120점이고, A등급입니다\n"
     ]
    }
   ],
   "source": [
    "# 점수를 입력받아 학점을 출력하시오(A, B, C, D, F, 유효하지 않은 점수)\n",
    "score = int(input('점수는 >'))\n",
    "if 90 <= score >= 100: # (score>=90) & (score <= 100):\n",
    "    grade = 'A'\n",
    "elif 80 <= score < 90:\n",
    "    grade = 'B'\n",
    "elif 70 <= score < 80:\n",
    "    grade = 'C'\n",
    "elif 60 <= score < 70:\n",
    "    grade = 'D'\n",
    "elif 0 <= score < 60:\n",
    "    grade = 'F'\n",
    "else:\n",
    "    grade = '유효하지 않은 점수'\n",
    "print(\"입력하신 점수는 {}점이고, {}등급입니다\".format(score, grade))"
   ]
  },
  {
   "cell_type": "markdown",
   "id": "deb4a576",
   "metadata": {},
   "source": [
    "# 2절. 반복문\n",
    "## 2.1 for-in문\n",
    "```\n",
    "for 임시변수 in 나열 가능한 자료:\n",
    "    반복할명령어1\n",
    "    반복할명령어2\n",
    "    if 조건:\n",
    "        break\n",
    "else:\n",
    "    나열 가능한 자료가 다 소요하여 for블록을 다 수행한 후 최종 한번 수행할 명령어\n",
    "    for문안에 break를 수행할 경우 else블록은 수행되지 않음\n",
    "```"
   ]
  },
  {
   "cell_type": "code",
   "execution_count": 6,
   "id": "1aa3dd72",
   "metadata": {},
   "outputs": [
    {
     "name": "stdout",
     "output_type": "stream",
     "text": [
      "1\t3\t5\t7\t9\t\n",
      "DONE\n",
      "END\n"
     ]
    }
   ],
   "source": [
    "for i in range(1, 10, 2):\n",
    "    print(i, end='\\t')\n",
    "else:\n",
    "    print('\\nDONE')\n",
    "print('END')"
   ]
  },
  {
   "cell_type": "code",
   "execution_count": 10,
   "id": "10a887a3",
   "metadata": {},
   "outputs": [
    {
     "name": "stdout",
     "output_type": "stream",
     "text": [
      "END\n"
     ]
    }
   ],
   "source": [
    "for i in range(1, 10, 2):\n",
    "    if i==5:\n",
    "        break\n",
    "        print(i, end='\\t')\n",
    "else:\n",
    "    print('\\nDONE')\n",
    "print('END')"
   ]
  },
  {
   "cell_type": "code",
   "execution_count": 11,
   "id": "108b997b",
   "metadata": {},
   "outputs": [
    {
     "name": "stdout",
     "output_type": "stream",
     "text": [
      "1~100까지 짝수들의 합은 2550\n"
     ]
    }
   ],
   "source": [
    "# 1~100까지 누적합을 출력하시오(for문)\n",
    "tot = 0 # 누적변수\n",
    "for i in range(1, 101):\n",
    "    if i%2==0:\n",
    "        tot += i # tot = tot +i\n",
    "print('1~100까지 짝수들의 합은', tot)"
   ]
  },
  {
   "cell_type": "markdown",
   "id": "f19e37a5",
   "metadata": {},
   "source": [
    "## 2.2 while\n",
    "- while 조건\n",
    "    조건이 참일 경우 반복할 문장들\n",
    "- else\n",
    "    조건이 거짓일 경우 한번 실행할 문장(else구문 선택사항)"
   ]
  },
  {
   "cell_type": "code",
   "execution_count": 12,
   "id": "b753e996",
   "metadata": {},
   "outputs": [
    {
     "ename": "KeyboardInterrupt",
     "evalue": "",
     "output_type": "error",
     "traceback": [
      "\u001b[1;31m---------------------------------------------------------------------------\u001b[0m",
      "\u001b[1;31mKeyboardInterrupt\u001b[0m                         Traceback (most recent call last)",
      "Cell \u001b[1;32mIn[12], line 3\u001b[0m\n\u001b[0;32m      1\u001b[0m \u001b[38;5;66;03m# 1~100까지 누적합 출력\u001b[39;00m\n\u001b[0;32m      2\u001b[0m tot \u001b[38;5;241m=\u001b[39m \u001b[38;5;241m0\u001b[39m\n\u001b[1;32m----> 3\u001b[0m \u001b[38;5;28;01mwhile\u001b[39;00m \u001b[43mi\u001b[49m\u001b[38;5;241;43m<\u001b[39;49m\u001b[38;5;241;43m=\u001b[39;49m\u001b[38;5;241;43m100\u001b[39;49m:\n\u001b[0;32m      4\u001b[0m     tot \u001b[38;5;241m+\u001b[39m\u001b[38;5;241m=\u001b[39m i\n\u001b[0;32m      5\u001b[0m \u001b[38;5;28mprint\u001b[39m(\u001b[38;5;124m\"\u001b[39m\u001b[38;5;124m1~100까지 누적합은\u001b[39m\u001b[38;5;124m\"\u001b[39m, tot)\n",
      "\u001b[1;31mKeyboardInterrupt\u001b[0m: "
     ]
    }
   ],
   "source": [
    "# 1~100까지 누적합 출력 (실행안됨)\n",
    "tot = 0\n",
    "while i<=100:\n",
    "    tot += i\n",
    "print(\"1~100까지 누적합은\", tot)"
   ]
  },
  {
   "cell_type": "code",
   "execution_count": 14,
   "id": "8803d108",
   "metadata": {},
   "outputs": [
    {
     "name": "stdout",
     "output_type": "stream",
     "text": [
      "1~100까지 누적합은 5050 101\n"
     ]
    }
   ],
   "source": [
    "# 1~100까지 누적합 출력\n",
    "tot = 0\n",
    "i = 1\n",
    "while i<=100:\n",
    "    tot += i\n",
    "    i += 1\n",
    "print(\"1~100까지 누적합은\", tot, i)"
   ]
  },
  {
   "cell_type": "code",
   "execution_count": 35,
   "id": "a58a1733",
   "metadata": {},
   "outputs": [
    {
     "name": "stdout",
     "output_type": "stream",
     "text": [
      "첫번째 정수는 >10\n",
      "두번째 정수는 >2\n"
     ]
    }
   ],
   "source": [
    "# ex1. 사용자에게 두 정수를 입력받아, 작은수부터 큰수까지 홀수의 합을 누적해서 출력\n",
    "first = int(input(\"첫번째 정수는 >\"))\n",
    "second = int(input(\"두번째 정수는 >\"))\n",
    "# (1) 두 수 중 작은 수는 min_에 큰수는 max_에 할당\n",
    "if first<second:\n",
    "     min_ = first\n",
    "     max_ = second\n",
    "else:\n",
    "     min_ = second\n",
    "     max_ = first\n",
    "# (1-2) first에서 작은수로 second에 큰수가 되도록 함 \n",
    "if first > second:\n",
    "    # 바꿔\n",
    "    temp = first\n",
    "    first = second\n",
    "    second = temp\n",
    "    \n",
    "# # (2) min_부터 max_까지 홀수합 누적\n",
    "tot = 0\n",
    "for i in range(min_, max_+1):\n",
    "     if i%2: #i%2!=0: #(i%2==1) / (i%2==-1):\n",
    "         tot += i\n",
    "# # (3) 출력\n",
    "# print(f\"{min_}부터 {max_}까지 홀수들의 합은 {tot}입니다\")"
   ]
  },
  {
   "cell_type": "code",
   "execution_count": 25,
   "id": "d06c6634",
   "metadata": {},
   "outputs": [
    {
     "name": "stdout",
     "output_type": "stream",
     "text": [
      "[1, 10, 23, 25, 34, 43]\n"
     ]
    }
   ],
   "source": [
    "# ex2. 1~45까지의 로또번호 6개를 추출하여 출력(오름차순 정렬결과를 출력)\n",
    "# 난수 발생\n",
    "import random\n",
    "# random.random() :  0<=실수난수<1\n",
    "# random.randint(a, b) : a~b의 정수 난수\n",
    "# int(random.random()*b)+a : a~b의 정수 난수\n",
    "# 실행할 때마다 난수의 순서를 일치시키려면 random.seed(특정수)\n",
    "lotto = []\n",
    "for i in range(6):\n",
    "    lotto.append(random.randint(1, 45))\n",
    "print(sorted(lotto))"
   ]
  },
  {
   "cell_type": "code",
   "execution_count": 18,
   "id": "3243ab48",
   "metadata": {},
   "outputs": [
    {
     "data": {
      "text/plain": [
       "14.064606351622846"
      ]
     },
     "execution_count": 18,
     "metadata": {},
     "output_type": "execute_result"
    }
   ],
   "source": [
    "random.random()*45 # 1<=random.random()*45< 46"
   ]
  },
  {
   "cell_type": "code",
   "execution_count": 19,
   "id": "f4d270c9",
   "metadata": {},
   "outputs": [
    {
     "data": {
      "text/plain": [
       "42"
      ]
     },
     "execution_count": 19,
     "metadata": {},
     "output_type": "execute_result"
    }
   ],
   "source": [
    "int(random.random()*45)+1 # 1<=random.random()*45< 46"
   ]
  },
  {
   "cell_type": "code",
   "execution_count": 21,
   "id": "a19b6101",
   "metadata": {},
   "outputs": [
    {
     "data": {
      "text/plain": [
       "31"
      ]
     },
     "execution_count": 21,
     "metadata": {},
     "output_type": "execute_result"
    }
   ],
   "source": [
    "# 정수\n",
    "random.seed(12)\n",
    "random.randint(1, 45) # 1~45 까지의 정수 난수"
   ]
  },
  {
   "cell_type": "code",
   "execution_count": 22,
   "id": "2daf9301",
   "metadata": {},
   "outputs": [
    {
     "data": {
      "text/plain": [
       "18"
      ]
     },
     "execution_count": 22,
     "metadata": {},
     "output_type": "execute_result"
    }
   ],
   "source": [
    "random.randint(1, 45)"
   ]
  },
  {
   "cell_type": "code",
   "execution_count": 23,
   "id": "bda2d05d",
   "metadata": {},
   "outputs": [
    {
     "data": {
      "text/plain": [
       "43"
      ]
     },
     "execution_count": 23,
     "metadata": {},
     "output_type": "execute_result"
    }
   ],
   "source": [
    "random.randint(1, 45)"
   ]
  },
  {
   "cell_type": "code",
   "execution_count": 42,
   "id": "eee55203",
   "metadata": {},
   "outputs": [
    {
     "name": "stdout",
     "output_type": "stream",
     "text": [
      "난수 0번 뽑아서 로또는 [6, 15, 28, 29, 33, 43]\n"
     ]
    }
   ],
   "source": [
    "lotto = []\n",
    "cnt = 0\n",
    "while len(lotto) < 6:\n",
    "    temp = random.randint(1, 45)\n",
    "    if temp not in lotto:\n",
    "        lotto.append(temp)\n",
    "# 정렬하기 lotto.sort()\n",
    "lotto.sort()\n",
    "# for i in range(0, len(lotto)-1):\n",
    "#     for j in range(i, len(lotto)):\n",
    "#         if lotto[i] > lotto[j]:\n",
    "#             lotto[i], lotto[j] = lotto[j], lotto[i]\n",
    "#     print(f\"{i}번째까지 : {lotto[:i+1]} / {lotto}\")\n",
    "print(\"난수 {}번 뽑아서 로또는 {}\".format(cnt, lotto))"
   ]
  },
  {
   "cell_type": "code",
   "execution_count": 45,
   "id": "45b866d3",
   "metadata": {},
   "outputs": [
    {
     "data": {
      "text/plain": [
       "[4, 11, 33, 36, 40, 45]"
      ]
     },
     "execution_count": 45,
     "metadata": {},
     "output_type": "execute_result"
    }
   ],
   "source": [
    "# ex2. 1~45까지의 로또번호 6개를 추출하여 출력(오름차순 정렬결과를 출력)\n",
    "lotto = set()\n",
    "while len(lotto)<6:\n",
    "    lotto.add(random.randint(1, 45))\n",
    "sorted(list(lotto))"
   ]
  },
  {
   "cell_type": "code",
   "execution_count": 46,
   "id": "e60392c6",
   "metadata": {},
   "outputs": [
    {
     "data": {
      "text/plain": [
       "[6, 26, 27, 31, 39, 42]"
      ]
     },
     "execution_count": 46,
     "metadata": {},
     "output_type": "execute_result"
    }
   ],
   "source": [
    "# 1~45까지의 로또번호 6개를 추출\n",
    "sorted(random.sample(range(1, 45), 6))"
   ]
  },
  {
   "cell_type": "markdown",
   "id": "fc4fb202",
   "metadata": {},
   "source": [
    "## 2.3 break, continue"
   ]
  },
  {
   "cell_type": "code",
   "execution_count": 48,
   "id": "c74847f1",
   "metadata": {},
   "outputs": [
    {
     "name": "stdout",
     "output_type": "stream",
     "text": [
      "1\t2\t3\t4\tDONE\n"
     ]
    }
   ],
   "source": [
    "num = 0 \n",
    "while num<10:\n",
    "    num += 1\n",
    "    if num == 5:\n",
    "        break #반복문을 탈출\n",
    "        continue # while블록 수행을 중단하고 조건으로 감\n",
    "    print(num, end='\\t')\n",
    "print('DONE')"
   ]
  },
  {
   "cell_type": "code",
   "execution_count": 51,
   "id": "891e4cd6",
   "metadata": {},
   "outputs": [
    {
     "name": "stdout",
     "output_type": "stream",
     "text": [
      "컴퓨터가 발생한 임의의 수 : 62\n",
      "1~100사이의 수를 맞춰 보세요 :35\n",
      "UP ↑\n",
      "1~100사이의 수를 맞춰 보세요 :100\n",
      "DOWN ↓\n",
      "1~100사이의 수를 맞춰 보세요 :90\n",
      "DOWN ↓\n",
      "1~100사이의 수를 맞춰 보세요 :80\n",
      "DOWN ↓\n",
      "1~100사이의 수를 맞춰 보세요 :70\n",
      "DOWN ↓\n",
      "1~100사이의 수를 맞춰 보세요 :60\n",
      "UP ↑\n",
      "1~100사이의 수를 맞춰 보세요 :65\n",
      "DOWN ↓\n",
      "1~100사이의 수를 맞춰 보세요 :63\n",
      "DOWN ↓\n",
      "1~100사이의 수를 맞춰 보세요 :61\n",
      "UP ↑\n",
      "1~100사이의 수를 맞춰 보세요 :62\n",
      "축하 축하 맞추셨습니다\n",
      "끝\n"
     ]
    }
   ],
   "source": [
    "'''\n",
    "1~100사이의 정수를 맞추는 프로그램을 구현하시오\n",
    "(프로그램안에 임의의 숫자가 만들어지고 그 숫자를 맞추도록 합니다)\n",
    "1단계. 입력된 숫자가 틀리면 UP/DOWN 메시지를 출력하고 \n",
    "      숫자를 맞추면 축하메세지와 함께 종료합니다(맞출 때까지 반복)\n",
    "'''\n",
    "import random\n",
    "# (1) 1~100사이의 난수 발생\n",
    "randomNum = random.randint(1, 100)\n",
    "print('컴퓨터가 발생한 임의의 수 :', randomNum)\n",
    "# (2) 수를 입력받아 틀리면 UP/DOWN메시지를 출력, 맞추면 축하축하 메세지와 break하는 반복문\n",
    "while True:\n",
    "    inputNum = int(input(\"1~100사이의 수를 맞춰 보세요 :\"))\n",
    "    if (inputNum<1) | (inputNum>100):\n",
    "        print('수의 범위를 벗어났습니다')\n",
    "    elif randomNum < inputNum:\n",
    "        print('DOWN ↓')\n",
    "    elif randomNum > inputNum:\n",
    "        print('UP ↑')\n",
    "    else:\n",
    "        print('축하 축하 맞추셨습니다')\n",
    "        break\n",
    "print('끝')"
   ]
  },
  {
   "cell_type": "markdown",
   "id": "b6b93a85",
   "metadata": {},
   "source": [
    "# 3절. 중첩루프\n",
    "(반복문 안의 반복문)"
   ]
  },
  {
   "cell_type": "code",
   "execution_count": 50,
   "id": "dda3c83c",
   "metadata": {},
   "outputs": [
    {
     "name": "stdout",
     "output_type": "stream",
     "text": [
      "2X1= 2\t3X1= 3\t4X1= 4\t5X1= 5\t6X1= 6\t7X1= 7\t8X1= 8\t9X1= 9\t\n",
      "2X2= 4\t3X2= 6\t4X2= 8\t5X2=10\t6X2=12\t7X2=14\t8X2=16\t9X2=18\t\n",
      "2X3= 6\t3X3= 9\t4X3=12\t5X3=15\t6X3=18\t7X3=21\t8X3=24\t9X3=27\t\n",
      "2X4= 8\t3X4=12\t4X4=16\t5X4=20\t6X4=24\t7X4=28\t8X4=32\t9X4=36\t\n",
      "2X5=10\t3X5=15\t4X5=20\t5X5=25\t6X5=30\t7X5=35\t8X5=40\t9X5=45\t\n",
      "2X6=12\t3X6=18\t4X6=24\t5X6=30\t6X6=36\t7X6=42\t8X6=48\t9X6=54\t\n",
      "2X7=14\t3X7=21\t4X7=28\t5X7=35\t6X7=42\t7X7=49\t8X7=56\t9X7=63\t\n",
      "2X8=16\t3X8=24\t4X8=32\t5X8=40\t6X8=48\t7X8=56\t8X8=64\t9X8=72\t\n",
      "2X9=18\t3X9=27\t4X9=36\t5X9=45\t6X9=54\t7X9=63\t8X9=72\t9X9=81\t\n"
     ]
    }
   ],
   "source": [
    "# 2x1= 2\t3x1= 3\t4x1= 4\t5x1= 5\t6x1= 6\t7x1= 7\t8x1= 8\t9x1= 9\t\n",
    "# 2x2= 4\t3x2= 6\t4x2= 8\t5x2=10\t6x2=12\t7x2=14\t8x2=16\t9x2=18\n",
    "# ...\n",
    "for i in range(1, 10):\n",
    "    for j in range(2, 10):\n",
    "        print(f'{j}X{i}={i*j:2}', end='\\t')\n",
    "    print() # 개행"
   ]
  },
  {
   "cell_type": "markdown",
   "id": "08acc6ac",
   "metadata": {},
   "source": [
    "# 4절. 중첩루프 탈출"
   ]
  },
  {
   "cell_type": "code",
   "execution_count": 90,
   "id": "d710caf6",
   "metadata": {},
   "outputs": [
    {
     "name": "stdout",
     "output_type": "stream",
     "text": [
      "0 1\n",
      "0 2\n",
      "DONE\n"
     ]
    }
   ],
   "source": [
    "# 중첩 루프 탈출 하는 방법 1 : 플래그 변수 이용\n",
    "flag = False\n",
    "for a in range(0, 3):     # a=0, 1, 2\n",
    "    for b in range(1, 3): # b = 1, 2\n",
    "        if a == b:\n",
    "            flag = True\n",
    "            break # 반복문을 아예 빠져 나오기\n",
    "        print(a, b)\n",
    "    # break시 빠져나오는 부분\n",
    "    if flag:\n",
    "        break\n",
    "print('DONE')"
   ]
  },
  {
   "cell_type": "code",
   "execution_count": 57,
   "id": "fad34f0d",
   "metadata": {},
   "outputs": [],
   "source": [
    "# 중첩 루프 탈출 방법2 예외 발생 => 예외처리\n",
    "\n",
    "# 예외처리 진도 후 작성"
   ]
  },
  {
   "cell_type": "markdown",
   "id": "736daefd",
   "metadata": {},
   "source": [
    "# 5절. 연습문제"
   ]
  },
  {
   "cell_type": "code",
   "execution_count": 91,
   "id": "c9387129",
   "metadata": {},
   "outputs": [
    {
     "name": "stdout",
     "output_type": "stream",
     "text": [
      "양의 정수를 입력하세요 :30\n",
      "입력하신 양의 정수는 30이고 짝수입니다\n"
     ]
    }
   ],
   "source": [
    "# 1. 양의 정수를 입력 받아 홀수/짝수 결과 출력\n",
    "# while True:\n",
    "#     inputNum = int(input(\"양의 정수를 입력하세요 :\"))\n",
    "#     if inputNum > 0:\n",
    "#         break\n",
    "#     else:\n",
    "#         print(\"글을 못읽어? 양수만 입력하라고!\")\n",
    "# if inputNum % 2 == 0:\n",
    "#     print(f\"{inputNum}은 짝수!\")\n",
    "# else:\n",
    "#     print(f\"{inputNum}은 홀수!\") \n",
    "num = 0\n",
    "while num<=0:\n",
    "    num = int(input(\"양의 정수를 입력하세요 :\"))\n",
    "even_odd = '홀수' if num%2 else '짝수'\n",
    "print('입력하신 양의 정수는 {}이고 {}입니다'.format(num, even_odd))"
   ]
  },
  {
   "cell_type": "code",
   "execution_count": 73,
   "id": "88753492",
   "metadata": {},
   "outputs": [
    {
     "name": "stdout",
     "output_type": "stream",
     "text": [
      "☆☆☆☆☆\n",
      "☆☆☆☆☆\n",
      "☆☆☆☆☆\n",
      "☆☆☆☆☆\n",
      "☆☆☆☆☆\n"
     ]
    }
   ],
   "source": [
    "# 2. 별출력\n",
    "for i in range(5):\n",
    "    for j in range(5):\n",
    "        print('☆', end='')\n",
    "    print()"
   ]
  },
  {
   "cell_type": "code",
   "execution_count": 72,
   "id": "7df5a5a5",
   "metadata": {},
   "outputs": [
    {
     "name": "stdout",
     "output_type": "stream",
     "text": [
      "\n",
      "★\n",
      "★★\n",
      "★★★\n",
      "★★★★\n",
      "★★★★★\n"
     ]
    }
   ],
   "source": [
    "for i in range(6):\n",
    "    for j in range(i):\n",
    "        print('★', end='')\n",
    "    print()"
   ]
  },
  {
   "cell_type": "code",
   "execution_count": 92,
   "id": "25946c57",
   "metadata": {},
   "outputs": [
    {
     "name": "stdout",
     "output_type": "stream",
     "text": [
      "165\n"
     ]
    }
   ],
   "source": [
    "# # 3. 다음 코드는 1 부터 30 까지 (30 포함 ) 자연수 중에서 3 의 배수의 총 합을 출력 빈칸의 코드를 완성하시오\n",
    "# sum = 0\n",
    "# for i in range(1, 31):\n",
    "#     if i % 3 == 0:\n",
    "#         sum = sum + i\n",
    "#     else:\n",
    "#         pass\n",
    "# print(sum)"
   ]
  },
  {
   "cell_type": "code",
   "execution_count": null,
   "id": "1cb7de69",
   "metadata": {},
   "outputs": [],
   "source": [
    "# 3. 다음 코드는 1 부터 30 까지 (30 포함 ) 자연수 중에서 3 의 배수의 총 합을 출력 빈칸의 코드를 완성하시오\n",
    "tot = 0\n",
    "for i in range(1, 31):\n",
    "    if i % 3 == 0:\n",
    "        tot += tot + i\n",
    "    else:\n",
    "        pass\n",
    "print(sum)"
   ]
  },
  {
   "cell_type": "code",
   "execution_count": 78,
   "id": "78c7dd6f",
   "metadata": {},
   "outputs": [
    {
     "name": "stdout",
     "output_type": "stream",
     "text": [
      "1 3 5 7 9 "
     ]
    }
   ],
   "source": [
    "# 4. 다음 코드의 실행결과가 “1 3 5 7 9\"가 되도록 빈칸을 완성하시오\n",
    "num = 0\n",
    "while num <= 10:\n",
    "    if num % 2 == 1:\n",
    "        print(num, end=' ')\n",
    "    num += 1"
   ]
  },
  {
   "cell_type": "code",
   "execution_count": 79,
   "id": "8fc7084d",
   "metadata": {},
   "outputs": [
    {
     "name": "stdout",
     "output_type": "stream",
     "text": [
      "1 2 3 \n",
      "4 5 6 7 \n",
      "8 9 \n"
     ]
    }
   ],
   "source": [
    "# 5. 다음 2 차원 리스트의 모든 값을 출력하는 코드입니다 . 빈칸을 완성하시오\n",
    "list2d = [[1,2,3],[4,5,6,7],[8,9]]\n",
    "for row in list2d:\n",
    "    for data in row:\n",
    "        print(data, end=' ')\n",
    "    print()"
   ]
  },
  {
   "cell_type": "code",
   "execution_count": 80,
   "id": "338a1b4f",
   "metadata": {},
   "outputs": [
    {
     "name": "stdout",
     "output_type": "stream",
     "text": [
      "0 apple\n",
      "1 banana\n"
     ]
    }
   ],
   "source": [
    "# 6. 다음 빈칸에 들어갈 함수 이름은?\n",
    "colors = {\"red\": 'apple', \"yellow\": 'banana'}\n",
    "for i, v in enumerate(colors.values()):\n",
    "    print(i, v)"
   ]
  },
  {
   "cell_type": "code",
   "execution_count": 81,
   "id": "c55e40c4",
   "metadata": {},
   "outputs": [
    {
     "name": "stdout",
     "output_type": "stream",
     "text": [
      "1 0\n"
     ]
    }
   ],
   "source": [
    "# 7.다음 코드의 실행결과는?\n",
    "# for i in range(0, 2):\n",
    "# for j in range(0,2):\n",
    "# if i ==\n",
    "# break\n",
    "# print(I, j) # 오류남\n",
    "for i in range(0, 2):\n",
    "    for j in range(0, 2):\n",
    "        if i == j:\n",
    "            break\n",
    "        print(i, j)"
   ]
  },
  {
   "cell_type": "code",
   "execution_count": 82,
   "id": "4017b4eb",
   "metadata": {},
   "outputs": [
    {
     "name": "stdout",
     "output_type": "stream",
     "text": [
      "0 0\n",
      "1 0\n",
      "1 1\n"
     ]
    }
   ],
   "source": [
    "# 8.다음 코드의 실행 결과로 출력될 수 없는 것은?\n",
    "# for i in range(0, 2):\n",
    "# for j in range(0, 2):\n",
    "# print(I, j)  # 오류남\n",
    "# if i == j:\n",
    "# break \n",
    "for i in range(0, 2):\n",
    "    for j in range(0, 2):\n",
    "        print(i, j)\n",
    "        if i == j:\n",
    "            break  # ②번"
   ]
  },
  {
   "cell_type": "code",
   "execution_count": 93,
   "id": "f3bb4b35",
   "metadata": {},
   "outputs": [
    {
     "name": "stdout",
     "output_type": "stream",
     "text": [
      "3579"
     ]
    }
   ],
   "source": [
    "# 9. 다음 코드의 실행결과는?\n",
    "L = [3, 4, 5, 6, 7, 8, 9, 10]\n",
    "for i, data in enumerate(L):\n",
    "    if (i%2 == 0):\n",
    "        print(data, end ='')"
   ]
  },
  {
   "cell_type": "code",
   "execution_count": 95,
   "id": "a9a3d628",
   "metadata": {},
   "outputs": [
    {
     "data": {
      "text/plain": [
       "[3, 5, 7, 9]"
      ]
     },
     "execution_count": 95,
     "metadata": {},
     "output_type": "execute_result"
    }
   ],
   "source": [
    "# 9. 다음 코드의 실행결과는?\n",
    "L = [3, 4, 5, 6, 7, 8, 9, 10]\n",
    "L[::2]"
   ]
  },
  {
   "cell_type": "code",
   "execution_count": 101,
   "id": "c779552a",
   "metadata": {},
   "outputs": [
    {
     "name": "stdout",
     "output_type": "stream",
     "text": [
      "컴퓨터가 발생한 임의의 수 : 4\n",
      "1~100사이의 수를 맞춰 보세요 :4\n",
      "축하 축하 맞추셨습니다\n",
      "끝\n"
     ]
    }
   ],
   "source": [
    "# 10번 2단계\n",
    "'''\n",
    "1~100 사이의 정수를 맞추기 프로그램\n",
    "(프로그램 안에서 random수가 만들어지고 그 random수 맞추기)\n",
    "1단계 : 숫자를 못 맞추면 UP/DOWN을 출력하고, 맞추면 축하메세지 뿌리고 끝남\n",
    "2단계 : 숫자를 못 맞추면 fRom~to를 조정, 맞추면 축하메세지 뿌리고 끝남\n",
    "3단계 : 2단계의 기회를 5회 제한. 5회의 기회가 지나면 실패 메세지 뿌리고 끝남\n",
    "(2단계와 3단계 연습문제)\n",
    "'''\n",
    "import random\n",
    "# (1) 1~100사이의 난수 발생\n",
    "fRom, to = 1, 100\n",
    "inputNum = 0 # 사용자가 맞출 수가 저장될 변수\n",
    "randomNum = random.randint(fRom, to)\n",
    "print('컴퓨터가 발생한 임의의 수 :', randomNum)\n",
    "# (2) 수를 입력받아 틀리면 범위 조정과 UP/DOWN 메세지 출력, \n",
    "#    맞추면 축하축하 메세지와 break하는 반복문\n",
    "while randomNum!=inputNum :\n",
    "    inputNum = int(input(f\"{fRom}~{to}사이의 수를 맞춰 보세요 :\"))\n",
    "    \n",
    "    if (inputNum<fRom) | (inputNum>to):\n",
    "        print('수의 범위를 벗어났습니다')\n",
    "    elif randomNum < inputNum:\n",
    "        print('DOWN ↓')\n",
    "        to = inputNum - 1\n",
    "    elif randomNum > inputNum:\n",
    "        print('UP ↑')\n",
    "        fRom = inputNum+1\n",
    "    else:\n",
    "        print('축하 축하 맞추셨습니다')\n",
    "print('끝')"
   ]
  },
  {
   "cell_type": "code",
   "execution_count": 102,
   "id": "4eb847b8",
   "metadata": {},
   "outputs": [
    {
     "name": "stdout",
     "output_type": "stream",
     "text": [
      "컴퓨터가 발생한 임의의 수 : 83\n",
      "1~100사이의 수를 맞춰 보세요(남은기회 5회) :84\n",
      "1~100사이의 84입력\n",
      "DOWN ↓\n",
      "1~83사이의 수를 맞춰 보세요(남은기회 4회) :82\n",
      "1~83사이의 82입력\n",
      "UP ↑\n",
      "83~83사이의 수를 맞춰 보세요(남은기회 3회) :83\n",
      "83~83사이의 83입력\n",
      "축하 축하 맞추셨습니다 3번만에 성공하셨습니다.\n"
     ]
    }
   ],
   "source": [
    "# 10번 3단계\n",
    "'''\n",
    "1~100 사이의 정수를 맞추기 프로그램\n",
    "(프로그램 안에서 random수가 만들어지고 그 random수 맞추기)\n",
    "1단계 : 숫자를 못 맞추면 UP/DOWN을 출력하고, 맞추면 축하메세지 뿌리고 끝남\n",
    "2단계 : 숫자를 못 맞추면 fRom~to를 조정, 맞추면 축하메세지 뿌리고 끝남\n",
    "3단계 : 2단계의 기회를 5회 제한. 5회의 기회가 지나면 실패 메세지 뿌리고 끝남\n",
    "(2단계와 3단계 연습문제)\n",
    "'''\n",
    "import random\n",
    "# (1) 1~100사이의 난수 발생\n",
    "fRom, to = 1, 100\n",
    "inputNum = 0 # 사용자가 맞출 수가 저장될 변수\n",
    "randomNum = random.randint(fRom, to)\n",
    "print('컴퓨터가 발생한 임의의 수 :', randomNum)\n",
    "# (2) 수를 입력받아 틀리면 범위 조정과 UP/DOWN 메세지 출력, \n",
    "#    맞추면 축하축하 메세지와 break하는 반복문\n",
    "for cnt in range(5, 0, -1):\n",
    "    inputNum = int(input(f\"{fRom}~{to}사이의 수를 맞춰 보세요(남은기회 {cnt}회) :\"))\n",
    "    print(f\"{fRom}~{to}사이의 {inputNum}입력\")\n",
    "    if (inputNum<fRom) | (inputNum>to):\n",
    "        print('수의 범위를 벗어났습니다')\n",
    "    elif randomNum < inputNum:\n",
    "        print('DOWN ↓')\n",
    "        to = inputNum - 1\n",
    "    elif randomNum > inputNum:\n",
    "        print('UP ↑')\n",
    "        fRom = inputNum+1\n",
    "    else:\n",
    "        print('축하 축하 맞추셨습니다 {}번만에 성공하셨습니다.'.format(6-cnt))\n",
    "        break\n",
    "else:\n",
    "    print('기회를 모두 사용하셨습니다. 실패하셨습니다')"
   ]
  },
  {
   "cell_type": "code",
   "execution_count": 103,
   "id": "cd9b6790",
   "metadata": {},
   "outputs": [
    {
     "name": "stdout",
     "output_type": "stream",
     "text": [
      "컴퓨터가 발생한 임의의 수 : 93\n",
      "1~100사이의 수를 맞춰 보세요(남은기회 5회) :90\n",
      "1~100사이의 90입력\n",
      "UP ↑\n",
      "91~100사이의 수를 맞춰 보세요(남은기회 4회) :91\n",
      "91~100사이의 91입력\n",
      "UP ↑\n",
      "92~100사이의 수를 맞춰 보세요(남은기회 3회) :92\n",
      "92~100사이의 92입력\n",
      "UP ↑\n",
      "93~100사이의 수를 맞춰 보세요(남은기회 2회) :93\n",
      "93~100사이의 93입력\n",
      "축하 축하 맞추셨습니다 4번만에 성공하셨습니다.\n"
     ]
    }
   ],
   "source": [
    "# 10번 3단계\n",
    "'''\n",
    "1~100 사이의 정수를 맞추기 프로그램\n",
    "(프로그램 안에서 random수가 만들어지고 그 random수 맞추기)\n",
    "1단계 : 숫자를 못 맞추면 UP/DOWN을 출력하고, 맞추면 축하메세지 뿌리고 끝남\n",
    "2단계 : 숫자를 못 맞추면 fRom~to를 조정, 맞추면 축하메세지 뿌리고 끝남\n",
    "3단계 : 2단계의 기회를 5회 제한. 5회의 기회가 지나면 실패 메세지 뿌리고 끝남\n",
    "(2단계와 3단계 연습문제)\n",
    "'''\n",
    "import random\n",
    "# (1) 1~100사이의 난수 발생\n",
    "fRom, to = 1, 100\n",
    "inputNum = 0 # 사용자가 맞출 수가 저장될 변수\n",
    "randomNum = random.randint(fRom, to)\n",
    "print('컴퓨터가 발생한 임의의 수 :', randomNum)\n",
    "message = '기회를 모두 사용하셨습니다. 실패하셨습니다'\n",
    "# (2) 수를 입력받아 틀리면 범위 조정과 UP/DOWN 메세지 출력, \n",
    "#    맞추면 축하축하 메세지와 break하는 반복문\n",
    "for cnt in range(5, 0, -1):\n",
    "    inputNum = int(input(f\"{fRom}~{to}사이의 수를 맞춰 보세요(남은기회 {cnt}회) :\"))\n",
    "    print(f\"{fRom}~{to}사이의 {inputNum}입력\")\n",
    "    if (inputNum<fRom) | (inputNum>to):\n",
    "        print('수의 범위를 벗어났습니다')\n",
    "    elif randomNum < inputNum:\n",
    "        print('DOWN ↓')\n",
    "        to = inputNum - 1\n",
    "    elif randomNum > inputNum:\n",
    "        print('UP ↑')\n",
    "        fRom = inputNum+1\n",
    "    else:\n",
    "        message = '축하 축하 맞추셨습니다 {}번만에 성공하셨습니다.'.format(6-cnt)\n",
    "        break\n",
    "print(message)"
   ]
  },
  {
   "cell_type": "code",
   "execution_count": null,
   "id": "6201255b",
   "metadata": {},
   "outputs": [],
   "source": []
  }
 ],
 "metadata": {
  "kernelspec": {
   "display_name": "Python 3 (ipykernel)",
   "language": "python",
   "name": "python3"
  },
  "language_info": {
   "codemirror_mode": {
    "name": "ipython",
    "version": 3
   },
   "file_extension": ".py",
   "mimetype": "text/x-python",
   "name": "python",
   "nbconvert_exporter": "python",
   "pygments_lexer": "ipython3",
   "version": "3.10.9"
  },
  "toc": {
   "base_numbering": 1,
   "nav_menu": {},
   "number_sections": false,
   "sideBar": true,
   "skip_h1_title": false,
   "title_cell": "Table of Contents",
   "title_sidebar": "Contents",
   "toc_cell": false,
   "toc_position": {
    "height": "calc(100% - 180px)",
    "left": "10px",
    "top": "150px",
    "width": "203.8px"
   },
   "toc_section_display": true,
   "toc_window_display": true
  }
 },
 "nbformat": 4,
 "nbformat_minor": 5
}
