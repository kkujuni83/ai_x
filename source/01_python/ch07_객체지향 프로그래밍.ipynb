{
 "cells": [
  {
   "cell_type": "code",
   "execution_count": 5,
   "id": "ff57d84f",
   "metadata": {},
   "outputs": [
    {
     "data": {
      "text/html": [
       "\n",
       "<style>\n",
       "div.container{width:95% !important;}\n",
       "div.cell.code_cell.rendered{width:100%;}\n",
       "div.CodeMirror {font-family:Consolas; font-size:15pt;}\n",
       "div.output {font-size:15pt; font-weight:bold;}\n",
       "div.input {font-family:Consolas; font-size:15pt;}\n",
       "div.prompt {min-width:70px;}\n",
       "div#toc-wrapper{padding-top:120px;}\n",
       "div.text_cell_render ul li{font-size:12pt;padding:5px;}\n",
       "table.dataframe{font-size:15px;}\n",
       "</style>\n"
      ],
      "text/plain": [
       "<IPython.core.display.HTML object>"
      ]
     },
     "metadata": {},
     "output_type": "display_data"
    }
   ],
   "source": [
    "from IPython.display import display, HTML\n",
    "display(HTML(\"\"\"\n",
    "<style>\n",
    "div.container{width:95% !important;}\n",
    "div.cell.code_cell.rendered{width:100%;}\n",
    "div.CodeMirror {font-family:Consolas; font-size:15pt;}\n",
    "div.output {font-size:15pt; font-weight:bold;}\n",
    "div.input {font-family:Consolas; font-size:15pt;}\n",
    "div.prompt {min-width:70px;}\n",
    "div#toc-wrapper{padding-top:120px;}\n",
    "div.text_cell_render ul li{font-size:12pt;padding:5px;}\n",
    "table.dataframe{font-size:15px;}\n",
    "</style>\n",
    "\"\"\"))"
   ]
  },
  {
   "cell_type": "markdown",
   "id": "6bba235b",
   "metadata": {},
   "source": [
    "<b><font color=\"red\" size=\"5\">ch07.객체지향 프로그래밍</font></b> "
   ]
  },
  {
   "cell_type": "code",
   "execution_count": 8,
   "id": "77b0736e",
   "metadata": {},
   "outputs": [
    {
     "name": "stdout",
     "output_type": "stream",
     "text": [
      "홍길동 남자 MBC\n",
      "홍낄쑥 None MBC\n",
      "{'name': '홍낄쑥', 'sender': '여자', 'accademy': 'MBC'}\n"
     ]
    }
   ],
   "source": [
    "person1 = {'name':'홍길동', 'gender':'남자', 'accademy':'MBC'}\n",
    "person2 = {'name':'홍길숙', 'sender':'여자', 'accademy':'MBC'}\n",
    "print(person1['name'], person1['gender'], person1['accademy'])\n",
    "person2['name'] = '홍낄쑥'\n",
    "print(person2['name'], person2.get('gender'), person2['accademy'])\n",
    "print(person2)"
   ]
  },
  {
   "cell_type": "code",
   "execution_count": 10,
   "id": "4f6de37f",
   "metadata": {},
   "outputs": [],
   "source": [
    "class Person:\n",
    "    accademy = 'MBC' # 클래스 변수\n",
    "    def __init__(self, name, gender): #생성자함수\n",
    "        self.name = name # 객체안의 변수(인스턴스 변수)\n",
    "        self.gender = gender\n",
    "        self.accademy = Person.accademy\n",
    "    def print_info(self):\n",
    "        print(\"{}는 {}입니다 {}를 다닙니다\".format(self.name,\n",
    "                                                 self.gender,\n",
    "                                                 self.accademy))\n",
    "    def __str__(self):\n",
    "        return \"{}는 {}입니다 {}를 다닙니다\".format(self.name,\n",
    "                                                  self.gender,\n",
    "                                                  self.accademy)"
   ]
  },
  {
   "cell_type": "code",
   "execution_count": 11,
   "id": "30317574",
   "metadata": {},
   "outputs": [
    {
     "name": "stdout",
     "output_type": "stream",
     "text": [
      "홍길동는 남자입니다 MBC를 다닙니다\n",
      "홍길숙는 여자입니다 MBC를 다닙니다\n",
      "마길동는 남자입니다 CBC를 다닙니다\n",
      "홍길숙는 여자입니다 MBC를 다닙니다\n"
     ]
    }
   ],
   "source": [
    "p1 = Person('홍길동','남자')\n",
    "p2 = Person('홍길숙','여자')\n",
    "p1.print_info()\n",
    "p2.print_info()\n",
    "p1.name = '마길동'\n",
    "p1.accademy = 'CBC'\n",
    "print(p1)\n",
    "print(p2)"
   ]
  },
  {
   "cell_type": "markdown",
   "id": "bba464fb",
   "metadata": {},
   "source": [
    "# 1절. 객체와 클래스\n",
    "class 클래스명(상속받을 클래스명):\n",
    "    변수나 함수들 선언"
   ]
  },
  {
   "cell_type": "code",
   "execution_count": 12,
   "id": "29b6dae7",
   "metadata": {},
   "outputs": [
    {
     "name": "stdout",
     "output_type": "stream",
     "text": [
      "<__main__.Person object at 0x000002BDDDCF8D60>\n",
      "<class '__main__.Person'>\n"
     ]
    }
   ],
   "source": [
    "class Person:\n",
    "    '''\n",
    "    Person 클래스는 어쩌구 저쩌구 설명하는 독스트링\n",
    "    생성자 함수가 없을 경우, 디폴트 생성자 함수가 자동 생성\n",
    "    '''\n",
    "    pass\n",
    "p1 = Person()\n",
    "print(p1.__str__())\n",
    "print(type(p1))"
   ]
  },
  {
   "cell_type": "code",
   "execution_count": 13,
   "id": "50b80f91",
   "metadata": {},
   "outputs": [
    {
     "data": {
      "text/plain": [
       "True"
      ]
     },
     "execution_count": 13,
     "metadata": {},
     "output_type": "execute_result"
    }
   ],
   "source": [
    "isinstance(p1, Person)"
   ]
  },
  {
   "cell_type": "code",
   "execution_count": 14,
   "id": "50f942be",
   "metadata": {},
   "outputs": [
    {
     "data": {
      "text/plain": [
       "'\\n    Person 클래스는 어쩌구 저쩌구 설명하는 독스트링\\n    생성자 함수가 없을 경우, 디폴트 생성자 함수가 자동 생성\\n    '"
      ]
     },
     "execution_count": 14,
     "metadata": {},
     "output_type": "execute_result"
    }
   ],
   "source": [
    "p1.__doc__"
   ]
  },
  {
   "cell_type": "markdown",
   "id": "646d3c5d",
   "metadata": {},
   "source": [
    "# 2절. 생성자와 소멸자\n",
    "생성자 : __init__(self, 매개변수,..) - 객체가 생성될 때 자동 실행\n",
    "        객체 생성시 필요한 인스턴스 변수 초기화를 포함\n",
    "소멸자 : __del__(self) - 객체가 소멸될 때 자동 실행\n",
    "        인스턴스 객체의 레퍼런스 카운트가 0이 될 때 실행"
   ]
  },
  {
   "cell_type": "code",
   "execution_count": 15,
   "id": "8907f927",
   "metadata": {},
   "outputs": [],
   "source": [
    "class Person:\n",
    "    # 파이썬은 오버로딩(함수 중복 정의) 지원 안 됨\n",
    "    def __init__(self, name, gender='남자'):\n",
    "        self.name = name\n",
    "        self.gender = gender\n",
    "        print('Person 객체 생성합니다', name)\n",
    "    def __del__(self):\n",
    "        print('Person 객체 소멸시킵니다', self.name)\n",
    "    def print_info(self):\n",
    "        print(\"{}는 {}입니다\".format(self.name, self.gender))\n",
    "    def __str__(self): # 오버라이딩(함수 재정의)\n",
    "        return f\"{self.name}는 {self.gender}입니다\"     "
   ]
  },
  {
   "cell_type": "code",
   "execution_count": 16,
   "id": "4bea98c4",
   "metadata": {},
   "outputs": [
    {
     "name": "stdout",
     "output_type": "stream",
     "text": [
      "Person 객체 생성합니다 신사임당\n"
     ]
    }
   ],
   "source": [
    "p1 = Person(\"신사임당\", \"여자\")"
   ]
  },
  {
   "cell_type": "code",
   "execution_count": 17,
   "id": "67ffe333",
   "metadata": {},
   "outputs": [
    {
     "name": "stdout",
     "output_type": "stream",
     "text": [
      "Person 객체 생성합니다 홍길동\n",
      "홍길동는 남자입니다\n"
     ]
    }
   ],
   "source": [
    "p2 = Person(\"홍길동\")\n",
    "print(p2)"
   ]
  },
  {
   "cell_type": "code",
   "execution_count": 18,
   "id": "de3d5eaf",
   "metadata": {},
   "outputs": [],
   "source": [
    "p3 = p2"
   ]
  },
  {
   "cell_type": "code",
   "execution_count": 19,
   "id": "42f691c2",
   "metadata": {},
   "outputs": [
    {
     "name": "stdout",
     "output_type": "stream",
     "text": [
      "Person 객체 소멸시킵니다 신사임당\n"
     ]
    }
   ],
   "source": [
    "del p1"
   ]
  },
  {
   "cell_type": "code",
   "execution_count": 20,
   "id": "d6b7126b",
   "metadata": {},
   "outputs": [],
   "source": [
    "del p2"
   ]
  },
  {
   "cell_type": "code",
   "execution_count": 21,
   "id": "56212172",
   "metadata": {},
   "outputs": [
    {
     "name": "stdout",
     "output_type": "stream",
     "text": [
      "Person 객체 소멸시킵니다 홍길동\n"
     ]
    }
   ],
   "source": [
    "del p3"
   ]
  },
  {
   "cell_type": "markdown",
   "id": "6fc45012",
   "metadata": {},
   "source": [
    "# 3절. 변수와 메소드(함수)\n",
    "- 인스턴스 변수 vs 클래스 변수\n",
    "- 인스턴스 메소드(self) vs 클래스메소드(clz) vs static 메소드()"
   ]
  },
  {
   "cell_type": "code",
   "execution_count": 1,
   "id": "c52f18e7",
   "metadata": {},
   "outputs": [
    {
     "name": "stdout",
     "output_type": "stream",
     "text": [
      "홍길동 남자\n"
     ]
    }
   ],
   "source": [
    "class Person:\n",
    "    name = \"홍길동\" # 클래스 변수\n",
    "    gender = \"남자\"\n",
    "print(Person.name, Person.gender)"
   ]
  },
  {
   "cell_type": "code",
   "execution_count": 2,
   "id": "c8676a2d",
   "metadata": {},
   "outputs": [
    {
     "name": "stdout",
     "output_type": "stream",
     "text": [
      "홍길동 남자\n",
      "홍길동 남자\n",
      "홍길동 남자\n"
     ]
    }
   ],
   "source": [
    "p1 = Person()\n",
    "p2 = Person()\n",
    "print(Person.name, Person.gender)\n",
    "print(p1.name, p1.gender)\n",
    "print(p2.name, p2.gender)"
   ]
  },
  {
   "cell_type": "code",
   "execution_count": 3,
   "id": "6539856f",
   "metadata": {},
   "outputs": [
    {
     "name": "stdout",
     "output_type": "stream",
     "text": [
      "홍길동 남자\n",
      "홍길동 남자\n",
      "이순신 남자\n"
     ]
    }
   ],
   "source": [
    "p2.name = \"이순신\"\n",
    "print(Person.name, Person.gender)\n",
    "print(p1.name, p1.gender)\n",
    "print(p2.name, p2.gender)"
   ]
  },
  {
   "cell_type": "code",
   "execution_count": 4,
   "id": "374fcf71",
   "metadata": {},
   "outputs": [
    {
     "name": "stdout",
     "output_type": "stream",
     "text": [
      "홍길동 남자\n",
      "홍길동 남자\n",
      "이순신 남자\n"
     ]
    }
   ],
   "source": [
    "# Person.name = \"리사\"\n",
    "# Person.gender = \"여자\"\n",
    "print(Person.name, Person.gender)\n",
    "print(p1.name, p1.gender)\n",
    "print(p2.name, p2.gender)"
   ]
  },
  {
   "cell_type": "markdown",
   "id": "1698f14e",
   "metadata": {},
   "source": [
    "※ 인스턴스 메소드(self) vs 클래스메소드(clz) vs static 메소드()\n",
    "- 인스턴스 메소드 : 첫번째 인자에 self를 꼭 명시. 객체를 통해서만 호출할 수 있는 메소드\n",
    "- 클래스 메소드 : 메소드위에 @classmethod를 선언한 메소드. 첫번째 인자에 cls(clz) 꼭 명시\n",
    "- static 메소드 : 메소드위에 @staticmethod를 선언한 메소드. 인자를 넣지 않음"
   ]
  },
  {
   "cell_type": "code",
   "execution_count": 6,
   "id": "7ab6cd45",
   "metadata": {},
   "outputs": [],
   "source": [
    "class Person:\n",
    "    name = \"홍길동\"\n",
    "    gender = \"남자\"\n",
    "    def print_info(self): # 객체변수명.print_info()로 호출\n",
    "        print(f\"인스턴스(일반)메소드 - {self.name}는 {self.gender}입니다\")\n",
    "    def change_info(self, name, gender=\"남자\"): #객체변수.change_info(\"김\",\"여자\")\n",
    "        self.name = name\n",
    "        self.gender = gender\n",
    "        print(f\"인스턴스(일반)메소드 - {self.name}/{self.gender}로 변경 완료\")\n",
    "    @classmethod\n",
    "    def do_(clz): # clz==Person. 클래스 변수를 이용한 로직. Person.do_()호출\n",
    "        clz.name = \"신사임당\"\n",
    "        clz.gender = \"여자\"\n",
    "        print(f\"클래스 메소드 - {clz.name}/{clz.gender} 변경완료\")\n",
    "    @staticmethod\n",
    "    def that_(): # 클래스 변수를 이용하기 보다는 로직이 우선일 경우. Person.that_()\n",
    "        Person.name = \"신길동\"\n",
    "        Person.gender = \"남자\"\n",
    "        print(f\"static 메소드 - {Person.name}/{Person.gender} 변경완료\")"
   ]
  },
  {
   "cell_type": "code",
   "execution_count": 7,
   "id": "56c140b4",
   "metadata": {},
   "outputs": [
    {
     "name": "stdout",
     "output_type": "stream",
     "text": [
      "인스턴스(일반)메소드 - 홍길동는 남자입니다\n"
     ]
    }
   ],
   "source": [
    "p1 = Person()\n",
    "p1.print_info()"
   ]
  },
  {
   "cell_type": "code",
   "execution_count": 8,
   "id": "51d63152",
   "metadata": {},
   "outputs": [
    {
     "name": "stdout",
     "output_type": "stream",
     "text": [
      "클래스 메소드 - 신사임당/여자 변경완료\n"
     ]
    }
   ],
   "source": [
    "Person.do_()"
   ]
  },
  {
   "cell_type": "code",
   "execution_count": 9,
   "id": "a09fdce7",
   "metadata": {},
   "outputs": [
    {
     "name": "stdout",
     "output_type": "stream",
     "text": [
      "static 메소드 - 신길동/남자 변경완료\n"
     ]
    }
   ],
   "source": [
    "Person.that_()"
   ]
  },
  {
   "cell_type": "code",
   "execution_count": 11,
   "id": "dafcf580",
   "metadata": {},
   "outputs": [
    {
     "name": "stdout",
     "output_type": "stream",
     "text": [
      "인스턴스(일반)메소드 - 신길동는 남자입니다\n"
     ]
    }
   ],
   "source": [
    "p1.print_info()"
   ]
  },
  {
   "cell_type": "code",
   "execution_count": 13,
   "id": "888fdbf8",
   "metadata": {},
   "outputs": [
    {
     "ename": "SyntaxError",
     "evalue": "invalid syntax (2284606542.py, line 2)",
     "output_type": "error",
     "traceback": [
      "\u001b[1;36m  Cell \u001b[1;32mIn[13], line 2\u001b[1;36m\u001b[0m\n\u001b[1;33m    **객체를 이용하면 객체에 정보를 저장하고, 그 정보를 이용해서 어떤 기능을 수행할 수 있다*\u001b[0m\n\u001b[1;37m    ^\u001b[0m\n\u001b[1;31mSyntaxError\u001b[0m\u001b[1;31m:\u001b[0m invalid syntax\n"
     ]
    }
   ],
   "source": [
    "## 요약\n",
    "**객체를 이용하면 객체에 정보를 저장하고, 그 정보를 이용해서 어떤 기능을 수행할 수 있다**\n",
    "**객체 = 뎅터(변수: 객체마다 고유의 값) + 기능(메소드, 함수)**\n",
    "\n",
    "**그 객체를 만들기 위한 툴 => 클래스**\n",
    "'''\n",
    "    class 클래스명 :\n",
    "        '독스트링'\n",
    "        클래스변수명 = 값\n",
    "        def __init__(self, [객체맴버를 초기화할 변수=값,...]):\n",
    "            self.인스턴스(일반)변수=값\n",
    "            객체를 생성 할 때 객체 맴버변수의 초기화\n",
    "        def mathod(self):\n",
    "            인스턴스 메소드(일반함수)의 매개변수는 self를 반드시 포함\n",
    "        @claddmethod\n",
    "        sef classmethod(cls):\n",
    "            코드\n",
    "        @staticmethod\n",
    "        def staticmethod():\n",
    "            코드\n",
    "    객체변수 = 클래스명()\n",
    "    객체변수.method()\n",
    "    클래스명.classmethod()\n",
    "    클래스명.staticmethod()\n",
    "'''"
   ]
  },
  {
   "cell_type": "code",
   "execution_count": 14,
   "id": "01b6912c",
   "metadata": {},
   "outputs": [
    {
     "name": "stdout",
     "output_type": "stream",
     "text": [
      "홍길동입니다\n",
      "홍길동입니다\n"
     ]
    }
   ],
   "source": [
    "class person:\n",
    "    def __init__(self, name):\n",
    "        self.name = name\n",
    "    def __str__(self):\n",
    "        return f'{self.name}입니다'\n",
    "    def print_info(self):\n",
    "        #print(f'{self.name}입니다')\n",
    "        print(self)\n",
    "p = person(\"홍길동\")\n",
    "p.print_info()\n",
    "print(p)"
   ]
  },
  {
   "cell_type": "code",
   "execution_count": null,
   "id": "4ac54254",
   "metadata": {},
   "outputs": [],
   "source": []
  },
  {
   "cell_type": "markdown",
   "id": "2ed2dc27",
   "metadata": {},
   "source": [
    "# 4절. 상속과 재정의\n",
    "- 클래스를 재사용\n",
    "- 상속을 이용하면 부모클래스의 모든 속성을 자식클래스로 물려줄 수 있음\n",
    "- 문법:class 자식클래스명(부모클래스명):"
   ]
  },
  {
   "cell_type": "code",
   "execution_count": 19,
   "id": "d0632c93",
   "metadata": {},
   "outputs": [
    {
     "name": "stdout",
     "output_type": "stream",
     "text": [
      "두 수 초기화\n",
      "4\n",
      "4\n",
      "두 수 초기화\n",
      "5\n"
     ]
    }
   ],
   "source": [
    "class Cal:\n",
    "    def __init__(self, num1=1, num2=2):\n",
    "        print('두 수 초기화')\n",
    "        self.num1 = num1\n",
    "        self.num2 = num2\n",
    "    def add(self):\n",
    "        return self.num1+self.num2\n",
    "    def sub(self):\n",
    "        return self.num1-self.num2\n",
    "    def div(self):\n",
    "        return self.num1/self.num2 if self.num2!=0 else '0으로 나눌 수 없어요'\n",
    "    def __str__(self):\n",
    "        return 'num1={}, num2={}'.format(self.num1, self.num2)\n",
    "\n",
    "class Cal_inherit(Cal):\n",
    "    def mul(self):\n",
    "        return self.num1*self.num2\n",
    "\n",
    "obj1 = Cal_inherit(2, 2)\n",
    "print(obj1.add())\n",
    "print(obj1.mul())\n",
    "obj2 = Cal(2, 3)\n",
    "print(obj2.add())"
   ]
  },
  {
   "cell_type": "code",
   "execution_count": 20,
   "id": "58b2f807",
   "metadata": {},
   "outputs": [
    {
     "data": {
      "text/plain": [
       "(type, type)"
      ]
     },
     "execution_count": 20,
     "metadata": {},
     "output_type": "execute_result"
    }
   ],
   "source": [
    "type(Cal), type(Cal_inherit)"
   ]
  },
  {
   "cell_type": "code",
   "execution_count": 21,
   "id": "02c1758e",
   "metadata": {},
   "outputs": [
    {
     "data": {
      "text/plain": [
       "(__main__.Cal_inherit, True, True)"
      ]
     },
     "execution_count": 21,
     "metadata": {},
     "output_type": "execute_result"
    }
   ],
   "source": [
    "type(obj1), isinstance(obj1, Cal_inherit), isinstance(obj1, Cal)\n",
    "# Cal_inherit is a Cal (상속은 is a 관계)"
   ]
  },
  {
   "cell_type": "code",
   "execution_count": 22,
   "id": "9ffbc05d",
   "metadata": {},
   "outputs": [
    {
     "name": "stdout",
     "output_type": "stream",
     "text": [
      "이름과 성별 초기화\n",
      "홍길동님은 남자\n",
      "홍길동님은 남자\n"
     ]
    }
   ],
   "source": [
    "class Person:\n",
    "    'Person은 이름과 성별을 멤버변수로 갖고, 출력 기능'\n",
    "    def __init__(self, name, gender):\n",
    "        print('이름과 성별 초기화')\n",
    "        self.name = name\n",
    "        self.gender = gender\n",
    "    def __str__(self):\n",
    "        return \"{}님은 {}\".format(self.name, self.gender)\n",
    "    def print_info(self):\n",
    "        print(self)\n",
    "p = Person(\"홍길동\", \"남자\")\n",
    "p.print_info()\n",
    "Person.print_info(p)"
   ]
  },
  {
   "cell_type": "code",
   "execution_count": 23,
   "id": "0a78ffec",
   "metadata": {},
   "outputs": [],
   "source": [
    "# override : 함수의 재정의(부모클래스의 함수를 자식클래스에서 다시 정의)\n",
    "    #        부모클래스의 함수명과 매개변수 개수가 동일\n",
    "# overload : 함수의 중복정의(같은 이름의 함수를 매개변수 갯수를 달리 해서 정의) - 불가\n",
    "class Student(Person):\n",
    "    def __init__(self, name, gender, major):\n",
    "#         self.name = name\n",
    "#         self.gender = gender\n",
    "        super().__init__(name, gender) # super() : \"부모클래스의\"를 의미\n",
    "        # Person.__init__(self, name, gender)\n",
    "        self.major = major\n",
    "    def __str__(self): # override\n",
    "        return super().__str__() + \"이고, 전공은 {}\".format(self.major)"
   ]
  },
  {
   "cell_type": "code",
   "execution_count": 24,
   "id": "e7c484fd",
   "metadata": {},
   "outputs": [
    {
     "name": "stdout",
     "output_type": "stream",
     "text": [
      "이름과 성별 초기화\n",
      "홍길숙님은 여자이고, 전공은 AI\n",
      "홍길숙님은 여자이고, 전공은 AI\n"
     ]
    }
   ],
   "source": [
    "s = Student(\"홍길숙\",\"여자\",\"AI\")\n",
    "print(s)\n",
    "s.print_info()"
   ]
  },
  {
   "cell_type": "code",
   "execution_count": 25,
   "id": "dd5ff9cf",
   "metadata": {},
   "outputs": [
    {
     "data": {
      "text/plain": [
       "(True, True)"
      ]
     },
     "execution_count": 25,
     "metadata": {},
     "output_type": "execute_result"
    }
   ],
   "source": [
    "isinstance(s, Student), isinstance(s, Person)"
   ]
  },
  {
   "cell_type": "markdown",
   "id": "fb33d27c",
   "metadata": {},
   "source": [
    "## 정적변수(static 변수) : 여러 객체들 사이에 데이터를 공유하고 싶을 때 사용\n",
    "- static 변수 앞에 under score 2개(__)를 붙이면 클래스명._클래스명__static변수명으로 참조\n",
    "- 클래스변수는 외부에서 바로 접근 가능.\n",
    "- static 변수는 외부에서 바로 접근하는 것을 방지\n",
    "- static 변수는 클래스 내부에서만 접근하도록 하려는 의도."
   ]
  },
  {
   "cell_type": "code",
   "execution_count": 27,
   "id": "0acfae84",
   "metadata": {},
   "outputs": [],
   "source": [
    "class Person:\n",
    "    def __init__(self, name, gender):\n",
    "        self.name = name\n",
    "        self.gender = gender\n",
    "    def print_info(self): # 추상메소드\n",
    "        raise Exception(\"이 메소드는 호출하면 예외가 납니다\") # 강제 예외 발생\n",
    "    def __str__(self):\n",
    "        return f'{self.name}은 {self.gender}'\n",
    "\n",
    "class Student(Person):\n",
    "    __count = 0 # static 변수(객체의 갯수)\n",
    "    # 클래스명._클래스명__count로 사용, 클래스명.__count는 외부에서 접근 불가\n",
    "    def __init__(self, name, gender, major):\n",
    "        super().__init__(name, gender)\n",
    "        self.major = major\n",
    "        Student._Student__count += 1 # 객체가 생성될 때마다 __count 1 증가\n",
    "    def __del__(self):\n",
    "        print('객체 소멸')\n",
    "        Student._Student__count -= 1 # 객체가 소멸될 때마다 __count 1 감소\n",
    "    def print_info(self):\n",
    "        print(\"{}는 {}이고, 전공은 {}({}번째 객체)\".format(self.name,\n",
    "                                       self.gender,\n",
    "                                       self.major,\n",
    "                                       Student._Student__count))\n",
    "    def __str__(self):\n",
    "        return super().__str__() + \"이고, 전공은 {}\".format(self.major)\n",
    "    @classmethod\n",
    "    def get_count(cls):\n",
    "        return Student._Student__count"
   ]
  },
  {
   "cell_type": "code",
   "execution_count": 28,
   "id": "f710f5d3",
   "metadata": {},
   "outputs": [
    {
     "name": "stdout",
     "output_type": "stream",
     "text": [
      "홍길동는 남자이고, 전공은 AI(1번째 객체)\n"
     ]
    }
   ],
   "source": [
    "# p = Person(\"홍\",\"남자\")\n",
    "# p.print_info() # 추상메소드\n",
    "s1 = Student(\"홍길동\", \"남자\", \"AI\")\n",
    "s1.print_info()"
   ]
  },
  {
   "cell_type": "code",
   "execution_count": 29,
   "id": "9b4a5ee0",
   "metadata": {},
   "outputs": [
    {
     "name": "stdout",
     "output_type": "stream",
     "text": [
      "김길숙는 여자이고, 전공은 데이터(2번째 객체)\n"
     ]
    }
   ],
   "source": [
    "s2 = Student(\"김길숙\", \"여자\", \"데이터\")\n",
    "s2.print_info()"
   ]
  },
  {
   "cell_type": "code",
   "execution_count": 30,
   "id": "c1186571",
   "metadata": {},
   "outputs": [
    {
     "name": "stdout",
     "output_type": "stream",
     "text": [
      "신길동는 남자이고, 전공은 컴공(3번째 객체)\n"
     ]
    }
   ],
   "source": [
    "s3 = Student(\"신길동\", \"남자\", \"컴공\")\n",
    "s3.print_info()"
   ]
  },
  {
   "cell_type": "code",
   "execution_count": 31,
   "id": "13d32bd8",
   "metadata": {},
   "outputs": [
    {
     "data": {
      "text/plain": [
       "3"
      ]
     },
     "execution_count": 31,
     "metadata": {},
     "output_type": "execute_result"
    }
   ],
   "source": [
    "Student.get_count()"
   ]
  },
  {
   "cell_type": "code",
   "execution_count": 32,
   "id": "9c4ab857",
   "metadata": {},
   "outputs": [
    {
     "name": "stdout",
     "output_type": "stream",
     "text": [
      "객체 소멸\n",
      "객체 소멸\n"
     ]
    }
   ],
   "source": [
    "del s3, s2"
   ]
  },
  {
   "cell_type": "code",
   "execution_count": 33,
   "id": "8c20cc28",
   "metadata": {},
   "outputs": [
    {
     "data": {
      "text/plain": [
       "1"
      ]
     },
     "execution_count": 33,
     "metadata": {},
     "output_type": "execute_result"
    }
   ],
   "source": [
    "Student.get_count()"
   ]
  },
  {
   "cell_type": "markdown",
   "id": "9e9063c1",
   "metadata": {},
   "source": [
    "# 5절. 연습문제\n",
    "## 실습형"
   ]
  },
  {
   "cell_type": "code",
   "execution_count": 47,
   "id": "d4a8161e",
   "metadata": {},
   "outputs": [],
   "source": [
    "#1\n",
    "class Shape:\n",
    "    def __init__(self, x=0, y=0):\n",
    "        self.x = x\n",
    "        self.y = y\n",
    "    def move(self, x, y):\n",
    "        'x, y좌표 이동'\n",
    "        self.x += x\n",
    "        self.y += y\n",
    "    def __str__(self):\n",
    "        return 'x좌표 : {}, y좌표 : {}'.format(self.x, self.y)\n",
    "    def calc_area(self):\n",
    "        raise Exception('강제 예외 발생(이 메소드는 상속받는 곳에서 재정의 강요) \\\n",
    "                    : 추상메소드')\n",
    "    @staticmethod\n",
    "    def staticmethod_():\n",
    "        print(\"도형 클래스 staticmethod 호출\")"
   ]
  },
  {
   "cell_type": "code",
   "execution_count": 49,
   "id": "b7e9757d",
   "metadata": {},
   "outputs": [
    {
     "name": "stdout",
     "output_type": "stream",
     "text": [
      "x좌표 : 2, y좌표 : 2\n",
      "x좌표 : 12, y좌표 : 7\n"
     ]
    }
   ],
   "source": [
    "s = Shape(2,2)\n",
    "print(s)\n",
    "s.move(10,5)\n",
    "print(s)\n",
    "# s.calc_area()"
   ]
  },
  {
   "cell_type": "code",
   "execution_count": 56,
   "id": "7408afc1",
   "metadata": {},
   "outputs": [
    {
     "name": "stdout",
     "output_type": "stream",
     "text": [
      "x좌표 : 0, y좌표 : 0\n",
      "원의 면적: 78.5\n",
      "x좌표 : 0, y좌표 : 0\n",
      "사각형의 면적: 20\n"
     ]
    }
   ],
   "source": [
    "from abc import ABC, abstractmethod\n",
    "\n",
    "class Shape(ABC):\n",
    "    def __init__(self, x=0, y=0):\n",
    "        self.x = x\n",
    "        self.y = y\n",
    "    def move(self, x, y):\n",
    "        'x, y좌표 이동'\n",
    "        self.x += x\n",
    "        self.y += y\n",
    "    def __str__(self):\n",
    "        return 'x좌표 : {}, y좌표 : {}'.format(self.x, self.y)\n",
    "    @abstractmethod\n",
    "    def calc_area(self):\n",
    "        raise NotImplementedError('이 메소드는 상속받는 곳에서 반드시 구현해야 합니다.')\n",
    "    @staticmethod\n",
    "    def staticmethod_():\n",
    "        print(\"도형 클래스 staticmethod 호출\")\n",
    "\n",
    "class Circle(Shape):\n",
    "    def __init__(self, x=0, y=0, radius=0):\n",
    "        super().__init__(x, y)\n",
    "        self.radius = radius\n",
    "    def calc_area(self):\n",
    "        return 3.14 * self.radius ** 2\n",
    "\n",
    "class Rectangle(Shape):\n",
    "    def __init__(self, x=0, y=0, width=0, height=0):\n",
    "        super().__init__(x, y)\n",
    "        self.width = width\n",
    "        self.height = height\n",
    "    def calc_area(self):\n",
    "        return self.width * self.height\n",
    "\n",
    "# shape = Shape() # 오류 발생: 추상 클래스의 인스턴스화 불가\n",
    "circle = Circle(radius=5)\n",
    "print(circle)\n",
    "print(f\"원의 면적: {circle.calc_area()}\")\n",
    "\n",
    "rectangle = Rectangle(width=4, height=5)\n",
    "print(rectangle)\n",
    "print(f\"사각형의 면적: {rectangle.calc_area()}\")"
   ]
  },
  {
   "cell_type": "code",
   "execution_count": 58,
   "id": "7a9a6749",
   "metadata": {},
   "outputs": [
    {
     "name": "stdout",
     "output_type": "stream",
     "text": [
      "[Circle]: Shape 생성 (x=1, y=2)\n",
      "[Circle]: 원 생성 (반지름=5)\n",
      "[Circle]: 좌표 이동 (dx=3, dy=4), 현재 좌표: (x=4, y=6)\n",
      "x좌표 : 4, y좌표 : 6\n",
      "원의 면적: 78.5\n"
     ]
    }
   ],
   "source": [
    "class Loggable:\n",
    "    def log(self, message):\n",
    "        print(f\"[{self.__class__.__name__}]: {message}\")\n",
    "\n",
    "class Shape(Loggable):\n",
    "    def __init__(self, x=0, y=0):\n",
    "        self.x = x\n",
    "        self.y = y\n",
    "        self.log(f\"Shape 생성 (x={x}, y={y})\")\n",
    "    def move(self, dx, dy):\n",
    "        self.x += dx\n",
    "        self.y += dy\n",
    "        self.log(f\"좌표 이동 (dx={dx}, dy={dy}), 현재 좌표: (x={self.x}, y={self.y})\")\n",
    "    def __str__(self):\n",
    "        return 'x좌표 : {}, y좌표 : {}'.format(self.x, self.y)\n",
    "    def calc_area(self):\n",
    "        raise Exception('강제 예외 발생(이 메소드는 상속받는 곳에서 재정의 강요) \\\n",
    "                         : 추상메소드')\n",
    "    @staticmethod\n",
    "    def staticmethod_():\n",
    "        print(\"도형 클래스 staticmethod 호출\")\n",
    "\n",
    "class Circle(Shape):\n",
    "    def __init__(self, x=0, y=0, radius=0):\n",
    "        super().__init__(x, y)\n",
    "        self.radius = radius\n",
    "        self.log(f\"원 생성 (반지름={radius})\")\n",
    "    def calc_area(self):\n",
    "        return 3.14 * self.radius ** 2\n",
    "\n",
    "circle = Circle(1, 2, 5)\n",
    "circle.move(3, 4)\n",
    "print(circle)\n",
    "print(f\"원의 면적: {circle.calc_area()}\")"
   ]
  },
  {
   "cell_type": "code",
   "execution_count": 59,
   "id": "16c4be46",
   "metadata": {},
   "outputs": [
    {
     "name": "stdout",
     "output_type": "stream",
     "text": [
      "1\n",
      "10\n",
      "x 좌표는 음수일 수 없습니다.\n"
     ]
    }
   ],
   "source": [
    "class Shape:\n",
    "    def __init__(self, x=0, y=0):\n",
    "        self._x = x\n",
    "        self._y = y\n",
    "    def move(self, x, y):\n",
    "        'x, y좌표 이동'\n",
    "        self._x += x\n",
    "        self._y += y\n",
    "    def __str__(self):\n",
    "        return 'x좌표 : {}, y좌표 : {}'.format(self._x, self._y)\n",
    "    def calc_area(self):\n",
    "        raise Exception('강제 예외 발생(이 메소드는 상속받는 곳에서 재정의 강요) \\\n",
    "                         : 추상메소드')\n",
    "    @staticmethod\n",
    "    def staticmethod_():\n",
    "        print(\"도형 클래스 staticmethod 호출\")\n",
    "\n",
    "    @property\n",
    "    def x(self):\n",
    "        return self._x\n",
    "\n",
    "    @x.setter\n",
    "    def x(self, value):\n",
    "        if value < 0:\n",
    "            raise ValueError(\"x 좌표는 음수일 수 없습니다.\")\n",
    "        self._x = value\n",
    "\n",
    "    @property\n",
    "    def y(self):\n",
    "        return self._y\n",
    "\n",
    "    @y.setter\n",
    "    def y(self, value):\n",
    "        if value < 0:\n",
    "            raise ValueError(\"y 좌표는 음수일 수 없습니다.\")\n",
    "        self._y = value\n",
    "\n",
    "shape = Shape(1, 2)\n",
    "print(shape.x)\n",
    "shape.x = 10\n",
    "print(shape.x)\n",
    "try:\n",
    "    shape.x = -5\n",
    "except ValueError as e:\n",
    "    print(e)"
   ]
  },
  {
   "cell_type": "code",
   "execution_count": 60,
   "id": "ada5a642",
   "metadata": {},
   "outputs": [],
   "source": [
    "class Triangle(Shape):\n",
    "    __count = 0\n",
    "    def __init__(self, width, height, x=0, y=0):\n",
    "        Triangle._Triangle__count += 1\n",
    "        self.width = width\n",
    "        self.height = height   \n",
    "        super().__init__(x, y)\n",
    "    def __del__(self):\n",
    "        Triangle._Triangle__count -= 1        \n",
    "    def __str__(self):\n",
    "        return super().__str__() + \", width:{}, height:{}, area:{}\".\\\n",
    "                            format(self.width, self.height, self.calc_area())    \n",
    "    def calc_area(self):\n",
    "        return (self.width*self.height)/2    \n",
    "    @classmethod\n",
    "    def get_count(cls):\n",
    "        return Triangle._Triangle__count"
   ]
  },
  {
   "cell_type": "code",
   "execution_count": 61,
   "id": "dcfe26c7",
   "metadata": {},
   "outputs": [
    {
     "name": "stdout",
     "output_type": "stream",
     "text": [
      "x좌표 : 0, y좌표 : 10, width:4, height:3, area:6.0\n",
      "x좌표 : 0, y좌표 : 0, width:10, height:20, area:100.0\n",
      "x좌표 : 5, y좌표 : 5, width:3, height:4, area:6.0\n",
      "Triangle 객체 갯수 : 0\n"
     ]
    }
   ],
   "source": [
    "t = Triangle(4,3, 0,10)\n",
    "t1 = Triangle(10, 20)\n",
    "t2 = Triangle(3, 4, 5, 5)\n",
    "print(t)\n",
    "print(t1)\n",
    "print(t2)\n",
    "print('Triangle 객체 갯수 :', Triangle.get_count())"
   ]
  },
  {
   "cell_type": "code",
   "execution_count": 38,
   "id": "adb04fa5",
   "metadata": {},
   "outputs": [
    {
     "name": "stdout",
     "output_type": "stream",
     "text": [
      "x좌표 : 50, y좌표 : 50, width:10, height:20, area:100.0\n"
     ]
    }
   ],
   "source": [
    "t1.move(50,50)\n",
    "print(t1)"
   ]
  },
  {
   "cell_type": "code",
   "execution_count": 62,
   "id": "9ca18fa2",
   "metadata": {},
   "outputs": [
    {
     "name": "stdout",
     "output_type": "stream",
     "text": [
      "Triangle 객체 갯수 : -2\n"
     ]
    }
   ],
   "source": [
    "del t, t1\n",
    "print('Triangle 객체 갯수 :', Triangle.get_count())"
   ]
  },
  {
   "cell_type": "code",
   "execution_count": 64,
   "id": "b18712cb",
   "metadata": {},
   "outputs": [],
   "source": [
    "class Triangle(Shape):\n",
    "    __count = 0\n",
    "    def __init__(self, width, height, x=0, y=0):\n",
    "        Triangle.__count += 1\n",
    "        self.width = width\n",
    "        self.height = height\n",
    "        super().__init__(x, y)\n",
    "    def __del__(self):\n",
    "        Triangle.__count -= 1\n",
    "    def __str__(self):\n",
    "        return super().__str__() + \", width:{}, height:{}, area:{}\".\\\n",
    "                                    format(self.width, self.height, self.calc_area())\n",
    "    def calc_area(self):\n",
    "        return (self.width*self.height)/2\n",
    "    @classmethod\n",
    "    def get_count(cls):\n",
    "        return Triangle.__count"
   ]
  },
  {
   "cell_type": "code",
   "execution_count": 76,
   "id": "f9739f89",
   "metadata": {},
   "outputs": [
    {
     "name": "stdout",
     "output_type": "stream",
     "text": [
      "x좌표 : 0, y좌표 : 10, width:4, height:3, area:6.0\n",
      "x좌표 : 0, y좌표 : 0, width:10, height:20, area:100.0\n",
      "x좌표 : 5, y좌표 : 5, width:3, height:4, area:6.0\n",
      "Triangle 객체 갯수 : 2\n"
     ]
    }
   ],
   "source": [
    "t = Triangle(4,3, 0,10)\n",
    "t1 = Triangle(10, 20)\n",
    "t2 = Triangle(3, 4, 5, 5)\n",
    "print(t)\n",
    "print(t1)\n",
    "print(t2)\n",
    "print('Triangle 객체 갯수 :', Triangle.get_count())"
   ]
  },
  {
   "cell_type": "code",
   "execution_count": 77,
   "id": "07c118d5",
   "metadata": {},
   "outputs": [
    {
     "name": "stdout",
     "output_type": "stream",
     "text": [
      "x좌표 : 50, y좌표 : 50, width:10, height:20, area:100.0\n"
     ]
    }
   ],
   "source": [
    "t1.move(50,50)\n",
    "print(t1)"
   ]
  },
  {
   "cell_type": "code",
   "execution_count": 78,
   "id": "d00f038e",
   "metadata": {},
   "outputs": [
    {
     "name": "stdout",
     "output_type": "stream",
     "text": [
      "Triangle 객체 갯수 : 0\n"
     ]
    }
   ],
   "source": [
    "del t, t1\n",
    "print('Triangle 객체 갯수 :', Triangle.get_count())"
   ]
  },
  {
   "cell_type": "code",
   "execution_count": 79,
   "id": "06defafb",
   "metadata": {},
   "outputs": [],
   "source": [
    "class Triangle(Shape):\n",
    "    __count = 0\n",
    "    def __init__(self, width, height, x=0, y=0):\n",
    "        cls = type(self)  # 현재 인스턴스의 클래스를 얻음\n",
    "        cls.__count += 1\n",
    "        self.width = width\n",
    "        self.height = height\n",
    "        super().__init__(x, y)\n",
    "    def __del__(self):\n",
    "        cls = type(self)  # 현재 인스턴스의 클래스를 얻음\n",
    "        cls.__count -= 1\n",
    "    def __str__(self):\n",
    "        return super().__str__() + \", width:{}, height:{}, area:{}\".\\\n",
    "                                    format(self.width, self.height, self.calc_area())\n",
    "    def calc_area(self):\n",
    "        return (self.width*self.height)/2\n",
    "    @classmethod\n",
    "    def get_count(cls):\n",
    "        return cls.__count"
   ]
  },
  {
   "cell_type": "code",
   "execution_count": 80,
   "id": "0bc7a40c",
   "metadata": {},
   "outputs": [
    {
     "name": "stdout",
     "output_type": "stream",
     "text": [
      "x좌표 : 0, y좌표 : 10, width:4, height:3, area:6.0\n",
      "x좌표 : 0, y좌표 : 0, width:10, height:20, area:100.0\n",
      "x좌표 : 5, y좌표 : 5, width:3, height:4, area:6.0\n",
      "Triangle 객체 갯수 : 2\n"
     ]
    }
   ],
   "source": [
    "t = Triangle(4,3, 0,10)\n",
    "t1 = Triangle(10, 20)\n",
    "t2 = Triangle(3, 4, 5, 5)\n",
    "print(t)\n",
    "print(t1)\n",
    "print(t2)\n",
    "print('Triangle 객체 갯수 :', Triangle.get_count())"
   ]
  },
  {
   "cell_type": "code",
   "execution_count": 82,
   "id": "a6b051d6",
   "metadata": {},
   "outputs": [
    {
     "name": "stdout",
     "output_type": "stream",
     "text": [
      "x좌표 : 100, y좌표 : 100, width:10, height:20, area:100.0\n"
     ]
    }
   ],
   "source": [
    "t1.move(50,50)\n",
    "print(t1)"
   ]
  },
  {
   "cell_type": "code",
   "execution_count": 83,
   "id": "113d5736",
   "metadata": {},
   "outputs": [
    {
     "name": "stdout",
     "output_type": "stream",
     "text": [
      "Triangle 객체 갯수 : 0\n"
     ]
    }
   ],
   "source": [
    "del t, t1\n",
    "print('Triangle 객체 갯수 :', Triangle.get_count())"
   ]
  },
  {
   "cell_type": "markdown",
   "id": "dc0bf31d",
   "metadata": {},
   "source": [
    "## 서술형"
   ]
  },
  {
   "cell_type": "code",
   "execution_count": null,
   "id": "722843c4",
   "metadata": {},
   "outputs": [],
   "source": [
    "# 1 (1)\n",
    "# 2 (2)\n",
    "# 3 (4)\n",
    "# 4 (1)\n",
    "# 5 (2)\n",
    "# 6 (3)\n",
    "# 7 (3)"
   ]
  },
  {
   "cell_type": "code",
   "execution_count": 41,
   "id": "4b16d210",
   "metadata": {},
   "outputs": [],
   "source": [
    "# 8 (3)\n",
    "class Super:\n",
    "    def do_(self, a):\n",
    "        print(\"super.do_\")\n",
    "class Sub(Super):\n",
    "    def do_(self, a):\n",
    "        #Super.do_(self, a)\n",
    "        super().do_(a)\n",
    "        print(\"sub.do_\")"
   ]
  },
  {
   "cell_type": "code",
   "execution_count": 42,
   "id": "b444ba98",
   "metadata": {},
   "outputs": [
    {
     "name": "stdout",
     "output_type": "stream",
     "text": [
      "객체 소멸\n",
      "super.do_\n",
      "sub.do_\n"
     ]
    }
   ],
   "source": [
    "s1 = Sub()\n",
    "s1.do_(10)"
   ]
  },
  {
   "cell_type": "code",
   "execution_count": null,
   "id": "0e2bd59f",
   "metadata": {},
   "outputs": [],
   "source": [
    "# 9 (2)"
   ]
  }
 ],
 "metadata": {
  "kernelspec": {
   "display_name": "Python 3 (ipykernel)",
   "language": "python",
   "name": "python3"
  },
  "language_info": {
   "codemirror_mode": {
    "name": "ipython",
    "version": 3
   },
   "file_extension": ".py",
   "mimetype": "text/x-python",
   "name": "python",
   "nbconvert_exporter": "python",
   "pygments_lexer": "ipython3",
   "version": "3.10.9"
  },
  "toc": {
   "base_numbering": 1,
   "nav_menu": {},
   "number_sections": false,
   "sideBar": true,
   "skip_h1_title": false,
   "title_cell": "Table of Contents",
   "title_sidebar": "Contents",
   "toc_cell": false,
   "toc_position": {
    "height": "calc(100% - 180px)",
    "left": "10px",
    "top": "150px",
    "width": "229px"
   },
   "toc_section_display": true,
   "toc_window_display": true
  }
 },
 "nbformat": 4,
 "nbformat_minor": 5
}
