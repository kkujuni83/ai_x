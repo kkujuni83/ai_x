{
 "cells": [
  {
   "cell_type": "code",
   "execution_count": 32,
   "id": "5e84eacf",
   "metadata": {},
   "outputs": [
    {
     "data": {
      "text/html": [
       "\n",
       "<style>\n",
       "div.container{width:95% !important;}\n",
       "div.cell.code_cell.rendered{width:100%;}\n",
       "div.CodeMirror {font-family:Consolas; font-size:15pt;}\n",
       "div.output {font-size:15pt; font-weight:bold;}\n",
       "div.input {font-family:Consolas; font-size:15pt;}\n",
       "div.prompt {min-width:70px;}\n",
       "div#toc-wrapper{padding-top:120px;}\n",
       "div.text_cell_render ul li{font-size:12pt;padding:5px;}\n",
       "table.dataframe{font-size:15px;}\n",
       "</style>\n"
      ],
      "text/plain": [
       "<IPython.core.display.HTML object>"
      ]
     },
     "metadata": {},
     "output_type": "display_data"
    }
   ],
   "source": [
    "from IPython.display import display, HTML\n",
    "display(HTML(\"\"\"\n",
    "<style>\n",
    "div.container{width:95% !important;}\n",
    "div.cell.code_cell.rendered{width:100%;}\n",
    "div.CodeMirror {font-family:Consolas; font-size:15pt;}\n",
    "div.output {font-size:15pt; font-weight:bold;}\n",
    "div.input {font-family:Consolas; font-size:15pt;}\n",
    "div.prompt {min-width:70px;}\n",
    "div#toc-wrapper{padding-top:120px;}\n",
    "div.text_cell_render ul li{font-size:12pt;padding:5px;}\n",
    "table.dataframe{font-size:15px;}\n",
    "</style>\n",
    "\"\"\"))"
   ]
  },
  {
   "cell_type": "markdown",
   "id": "2c425a02",
   "metadata": {},
   "source": [
    "<b><font color=\"red\" size=\"5\">ch08. 파일 io(입출력) 프로그래밍</font></b>파일 : txt, pickle, csv, json, hdf5(h5)  \n",
    "\n",
    "# 1절. txt파일에 데이터 저장하고 불러오기"
   ]
  },
  {
   "cell_type": "code",
   "execution_count": 3,
   "id": "55b917e6",
   "metadata": {},
   "outputs": [
    {
     "name": "stdout",
     "output_type": "stream",
     "text": [
      "쓰기 가능한지 여부 : True\n"
     ]
    }
   ],
   "source": [
    "f = open('data/ch09.txt', 'w')\n",
    "print('쓰기 가능한지 여부 :', f.writable())"
   ]
  },
  {
   "cell_type": "code",
   "execution_count": 4,
   "id": "6c32e49f",
   "metadata": {},
   "outputs": [],
   "source": [
    "f.write('Hello\\nWorld')\n",
    "f.close() # close() 쓰기한 내용이 저장이 X"
   ]
  },
  {
   "cell_type": "code",
   "execution_count": 2,
   "id": "fb1ea708",
   "metadata": {},
   "outputs": [
    {
     "name": "stdout",
     "output_type": "stream",
     "text": [
      "쓰기 가능한지 여부 : True\n"
     ]
    }
   ],
   "source": [
    "# mode : 'r' 또는 'rt' : text읽기 모드\n",
    "      #  'rb' : 바이너리읽기 모드\n",
    "      #  'w' 또는 'wt' : text쓰기 모드 (파일이 있으면 덮어씀, 파일이 없으면 파일 생성)\n",
    "      #  'wb' : 바이너리쓰기 모드\n",
    "      #  'a' 또는 'at' : text 추가 모드(파일이 있으면 append, 파일이 없으면 파일 생성)\n",
    "      # 읽기모드에서는 파일이 없으면 예외/쓰기모드에서는 폴더가 없으면 예외\n",
    "# encoding \n",
    "     # euc-kr (한글완성형) 믜x\n",
    "     # cp949 (확장된 한글완성형) : open()함수 기본 encoding방식(win)\n",
    "     # utf-8 (한글조합형): open()함수 기본 encoding방식(mac, linux), 주피터노트북 기본\n",
    "with open('data/ch09.txt', 'w') as f:\n",
    "    print('쓰기 가능한지 여부 :', f.writable())\n",
    "    f.write('Hello\\nPython')"
   ]
  },
  {
   "cell_type": "code",
   "execution_count": 3,
   "id": "d22e1660",
   "metadata": {},
   "outputs": [],
   "source": [
    "with open('data/ch09.txt', 'w') as f:\n",
    "    # 1방법\n",
    "    f.write('홍길동, 33, 아무동9\\n')\n",
    "    f.write('김길동, 33, 아무동9\\n')\n",
    "    # 2방법\n",
    "    textlist = ['홍길동, 33, 아무동9\\n', '김길동, 33, 아무동9\\n']\n",
    "    for line in textlist:\n",
    "        f.write(line)\n",
    "    # 3방법\n",
    "    f.writelines(textlist)"
   ]
  },
  {
   "cell_type": "code",
   "execution_count": 4,
   "id": "88fd5116",
   "metadata": {},
   "outputs": [
    {
     "name": "stdout",
     "output_type": "stream",
     "text": [
      "홍길동, 33, 아무동9\n",
      "김길동, 33, 아무동9\n",
      "홍길동, 33, 아무동9\n",
      "김길동, 33, 아무동9\n",
      "홍길동, 33, 아무동9\n",
      "김길동, 33, 아무동9\n"
     ]
    }
   ],
   "source": [
    "# 한줄씩 읽기\n",
    "with open('data/ch09.txt', 'r') as f:\n",
    "    line = f.readline()\n",
    "    while line!='':\n",
    "        print(line, end='')\n",
    "        line = f.readline()"
   ]
  },
  {
   "cell_type": "code",
   "execution_count": 5,
   "id": "5a7ad0d6",
   "metadata": {},
   "outputs": [
    {
     "name": "stdout",
     "output_type": "stream",
     "text": [
      "['홍길동, 33, 아무동9\\n', '김길동, 33, 아무동9\\n', '홍길동, 33, 아무동9\\n', '김길동, 33, 아무동9\\n', '홍길동, 33, 아무동9\\n', '김길동, 33, 아무동9\\n']\n"
     ]
    }
   ],
   "source": [
    "# 모든 줄을 읽기\n",
    "with open('data/ch09.txt', 'r') as f:\n",
    "    lines = f.readlines()\n",
    "    print(lines)"
   ]
  },
  {
   "cell_type": "code",
   "execution_count": 6,
   "id": "3b317685",
   "metadata": {},
   "outputs": [
    {
     "data": {
      "text/plain": [
       "'홍길동, 33, 아무동9\\n김길동, 33, 아무동9\\n홍길동, 33, 아무동9\\n김길동, 33, 아무동9\\n홍길동, 33, 아무동9\\n김길동, 33, 아무동9\\n'"
      ]
     },
     "execution_count": 6,
     "metadata": {},
     "output_type": "execute_result"
    }
   ],
   "source": [
    "# 모두 읽기\n",
    "with open('data/ch09.txt', 'r') as f:\n",
    "    lines = f.read()\n",
    "lines"
   ]
  },
  {
   "cell_type": "markdown",
   "id": "e29687ff",
   "metadata": {},
   "source": [
    "# 2절. 피클을 이용한 객체 저장 및 불러오기"
   ]
  },
  {
   "cell_type": "markdown",
   "id": "f6cd3627",
   "metadata": {},
   "source": [
    "## 2.1 형식이 있는 txt 데이터 불러오기"
   ]
  },
  {
   "cell_type": "code",
   "execution_count": 7,
   "id": "b99ad715",
   "metadata": {},
   "outputs": [],
   "source": [
    "class Member:\n",
    "    def __init__(self, name, age, email, address):\n",
    "        self.name = name\n",
    "        self.age  = age\n",
    "        self.email= email\n",
    "        self.address = address\n",
    "    def __str__(self):\n",
    "        return \"{}, {}, {}, {}\".format(self.name,\n",
    "                                      \"성년\" if self.age>18 else \"미성년\",\n",
    "                                      self.email,\n",
    "                                      self.address)\n",
    "    def as_dict(self):\n",
    "        return {\n",
    "            'name':self.name,\n",
    "            'age':self.age,\n",
    "            'email':self.email,\n",
    "            'address':self.address\n",
    "               }\n",
    "    def __eq__(self, other):\n",
    "        return self.name == other.name and \\\n",
    "                self.age == other.age and \\\n",
    "                self.email == other.email and \\\n",
    "                self.address == other.address"
   ]
  },
  {
   "cell_type": "code",
   "execution_count": 8,
   "id": "95b936e0",
   "metadata": {},
   "outputs": [
    {
     "name": "stdout",
     "output_type": "stream",
     "text": [
      "True\n",
      "True\n"
     ]
    }
   ],
   "source": [
    "user1 = Member('홍',20,'a@a.com','신림동')\n",
    "user2 = Member('홍',20,'a@a.com','신림동')\n",
    "print(user1==user2)\n",
    "print(user1.__eq__(user2)) # 같은 내용이면 True"
   ]
  },
  {
   "cell_type": "code",
   "execution_count": 34,
   "id": "ec7e0560",
   "metadata": {},
   "outputs": [],
   "source": [
    "# 형식이 있는 txt 파일 내용을 member list(피클 저장), 딕셔너리 list(데이터프레임)로 저장\n",
    "user_list = [] # member list\n",
    "user_dict = [] # 딕셔니리 list\n",
    "with open('data/ch09_member.txt', 'r', encoding='utf-8') as txt_file:\n",
    "    lines = txt_file.readlines()\n",
    "# print(lines)\n",
    "for line in lines:\n",
    "    data = line.split(',')\n",
    "    # print(data)\n",
    "    name = data[0]\n",
    "    age = int(data[1].strip()) # strip() : 좌우 공백(space, \\t, \\n)제거\n",
    "    email = data[2].strip()\n",
    "    address = data[3].strip()\n",
    "    user = Member(name, age, email, address)\n",
    "    user_list.append(user)\n",
    "    user_dict.append(user.as_dict())\n",
    "    # user_dict.append(user.__dict__)"
   ]
  },
  {
   "cell_type": "code",
   "execution_count": 35,
   "id": "0626ece3",
   "metadata": {},
   "outputs": [
    {
     "data": {
      "text/plain": [
       "[{'name': '홍길동', 'age': 20, 'email': 'kildong@hong.com', 'address': '서울시 관악구'},\n",
       " {'name': '홍길숙',\n",
       "  'age': 25,\n",
       "  'email': 'kilsuk1@hong.com',\n",
       "  'address': '서울시 영등포구'},\n",
       " {'name': '신길동', 'age': 30, 'email': 'shinkil@hong.com', 'address': '서울시 동작구'}]"
      ]
     },
     "execution_count": 35,
     "metadata": {},
     "output_type": "execute_result"
    }
   ],
   "source": [
    "user_dict"
   ]
  },
  {
   "cell_type": "code",
   "execution_count": 36,
   "id": "ac171bfe",
   "metadata": {},
   "outputs": [
    {
     "name": "stdout",
     "output_type": "stream",
     "text": [
      "홍길동, 성년, kildong@hong.com, 서울시 관악구\n",
      "홍길숙, 성년, kilsuk1@hong.com, 서울시 영등포구\n",
      "신길동, 성년, shinkil@hong.com, 서울시 동작구\n"
     ]
    }
   ],
   "source": [
    "for user in user_list:\n",
    "    print(user)"
   ]
  },
  {
   "cell_type": "markdown",
   "id": "e22ff6d0",
   "metadata": {},
   "source": [
    "## 2.2 피클링\n",
    "- 객체 리스트(user_list) -> 피클파일로 쓰기\n",
    "- 피클 파일을 읽기 -> 객체 리스트(load_user_list)"
   ]
  },
  {
   "cell_type": "code",
   "execution_count": 37,
   "id": "4dbc18f8",
   "metadata": {},
   "outputs": [],
   "source": [
    "# 피클링을 이용한 객체를 저장하기\n",
    "import pickle\n",
    "with open('data/ch09_member.data', 'wb') as f:\n",
    "    pickle.dump(user_list, f)"
   ]
  },
  {
   "cell_type": "code",
   "execution_count": 38,
   "id": "d847d3ad",
   "metadata": {},
   "outputs": [],
   "source": [
    "# 피클링을 이용한 파일에서 객체 데이터로 읽기\n",
    "with open('data/ch09_member.data', 'rb') as f:\n",
    "    load_user_list = pickle.load(f)"
   ]
  },
  {
   "cell_type": "code",
   "execution_count": 39,
   "id": "a0bf25a3",
   "metadata": {},
   "outputs": [
    {
     "data": {
      "text/plain": [
       "True"
      ]
     },
     "execution_count": 39,
     "metadata": {},
     "output_type": "execute_result"
    }
   ],
   "source": [
    "user_list == load_user_list"
   ]
  },
  {
   "cell_type": "code",
   "execution_count": 40,
   "id": "e873db8d",
   "metadata": {},
   "outputs": [
    {
     "ename": "TypeError",
     "evalue": "'Member' object is not subscriptable",
     "output_type": "error",
     "traceback": [
      "\u001b[1;31m---------------------------------------------------------------------------\u001b[0m",
      "\u001b[1;31mTypeError\u001b[0m                                 Traceback (most recent call last)",
      "Cell \u001b[1;32mIn[40], line 2\u001b[0m\n\u001b[0;32m      1\u001b[0m \u001b[38;5;28;01mfor\u001b[39;00m idx \u001b[38;5;129;01min\u001b[39;00m \u001b[38;5;28mrange\u001b[39m(\u001b[38;5;28mlen\u001b[39m(user_list)):\n\u001b[1;32m----> 2\u001b[0m     \u001b[38;5;28mprint\u001b[39m(idx, \u001b[43muser\u001b[49m\u001b[43m[\u001b[49m\u001b[43midx\u001b[49m\u001b[43m]\u001b[49m)\n\u001b[0;32m      3\u001b[0m     \u001b[38;5;28mprint\u001b[39m(idx, load_user_list[idx])\n",
      "\u001b[1;31mTypeError\u001b[0m: 'Member' object is not subscriptable"
     ]
    }
   ],
   "source": [
    "for idx in range(len(user_list)):\n",
    "    print(idx, user[idx])\n",
    "    print(idx, load_user_list[idx])"
   ]
  },
  {
   "cell_type": "code",
   "execution_count": 41,
   "id": "f1a423df",
   "metadata": {},
   "outputs": [
    {
     "name": "stdout",
     "output_type": "stream",
     "text": [
      "0 홍길동, 성년, kildong@hong.com, 서울시 관악구\n",
      "0 홍길동, 성년, kildong@hong.com, 서울시 관악구\n",
      "True\n",
      "1 홍길숙, 성년, kilsuk1@hong.com, 서울시 영등포구\n",
      "1 홍길숙, 성년, kilsuk1@hong.com, 서울시 영등포구\n",
      "True\n",
      "2 신길동, 성년, shinkil@hong.com, 서울시 동작구\n",
      "2 신길동, 성년, shinkil@hong.com, 서울시 동작구\n",
      "True\n"
     ]
    }
   ],
   "source": [
    "for idx, (user, load_user) in enumerate(zip(user_list, load_user_list)):\n",
    "    print(idx, user)\n",
    "    print(idx, load_user)\n",
    "    print(user==load_user)"
   ]
  },
  {
   "cell_type": "code",
   "execution_count": 42,
   "id": "bbb60d5e",
   "metadata": {},
   "outputs": [
    {
     "data": {
      "text/plain": [
       "True"
      ]
     },
     "execution_count": 42,
     "metadata": {},
     "output_type": "execute_result"
    }
   ],
   "source": [
    "result = []\n",
    "for user, load_user in zip(user_list, load_user_list):\n",
    "    result.append(user==load_user)\n",
    "all(result)"
   ]
  },
  {
   "cell_type": "markdown",
   "id": "6a45480c",
   "metadata": {},
   "source": [
    "# 3절. CSV형식 파일 읽기/쓰기\n",
    "- CSV파일 <-> 리스트데이터 3.1/3.2\n",
    "- CSV파일 <-> 딕셔너리데이터 3.3/3.4"
   ]
  },
  {
   "cell_type": "markdown",
   "id": "073217f1",
   "metadata": {},
   "source": [
    "## 3.1 reader"
   ]
  },
  {
   "cell_type": "code",
   "execution_count": 43,
   "id": "fe408b44",
   "metadata": {},
   "outputs": [
    {
     "name": "stdout",
     "output_type": "stream",
     "text": [
      "[['홍길동', '20', 'kildong@hong.com', '서울시 관악구'], ['김길동', '40', 'kimdong@hong.com', '서울시 영등포구'], ['신길동', '30', 'sindong@hong.com', '서울시 동작구']]\n"
     ]
    }
   ],
   "source": [
    "import csv\n",
    "with open('data/ch09_member1.csv', 'r', encoding='utf-8') as f:\n",
    "    reader = csv.reader(f)\n",
    "    result = list(reader)\n",
    "print(result)"
   ]
  },
  {
   "cell_type": "code",
   "execution_count": 44,
   "id": "8370950c",
   "metadata": {},
   "outputs": [
    {
     "name": "stdout",
     "output_type": "stream",
     "text": [
      "[['홍길동', 20.0, 'kildong@hong.com', '서울시 관악구'], ['김길동', 40.0, 'kimdong@hong.com', '서울시 영등포구'], ['신길동', 30.0, 'sindong@hong.com', '서울시 동작구']]\n"
     ]
    }
   ],
   "source": [
    "# \"\"(따옴표)가 없는 데이터는 numeric으로 \n",
    "import csv\n",
    "with open('data/ch09_member1.csv', 'r', encoding='utf-8') as f:\n",
    "    reader = csv.reader(f, \n",
    "                       quoting=csv.QUOTE_NONNUMERIC)\n",
    "    result = list(reader)\n",
    "print(result)"
   ]
  },
  {
   "cell_type": "code",
   "execution_count": 45,
   "id": "c86cf03b",
   "metadata": {},
   "outputs": [
    {
     "name": "stdout",
     "output_type": "stream",
     "text": [
      "[{'name': '홍길동', 'age': 20, 'email': 'kildong@hong.com', 'address': '서울시 관악구'}, {'name': '김길동', 'age': 40, 'email': 'kimdong@hong.com', 'address': '서울시 영등포구'}, {'name': '신길동', 'age': 30, 'email': 'sindong@hong.com', 'address': '서울시 동작구'}]\n"
     ]
    }
   ],
   "source": [
    "import csv\n",
    "with open('data/ch09_member1.csv', 'r', encoding='utf-8') as f:\n",
    "    reader = csv.reader(f, \n",
    "                       quoting=csv.QUOTE_NONNUMERIC)\n",
    "    result = list(reader)\n",
    "dict_list = []\n",
    "for data in result:\n",
    "    dict_list.append({\n",
    "        'name':data[0],\n",
    "        'age':int(data[1]),\n",
    "        'email':data[2],\n",
    "        'address':data[3]\n",
    "    })\n",
    "print(dict_list)"
   ]
  },
  {
   "cell_type": "markdown",
   "id": "d5bae71f",
   "metadata": {},
   "source": [
    "## 3.3 DictReader"
   ]
  },
  {
   "cell_type": "code",
   "execution_count": 46,
   "id": "8f07f144",
   "metadata": {},
   "outputs": [
    {
     "name": "stdout",
     "output_type": "stream",
     "text": [
      "[{'name': '홍길동', 'age': '20', 'email': 'h@h.com', 'address': '서울시 관악구', 'job': None}, {'name': '신길동', 'age': '40', 'email': 's@h.com', 'address': '서울시 영등포구', 'job': '팀장'}, {'name': '김길동', 'age': '30', 'email': 'k@h.com', 'address': '서울시 동작구', 'job': None}]\n",
      "홍길동 20 h@h.com 서울시 관악구\n",
      "신길동 40 s@h.com 서울시 영등포구 팀장\n",
      "김길동 30 k@h.com 서울시 동작구\n"
     ]
    }
   ],
   "source": [
    "import csv\n",
    "with open('data/ch09_member3.csv', 'r', encoding='utf-8') as f:\n",
    "    dict_reader = csv.DictReader(f)\n",
    "    dict_list = list(dict_reader)\n",
    "print(dict_list)\n",
    "for row in dict_list:\n",
    "    if row['job'] is None:\n",
    "        print(row['name'], row['age'], row['email'], row['address'])\n",
    "    else:\n",
    "        print(row['name'], row['age'], row['email'], row['address'], row['job'])"
   ]
  },
  {
   "cell_type": "code",
   "execution_count": 47,
   "id": "075bad78",
   "metadata": {},
   "outputs": [
    {
     "name": "stdout",
     "output_type": "stream",
     "text": [
      "{'Name': '홍길동', 'Age': '20', 'Email': 'kildong@hong.com', 'Address': '서울시 관악구', 'Job': ''}\n",
      "{'Name': '김길동', 'Age': '40', 'Email': 'kimdong@hong.com', 'Address': '서울시 영등포구', 'Job': '팀장'}\n",
      "{'Name': '신길동', 'Age': '30', 'Email': 'sindong@hong.com', 'Address': '서울시 동작구', 'Job': ''}\n"
     ]
    }
   ],
   "source": [
    "# header가 없는 csv파일(ch09_member1-cp.csv)을 딕셔너리로 읽기\n",
    "with open('data/ch09_member1-cp.csv', encoding='cp949') as f:\n",
    "    dict_reader = csv.DictReader(f, \n",
    "                          fieldnames=['Name','Age','Email','Address','Job'])\n",
    "    result = list(dict_reader)\n",
    "for row in result:\n",
    "    print(row)"
   ]
  },
  {
   "cell_type": "code",
   "execution_count": 48,
   "id": "e00eb0d0",
   "metadata": {},
   "outputs": [
    {
     "name": "stdout",
     "output_type": "stream",
     "text": [
      "{'Name': '홍길동', 'Age': '20', 'Email': 'kildong@hong.com', 'Address': '서울시 관악구', 'Job': ['']}\n",
      "{'Name': '김길동', 'Age': '40', 'Email': 'kimdong@hong.com', 'Address': '서울시 영등포구', 'Job': ['팀장']}\n",
      "{'Name': '신길동', 'Age': '30', 'Email': 'sindong@hong.com', 'Address': '서울시 동작구', 'Job': ['']}\n"
     ]
    }
   ],
   "source": [
    "# header가 없는 csv파일(ch09_member1-cp.csv)을 딕셔너리로 읽기\n",
    "with open('data/ch09_member1-cp.csv', encoding='cp949') as f:\n",
    "    dict_reader = csv.DictReader(f, \n",
    "                          fieldnames=['Name','Age','Email','Address'],\n",
    "                          restkey='Job')\n",
    "    result = list(dict_reader)\n",
    "    #print(list(dict_reader))\n",
    "for row in result:\n",
    "    print(row)"
   ]
  },
  {
   "cell_type": "markdown",
   "id": "00f25b07",
   "metadata": {},
   "source": [
    "## 3.4 DictWriter\n",
    "- 딕셔너리 리스트 -> CSV파일"
   ]
  },
  {
   "cell_type": "code",
   "execution_count": 49,
   "id": "4ca53867",
   "metadata": {},
   "outputs": [],
   "source": [
    "user1 = {'name':'홍길동','age':22, 'email':'a@a.com', 'address':'신림동'}\n",
    "user2 = {'name':'신길동','age':32, 'email':'b@a.com', 'address':'신림동'}\n",
    "user3 = {'name':'김길동','age':42, 'email':'c@a.com', 'address':'신림동'}\n",
    "user_list = [user1, user2, user3]\n",
    "fieldnames = list(user1.keys())"
   ]
  },
  {
   "cell_type": "code",
   "execution_count": 50,
   "id": "22f8989c",
   "metadata": {},
   "outputs": [],
   "source": [
    "with open('data/ch09_member4.csv', 'w', encoding='utf-8', newline='') as f:\n",
    "    dict_writer = csv.DictWriter(f,\n",
    "                                fieldnames=fieldnames)\n",
    "    dict_writer.writeheader() # header 쓰기\n",
    "    dict_writer.writerows(user_list)"
   ]
  },
  {
   "cell_type": "markdown",
   "id": "cb661c17",
   "metadata": {},
   "source": [
    "# 5절. 연습문제"
   ]
  },
  {
   "cell_type": "markdown",
   "id": "47b0bb26",
   "metadata": {},
   "source": [
    "## 실습형"
   ]
  },
  {
   "cell_type": "code",
   "execution_count": 51,
   "id": "dcf8e883",
   "metadata": {},
   "outputs": [
    {
     "ename": "SyntaxError",
     "evalue": "illegal target for annotation (3420157844.py, line 4)",
     "output_type": "error",
     "traceback": [
      "\u001b[1;36m  Cell \u001b[1;32mIn[51], line 4\u001b[1;36m\u001b[0m\n\u001b[1;33m    1:입력 | 2:전체출력 | 3:삭제 | 4:이름찾기 | 5:내보내기(CSV) | 9:종료\u001b[0m\n\u001b[1;37m    ^\u001b[0m\n\u001b[1;31mSyntaxError\u001b[0m\u001b[1;31m:\u001b[0m illegal target for annotation\n"
     ]
    }
   ],
   "source": [
    "# 1. \n",
    "if __name__ == \"__main__\":\n",
    "    main()\n",
    "    1:입력 | 2:전체출력 | 3:삭제 | 4:이름찾기 | 5:내보내기(CSV) | 9:종료\n",
    "    customers = [\n",
    "    {\n",
    "        \"이름\": \"유길동\",\n",
    "        \"전화\": \"010-5432-2222\",\n",
    "        \"이메일\": \"yu@hong.com\",\n",
    "        \"나이\": 20,\n",
    "        \"등급\": 2,\n",
    "        \"기타\": \"가칠해\"\n",
    "    },\n",
    "    {\n",
    "        \"이름\": \"홍길호\",\n",
    "        \"전화\": \"010-9999-9999\",\n",
    "        \"이메일\": \"hong@mega_it.com\",\n",
    "        \"나이\": 30,\n",
    "        \"등급\": 5,\n",
    "        \"기타\": \"열심히\"\n",
    "    },\n",
    "    {\n",
    "        \"이름\": \"홍길동\",\n",
    "        \"전화\": \"010-8888-8888\",\n",
    "        \"이메일\": \"hong2@abc.com\",\n",
    "        \"나이\": 31,\n",
    "        \"등급\": 5,\n",
    "        \"기타\": \"abc\"\n",
    "    }\n",
    "]   "
   ]
  },
  {
   "cell_type": "code",
   "execution_count": 52,
   "id": "962d2ab2",
   "metadata": {},
   "outputs": [
    {
     "ename": "SyntaxError",
     "evalue": "invalid syntax (3232332192.py, line 2)",
     "output_type": "error",
     "traceback": [
      "\u001b[1;36m  Cell \u001b[1;32mIn[52], line 2\u001b[1;36m\u001b[0m\n\u001b[1;33m    ef search_customer():\u001b[0m\n\u001b[1;37m       ^\u001b[0m\n\u001b[1;31mSyntaxError\u001b[0m\u001b[1;31m:\u001b[0m invalid syntax\n"
     ]
    }
   ],
   "source": [
    "import csv\n",
    "ef search_customer():\n",
    "    target_name = input(\"찾을 이름을 입력하세요: \")\n",
    "    found = False\n",
    "    for c in customers:\n",
    "        if c[\"이름\"] == target_name:\n",
    "            print(\"고객 정보:\")\n",
    "            print(c)\n",
    "            found = True\n",
    "            break\n",
    "    if not found:\n",
    "        print(\"해당 이름의 고객이 없습니다.\")"
   ]
  },
  {
   "cell_type": "code",
   "execution_count": null,
   "id": "fd699d73",
   "metadata": {},
   "outputs": [
    {
     "name": "stdout",
     "output_type": "stream",
     "text": [
      "데이터가 로드 되었습니다.\n",
      "\n",
      "1:입력 | 2:전체출력 | 3:삭제 | 4:이름찾기 | 5:내보내기(CSV) | 9:종료\n",
      "메뉴 선택 : 1\n",
      "이름 : 개길동\n",
      "전화번호 : 010-1818-2828\n",
      "이메일 : zxczxc@zxczxc.com\n",
      "나이 : 28\n",
      "고객등급(~5) : 2\n",
      "기타 정보 : 망나니\n",
      "\n",
      "1:입력 | 2:전체출력 | 3:삭제 | 4:이름찾기 | 5:내보내기(CSV) | 9:종료\n",
      "메뉴 선택 : 2\n",
      "\n",
      "고객 정보\n",
      "==================================================================\n",
      "GRADE  이름           전화           메일          나이   기타\n",
      "==================================================================\n",
      "**    개길동      010-1818-2828 zxczxc@zxczxc.com   28 망나니\n",
      "==================================================================\n",
      "\n",
      "1:입력 | 2:전체출력 | 3:삭제 | 4:이름찾기 | 5:내보내기(CSV) | 9:종료\n"
     ]
    }
   ],
   "source": [
    "import csv\n",
    "\n",
    "customers = []\n",
    "\n",
    "def 입력():\n",
    "    print(\"이름 :\", end=\" \")\n",
    "    name = input()\n",
    "    print(\"전화번호 :\", end=\" \")\n",
    "    phone = input()\n",
    "    print(\"이메일 :\", end=\" \")\n",
    "    email = input()\n",
    "    print(\"나이 :\", end=\" \")\n",
    "    age = int(input())\n",
    "    print(\"고객등급(~5) :\", end=\" \")\n",
    "    grade = int(input())\n",
    "    print(\"기타 정보 :\", end=\" \")\n",
    "    etc = input()\n",
    "    \n",
    "    customer = {\n",
    "        \"이름\": name,\n",
    "        \"전화\": phone,\n",
    "        \"이메일\": email,\n",
    "        \"나이\": age,\n",
    "        \"등급\": grade,\n",
    "        \"기타\": etc\n",
    "    }\n",
    "    customers.append(customer)\n",
    "\n",
    "def 전체출력():\n",
    "    print(\"\\n고객 정보\")\n",
    "    print(\"=\" * 66)\n",
    "    print(\"GRADE  이름           전화           메일          나이   기타\")\n",
    "    print(\"=\" * 66)\n",
    "    for c in customers:\n",
    "        print(f\"{'*' * c['등급']:5} {c['이름']:8} {c['전화']:13} {c['이메일']:18} {c['나이']:3} {c['기타']}\")\n",
    "    print(\"=\" * 66)\n",
    "\n",
    "def 삭제():\n",
    "    name = input(\"삭제할 고객 이름을 입력하세요: \")\n",
    "    global customers\n",
    "    customers = [c for c in customers if c['이름'] != name]\n",
    "    print(f\"{name} 고객 정보가 삭제되었습니다.\")\n",
    "\n",
    "def 이름찾기():\n",
    "    name = input(\"찾을 고객 이름을 입력하세요: \")\n",
    "    found = False\n",
    "    for c in customers:\n",
    "        if c['이름'] == name:\n",
    "            print(c)\n",
    "            found = True\n",
    "    if not found:\n",
    "        print(\"고객을 찾을 수 없습니다.\")\n",
    "\n",
    "def 내보내기():\n",
    "    with open('customers.csv', 'w', newline='', encoding='utf-8-sig') as f:\n",
    "        writer = csv.DictWriter(f, fieldnames=['이름', '  전화 ',   '이메일', '나이', '등급', '기타'])\n",
    "        writer.writeheader()\n",
    "        writer.writerows(customers)\n",
    "    print(\"CSV 파일로 내보내기 완료!\")\n",
    "\n",
    "def main():\n",
    "    print(\"데이터가 로드 되었습니다.\")\n",
    "    while True:\n",
    "        print(\"\\n1:입력 | 2:전체출력 | 3:삭제 | 4:이름찾기 | 5:내보내기(CSV) | 9:종료\")\n",
    "        sel = input(\"메뉴 선택 : \")\n",
    "        if sel == '1':\n",
    "            입력()\n",
    "        elif sel == '2':\n",
    "            전체출력()\n",
    "        elif sel == '3':\n",
    "            삭제()\n",
    "        elif sel == '4':\n",
    "            이름찾기()\n",
    "        elif sel == '5':\n",
    "            내보내기()\n",
    "        elif sel == '9':\n",
    "            print(\"종료합니다.\")\n",
    "            break\n",
    "        else:\n",
    "            print(\"잘못된 선택입니다.\")\n",
    "\n",
    "if __name__ == \"__main__\":\n",
    "    main()"
   ]
  },
  {
   "cell_type": "code",
   "execution_count": null,
   "id": "9b562fb9",
   "metadata": {},
   "outputs": [],
   "source": []
  }
 ],
 "metadata": {
  "kernelspec": {
   "display_name": "Python 3 (ipykernel)",
   "language": "python",
   "name": "python3"
  },
  "language_info": {
   "codemirror_mode": {
    "name": "ipython",
    "version": 3
   },
   "file_extension": ".py",
   "mimetype": "text/x-python",
   "name": "python",
   "nbconvert_exporter": "python",
   "pygments_lexer": "ipython3",
   "version": "3.10.9"
  },
  "toc": {
   "base_numbering": 1,
   "nav_menu": {},
   "number_sections": false,
   "sideBar": true,
   "skip_h1_title": false,
   "title_cell": "Table of Contents",
   "title_sidebar": "Contents",
   "toc_cell": false,
   "toc_position": {
    "height": "calc(100% - 180px)",
    "left": "10px",
    "top": "150px",
    "width": "209px"
   },
   "toc_section_display": true,
   "toc_window_display": true
  }
 },
 "nbformat": 4,
 "nbformat_minor": 5
}
