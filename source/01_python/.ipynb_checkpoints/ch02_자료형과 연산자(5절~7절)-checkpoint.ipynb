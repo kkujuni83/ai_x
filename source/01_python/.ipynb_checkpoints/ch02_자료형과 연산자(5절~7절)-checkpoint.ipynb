{
 "cells": [
  {
   "cell_type": "code",
   "execution_count": 1,
   "id": "d0b6a420",
   "metadata": {},
   "outputs": [
    {
     "data": {
      "text/html": [
       "\n",
       "<style>\n",
       "div.container{width:86% !important;}\n",
       "div.cell.code_cell.rendered{width:100%;}\n",
       "div.CodeMirror {font-family:Consolas; font-size:15pt;}\n",
       "div.output {font-size:15pt; font-weight:bold;}\n",
       "div.input {font-family:Consolas; font-size:15pt;}\n",
       "div.prompt {min-width:70px;}\n",
       "div#toc-wrapper{padding-top:120px;}\n",
       "div.text_cell_render ul li{font-size:12pt;padding:5px;}\n",
       "table.dataframe{font-size:15px;}\n",
       "</style>\n"
      ],
      "text/plain": [
       "<IPython.core.display.HTML object>"
      ]
     },
     "metadata": {},
     "output_type": "display_data"
    }
   ],
   "source": [
    "from IPython.display import display, HTML\n",
    "display(HTML(\"\"\"\n",
    "<style>\n",
    "div.container{width:86% !important;}\n",
    "div.cell.code_cell.rendered{width:100%;}\n",
    "div.CodeMirror {font-family:Consolas; font-size:15pt;}\n",
    "div.output {font-size:15pt; font-weight:bold;}\n",
    "div.input {font-family:Consolas; font-size:15pt;}\n",
    "div.prompt {min-width:70px;}\n",
    "div#toc-wrapper{padding-top:120px;}\n",
    "div.text_cell_render ul li{font-size:12pt;padding:5px;}\n",
    "table.dataframe{font-size:15px;}\n",
    "</style>\n",
    "\"\"\"))"
   ]
  },
  {
   "cell_type": "markdown",
   "id": "e81e851d",
   "metadata": {},
   "source": [
    "<font size=\"s\" color=\"red\">ch02 자료형과 연산자</font>\n",
    "# 5절 연산자\n",
    "## 5.1 산술연산자:+,-,*,/,//(몫), %(나머지), **(제곱)"
   ]
  },
  {
   "cell_type": "code",
   "execution_count": 1,
   "id": "e2ff23eb",
   "metadata": {},
   "outputs": [
    {
     "name": "stdout",
     "output_type": "stream",
     "text": [
      "10의 5승 : 100000\n",
      "4/2(결과 실수) : 2.0\n",
      "4//2(몫) : 2\n",
      "4%2(나머지) : 0\n"
     ]
    }
   ],
   "source": [
    "print('10의 5승 :',10**5)\n",
    "print('4/2(결과 실수) :', 4/2)\n",
    "print('4//2(몫) :', 4//2)\n",
    "print('4%2(나머지) :', 4%2)"
   ]
  },
  {
   "cell_type": "code",
   "execution_count": 2,
   "id": "199d9ced",
   "metadata": {},
   "outputs": [
    {
     "name": "stdout",
     "output_type": "stream",
     "text": [
      "정수를 입력하세요 :10\n",
      "입력하신 수는 10, 2로 나눈 나머지는 0, 그래서 짝수를 입력하셨군요\n"
     ]
    }
   ],
   "source": [
    "# quiz 1. 정수를 입력받아 짝수인지 홀수인지 여부를 출력\n",
    "num = int(input('정수를 입력하세요 :'))\n",
    "result = num%2\n",
    "if result:\n",
    "    temp = \"홀수\"\n",
    "else:\n",
    "    temp = \"짝수\"\n",
    "print(f\"입력하신 수는 {num}, 2로 나눈 나머지는 {result}, 그래서 {temp}를 입력하셨군요\")"
   ]
  },
  {
   "cell_type": "code",
   "execution_count": 3,
   "id": "02dbb5d3",
   "metadata": {},
   "outputs": [
    {
     "name": "stdout",
     "output_type": "stream",
     "text": [
      "정수를 입력하세요 :9\n",
      "입력하신 수는 9, 5의 배수가 아님를 입력하셨군요\n"
     ]
    }
   ],
   "source": [
    "# quiz 2. 정수를 입력받아 5의 배수인지 여부를 출력\n",
    "num = int(input('정수를 입력하세요 :'))\n",
    "if num%5:\n",
    "    temp = \"5의 배수가 아님\"\n",
    "else:\n",
    "    temp = \"5의 배수\"\n",
    "print(f\"입력하신 수는 {num}, {temp}를 입력하셨군요\")"
   ]
  },
  {
   "cell_type": "code",
   "execution_count": null,
   "id": "bfab598a",
   "metadata": {},
   "outputs": [],
   "source": [
    "# quiz 3. 국, 영, 수 점수를 입력받아 다음셀에서 다음과 같이 출력하도록 구현하시오"
   ]
  },
  {
   "cell_type": "code",
   "execution_count": 4,
   "id": "e5db30e2",
   "metadata": {},
   "outputs": [
    {
     "name": "stdout",
     "output_type": "stream",
     "text": [
      "국어?99\n",
      "영어?100\n",
      "수학?99\n"
     ]
    }
   ],
   "source": [
    "kor = int(input(\"국어?\"))\n",
    "eng = int(input(\"영어?\"))\n",
    "mat = int(input(\"수학?\"))\n",
    "sum = kor + eng + mat\n",
    "avg = sum/3"
   ]
  },
  {
   "cell_type": "code",
   "execution_count": 5,
   "id": "fe33b7b7",
   "metadata": {},
   "outputs": [
    {
     "name": "stdout",
     "output_type": "stream",
     "text": [
      "국어: 99\t영어:100\t수학: 99\n",
      "총점:298\t평균: 99.3\n"
     ]
    }
   ],
   "source": [
    "print(\"국어:{:3d}\\t영어:{:3d}\\t수학:{:3d}\".format(kor, eng, mat))\n",
    "print(\"총점:{:3d}\\t평균:{:5.1f}\".format(sum, avg))"
   ]
  },
  {
   "cell_type": "markdown",
   "id": "1d8edd61",
   "metadata": {},
   "source": [
    "## 5.2 할당연산자 : =, +=, -=, *=, /=, //=, %="
   ]
  },
  {
   "cell_type": "code",
   "execution_count": 6,
   "id": "0856e03d",
   "metadata": {},
   "outputs": [
    {
     "name": "stdout",
     "output_type": "stream",
     "text": [
      "5더하기 : 15\n"
     ]
    }
   ],
   "source": [
    "a = 10\n",
    "a += 5 # a = a+5\n",
    "print('5더하기 :', a)"
   ]
  },
  {
   "cell_type": "code",
   "execution_count": 7,
   "id": "f1bb11e1",
   "metadata": {},
   "outputs": [
    {
     "name": "stdout",
     "output_type": "stream",
     "text": [
      "5빼기 : 10\n",
      "5배 : 50\n"
     ]
    }
   ],
   "source": [
    "a -= 5 # a = a-5\n",
    "print('5빼기 :', a)\n",
    "a *= 5 # a = a*5\n",
    "print('5배 :', a)"
   ]
  },
  {
   "cell_type": "markdown",
   "id": "e1ea1ae9",
   "metadata": {},
   "source": [
    "## 5.3 논리연산자 : &,and, |, or, not"
   ]
  },
  {
   "cell_type": "code",
   "execution_count": 9,
   "id": "4df66f0c",
   "metadata": {},
   "outputs": [
    {
     "name": "stdout",
     "output_type": "stream",
     "text": [
      "True\n",
      "0\n"
     ]
    }
   ],
   "source": [
    "# & 논리연산자, 비트연산자\n",
    "print( (10>3) & (10>5) ) # 논리연산 True & True\n",
    "print(12 & 1)    # 비트연산 12 : 0000 1100\n",
    "                 #          1 : 0000 0001\n",
    "                 #    12 & 1  : 0000 0000     "
   ]
  },
  {
   "cell_type": "code",
   "execution_count": 10,
   "id": "ab4de65a",
   "metadata": {},
   "outputs": [
    {
     "name": "stdout",
     "output_type": "stream",
     "text": [
      "3\n",
      "0\n",
      "[]\n"
     ]
    }
   ],
   "source": [
    "# and : False로 판별되는 첫번째 항을 반환\n",
    "#      모든 항이 참이면 마지막 항을 반환\n",
    "print(True and 1 and 3)\n",
    "print(0 and True)\n",
    "print(True and [] and True and True and True)"
   ]
  },
  {
   "cell_type": "code",
   "execution_count": 11,
   "id": "7cf2bd40",
   "metadata": {},
   "outputs": [
    {
     "name": "stdout",
     "output_type": "stream",
     "text": [
      "논리연산(연산자 앞뒤에 논리형일 때) : True\n",
      "비트연산(연산자 앞이나 뒤에 숫자일 때) : 3\n"
     ]
    }
   ],
   "source": [
    "# | : 논리연산, 비트연산\n",
    "result = False | True\n",
    "print('논리연산(연산자 앞뒤에 논리형일 때) :', result)\n",
    "result = False | 3 # 0000 0000 (False)\n",
    "                   # 0000 0011 (3)\n",
    "print('비트연산(연산자 앞이나 뒤에 숫자일 때) :', result)"
   ]
  },
  {
   "cell_type": "code",
   "execution_count": 12,
   "id": "44dffd36",
   "metadata": {},
   "outputs": [
    {
     "name": "stdout",
     "output_type": "stream",
     "text": [
      "None\n",
      "Hong\n"
     ]
    }
   ],
   "source": [
    "# or : 논리연산, 참으로 판별되는 첫번째 항을 반환\n",
    "#      모든 항이 거짓이면, 마지막항을 반환\n",
    "print(False or False or None)\n",
    "print('Hong' or ' ' or False)"
   ]
  },
  {
   "cell_type": "code",
   "execution_count": 13,
   "id": "53e19912",
   "metadata": {},
   "outputs": [
    {
     "name": "stdout",
     "output_type": "stream",
     "text": [
      "False\n"
     ]
    }
   ],
   "source": [
    "print(not True)"
   ]
  },
  {
   "cell_type": "markdown",
   "id": "dbf6f8a4",
   "metadata": {},
   "source": [
    "## 5.4 비교연산자 : >, >=, <, <=, ==(같다), !=(다르다)"
   ]
  },
  {
   "cell_type": "code",
   "execution_count": 14,
   "id": "5d258190",
   "metadata": {},
   "outputs": [
    {
     "name": "stdout",
     "output_type": "stream",
     "text": [
      "True\n",
      "True\n"
     ]
    }
   ],
   "source": [
    "# 비교연산자는 이항, 삼항, 사항... 다항연산자\n",
    "x = 5\n",
    "print((4<x) & (x<10) )\n",
    "print(4 < x < 10)"
   ]
  },
  {
   "cell_type": "code",
   "execution_count": 15,
   "id": "e9620843",
   "metadata": {},
   "outputs": [
    {
     "name": "stdout",
     "output_type": "stream",
     "text": [
      "True\n",
      "False\n",
      "False\n",
      "True\n"
     ]
    }
   ],
   "source": [
    "# 비교연산자(<)의 우선순위가 논리연산(&)의 우선순위보다 낮다\n",
    "print( (10>5) & (10>7) )\n",
    "print( 10>5 & 10>7 )  # 0101(5) \n",
    "                      # 1010(10)\n",
    "print( 10> 0 >7)\n",
    "print( 10>5 and 10>7)"
   ]
  },
  {
   "cell_type": "code",
   "execution_count": 16,
   "id": "4bd1b1d6",
   "metadata": {},
   "outputs": [
    {
     "name": "stdout",
     "output_type": "stream",
     "text": [
      "False\n",
      "False\n"
     ]
    }
   ],
   "source": [
    "address = '서울'\n",
    "age = 29\n",
    "# print( address=='서울' & age>=30 )\n",
    "print( (address=='서울') & (age>=30) )\n",
    "print( (address!='서울') & (age>=30) )"
   ]
  },
  {
   "cell_type": "code",
   "execution_count": 17,
   "id": "859a9d90",
   "metadata": {},
   "outputs": [
    {
     "data": {
      "text/plain": [
       "True"
      ]
     },
     "execution_count": 17,
     "metadata": {},
     "output_type": "execute_result"
    }
   ],
   "source": [
    "# 문자 비교 : ASCII 코드 순으로 비교 가능 : 특수문자 < 숫자 < 대문자 < 소문자\n",
    "'scott' < 'sctiger'"
   ]
  },
  {
   "cell_type": "code",
   "execution_count": 18,
   "id": "3dad1077",
   "metadata": {},
   "outputs": [
    {
     "data": {
      "text/plain": [
       "True"
      ]
     },
     "execution_count": 18,
     "metadata": {},
     "output_type": "execute_result"
    }
   ],
   "source": [
    "'9' > '10'"
   ]
  },
  {
   "cell_type": "code",
   "execution_count": 19,
   "id": "7c33ef7d",
   "metadata": {},
   "outputs": [
    {
     "data": {
      "text/plain": [
       "True"
      ]
     },
     "execution_count": 19,
     "metadata": {},
     "output_type": "execute_result"
    }
   ],
   "source": [
    "'김길동김수한무거북이와' < '홍길동'"
   ]
  },
  {
   "cell_type": "markdown",
   "id": "3766eeac",
   "metadata": {},
   "source": [
    "## 5.5 비트연산자 ; &, |, ^(XOR), ~"
   ]
  },
  {
   "cell_type": "code",
   "execution_count": null,
   "id": "e318b053",
   "metadata": {},
   "outputs": [],
   "source": [
    "# x  y   x&Y   X^Y\n",
    "# 0  0    0     0\n",
    "# 0  1    0     1\n",
    "# 1  0    0     1\n",
    "# 1  1    1     0"
   ]
  },
  {
   "cell_type": "code",
   "execution_count": 21,
   "id": "5db5cfb5",
   "metadata": {},
   "outputs": [
    {
     "name": "stdout",
     "output_type": "stream",
     "text": [
      " a  = 15 : 1111\n",
      " b  =  2 : 0010\n",
      "a^b = 13 : 1101\n"
     ]
    }
   ],
   "source": [
    "a = 15 # 1111\n",
    "b = 2  # 0010\n",
    "print(\" a  = {0:2} : {0:04b}\".format(a))\n",
    "print(\" b  = {0:2} : {0:04b}\".format(b))\n",
    "print(\"a^b = {0:2} : {0:04b}\".format(a^b))"
   ]
  },
  {
   "cell_type": "markdown",
   "id": "523a5710",
   "metadata": {},
   "source": [
    "### -연산자\n",
    "- 산술연산 : + - * / // % **\n",
    "- 할당연산 : = += -= *= /= //= %=\n",
    "- 논리연산 : & and | or not\n",
    "- 비교연산 : > >= < <= == !=\n",
    "- 비트연산 : & | ^\n",
    "- &와 |은 비교연산자보다 우선순위가 높다"
   ]
  },
  {
   "cell_type": "markdown",
   "id": "2e456cd6",
   "metadata": {},
   "source": [
    "# 6절. 문자열 다루기\n",
    "- 문자열 슬라이싱 변수[from:stop:step]\n",
    "\n",
    "- len(문자열변수) : 문자갯수\n",
    "\n",
    "- upper() : 대문자로\n",
    "\n",
    "- lower() : 소문자로\n",
    "\n",
    "- title() : 각 어절의 첫글자만 대문자로\n",
    "\n",
    "- capitalize() : 첫문자만 대문자로\n",
    "\n",
    "- count('찾을문자열') : '찾을문자열'이 몇개 들어있는지 갯수 반환\n",
    "\n",
    "- find('찾을문자열') : 찾을문자열이 왼쪽부터 시작하여 몇번째에 있는지 인덱스를 반환\n",
    "\n",
    "- rfind('찾을문자열') : 찾을문자열이 오른쪽부터 시작하여 몇번째에 있는지 인덱스를 반환 찾을문자열이 없으면 -1을 반환 cf) index('찾을문자열'):찾을문자열의 인덱스를 반환. 찾을문자열이 없으면 오류\n",
    "\n",
    "- startswith('특정문자열') : 특정문자열로 시작하는지 여부\n",
    "\n",
    "- endswith('특정문자열') : 특정문자열로 끝나는지 여부\n",
    "\n",
    "- strip() : 좌우 공백 제거\n",
    "\n",
    "- rstrip() : 오른쪽 공백 제거\n",
    "\n",
    "- lstrip() : 왼쪽 공백 제거\n",
    "\n",
    "- isdigit() : 문자열이 숫자문자열인지 여부\n",
    "\n",
    "- islower() : 소문자문자열인지 여부\n",
    "\n",
    "- isupper() : 대문자문자열인지 여부\n",
    "\n",
    "- replace(oldStr, newStr) : oldStr을 newStr로 변경"
   ]
  },
  {
   "cell_type": "code",
   "execution_count": 28,
   "id": "747b1b27",
   "metadata": {},
   "outputs": [
    {
     "name": "stdout",
     "output_type": "stream",
     "text": [
      "1. 글자수 39\n",
      "2. 대문자로 : PYTHON IS EASY. PYTHON IS SMART. PYTHON\n",
      "3. 소문자로 : python is easy. python is smart. python\n",
      "4. title : Python Is Easy. Python Is Smart. Python\n",
      "5. capitalize() : Python is easy. python is smart. python\n",
      "6. python이 몇번 나오는지 : 2\n",
      "7. 대소문자구분없이 python이 몇번 나오는지 : 3\n",
      "7. 대소문자구분없이 python이 몇번 나오는지 : 3\n",
      "7. 대소문자구분없이 python이 몇번 나오는지 : 3\n",
      "8. python이 나오는 첫 index 위치 : 0\n",
      "8. python이 나오는 마지막 index 위치 : 33\n",
      "8. java이 나오는 마지막 index 위치 : -1\n",
      "8. python이 나오는 첫 index 위치 : 0\n",
      "9. python으로 시작하는지 여부 : True\n",
      "10. python으로 끝나는지 여부 : False\n",
      "10. 대소문자 구분없이 python으로 끝나는지 여부 : True\n"
     ]
    }
   ],
   "source": [
    "temp = \"python is easy. pYThon is smart. python\"\n",
    "#       012345678901234567890123456789012345678\n",
    "print('1. 글자수', len(temp))\n",
    "print('2. 대문자로 :', temp.upper())\n",
    "print('3. 소문자로 :', temp.lower())\n",
    "print('4. title :',   temp.title())\n",
    "print('5. capitalize() :', temp.capitalize())\n",
    "print('6. python이 몇번 나오는지 :', temp.count('python'))\n",
    "print('7. 대소문자구분없이 python이 몇번 나오는지 :', temp.lower().count('python'))\n",
    "print('7. 대소문자구분없이 python이 몇번 나오는지 :', temp.upper().count('PYTHON'))\n",
    "print('7. 대소문자구분없이 python이 몇번 나오는지 :', temp.title().count('Python'))\n",
    "print('8. python이 나오는 첫 index 위치 :', temp.find('python'))\n",
    "print('8. python이 나오는 마지막 index 위치 :', temp.rfind('python'))\n",
    "print('8. java이 나오는 마지막 index 위치 :', temp.rfind('java'))\n",
    "print('8. python이 나오는 첫 index 위치 :', temp.index('python'))\n",
    "# print('8. java이 나오는 마지막 index 위치 :', temp.index('java'))\n",
    "print('9. python으로 시작하는지 여부 :', temp.startswith('python'))\n",
    "print('10. python으로 끝나는지 여부 :', temp.endswith('PYTHON'))\n",
    "print('10. 대소문자 구분없이 python으로 끝나는지 여부 :', temp.upper().endswith('PYTHON'))"
   ]
  },
  {
   "cell_type": "code",
   "execution_count": 29,
   "id": "8185e71d",
   "metadata": {},
   "outputs": [
    {
     "name": "stdout",
     "output_type": "stream",
     "text": [
      "11. 좌우공백제거 : [Python is easy.]\n",
      "11. 좌측공백제거 : [Python is easy.     ]\n",
      "11. 우측공백제거 : [    Python is easy.]\n",
      "12. 숫자문자열인지 : False\n",
      "13. 소문자문자열인지 : False\n",
      "13. 대문자문자열인지 : False\n",
      "14. ,제거 : 1000000\n",
      "14. ,제거 : 1000\n"
     ]
    }
   ],
   "source": [
    "temp = '    Python is easy.     '\n",
    "notdisit = '1,000,000'\n",
    "num_str = '1000'\n",
    "print('11. 좌우공백제거 : [{}]'.format(temp.strip()))\n",
    "print('11. 좌측공백제거 : [{}]'.format(temp.lstrip()))\n",
    "print('11. 우측공백제거 : [{}]'.format(temp.rstrip()))\n",
    "print('12. 숫자문자열인지 :', notdisit.isdigit())\n",
    "print('13. 소문자문자열인지 :', temp.islower())\n",
    "print('13. 대문자문자열인지 :', temp.isupper())\n",
    "print('14. ,제거 :', notdisit.replace(',', ''))\n",
    "print('14. ,제거 :', num_str.replace(',', ''))"
   ]
  },
  {
   "cell_type": "code",
   "execution_count": 30,
   "id": "b2de89b8",
   "metadata": {},
   "outputs": [
    {
     "name": "stdout",
     "output_type": "stream",
     "text": [
      "space단위로 temp를 분리 : ['홍길동', '김길동', '신길똥', '유길동']\n"
     ]
    }
   ],
   "source": [
    "temp = \" 홍길동   김길동 신길똥 유길동\"\n",
    "print('space단위로 temp를 분리 :', temp.split()) #기본이 space 단위로 분리"
   ]
  },
  {
   "cell_type": "code",
   "execution_count": 31,
   "id": "fde37b17",
   "metadata": {},
   "outputs": [
    {
     "name": "stdout",
     "output_type": "stream",
     "text": [
      " - 단위로 data를 분리(결과 : list)\n",
      "['2025', '04', '10']\n",
      "년 : 2025\n",
      "월 : 04\n",
      "일 : 10\n"
     ]
    }
   ],
   "source": [
    "data = \"2025-04-10\"\n",
    "print(' - 단위로 data를 분리(결과 : list)')\n",
    "data_list = data.split('-')\n",
    "print(data_list)\n",
    "print(\"년 :\", data_list[0])\n",
    "print(\"월 :\", data_list[1])\n",
    "print(\"일 :\", data_list[2])"
   ]
  },
  {
   "cell_type": "code",
   "execution_count": 32,
   "id": "bf62650e",
   "metadata": {},
   "outputs": [
    {
     "name": "stdout",
     "output_type": "stream",
     "text": [
      "원 데이터 : Python - HTML/CSS - JavaScript - DBMS\n",
      "분리된 데이터 : ['Python', 'HTML/CSS', 'JavaScript', 'DBMS']\n",
      "join된 데이터 : Python/HTML/CSS/JavaScript/DBMS\n"
     ]
    }
   ],
   "source": [
    "# ' - '을 '/'로 바꾸기\n",
    "temp = \"Python - HTML/CSS - JavaScript - DBMS\"\n",
    "# temp.replace(' - ', '/')\n",
    "print('원 데이터 :', temp)\n",
    "splited_temp = temp.split(' - ')\n",
    "print('분리된 데이터 :', splited_temp)\n",
    "joined_temp = '/'.join(splited_temp)\n",
    "print('join된 데이터 :', joined_temp)"
   ]
  },
  {
   "cell_type": "code",
   "execution_count": 33,
   "id": "1aa2ea43",
   "metadata": {},
   "outputs": [],
   "source": [
    "str_ = 'ABC' \n",
    "# str_ = ['A','B','C']"
   ]
  },
  {
   "cell_type": "code",
   "execution_count": 34,
   "id": "7e49caad",
   "metadata": {},
   "outputs": [
    {
     "data": {
      "text/plain": [
       "['__add__',\n",
       " '__class__',\n",
       " '__contains__',\n",
       " '__delattr__',\n",
       " '__dir__',\n",
       " '__doc__',\n",
       " '__eq__',\n",
       " '__format__',\n",
       " '__ge__',\n",
       " '__getattribute__',\n",
       " '__getitem__',\n",
       " '__getnewargs__',\n",
       " '__gt__',\n",
       " '__hash__',\n",
       " '__init__',\n",
       " '__init_subclass__',\n",
       " '__iter__',\n",
       " '__le__',\n",
       " '__len__',\n",
       " '__lt__',\n",
       " '__mod__',\n",
       " '__mul__',\n",
       " '__ne__',\n",
       " '__new__',\n",
       " '__reduce__',\n",
       " '__reduce_ex__',\n",
       " '__repr__',\n",
       " '__rmod__',\n",
       " '__rmul__',\n",
       " '__setattr__',\n",
       " '__sizeof__',\n",
       " '__str__',\n",
       " '__subclasshook__',\n",
       " 'capitalize',\n",
       " 'casefold',\n",
       " 'center',\n",
       " 'count',\n",
       " 'encode',\n",
       " 'endswith',\n",
       " 'expandtabs',\n",
       " 'find',\n",
       " 'format',\n",
       " 'format_map',\n",
       " 'index',\n",
       " 'isalnum',\n",
       " 'isalpha',\n",
       " 'isascii',\n",
       " 'isdecimal',\n",
       " 'isdigit',\n",
       " 'isidentifier',\n",
       " 'islower',\n",
       " 'isnumeric',\n",
       " 'isprintable',\n",
       " 'isspace',\n",
       " 'istitle',\n",
       " 'isupper',\n",
       " 'join',\n",
       " 'ljust',\n",
       " 'lower',\n",
       " 'lstrip',\n",
       " 'maketrans',\n",
       " 'partition',\n",
       " 'removeprefix',\n",
       " 'removesuffix',\n",
       " 'replace',\n",
       " 'rfind',\n",
       " 'rindex',\n",
       " 'rjust',\n",
       " 'rpartition',\n",
       " 'rsplit',\n",
       " 'rstrip',\n",
       " 'split',\n",
       " 'splitlines',\n",
       " 'startswith',\n",
       " 'strip',\n",
       " 'swapcase',\n",
       " 'title',\n",
       " 'translate',\n",
       " 'upper',\n",
       " 'zfill']"
      ]
     },
     "execution_count": 34,
     "metadata": {},
     "output_type": "execute_result"
    }
   ],
   "source": [
    "# 문자열이 다룰 수 있는 함수들과 변수들 목록\n",
    "dir(str)"
   ]
  },
  {
   "cell_type": "markdown",
   "id": "1f4f65cb",
   "metadata": {},
   "source": [
    "# 7절 시간,날짜, 날짜시간 다루기"
   ]
  },
  {
   "cell_type": "code",
   "execution_count": 43,
   "id": "8741863d",
   "metadata": {},
   "outputs": [
    {
     "data": {
      "text/plain": [
       "'C:\\\\Users\\\\Admin\\\\anaconda3\\\\lib\\\\datetime.py'"
      ]
     },
     "execution_count": 43,
     "metadata": {},
     "output_type": "execute_result"
    }
   ],
   "source": [
    "import datetime\n",
    "datetime.__file__"
   ]
  },
  {
   "cell_type": "code",
   "execution_count": 44,
   "id": "093ef072",
   "metadata": {},
   "outputs": [],
   "source": [
    "# datetime모듈(datetime.py)안의 datetime, date, time을 import\n",
    "from datetime import datetime, date, time"
   ]
  },
  {
   "cell_type": "markdown",
   "id": "87abf391",
   "metadata": {},
   "source": [
    "## 7.1 시간과 날짜"
   ]
  },
  {
   "cell_type": "code",
   "execution_count": 45,
   "id": "5f1f006c",
   "metadata": {},
   "outputs": [
    {
     "data": {
      "text/plain": [
       "datetime.datetime(2025, 4, 7, 9, 30)"
      ]
     },
     "execution_count": 45,
     "metadata": {},
     "output_type": "execute_result"
    }
   ],
   "source": [
    "# 특정한 시점을 갖는 datetime 객체 생성\n",
    "thatday = datetime(2025, 4, 7, 9, 30, 0)\n",
    "thatday"
   ]
  },
  {
   "cell_type": "code",
   "execution_count": 54,
   "id": "316dad2b",
   "metadata": {},
   "outputs": [
    {
     "name": "stdout",
     "output_type": "stream",
     "text": [
      "2025-04-07 09:30:00\n",
      "Mon Apr  7 09:30:00 2025\n",
      "2025년04월07일(월요일) 오전 09시30분 00초\n",
      "2025년04월07일(월요일) 오전 09시30분 00초\n"
     ]
    }
   ],
   "source": [
    "print(thatday)\n",
    "print(thatday.ctime()) # ctime() : 사람이 읽기 쉬운 형태로 반환\n",
    "print(\"{:%Y년%m월%d일(%A) %p %I시%M분 %S초}\".format(thatday))\n",
    "print(thatday.strftime(\"%Y년%m월%d일(%A) %p %I시%M분 %S초\"))"
   ]
  },
  {
   "cell_type": "code",
   "execution_count": 47,
   "id": "7a5c1952",
   "metadata": {},
   "outputs": [
    {
     "data": {
      "text/plain": [
       "'ko_KR'"
      ]
     },
     "execution_count": 47,
     "metadata": {},
     "output_type": "execute_result"
    }
   ],
   "source": [
    "import locale\n",
    "locale.setlocale(locale.LC_TIME, 'ko_KR')"
   ]
  },
  {
   "cell_type": "code",
   "execution_count": 48,
   "id": "5d35a854",
   "metadata": {},
   "outputs": [
    {
     "name": "stdout",
     "output_type": "stream",
     "text": [
      "25-0411(금요일) 10:40:50\n"
     ]
    }
   ],
   "source": [
    "now = datetime.now()\n",
    "print(now.strftime(\"%y-%m%d(%A) %H:%M:%S\"))"
   ]
  },
  {
   "cell_type": "code",
   "execution_count": 32,
   "id": "45647822",
   "metadata": {},
   "outputs": [
    {
     "data": {
      "text/plain": [
       "datetime.timedelta(days=4, seconds=2782, microseconds=928140)"
      ]
     },
     "execution_count": 32,
     "metadata": {},
     "output_type": "execute_result"
    }
   ],
   "source": [
    "diff = now - thatday\n",
    "diff"
   ]
  },
  {
   "cell_type": "code",
   "execution_count": 36,
   "id": "27e0c593",
   "metadata": {},
   "outputs": [
    {
     "data": {
      "text/plain": [
       "4"
      ]
     },
     "execution_count": 36,
     "metadata": {},
     "output_type": "execute_result"
    }
   ],
   "source": [
    "diff.days"
   ]
  },
  {
   "cell_type": "markdown",
   "id": "79929f82",
   "metadata": {},
   "source": [
    "## 7.2 날짜"
   ]
  },
  {
   "cell_type": "code",
   "execution_count": 37,
   "id": "c8295147",
   "metadata": {},
   "outputs": [
    {
     "data": {
      "text/plain": [
       "datetime.date(2025, 9, 3)"
      ]
     },
     "execution_count": 37,
     "metadata": {},
     "output_type": "execute_result"
    }
   ],
   "source": [
    "someday = date(2025, 9, 3)\n",
    "someday"
   ]
  },
  {
   "cell_type": "code",
   "execution_count": 38,
   "id": "cdb0edde",
   "metadata": {},
   "outputs": [
    {
     "name": "stdout",
     "output_type": "stream",
     "text": [
      "2025년09월03일\n"
     ]
    }
   ],
   "source": [
    "print(someday.strftime(\"%Y년%m월%d일\"))"
   ]
  },
  {
   "cell_type": "code",
   "execution_count": 55,
   "id": "12fcc329",
   "metadata": {},
   "outputs": [
    {
     "data": {
      "text/plain": [
       "True"
      ]
     },
     "execution_count": 55,
     "metadata": {},
     "output_type": "execute_result"
    }
   ],
   "source": [
    "# 오늘\n",
    "today1 = datetime.now().date()\n",
    "today2 = date.today()\n",
    "today1 == today2"
   ]
  },
  {
   "cell_type": "code",
   "execution_count": 57,
   "id": "a269b895",
   "metadata": {},
   "outputs": [
    {
     "name": "stdout",
     "output_type": "stream",
     "text": [
      "25년 04월 11일\n"
     ]
    }
   ],
   "source": [
    "print(today1.strftime(\"%y년 %m월 %d일\"))"
   ]
  },
  {
   "cell_type": "code",
   "execution_count": 58,
   "id": "cb7fe9e5",
   "metadata": {},
   "outputs": [
    {
     "data": {
      "text/plain": [
       "145"
      ]
     },
     "execution_count": 58,
     "metadata": {},
     "output_type": "execute_result"
    }
   ],
   "source": [
    "diff = someday - today\n",
    "diff.days"
   ]
  },
  {
   "cell_type": "markdown",
   "id": "8d596100",
   "metadata": {},
   "source": [
    "## 7.3 시간"
   ]
  },
  {
   "cell_type": "code",
   "execution_count": 59,
   "id": "198ebceb",
   "metadata": {},
   "outputs": [
    {
     "data": {
      "text/plain": [
       "datetime.time(13, 10)"
      ]
     },
     "execution_count": 59,
     "metadata": {},
     "output_type": "execute_result"
    }
   ],
   "source": [
    "# 특정 시간\n",
    "t = time(13,10)\n",
    "t"
   ]
  },
  {
   "cell_type": "code",
   "execution_count": 60,
   "id": "46a551bb",
   "metadata": {},
   "outputs": [
    {
     "name": "stdout",
     "output_type": "stream",
     "text": [
      "13:10:00\n",
      "01시01분00초\n"
     ]
    }
   ],
   "source": [
    "print(t)\n",
    "print(t.strftime(\"%I시%m분%S초\"))"
   ]
  },
  {
   "cell_type": "code",
   "execution_count": 51,
   "id": "bfd8c0c1",
   "metadata": {},
   "outputs": [
    {
     "data": {
      "text/plain": [
       "datetime.time(10, 43, 58, 32617)"
      ]
     },
     "execution_count": 51,
     "metadata": {},
     "output_type": "execute_result"
    }
   ],
   "source": [
    "# 지금 시간\n",
    "now_time = datetime.now().time()\n",
    "now_time"
   ]
  },
  {
   "cell_type": "code",
   "execution_count": 52,
   "id": "4cf7cd14",
   "metadata": {},
   "outputs": [
    {
     "data": {
      "text/plain": [
       "'H시 43분 58초'"
      ]
     },
     "execution_count": 52,
     "metadata": {},
     "output_type": "execute_result"
    }
   ],
   "source": [
    "now_time.strftime(\"H시 %M분 %S초\")"
   ]
  },
  {
   "cell_type": "markdown",
   "id": "a402dbc1",
   "metadata": {},
   "source": [
    "## datetime, date, time형들을 원하는 포맷의 문자형으로 반환 : strftime()**\n",
    "\n",
    "- %Y, %y, %m, %d, %A(요일) %p(오전/오후) %H(24시) %I(12시) %M(분) %S(초)"
   ]
  },
  {
   "cell_type": "code",
   "execution_count": null,
   "id": "562bf36b",
   "metadata": {},
   "outputs": [],
   "source": [
    "# 8절. 연습문제"
   ]
  },
  {
   "cell_type": "code",
   "execution_count": 35,
   "id": "5110eb61",
   "metadata": {},
   "outputs": [
    {
     "name": "stdout",
     "output_type": "stream",
     "text": [
      "홍길동님의 나이는 23살입니다\n",
      "홍길동님의 나이는 23살입니다\n",
      "홍길동님의 나이는 23살입니다\n",
      "홍길동님의 나이는 23살입니다\n"
     ]
    }
   ],
   "source": [
    "# 1.이름과 나이 변수를 다음 형식으로 출력하도록 format() 함수를 이용해 형식화하세요\n",
    "# [출력형식 : 홍길동님의 나이는 23살입니다]\n",
    "name = '홍길동'\n",
    "age = 23\n",
    "print('{}님의 나이는 {}살입니다'.format(name, age))\n",
    "print('{0}님의 나이는 {1}살입니다'.format(name, age))\n",
    "print('%s님의 나이는 %d살입니다'% (name, age))\n",
    "print(f'{name}님의 나이는 {age}살입니다')"
   ]
  },
  {
   "cell_type": "code",
   "execution_count": 5,
   "id": "55903e20",
   "metadata": {
    "scrolled": true
   },
   "outputs": [
    {
     "name": "stdout",
     "output_type": "stream",
     "text": [
      "정수를 입력하세요 :13\n",
      "정수를 입력하세요 :5\n",
      "13 + 5 = 18\n",
      "13 - 5 = 8\n",
      "13 * 5 = 65\n",
      "13 / 5 = 2.60\n",
      "13 // 5 = 2\n",
      "13 % 5 = 3\n"
     ]
    }
   ],
   "source": [
    "# 두 정수를 입력받아 두 수의 덧셈, 뺄셈, 곱셈, 나눗셈, 몫, 나머지를 출력하세요\n",
    "a = int(input('정수를 입력하세요 :'))\n",
    "b = int(input('정수를 입력하세요 :'))\n",
    "print(f\"{a} + {b} = {a + b}\") \n",
    "print(f\"{a} - {b} = {a - b}\") \n",
    "print(f\"{a} * {b} = {a * b}\") \n",
    "if b != 0:\n",
    "    print(f\"{a} / {b} = {a / b:.2f}\")  \n",
    "    print(f\"{a} // {b} = {a // b}\")     \n",
    "    print(f\"{a} % {b} = {a % b}\")"
   ]
  },
  {
   "cell_type": "code",
   "execution_count": 44,
   "id": "839347bb",
   "metadata": {},
   "outputs": [
    {
     "name": "stdout",
     "output_type": "stream",
     "text": [
      "World Hello\n"
     ]
    }
   ],
   "source": [
    "# 문자열의 분리하기와 합치기 기능을 이용하여 'Hello World' 가 할당된 변수를 이용하여 'World Hello'로 출력하세요\n",
    "text = \"Hello World\"\n",
    "words = text.split()\n",
    "reversed_words = [words[1], words[0]]\n",
    "result = ' '.join(reversed_words)\n",
    "print(result)"
   ]
  },
  {
   "cell_type": "code",
   "execution_count": 45,
   "id": "9623550b",
   "metadata": {},
   "outputs": [
    {
     "name": "stdout",
     "output_type": "stream",
     "text": [
      "World Hello\n"
     ]
    }
   ],
   "source": [
    "ext = \"Hello World\"\n",
    "result = ' '.join(text.split()[::-1])\n",
    "print(result)"
   ]
  },
  {
   "cell_type": "code",
   "execution_count": 48,
   "id": "c4d90ef9",
   "metadata": {},
   "outputs": [
    {
     "name": "stdout",
     "output_type": "stream",
     "text": [
      "bcdefa\n"
     ]
    }
   ],
   "source": [
    "# x = ' abcdef ＇를 이용하여 bcdefa 로 출력하세요 (문자 슬라이싱이용).\n",
    "x = ' abcdef '\n",
    "x = x.strip()\n",
    "result = x[1:] + x[0]\n",
    "print(result)"
   ]
  },
  {
   "cell_type": "code",
   "execution_count": 49,
   "id": "dee218ef",
   "metadata": {},
   "outputs": [
    {
     "name": "stdout",
     "output_type": "stream",
     "text": [
      "fedcba\n"
     ]
    }
   ],
   "source": [
    "# x = ‘ abcdef 를 이용하여 fedcba 로 출력하세요\n",
    "x = ' abcdef '\n",
    "x = x.strip()\n",
    "reversed_x = x[::-1]\n",
    "print(reversed_x)"
   ]
  },
  {
   "cell_type": "code",
   "execution_count": 50,
   "id": "da66fa26",
   "metadata": {},
   "outputs": [
    {
     "name": "stdout",
     "output_type": "stream",
     "text": [
      "오늘의 섭씨 온도를 입력하세요: 15\n",
      "화씨 온도는 59도입니다.\n"
     ]
    }
   ],
   "source": [
    "# 오늘의 온도를 섭씨온도로 입력받아 화씨 온도로 변환하는 프로그램을 작성하세요.\n",
    "celsius = float(input(\"오늘의 섭씨 온도를 입력하세요: \"))\n",
    "fahrenheit = (celsius * 1.8) + 32\n",
    "if fahrenheit.is_integer():\n",
    "    print(f\"화씨 온도는 {int(fahrenheit)}도입니다.\")"
   ]
  },
  {
   "cell_type": "code",
   "execution_count": 52,
   "id": "d51d0659",
   "metadata": {},
   "outputs": [
    {
     "name": "stdout",
     "output_type": "stream",
     "text": [
      "오늘의 섭씨 온도: 18\n",
      "화씨 온도: 64.40도\n"
     ]
    }
   ],
   "source": [
    "celsius = float(input(\"오늘의 섭씨 온도: \"))\n",
    "fahrenheit = (celsius * 1.8) + 32\n",
    "print(f\"화씨 온도: {fahrenheit:.2f}도\")"
   ]
  },
  {
   "cell_type": "code",
   "execution_count": null,
   "id": "8962fb99",
   "metadata": {},
   "outputs": [],
   "source": [
    "# 다음 중 변수 선언으로 잘못된 것을 모두 고르시오\n",
    "①, ②, ③\n",
    "- 숫자로 시작할 수 없음\n",
    "- 예약어(for, if, class 등)는 사용할 수 없음\n",
    "- 특수문자(공백, 점 등)는 사용할 수 없음\n",
    "- 영문자, 숫자, 밑줄(_)만 사용 가능\n",
    "- 대소문자 구분함"
   ]
  },
  {
   "cell_type": "code",
   "execution_count": 53,
   "id": "fe413c29",
   "metadata": {},
   "outputs": [
    {
     "name": "stdout",
     "output_type": "stream",
     "text": [
      "SeounSeoul\n",
      "Seou n Seoul\n"
     ]
    }
   ],
   "source": [
    "# 다음의 코드의 실행결과는?\n",
    "text = \"Seoul A001 - programming with python\"\n",
    "print(text[:4]+text[-1]+text.split()[0])\n",
    "print(text[:4], text[-1], text.split()[0])"
   ]
  },
  {
   "cell_type": "code",
   "execution_count": null,
   "id": "031564cf",
   "metadata": {},
   "outputs": [],
   "source": [
    "# 다음 중 파이썬 3.x 버전에서 연산식과 그 결과의 출력이 잘못된 것은? ②\n",
    "① //는 정수 나눗셈(몫) 연산자, 8 // 2 → 4 맞음.\n",
    "② /는 일반 나눗셈, 결과는 항상 float(실수), 8 / 2 → 4.0 틀림.\n",
    "③ **는 거듭제곱 연산자, 8 ** 2 → 8 * 8 → 64 맞음."
   ]
  },
  {
   "cell_type": "code",
   "execution_count": null,
   "id": "4efd2d23",
   "metadata": {},
   "outputs": [],
   "source": [
    "# 아래 프로그램의 결과는?\n",
    "정수(int)와 문자열(str) 을 직접 더할 수 없기 때문에 아래와 같은 Error가 발생\n",
    "x = 5\n",
    "y = \"John\"\n",
    "print(str(x) + y)\n",
    "x = 5\n",
    "y = \"3\"\n",
    "print(x + int(y))"
   ]
  },
  {
   "cell_type": "code",
   "execution_count": 63,
   "id": "76d0cb25",
   "metadata": {},
   "outputs": [
    {
     "name": "stdout",
     "output_type": "stream",
     "text": [
      "나라\n"
     ]
    }
   ],
   "source": [
    "# split() 함수를 이용하여 str_ 의 값 중 나라 를 출력하는 프로그램을 완성하시오\n",
    "str_ = \"우리 나라 대한 민국\"\n",
    "words = str_.split()\n",
    "for word in words:\n",
    "    if word == \"나라\":\n",
    "        print(word)"
   ]
  },
  {
   "cell_type": "code",
   "execution_count": 55,
   "id": "9bd1ee0c",
   "metadata": {},
   "outputs": [
    {
     "name": "stdout",
     "output_type": "stream",
     "text": [
      "나라\n"
     ]
    }
   ],
   "source": [
    "str_ = \"우리 나라 대한 민국\"\n",
    "words = str_.split()\n",
    "print(words[1])"
   ]
  }
 ],
 "metadata": {
  "kernelspec": {
   "display_name": "Python 3 (ipykernel)",
   "language": "python",
   "name": "python3"
  },
  "language_info": {
   "codemirror_mode": {
    "name": "ipython",
    "version": 3
   },
   "file_extension": ".py",
   "mimetype": "text/x-python",
   "name": "python",
   "nbconvert_exporter": "python",
   "pygments_lexer": "ipython3",
   "version": "3.10.9"
  },
  "toc": {
   "base_numbering": 1,
   "nav_menu": {},
   "number_sections": false,
   "sideBar": true,
   "skip_h1_title": false,
   "title_cell": "Table of Contents",
   "title_sidebar": "Contents",
   "toc_cell": false,
   "toc_position": {
    "height": "calc(100% - 180px)",
    "left": "10px",
    "top": "150px",
    "width": "318px"
   },
   "toc_section_display": true,
   "toc_window_display": true
  }
 },
 "nbformat": 4,
 "nbformat_minor": 5
}
