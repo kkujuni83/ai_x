{
 "cells": [
  {
   "cell_type": "code",
   "execution_count": 18,
   "id": "f844a3fc",
   "metadata": {},
   "outputs": [
    {
     "data": {
      "text/html": [
       "\n",
       "<style>\n",
       "div.container{width:86% !important;}\n",
       "div.cell.code_cell.rendered{width:100%;}\n",
       "div.CodeMirror {font-family:Consolas; font-size:15pt;}\n",
       "div.output {font-size:15pt; font-weight:bold;}\n",
       "div.input {font-family:Consolas; font-size:15pt;}\n",
       "div.prompt {min-width:70px;}\n",
       "div#toc-wrapper{padding-top:120px;}\n",
       "div.text_cell_render ul li{font-size:12pt;padding:5px;}\n",
       "table.dataframe{font-size:15px;}\n",
       "</style>\n"
      ],
      "text/plain": [
       "<IPython.core.display.HTML object>"
      ]
     },
     "metadata": {},
     "output_type": "display_data"
    }
   ],
   "source": [
    "from IPython.display import display, HTML\n",
    "display(HTML(\"\"\"\n",
    "<style>\n",
    "div.container{width:86% !important;}\n",
    "div.cell.code_cell.rendered{width:100%;}\n",
    "div.CodeMirror {font-family:Consolas; font-size:15pt;}\n",
    "div.output {font-size:15pt; font-weight:bold;}\n",
    "div.input {font-family:Consolas; font-size:15pt;}\n",
    "div.prompt {min-width:70px;}\n",
    "div#toc-wrapper{padding-top:120px;}\n",
    "div.text_cell_render ul li{font-size:12pt;padding:5px;}\n",
    "table.dataframe{font-size:15px;}\n",
    "</style>\n",
    "\"\"\"))"
   ]
  },
  {
   "cell_type": "markdown",
   "id": "ad50c048",
   "metadata": {},
   "source": [
    "<font size=\"s\" color=\"red\">ch01 파이썬 개요 및 환경 설정</font>\n",
    "# 1. 주피터 노트북 사용법\n",
    "- shift+Enter : 선택된 셀이 실행되고, 다음셀로 이동\n",
    "- alt+Enter : 포커스된 셀이 실행되고 다음셀이 생성된 후 다음셀로 이동\n",
    "- ctrl + Enter : 선택된 셀이 실행되고, 해당셀에 있음\n",
    "- Enter(셀 클릭) : 다시 편집상태로 돌아감"
   ]
  },
  {
   "cell_type": "code",
   "execution_count": 6,
   "id": "54606751",
   "metadata": {},
   "outputs": [
    {
     "name": "stdout",
     "output_type": "stream",
     "text": [
      "252\n",
      "27\n"
     ]
    }
   ],
   "source": [
    "age = 25 \n",
    "duration = \"2\"\n",
    "print(str(age) + duration)\n",
    "print( age + int(duration))"
   ]
  },
  {
   "cell_type": "code",
   "execution_count": 7,
   "id": "78c5dcd9",
   "metadata": {},
   "outputs": [
    {
     "name": "stdout",
     "output_type": "stream",
     "text": [
      "0\n",
      "1\n",
      "2\n",
      "3\n",
      "4\n",
      "5\n",
      "6\n",
      "7\n",
      "8\n",
      "9\n"
     ]
    }
   ],
   "source": [
    "for i in range(10):\n",
    "    print(i)"
   ]
  },
  {
   "cell_type": "code",
   "execution_count": 10,
   "id": "cc1b2025",
   "metadata": {},
   "outputs": [],
   "source": [
    "# 반복하는 명령(주석:실행하지 않고 개발자가 보는 용도)\n",
    "# for i range(100000000):\n",
    "#    print(i)"
   ]
  },
  {
   "cell_type": "code",
   "execution_count": 11,
   "id": "cf1a7103",
   "metadata": {},
   "outputs": [],
   "source": [
    "print =10"
   ]
  },
  {
   "cell_type": "code",
   "execution_count": 12,
   "id": "7eadecc2",
   "metadata": {},
   "outputs": [
    {
     "data": {
      "text/plain": [
       "10"
      ]
     },
     "execution_count": 12,
     "metadata": {},
     "output_type": "execute_result"
    }
   ],
   "source": [
    "print"
   ]
  },
  {
   "cell_type": "code",
   "execution_count": 13,
   "id": "63c38545",
   "metadata": {},
   "outputs": [
    {
     "ename": "TypeError",
     "evalue": "'int' object is not callable",
     "output_type": "error",
     "traceback": [
      "\u001b[1;31m---------------------------------------------------------------------------\u001b[0m",
      "\u001b[1;31mTypeError\u001b[0m                                 Traceback (most recent call last)",
      "Cell \u001b[1;32mIn[13], line 1\u001b[0m\n\u001b[1;32m----> 1\u001b[0m \u001b[38;5;28;43mprint\u001b[39;49m\u001b[43m(\u001b[49m\u001b[38;5;124;43m\"\u001b[39;49m\u001b[38;5;124;43mHello\u001b[39;49m\u001b[38;5;124;43m\"\u001b[39;49m\u001b[43m)\u001b[49m\n",
      "\u001b[1;31mTypeError\u001b[0m: 'int' object is not callable"
     ]
    }
   ],
   "source": [
    "print(\"Hello\")"
   ]
  },
  {
   "cell_type": "code",
   "execution_count": 14,
   "id": "76703dc5",
   "metadata": {},
   "outputs": [],
   "source": [
    "# 실수로 print에 10 할당을 취소하는 방법\n",
    "# 1. 커널 재시작\n",
    "# print 변수만 제거\n",
    "del print"
   ]
  },
  {
   "cell_type": "markdown",
   "id": "3652ba2b",
   "metadata": {},
   "source": [
    "# 2. ESC 키 누르고 (핫키)\n",
    "- dd : 삭제\n",
    "- a : 윗셀 추가\n",
    "- b : 아랫셀 추가\n",
    "- m : 마크다운셀(문서셀)로 변경\n",
    "- y : 코드셀로 변경\n",
    "- o : 실행결과 접기/펴기(토글기능)"
   ]
  },
  {
   "cell_type": "markdown",
   "id": "c8e55aa1",
   "metadata": {},
   "source": [
    "# 3. 마크다운이란?\n",
    "- 코드와 함께 문서화할 수 있음.\n",
    "- 다양한 문서화 문법 ex. README.md"
   ]
  },
  {
   "cell_type": "code",
   "execution_count": 15,
   "id": "7a2c77b5",
   "metadata": {},
   "outputs": [
    {
     "name": "stdout",
     "output_type": "stream",
     "text": [
      " C 드라이브의 볼륨에는 이름이 없습니다.\n",
      " 볼륨 일련 번호: 3664-591E\n",
      "\n",
      " C:\\ai_x\\source\\01_python 디렉터리\n",
      "\n",
      "2025-04-08  오후 12:36    <DIR>          .\n",
      "2025-04-08  오후 12:36    <DIR>          ..\n",
      "2025-04-08  오전 11:37    <DIR>          .ipynb_checkpoints\n",
      "2025-04-08  오후 12:36             5,832 ch01_파이썬개요 및 환경설정.ipynb\n",
      "2025-04-08  오전 11:36                72 Untitled.ipynb\n",
      "               2개 파일               5,904 바이트\n",
      "               3개 디렉터리  165,631,238,144 바이트 남음\n"
     ]
    }
   ],
   "source": [
    "# 주피터 노트북에서 cmd명령을 실행하는 방법\n",
    "! dir"
   ]
  },
  {
   "cell_type": "code",
   "execution_count": 16,
   "id": "a3373fad",
   "metadata": {},
   "outputs": [
    {
     "name": "stdout",
     "output_type": "stream",
     "text": [
      " C 드라이브의 볼륨에는 이름이 없습니다.\n",
      " 볼륨 일련 번호: 3664-591E\n",
      "\n",
      " C:\\ai_x\\source\\01_python 디렉터리\n",
      "\n",
      "2025-04-08  오후 12:38    <DIR>          .\n",
      "2025-04-08  오후 12:38    <DIR>          ..\n",
      "2025-04-08  오전 11:37    <DIR>          .ipynb_checkpoints\n",
      "2025-04-08  오후 12:38             6,963 ch01_파이썬개요 및 환경설정.ipynb\n",
      "2025-04-08  오전 11:36                72 Untitled.ipynb\n",
      "               2개 파일               7,035 바이트\n",
      "               3개 디렉터리  165,631,160,320 바이트 남음\n"
     ]
    }
   ],
   "source": [
    "!ls"
   ]
  },
  {
   "cell_type": "code",
   "execution_count": null,
   "id": "46836b31",
   "metadata": {},
   "outputs": [],
   "source": []
  }
 ],
 "metadata": {
  "kernelspec": {
   "display_name": "Python 3 (ipykernel)",
   "language": "python",
   "name": "python3"
  },
  "language_info": {
   "codemirror_mode": {
    "name": "ipython",
    "version": 3
   },
   "file_extension": ".py",
   "mimetype": "text/x-python",
   "name": "python",
   "nbconvert_exporter": "python",
   "pygments_lexer": "ipython3",
   "version": "3.10.9"
  },
  "toc": {
   "base_numbering": 1,
   "nav_menu": {},
   "number_sections": false,
   "sideBar": true,
   "skip_h1_title": false,
   "title_cell": "Table of Contents",
   "title_sidebar": "Contents",
   "toc_cell": false,
   "toc_position": {
    "height": "calc(100% - 180px)",
    "left": "10px",
    "top": "150px",
    "width": "216px"
   },
   "toc_section_display": true,
   "toc_window_display": true
  }
 },
 "nbformat": 4,
 "nbformat_minor": 5
}
