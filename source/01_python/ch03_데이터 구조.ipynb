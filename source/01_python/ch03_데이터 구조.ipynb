{
 "cells": [
  {
   "cell_type": "code",
   "execution_count": 37,
   "id": "fad047b5",
   "metadata": {},
   "outputs": [
    {
     "data": {
      "text/html": [
       "\n",
       "<style>\n",
       "div.container{width:86% !important;}\n",
       "div.cell.code_cell.rendered{width:100%;}\n",
       "div.CodeMirror {font-family:Consolas; font-size:15pt;}\n",
       "div.output {font-size:15pt; font-weight:bold;}\n",
       "div.input {font-family:Consolas; font-size:15pt;}\n",
       "div.prompt {min-width:70px;}\n",
       "div#toc-wrapper{padding-top:120px;}\n",
       "div.text_cell_render ul li{font-size:12pt;padding:5px;}\n",
       "table.dataframe{font-size:15px;}\n",
       "</style>\n"
      ],
      "text/plain": [
       "<IPython.core.display.HTML object>"
      ]
     },
     "metadata": {},
     "output_type": "display_data"
    }
   ],
   "source": [
    "from IPython.display import display, HTML\n",
    "display(HTML(\"\"\"\n",
    "<style>\n",
    "div.container{width:95% !important;}\n",
    "div.cell.code_cell.rendered{width:100%;}\n",
    "div.CodeMirror {font-family:Consolas; font-size:15pt;}\n",
    "div.output {font-size:15pt; font-weight:bold;}\n",
    "div.input {font-family:Consolas; font-size:15pt;}\n",
    "div.prompt {min-width:70px;}\n",
    "div#toc-wrapper{padding-top:120px;}\n",
    "div.text_cell_render ul li{font-size:12pt;padding:5px;}\n",
    "table.dataframe{font-size:15px;}\n",
    "</style>\n",
    "\"\"\"))"
   ]
  },
  {
   "cell_type": "markdown",
   "id": "b2d190cf",
   "metadata": {},
   "source": [
    "<font color=\"red\" size=\"5\">ch03. 데이터구조</font>\n",
    "\n",
    "- 리스트[], 튜플(), 딕셔너리{}, 셋"
   ]
  },
  {
   "cell_type": "markdown",
   "id": "47399001",
   "metadata": {},
   "source": [
    "# 1절. 리스트\n",
    "## 1.1 리스트 만들기\n",
    "- []를 이용해서 만들며, 여러개 값(여러 타입)을 하나의 변수에 저장/관리할 수 있음\n",
    "- list(리스트로 변환 가능한 자료)함수 이용도 가능 list(10,20)\n",
    "- 인덱스 : 각 요소의 위치, 0부터 시작, 맨 마지막 인덱스는 -1\n",
    "- 슬라이싱([from:stop:step]):부분 데이터셋 추출\n",
    "- 인덱스와 슬라이싱을 이용해서 읽기/쓰기 지원"
   ]
  },
  {
   "cell_type": "code",
   "execution_count": 14,
   "id": "d8fd3389",
   "metadata": {},
   "outputs": [
    {
     "data": {
      "text/plain": [
       "list"
      ]
     },
     "execution_count": 14,
     "metadata": {},
     "output_type": "execute_result"
    }
   ],
   "source": [
    "fruits = ['banana', 'apple', 'orange', 'grape']\n",
    "type(fruits)"
   ]
  },
  {
   "cell_type": "code",
   "execution_count": 16,
   "id": "a933c181",
   "metadata": {},
   "outputs": [
    {
     "name": "stdout",
     "output_type": "stream",
     "text": [
      "['banana', 'apple', 'orange', 'grape']\n",
      "banana\n"
     ]
    }
   ],
   "source": [
    "print(fruits)\n",
    "print(fruits[0])"
   ]
  },
  {
   "cell_type": "code",
   "execution_count": 18,
   "id": "76e37e24",
   "metadata": {},
   "outputs": [
    {
     "name": "stdout",
     "output_type": "stream",
     "text": [
      "['mango', 'apple', 'orange', 'grape']\n"
     ]
    }
   ],
   "source": [
    "fruits[0] = 'mango'\n",
    "print(fruits)"
   ]
  },
  {
   "cell_type": "code",
   "execution_count": 19,
   "id": "c4c9f789",
   "metadata": {},
   "outputs": [
    {
     "name": "stdout",
     "output_type": "stream",
     "text": [
      "x=mango\n",
      "y=apple\n",
      "z=orange\n",
      "fruits=['mango', 'apple', 'orange']\n"
     ]
    }
   ],
   "source": [
    "fruits = ['mango', 'apple', 'orange']\n",
    "x, y, z = fruits\n",
    "print(f'x={x}')\n",
    "print(f'y={y}')\n",
    "print('z={}'.format(z))\n",
    "print(f'fruits={fruits}')"
   ]
  },
  {
   "cell_type": "code",
   "execution_count": 22,
   "id": "b3d026f8",
   "metadata": {},
   "outputs": [
    {
     "data": {
      "text/plain": [
       "[0, 1, 2, 3, 4, 5, 6, 7, 8, 9]"
      ]
     },
     "execution_count": 22,
     "metadata": {},
     "output_type": "execute_result"
    }
   ],
   "source": [
    "# range(from, to, by) : from부터 to앞까지 by씩 증가하면서 지정된 범위의 정수\n",
    "        # from 생략시 : 0\n",
    "        # by 생략시 1\n",
    "list(range(10))"
   ]
  },
  {
   "cell_type": "code",
   "execution_count": 24,
   "id": "3a820967",
   "metadata": {},
   "outputs": [
    {
     "data": {
      "text/plain": [
       "[101, 102, 103, 104, 105, 106, 107, 108, 109, 110]"
      ]
     },
     "execution_count": 24,
     "metadata": {},
     "output_type": "execute_result"
    }
   ],
   "source": [
    "list(range(101, 111))"
   ]
  },
  {
   "cell_type": "code",
   "execution_count": 26,
   "id": "ee8752c8",
   "metadata": {},
   "outputs": [
    {
     "data": {
      "text/plain": [
       "[10, 8, 6, 4, 2, 0]"
      ]
     },
     "execution_count": 26,
     "metadata": {},
     "output_type": "execute_result"
    }
   ],
   "source": [
    "list(range(10, -1, -2))"
   ]
  },
  {
   "cell_type": "code",
   "execution_count": 27,
   "id": "a79e5d20",
   "metadata": {},
   "outputs": [
    {
     "name": "stdout",
     "output_type": "stream",
     "text": [
      "0\n",
      "1\n",
      "2\n"
     ]
    }
   ],
   "source": [
    "# 반복문(3회)\n",
    "for i in range(3):\n",
    "    print(i)"
   ]
  },
  {
   "cell_type": "code",
   "execution_count": 31,
   "id": "541afe65",
   "metadata": {},
   "outputs": [
    {
     "name": "stdout",
     "output_type": "stream",
     "text": [
      "0번째 과일은 mango입니다\n",
      "1번째 과일은 apple입니다\n",
      "2번째 과일은 orange입니다\n",
      "3번째 과일은 grape입니다\n"
     ]
    }
   ],
   "source": [
    "fruits = ['mango', 'apple', 'orange', 'grape']\n",
    "# Len(fruits) : 리스트 데이터 수\n",
    "for i in range(len(fruits)):\n",
    "    print(\"{}번째 과일은 {}입니다\".format(i, fruits[i]))"
   ]
  },
  {
   "cell_type": "code",
   "execution_count": 32,
   "id": "933a0326",
   "metadata": {},
   "outputs": [
    {
     "name": "stdout",
     "output_type": "stream",
     "text": [
      "mango\n",
      "apple\n",
      "orange\n",
      "grape\n"
     ]
    }
   ],
   "source": [
    "for value in fruits:\n",
    "    print(value)"
   ]
  },
  {
   "cell_type": "code",
   "execution_count": 8,
   "id": "d3179bbd",
   "metadata": {},
   "outputs": [
    {
     "data": {
      "text/plain": [
       "[(0, 'mango'), (1, 'apple'), (2, 'orange'), (3, 'grape')]"
      ]
     },
     "execution_count": 8,
     "metadata": {},
     "output_type": "execute_result"
    }
   ],
   "source": [
    "list(enumerate(fruits))"
   ]
  },
  {
   "cell_type": "code",
   "execution_count": 34,
   "id": "a9963862",
   "metadata": {},
   "outputs": [
    {
     "name": "stdout",
     "output_type": "stream",
     "text": [
      "0번째 과일은 mango입니다\n",
      "1번째 과일은 apple입니다\n",
      "2번째 과일은 orange입니다\n",
      "3번째 과일은 grape입니다\n"
     ]
    }
   ],
   "source": [
    "# enumerate(나열가능한 자료) : -> (index,값)들의 셋들\n",
    "for idx, value in enumerate(fruits):\n",
    "    print(\"{}번째 과일은 {}입니다\".format(idx, value))"
   ]
  },
  {
   "cell_type": "code",
   "execution_count": 71,
   "id": "7ad093d8",
   "metadata": {},
   "outputs": [
    {
     "name": "stdout",
     "output_type": "stream",
     "text": [
      "[0, True, '2', 3, [4, 5, 6]]\n",
      "True 5\n"
     ]
    }
   ],
   "source": [
    "# 리스트는 여러 타입의 데이터를 담을 수 있음\n",
    "numbers = [0, True, '2', 3, [4,5,6] ]\n",
    "print(numbers)\n",
    "print(numbers[1], numbers[4][1])"
   ]
  },
  {
   "cell_type": "code",
   "execution_count": 72,
   "id": "51c06016",
   "metadata": {},
   "outputs": [
    {
     "data": {
      "text/plain": [
       "(3, 4)"
      ]
     },
     "execution_count": 72,
     "metadata": {},
     "output_type": "execute_result"
    }
   ],
   "source": [
    "# 2차원 리스트\n",
    "numbers_2d = [[90, 91, 92, 93],\n",
    "              [80, 81, 82, 83],\n",
    "              [70, 71, 72, 73]]\n",
    "len(numbers_2d), len(numbers_2d[0])"
   ]
  },
  {
   "cell_type": "code",
   "execution_count": 73,
   "id": "51796787",
   "metadata": {},
   "outputs": [
    {
     "name": "stdout",
     "output_type": "stream",
     "text": [
      "0행 0열:90\t0행 1열:91\t0행 2열:92\t0행 3열:93\t\n",
      "1행 0열:80\t1행 1열:81\t1행 2열:82\t1행 3열:83\t\n",
      "2행 0열:70\t2행 1열:71\t2행 2열:72\t2행 3열:73\t\n"
     ]
    }
   ],
   "source": [
    "for i, row in enumerate(numbers_2d):\n",
    "    for j, value in enumerate(row):\n",
    "        print(\"{}행 {}열:{}\".format(i, j, value), end='\\t')\n",
    "    print() #개행(다음줄로 이동)"
   ]
  },
  {
   "cell_type": "code",
   "execution_count": 74,
   "id": "7099d67c",
   "metadata": {},
   "outputs": [
    {
     "name": "stdout",
     "output_type": "stream",
     "text": [
      "90\t91\t92\t93\t\n",
      "80\t81\t82\t83\t\n",
      "70\t71\t72\t73\t\n"
     ]
    }
   ],
   "source": [
    "for row in numbers_2d:\n",
    "    for item in row:\n",
    "        print(item, end='\\t')\n",
    "    print()"
   ]
  },
  {
   "cell_type": "markdown",
   "id": "afa9be36",
   "metadata": {},
   "source": [
    "## 1.2 기본 정보 조회"
   ]
  },
  {
   "cell_type": "code",
   "execution_count": 91,
   "id": "036fce73",
   "metadata": {},
   "outputs": [],
   "source": [
    "numbers = [1, 12, 3, 5, 4]\n",
    "numbers_2d = [[100, 0],\n",
    "              [9, 100, 1, 2, 3],\n",
    "              [50, 54]]"
   ]
  },
  {
   "cell_type": "code",
   "execution_count": 92,
   "id": "bddf1d3c",
   "metadata": {},
   "outputs": [
    {
     "name": "stdout",
     "output_type": "stream",
     "text": [
      "5 3\n"
     ]
    }
   ],
   "source": [
    "# 요소의 수\n",
    "print(len(numbers), len(numbers_2d))"
   ]
  },
  {
   "cell_type": "code",
   "execution_count": 68,
   "id": "08973fb7",
   "metadata": {},
   "outputs": [
    {
     "data": {
      "text/plain": [
       "(1, 12)"
      ]
     },
     "execution_count": 68,
     "metadata": {},
     "output_type": "execute_result"
    }
   ],
   "source": [
    "# 최소값, 최대값\n",
    "min(numbers), max(numbers)"
   ]
  },
  {
   "cell_type": "code",
   "execution_count": 94,
   "id": "e7de878a",
   "metadata": {},
   "outputs": [
    {
     "data": {
      "text/plain": [
       "([9, 100, 1, 2, 3], [100, 0])"
      ]
     },
     "execution_count": 94,
     "metadata": {},
     "output_type": "execute_result"
    }
   ],
   "source": [
    "# 2차원 list의 min() : 0번 인덱스 요소가 가장 작은 것\n",
    "#             man() : 0번 인덱스 요소가 가장 큰 것\n",
    "min(numbers_2d), max(numbers_2d)"
   ]
  },
  {
   "cell_type": "code",
   "execution_count": 95,
   "id": "241b2ccb",
   "metadata": {},
   "outputs": [
    {
     "data": {
      "text/plain": [
       "('APPLE', 'orange')"
      ]
     },
     "execution_count": 95,
     "metadata": {},
     "output_type": "execute_result"
    }
   ],
   "source": [
    "# 문자 list일 경우 ascii 코드값으로 min(), max() 적용\n",
    "fruits = ['mango', 'apple', 'orange', 'APPLE']\n",
    "min(fruits), max(fruits)"
   ]
  },
  {
   "cell_type": "code",
   "execution_count": 96,
   "id": "2e844005",
   "metadata": {},
   "outputs": [
    {
     "name": "stdout",
     "output_type": "stream",
     "text": [
      "오름차순 : [1, 3, 4, 5, 12]\n",
      "내림차순 : [12, 5, 4, 3, 1]\n",
      "sorted함수 사용시 리스트 내용이 바뀌지 않음 : [1, 3, 12, 5, 4]\n",
      "합 : 25\n"
     ]
    }
   ],
   "source": [
    "numbers = [1, 3, 12, 5, 4]\n",
    "# 정렬(오름차순, 내림차순)\n",
    "print('오름차순 :', sorted(numbers))\n",
    "print('내림차순 :', sorted(numbers, reverse=True))\n",
    "print('sorted함수 사용시 리스트 내용이 바뀌지 않음 :', numbers)\n",
    "print('합 :', sum(numbers))"
   ]
  },
  {
   "cell_type": "markdown",
   "id": "36af8fa5",
   "metadata": {},
   "source": [
    "## 1.3 요소 추가\n",
    "  ```\n",
    "    + : 두 리스트 연결\n",
    "    * : 리스트를 곱한 수만 반복\n",
    "    append() : 맨 뒤에 요소 추가 \n",
    "    extend() : 맨 뒤에 리스트를 요소별로 추가\n",
    "    insert(idx, 값) : idx번째 인덱스 위치에 추가(기존 데이터는 shift)    \n",
    "  ```      "
   ]
  },
  {
   "cell_type": "code",
   "execution_count": 98,
   "id": "1f7626fb",
   "metadata": {},
   "outputs": [
    {
     "data": {
      "text/plain": [
       "[1, 2, 3, 1, 2, 3]"
      ]
     },
     "execution_count": 98,
     "metadata": {},
     "output_type": "execute_result"
    }
   ],
   "source": [
    "# 연결\n",
    "numbers = [1, 2, 3]\n",
    "numbers = numbers + numbers\n",
    "numbers"
   ]
  },
  {
   "cell_type": "code",
   "execution_count": 99,
   "id": "322a43b6",
   "metadata": {},
   "outputs": [
    {
     "name": "stdout",
     "output_type": "stream",
     "text": [
      "[1, 2, 3, 1, 2, 3, 1, 2, 3]\n",
      "[1, 2, 3, 1, 2, 3, 1, 2, 3]\n"
     ]
    }
   ],
   "source": [
    "# 반복\n",
    "numbers = [1, 2, 3]\n",
    "print(numbers * 3)\n",
    "print(3 * numbers)"
   ]
  },
  {
   "cell_type": "code",
   "execution_count": 102,
   "id": "6e74883a",
   "metadata": {},
   "outputs": [
    {
     "name": "stdout",
     "output_type": "stream",
     "text": [
      "[1, 2, 3, 4, [5, 6, 7]]\n"
     ]
    }
   ],
   "source": [
    "numbers.append([5,6,7]) # 맨 뒤에 하나의 요소로 추가\n",
    "print(numbers)"
   ]
  },
  {
   "cell_type": "code",
   "execution_count": 103,
   "id": "4123fd61",
   "metadata": {},
   "outputs": [
    {
     "name": "stdout",
     "output_type": "stream",
     "text": [
      "[1, 2, 3, 4, 5, 6]\n"
     ]
    }
   ],
   "source": [
    "# 요소별로 각기 추가\n",
    "num = [1, 2, 3]\n",
    "num.extend([4,5,6])\n",
    "print(num)"
   ]
  },
  {
   "cell_type": "code",
   "execution_count": 104,
   "id": "a1bb4439",
   "metadata": {},
   "outputs": [
    {
     "name": "stdout",
     "output_type": "stream",
     "text": [
      "[1, 2, 'X', 3, 4, 5, 6]\n"
     ]
    }
   ],
   "source": [
    "num.insert(2, 'X')\n",
    "print(num)"
   ]
  },
  {
   "cell_type": "markdown",
   "id": "e293de70",
   "metadata": {},
   "source": [
    "## 1.4 인덱싱과 요소 갯수\n",
    "- 변수[index] : 인덱스를 이용한 접근\n",
    "- index(찾을 데이터) : 해다 찾을 데이터가 있는 요소의 index를 반환\n",
    "- count(찾을 데이터) : 리스트에서 찾을 데이터의 갯수 반환"
   ]
  },
  {
   "cell_type": "code",
   "execution_count": 81,
   "id": "73890b14",
   "metadata": {},
   "outputs": [
    {
     "data": {
      "text/plain": [
       "(2, 0)"
      ]
     },
     "execution_count": 81,
     "metadata": {},
     "output_type": "execute_result"
    }
   ],
   "source": [
    "numbers = [1, 2, 3, [1, 2, 3], 1, 2, 3]\n",
    "numbers.count(2), numbers.count(9)"
   ]
  },
  {
   "cell_type": "code",
   "execution_count": 82,
   "id": "e76bd651",
   "metadata": {},
   "outputs": [
    {
     "data": {
      "text/plain": [
       "1"
      ]
     },
     "execution_count": 82,
     "metadata": {},
     "output_type": "execute_result"
    }
   ],
   "source": [
    "numbers.index(2) # 0번째 index부터 2가 처음 나오는 index를 반환"
   ]
  },
  {
   "cell_type": "code",
   "execution_count": 83,
   "id": "455640e5",
   "metadata": {},
   "outputs": [
    {
     "data": {
      "text/plain": [
       "5"
      ]
     },
     "execution_count": 83,
     "metadata": {},
     "output_type": "execute_result"
    }
   ],
   "source": [
    "numbers.index(2, 3) #3번째 index부터 2가 처음 나오는 index를 반환"
   ]
  },
  {
   "cell_type": "code",
   "execution_count": 105,
   "id": "cb8bedc6",
   "metadata": {},
   "outputs": [
    {
     "name": "stdout",
     "output_type": "stream",
     "text": [
      "9가 없어요\n"
     ]
    }
   ],
   "source": [
    "numbers = [1, 2, 3, [1, 2, 3], 1, 2, 3]\n",
    "if numbers.count(9):\n",
    "    print(numbers.index(9))\n",
    "else:\n",
    "    print('9가 없어요')"
   ]
  },
  {
   "cell_type": "code",
   "execution_count": null,
   "id": "8d7159dd",
   "metadata": {},
   "outputs": [],
   "source": [
    "numbers = [1, 2, 3, [1, 2, 3], 1, 2, 3]\n",
    "if 9 in numbers:\n",
    "    print(numbers.index(9))\n",
    "else:\n",
    "    print('9가 없어요')"
   ]
  },
  {
   "cell_type": "code",
   "execution_count": 86,
   "id": "af847ed6",
   "metadata": {},
   "outputs": [
    {
     "data": {
      "text/plain": [
       "False"
      ]
     },
     "execution_count": 86,
     "metadata": {},
     "output_type": "execute_result"
    }
   ],
   "source": [
    "9 in numbers # numbers 리스트에 9가 존재하는지 여부"
   ]
  },
  {
   "cell_type": "code",
   "execution_count": 106,
   "id": "f68449f0",
   "metadata": {},
   "outputs": [],
   "source": [
    "def safe_index(lst, data):\n",
    "    if data in lst: # lst안에 data 있는지 여부\n",
    "        return lst.index(data)\n",
    "    else:\n",
    "        return -1"
   ]
  },
  {
   "cell_type": "code",
   "execution_count": 107,
   "id": "1437887c",
   "metadata": {},
   "outputs": [
    {
     "data": {
      "text/plain": [
       "-1"
      ]
     },
     "execution_count": 107,
     "metadata": {},
     "output_type": "execute_result"
    }
   ],
   "source": [
    "safe_index(numbers, 9)"
   ]
  },
  {
   "cell_type": "code",
   "execution_count": 108,
   "id": "2181d5a7",
   "metadata": {},
   "outputs": [
    {
     "data": {
      "text/plain": [
       "[1, 2, 3, [1, 2, 3], 1, 2, 3]"
      ]
     },
     "execution_count": 108,
     "metadata": {},
     "output_type": "execute_result"
    }
   ],
   "source": [
    "# numbers.index(9)\n",
    "# numbers[20]\n",
    "numbers[0:20]"
   ]
  },
  {
   "cell_type": "markdown",
   "id": "fcf70bd7",
   "metadata": {},
   "source": [
    "## 1.5 원하는 요소 추출\n",
    "\n",
    " 1. 리스트 슬라이싱 : 리스트에서 원하는 index의 데이터를 추출(인덱스 범위 벗어나도 에러 안 남)\n",
    "- [from:stop:step] from부터 stop앞까지 step씩 중가하는 index의 값을 추출\n",
    "- from 생략시 처음. stop생략시 끝. step생략시 1. 모두 생략 가능\n",
    "- 음수 인덱스 가능\n",
    "\n",
    " 2. <font color=\"red\" size=\"3\">리스트 컴프리헨션</font>: 리스트에서 원하는 데이터를 추출"
   ]
  },
  {
   "cell_type": "code",
   "execution_count": null,
   "id": "f064d3a0",
   "metadata": {},
   "outputs": [],
   "source": [
    "numbers = [1, 3, 5, 9, 10, 12, 13, 20]\n",
    "# 짝수번째 인덱스 값 출력\n",
    "print(numbers[::2])\n",
    "# 꺼꾸로 출력\n",
    "print(numbers[::-1])"
   ]
  },
  {
   "cell_type": "code",
   "execution_count": 112,
   "id": "03c4af06",
   "metadata": {},
   "outputs": [
    {
     "name": "stdout",
     "output_type": "stream",
     "text": [
      "[1, 3, 5, 9, 10, 12, 13, 20]\n",
      "[10, 12, 20]\n"
     ]
    }
   ],
   "source": [
    "numbers = [1, 3, 5, 9, 10, 12, 13, 20]\n",
    "# 리스트에서 모든 데이터를 변수에 담아 출력하시오.\n",
    "result = []\n",
    "for data in numbers:\n",
    "    result.append(data)\n",
    "print(result)\n",
    "# 리스트에서 짝수 데이터만 변수에 담아 출력하시오.\n",
    "result = []\n",
    "for data in numbers:\n",
    "    if not data%2:\n",
    "        result.append(data)\n",
    "print(result)"
   ]
  },
  {
   "cell_type": "markdown",
   "id": "9d9e76c3",
   "metadata": {},
   "source": [
    "```\n",
    " 리스트컴프리헨션\n",
    "```"
   ]
  },
  {
   "cell_type": "code",
   "execution_count": 113,
   "id": "5b89db44",
   "metadata": {},
   "outputs": [
    {
     "data": {
      "text/plain": [
       "[1, 3, 5, 9, 10, 12, 13, 20]"
      ]
     },
     "execution_count": 113,
     "metadata": {},
     "output_type": "execute_result"
    }
   ],
   "source": [
    "# numbers의 모든 데이터를 리스트컴프리헨션으로 추출\n",
    "[data for data in numbers]"
   ]
  },
  {
   "cell_type": "code",
   "execution_count": 114,
   "id": "587c507a",
   "metadata": {},
   "outputs": [
    {
     "data": {
      "text/plain": [
       "[10, 12, 20]"
      ]
     },
     "execution_count": 114,
     "metadata": {},
     "output_type": "execute_result"
    }
   ],
   "source": [
    "# numbers의 짝수 데이터를 리스트컴프리헨션으로 추출\n",
    "[data for data in numbers if data%2==0]"
   ]
  },
  {
   "cell_type": "code",
   "execution_count": 119,
   "id": "67e4283b",
   "metadata": {},
   "outputs": [
    {
     "name": "stdout",
     "output_type": "stream",
     "text": [
      "[10, 12, 13, 20]\n"
     ]
    }
   ],
   "source": [
    "# ex1. numbers에서 10이상만 추출\n",
    "numbers = [1, 3, 5, 9, 10, 12, 13, 20]\n",
    "result = [n for n in numbers if n >= 10]\n",
    "print(result)"
   ]
  },
  {
   "cell_type": "code",
   "execution_count": 127,
   "id": "d4d3fbc3",
   "metadata": {},
   "outputs": [
    {
     "name": "stdout",
     "output_type": "stream",
     "text": [
      "['orange']\n"
     ]
    }
   ],
   "source": [
    "# ex2. fruits에서 5글자가 넘는 과일만 추출\n",
    "fruits = ['orange', 'apple', 'mango', 'kiwi']\n",
    "result = [fruit for fruit in fruits if len(fruit) > 5]\n",
    "print(result)"
   ]
  },
  {
   "cell_type": "code",
   "execution_count": 128,
   "id": "d1c36b1f",
   "metadata": {},
   "outputs": [
    {
     "data": {
      "text/plain": [
       "['orange']"
      ]
     },
     "execution_count": 128,
     "metadata": {},
     "output_type": "execute_result"
    }
   ],
   "source": [
    "# ex2. fruits에서 5글자가 넘는 과일만 추출\n",
    "fruits = ['orange', 'apple', 'mango', 'kiwi']\n",
    "[item for item in fruits if len(item) > 5]"
   ]
  },
  {
   "cell_type": "code",
   "execution_count": 129,
   "id": "d7a0f74d",
   "metadata": {},
   "outputs": [
    {
     "name": "stdout",
     "output_type": "stream",
     "text": [
      "[9, 16, 25]\n"
     ]
    }
   ],
   "source": [
    "# ex3. 3이상의 요소들의 제곱을 추출\n",
    "L = [1, 2, 3, 4, 5]\n",
    "result = [x**2 for x in L if x >= 3]\n",
    "print(result)"
   ]
  },
  {
   "cell_type": "code",
   "execution_count": 131,
   "id": "3b41728f",
   "metadata": {},
   "outputs": [
    {
     "data": {
      "text/plain": [
       "[9, 16, 25]"
      ]
     },
     "execution_count": 131,
     "metadata": {},
     "output_type": "execute_result"
    }
   ],
   "source": [
    "# ex3. 3이상의 요소들의 제곱을 추출\n",
    "L = [1, 2, 3, 4, 5]\n",
    "[item**2 for item in L if item >= 3]numbers"
   ]
  },
  {
   "cell_type": "markdown",
   "id": "d389c9c1",
   "metadata": {},
   "source": [
    "## 1.6 요소 수정하기"
   ]
  },
  {
   "cell_type": "code",
   "execution_count": 132,
   "id": "7974a081",
   "metadata": {},
   "outputs": [
    {
     "data": {
      "text/plain": [
       "[0, 1, 222, 3, 4, 5, 6, 7, 8, 9]"
      ]
     },
     "execution_count": 132,
     "metadata": {},
     "output_type": "execute_result"
    }
   ],
   "source": [
    "numbers = [0, 1, 2, 3, 4, 5, 6, 7, 8, 9]\n",
    "# 인덱스를 이용해서 요소 수정\n",
    "numbers[2]=222\n",
    "numbers"
   ]
  },
  {
   "cell_type": "code",
   "execution_count": 133,
   "id": "5236c3cc",
   "metadata": {},
   "outputs": [
    {
     "data": {
      "text/plain": [
       "[0, 'X', 'Y', 'Z', 'ㅋ', 'ㅎ', 4, 5, 6, 7, 8, 9]"
      ]
     },
     "execution_count": 133,
     "metadata": {},
     "output_type": "execute_result"
    }
   ],
   "source": [
    "# 슬라이싱을 이용해서 요소 수정\n",
    "numbers[1:4] = ['X', 'Y', 'Z', 'ㅋ', 'ㅎ']\n",
    "numbers"
   ]
  },
  {
   "cell_type": "code",
   "execution_count": 134,
   "id": "1f8dfde2",
   "metadata": {},
   "outputs": [
    {
     "data": {
      "text/plain": [
       "[0, 'X', 'ㅋ', 'ㅎ', 4, 5, 6, 7, 8, 9]"
      ]
     },
     "execution_count": 134,
     "metadata": {},
     "output_type": "execute_result"
    }
   ],
   "source": [
    "# 슬라이싱을 이용해서 요소 수정(step부분이 미포함 :  부분 리스트가 통째로 수정)\n",
    "numbers[1:4] = ['X']\n",
    "numbers"
   ]
  },
  {
   "cell_type": "code",
   "execution_count": 135,
   "id": "222dd302",
   "metadata": {},
   "outputs": [
    {
     "data": {
      "text/plain": [
       "[0, 1, 2, 3, 4, 5, 6, 7, 8, 9]"
      ]
     },
     "execution_count": 135,
     "metadata": {},
     "output_type": "execute_result"
    }
   ],
   "source": [
    "numbers[1:4] = [1, 2, 3]\n",
    "numbers"
   ]
  },
  {
   "cell_type": "code",
   "execution_count": 137,
   "id": "d59e0c20",
   "metadata": {},
   "outputs": [
    {
     "data": {
      "text/plain": [
       "[99, 1, 99, 3, 99, 5, 99, 7, 99, 9]"
      ]
     },
     "execution_count": 137,
     "metadata": {},
     "output_type": "execute_result"
    }
   ],
   "source": [
    "# 슬라이싱을 이용해서 요소 수정(step부분 포함 : 요소 갯수가 맞아야 함)\n",
    "numbers[::2] = [99, 99, 99, 99, 99]\n",
    "numbers"
   ]
  },
  {
   "cell_type": "markdown",
   "id": "c8c2e185",
   "metadata": {},
   "source": [
    "## 1.7 요소 삭제\n",
    "- pop() : 가장 마지막 인덱스 요소가 반환되고 삭제\n",
    "- pop(idx) : idx번째 요소가 반환되고 삭제\n",
    "- remove(지울data) : 리스트안의 data가 삭제\n",
    "- del 변수[idx] : idx번째 요소가 삭제"
   ]
  },
  {
   "cell_type": "code",
   "execution_count": 146,
   "id": "db18f2e8",
   "metadata": {},
   "outputs": [
    {
     "name": "stdout",
     "output_type": "stream",
     "text": [
      "삭제된 데이터 : 5, 리스트 : [1, 2, 3, 4]\n",
      "삭제된 데이터 : 1, 리스트 : [2, 3, 4]\n",
      "numbers: [2, 3]\n"
     ]
    }
   ],
   "source": [
    "numbers = [1, 2, 3, 4, 5]\n",
    "delete_data = numbers.pop()\n",
    "\n",
    "print(\"삭제된 데이터 : {}, 리스트 : {}\".format(delete_data, numbers))\n",
    "\n",
    "delete_data2 = numbers.pop(0)\n",
    "print(\"삭제된 데이터 : {}, 리스트 : {}\".format(delete_data2, numbers))\n",
    "\n",
    "del numbers[2]\n",
    "print('numbers:', numbers)"
   ]
  },
  {
   "cell_type": "code",
   "execution_count": 149,
   "id": "109799c9",
   "metadata": {},
   "outputs": [
    {
     "name": "stdout",
     "output_type": "stream",
     "text": [
      "[1, 2, 4, 5]\n"
     ]
    }
   ],
   "source": [
    "numbers = [1, 2, 3, 4, 5]\n",
    "# remove()는 반환값이 없고, 해당 데이터만 삭제, 해당데이터가 없으면 오류\n",
    "numbers.remove(3)\n",
    "print(numbers)"
   ]
  },
  {
   "cell_type": "code",
   "execution_count": 150,
   "id": "410abc40",
   "metadata": {},
   "outputs": [
    {
     "ename": "ValueError",
     "evalue": "list.remove(x): x not in list",
     "output_type": "error",
     "traceback": [
      "\u001b[1;31m---------------------------------------------------------------------------\u001b[0m",
      "\u001b[1;31mValueError\u001b[0m                                Traceback (most recent call last)",
      "Cell \u001b[1;32mIn[150], line 1\u001b[0m\n\u001b[1;32m----> 1\u001b[0m \u001b[43mnumbers\u001b[49m\u001b[38;5;241;43m.\u001b[39;49m\u001b[43mremove\u001b[49m\u001b[43m(\u001b[49m\u001b[38;5;241;43m3\u001b[39;49m\u001b[43m)\u001b[49m\n",
      "\u001b[1;31mValueError\u001b[0m: list.remove(x): x not in list"
     ]
    }
   ],
   "source": [
    "numbers.remove(3)"
   ]
  },
  {
   "cell_type": "code",
   "execution_count": 160,
   "id": "11613972",
   "metadata": {},
   "outputs": [
    {
     "name": "stdout",
     "output_type": "stream",
     "text": [
      "해당 데이터가 없습니다\n"
     ]
    }
   ],
   "source": [
    "if 9 in numbers:\n",
    "    numbers.remove(9)\n",
    "else:\n",
    "    print(\"해당 데이터가 없습니다\")"
   ]
  },
  {
   "cell_type": "code",
   "execution_count": 164,
   "id": "94b56128",
   "metadata": {},
   "outputs": [],
   "source": [
    "def safe_remove(lst, remove_data):\n",
    "    if remove_data in lst:\n",
    "        lst.remove(remove_data)\n",
    "        print(f'{remove_data} 삭제 완료')\n",
    "    else:\n",
    "        print(f'{remove_data}는 없는 아이템입니다')"
   ]
  },
  {
   "cell_type": "code",
   "execution_count": null,
   "id": "d71f2e46",
   "metadata": {},
   "outputs": [],
   "source": []
  }
 ],
 "metadata": {
  "kernelspec": {
   "display_name": "Python 3 (ipykernel)",
   "language": "python",
   "name": "python3"
  },
  "language_info": {
   "codemirror_mode": {
    "name": "ipython",
    "version": 3
   },
   "file_extension": ".py",
   "mimetype": "text/x-python",
   "name": "python",
   "nbconvert_exporter": "python",
   "pygments_lexer": "ipython3",
   "version": "3.10.9"
  },
  "toc": {
   "base_numbering": 1,
   "nav_menu": {},
   "number_sections": false,
   "sideBar": true,
   "skip_h1_title": false,
   "title_cell": "Table of Contents",
   "title_sidebar": "Contents",
   "toc_cell": false,
   "toc_position": {
    "height": "calc(100% - 180px)",
    "left": "10px",
    "top": "150px",
    "width": "269px"
   },
   "toc_section_display": true,
   "toc_window_display": true
  }
 },
 "nbformat": 4,
 "nbformat_minor": 5
}
